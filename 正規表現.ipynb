{
 "cells": [
  {
   "cell_type": "markdown",
   "id": "e465c52d-4079-4132-9441-774ede75dfe5",
   "metadata": {},
   "source": [
    "正規表現機能は、標準モジュールのreが提供する。"
   ]
  },
  {
   "cell_type": "code",
   "execution_count": 1,
   "id": "f5665540-90d6-49db-817a-ed5171cc4fb4",
   "metadata": {},
   "outputs": [],
   "source": [
    "import re"
   ]
  },
  {
   "cell_type": "markdown",
   "id": "347261d6-9758-4cd3-a598-37746967729d",
   "metadata": {},
   "source": [
    "パターン：マッチング対象となる文字列\n",
    "ソース：マッチングする文字列\n",
    "\n",
    "result = re.match('You', 'Young Frankenstein')\n",
    "パターン：'You'\n",
    "ソース：'Young Frankenstein'\n",
    "\n",
    "より複雑なマッチでは、先にパターンをコンパイルして、あとで行うマッチングのスピーを上げることができる。\n",
    "\n",
    "youpattern = re.compile('You')\n",
    "result = youpattern.match('Young Frankenstein')\n",
    "\n",
    "パターンとソースを比較する方法はmatch()だけではない。<br>\n",
    "・search()：最初のマッチを返す（ある場合）<br>\n",
    "・findall()：重なり合わないすべてのマッチリストのリストを返す（ある場合）<br>\n",
    "・split()：パターンにマッチしたところでソースを分割し、部分文字列のリストを返す。<br>\n",
    "・sub()：置換文字列引数を取り、ソースのうち、パターンにマッチする全ての部分を置換文字列に置き換える。<br>"
   ]
  },
  {
   "cell_type": "markdown",
   "id": "86163cd1-037d-4cb3-8006-c82c7b67701e",
   "metadata": {},
   "source": [
    "***\n",
    "# match()による正確なマッチ\n",
    "***"
   ]
  },
  {
   "cell_type": "code",
   "execution_count": 7,
   "id": "1d00f77f-fff3-4f4b-9035-2e08481d6847",
   "metadata": {},
   "outputs": [
    {
     "name": "stdout",
     "output_type": "stream",
     "text": [
      "You\n",
      "You\n",
      "Young Frank\n"
     ]
    }
   ],
   "source": [
    "import re\n",
    "source = 'Young Frankenstein'\n",
    "\n",
    "m = re.match('You', source) # matchはsourceの先頭がパターン一致するかどうかを見る\n",
    "if m: # matchはオブジェクトを返す。マッチした部分を確かめる\n",
    "    print(m.group())\n",
    "\n",
    "m = re.match('You', source) # パターンの先頭に^を付けても同じ意味になる\n",
    "if m:\n",
    "    print(m.group())\n",
    "\n",
    "m = re.match('Frank', source)\n",
    "if m: # 検索失敗\n",
    "    print(m.group())\n",
    "\n",
    "m = re.search('.*Frank', source)\n",
    "if m: # matchはオブジェクトを返す\n",
    "    print(m.group())"
   ]
  },
  {
   "cell_type": "markdown",
   "id": "f4e2489b-a717-4923-81d5-2e17ddf47ccd",
   "metadata": {},
   "source": [
    "***\n",
    ".は**任意の一文字**という意味\n",
    "*は**任意の個数の直前のもの**という意味。.*全体では、任意の個数(0を含む)の任意の文字という意味になる。\n",
    "Frankは、探しているフレーズである。\n",
    "***"
   ]
  },
  {
   "cell_type": "markdown",
   "id": "a7cf02f1-86d8-4544-926a-e8c1f9d865d0",
   "metadata": {},
   "source": [
    "***\n",
    "# search()による最初のマッチ\n",
    "search()を使えば、.*というワイルドカードを使わずに、ソース文字列'Young Frankenstein'の任意の位置にあるパターン'Frank'を探せる。\n",
    "***"
   ]
  },
  {
   "cell_type": "code",
   "execution_count": 9,
   "id": "a5f8bf80-1ed9-4572-ba57-fb502d19b1bd",
   "metadata": {},
   "outputs": [
    {
     "name": "stdout",
     "output_type": "stream",
     "text": [
      "Frank\n"
     ]
    }
   ],
   "source": [
    "import re\n",
    "source = 'Young Frankenstein'\n",
    "\n",
    "m = re.search('Frank', source)\n",
    "if m: #searchはオブジェクトを返す\n",
    "    print(m.group())"
   ]
  },
  {
   "cell_type": "markdown",
   "id": "d6067f29-0a2b-4d16-84cc-8790c29a6e6b",
   "metadata": {},
   "source": [
    "***\n",
    "# findall()によるすべてのマッチの検索\n",
    "文字列の中にある1文字の文字列が何個あるかを知る。\n",
    "***"
   ]
  },
  {
   "cell_type": "code",
   "execution_count": 10,
   "id": "633bdf7d-95b3-440b-a790-bcc03cbe8775",
   "metadata": {},
   "outputs": [
    {
     "name": "stdout",
     "output_type": "stream",
     "text": [
      "['ng', 'nk', 'ns', 'n']\n"
     ]
    }
   ],
   "source": [
    "import re\n",
    "source = 'Young Frankenstein'\n",
    "\n",
    "m = re.findall('n.?', source)\n",
    "print(m)"
   ]
  },
  {
   "cell_type": "markdown",
   "id": "122118d7-cd4b-486d-9448-ccc6e64cacac",
   "metadata": {},
   "source": [
    "***\n",
    "# split()によるマッチを利用した分割\n",
    "文字列の中にある1文字の文字列が何個あるかを知る。\n",
    "***"
   ]
  },
  {
   "cell_type": "code",
   "execution_count": 11,
   "id": "2b318927-7392-44f5-8c76-7de36567fd8f",
   "metadata": {},
   "outputs": [
    {
     "name": "stdout",
     "output_type": "stream",
     "text": [
      "['You', 'g Fra', 'ke', 'stei', '']\n"
     ]
    }
   ],
   "source": [
    "import re\n",
    "source = 'Young Frankenstein'\n",
    "\n",
    "m = re.split('n', source)\n",
    "print(m) # splitはリストを返す"
   ]
  },
  {
   "cell_type": "markdown",
   "id": "6ae8c093-8067-4edf-ac3b-bffe00616547",
   "metadata": {},
   "source": [
    "***\n",
    "# sub()によるマッチした部分の置換\n",
    "文字列のreplace()メソッドと似ているが、置換対象としてリテラル文字列ではなくパターンを指定する。\n",
    "***"
   ]
  },
  {
   "cell_type": "code",
   "execution_count": 12,
   "id": "4250c744-4236-4691-acf6-18a9ec26ce1d",
   "metadata": {},
   "outputs": [
    {
     "name": "stdout",
     "output_type": "stream",
     "text": [
      "You?g Fra?ke?stei?\n"
     ]
    }
   ],
   "source": [
    "import re\n",
    "source = 'Young Frankenstein'\n",
    "\n",
    "m = re.sub('n','?', source)\n",
    "print(m) # subは文字列を返す"
   ]
  },
  {
   "cell_type": "markdown",
   "id": "2e4ef2a7-d8b9-4df3-90e4-62b41f641973",
   "metadata": {},
   "source": [
    "***\n",
    "Pythonのstringモジュールは、テストのために使える文字列定数をあらかじめ定義している。\n",
    "***"
   ]
  },
  {
   "cell_type": "code",
   "execution_count": 16,
   "id": "e4c639f1-1c6e-42b3-8e94-06c31d735664",
   "metadata": {},
   "outputs": [
    {
     "data": {
      "text/plain": [
       "'OPQRSTUVWXYZ!\"#$%&\\'()*+,-./:;<=>?@[\\\\]^_`{|}~ \\t\\n\\r\\x0b\\x0c'"
      ]
     },
     "execution_count": 16,
     "metadata": {},
     "output_type": "execute_result"
    }
   ],
   "source": [
    "import string\n",
    "printable = string.printable\n",
    "len(printable)\n",
    "printable[0:50]\n",
    "printable[50:]"
   ]
  },
  {
   "cell_type": "markdown",
   "id": "6615e4ac-4ac5-4126-adc7-77c176fdd298",
   "metadata": {},
   "source": [
    "printable の中で数字はどれか"
   ]
  },
  {
   "cell_type": "code",
   "execution_count": 17,
   "id": "a45e4d42-2ac2-489c-af3a-9bf16375085a",
   "metadata": {},
   "outputs": [
    {
     "data": {
      "text/plain": [
       "['0', '1', '2', '3', '4', '5', '6', '7', '8', '9']"
      ]
     },
     "execution_count": 17,
     "metadata": {},
     "output_type": "execute_result"
    }
   ],
   "source": [
    "re.findall('\\d', printable)"
   ]
  },
  {
   "cell_type": "markdown",
   "id": "77296843-28c1-469b-9aab-0a63228f3530",
   "metadata": {},
   "source": [
    "printableの中で数字、英字、アンダースコアのいずれかにふくまれるものはどれか。"
   ]
  },
  {
   "cell_type": "code",
   "execution_count": 19,
   "id": "fe719511-de88-4a8d-8ff9-d53099d06414",
   "metadata": {},
   "outputs": [
    {
     "data": {
      "text/plain": [
       "['0',\n",
       " '1',\n",
       " '2',\n",
       " '3',\n",
       " '4',\n",
       " '5',\n",
       " '6',\n",
       " '7',\n",
       " '8',\n",
       " '9',\n",
       " 'a',\n",
       " 'b',\n",
       " 'c',\n",
       " 'd',\n",
       " 'e',\n",
       " 'f',\n",
       " 'g',\n",
       " 'h',\n",
       " 'i',\n",
       " 'j',\n",
       " 'k',\n",
       " 'l',\n",
       " 'm',\n",
       " 'n',\n",
       " 'o',\n",
       " 'p',\n",
       " 'q',\n",
       " 'r',\n",
       " 's',\n",
       " 't',\n",
       " 'u',\n",
       " 'v',\n",
       " 'w',\n",
       " 'x',\n",
       " 'y',\n",
       " 'z',\n",
       " 'A',\n",
       " 'B',\n",
       " 'C',\n",
       " 'D',\n",
       " 'E',\n",
       " 'F',\n",
       " 'G',\n",
       " 'H',\n",
       " 'I',\n",
       " 'J',\n",
       " 'K',\n",
       " 'L',\n",
       " 'M',\n",
       " 'N',\n",
       " 'O',\n",
       " 'P',\n",
       " 'Q',\n",
       " 'R',\n",
       " 'S',\n",
       " 'T',\n",
       " 'U',\n",
       " 'V',\n",
       " 'W',\n",
       " 'X',\n",
       " 'Y',\n",
       " 'Z',\n",
       " '_']"
      ]
     },
     "execution_count": 19,
     "metadata": {},
     "output_type": "execute_result"
    }
   ],
   "source": [
    "re.findall('\\w', printable)"
   ]
  },
  {
   "cell_type": "markdown",
   "id": "c04059c7-7d82-469d-b09a-f51055bde946",
   "metadata": {},
   "source": [
    "空白文字を検索"
   ]
  },
  {
   "cell_type": "code",
   "execution_count": 20,
   "id": "795f4958-3b4b-46b4-b534-cbff232c8ff1",
   "metadata": {},
   "outputs": [
    {
     "data": {
      "text/plain": [
       "[' ', '\\t', '\\n', '\\r', '\\x0b', '\\x0c']"
      ]
     },
     "execution_count": 20,
     "metadata": {},
     "output_type": "execute_result"
    }
   ],
   "source": [
    "re.findall('\\s',printable)"
   ]
  },
  {
   "cell_type": "markdown",
   "id": "57f0d9b3-a68e-49c2-abda-7d2508e16304",
   "metadata": {},
   "source": [
    "***\n",
    "# パターン：メタ文字\n",
    "***"
   ]
  },
  {
   "cell_type": "code",
   "execution_count": 21,
   "id": "af63aad9-6771-43be-a89c-f65ccb06a925",
   "metadata": {},
   "outputs": [],
   "source": [
    "source = '''I wish I may, I wish I might Have a dish of fish tonight.'''"
   ]
  },
  {
   "cell_type": "code",
   "execution_count": 22,
   "id": "a037b217-0d38-4b91-ba95-a6a79c7e996c",
   "metadata": {},
   "outputs": [
    {
     "data": {
      "text/plain": [
       "['wish', 'wish']"
      ]
     },
     "execution_count": 22,
     "metadata": {},
     "output_type": "execute_result"
    }
   ],
   "source": [
    "re.findall('wish', source)"
   ]
  },
  {
   "cell_type": "code",
   "execution_count": 23,
   "id": "a15536df-1587-40bf-8e62-d943b0c1fb59",
   "metadata": {},
   "outputs": [
    {
     "data": {
      "text/plain": [
       "['wish', 'wish', 'fish']"
      ]
     },
     "execution_count": 23,
     "metadata": {},
     "output_type": "execute_result"
    }
   ],
   "source": [
    "re.findall('wish|fish', source)"
   ]
  },
  {
   "cell_type": "code",
   "execution_count": 24,
   "id": "c66ba1a0-b8d8-41e5-a46a-94e463720cb7",
   "metadata": {},
   "outputs": [
    {
     "data": {
      "text/plain": [
       "[]"
      ]
     },
     "execution_count": 24,
     "metadata": {},
     "output_type": "execute_result"
    }
   ],
   "source": [
    "re.findall('^wish', source)"
   ]
  },
  {
   "cell_type": "code",
   "execution_count": 26,
   "id": "1ac20cf8-da44-49bb-b4a5-c3b6028adcbf",
   "metadata": {},
   "outputs": [
    {
     "data": {
      "text/plain": [
       "['I wish']"
      ]
     },
     "execution_count": 26,
     "metadata": {},
     "output_type": "execute_result"
    }
   ],
   "source": [
    "re.findall('^I wish', source)"
   ]
  },
  {
   "cell_type": "code",
   "execution_count": 29,
   "id": "4449fa42-7aa2-40e3-b79a-ba589e89c7fc",
   "metadata": {},
   "outputs": [
    {
     "data": {
      "text/plain": [
       "[]"
      ]
     },
     "execution_count": 29,
     "metadata": {},
     "output_type": "execute_result"
    }
   ],
   "source": [
    "re.findall('^fish$', source)"
   ]
  },
  {
   "cell_type": "code",
   "execution_count": 31,
   "id": "bf4e4429-f128-47d6-bbf0-ff6bf1e00a7c",
   "metadata": {},
   "outputs": [
    {
     "data": {
      "text/plain": [
       "['fish tonight.']"
      ]
     },
     "execution_count": 31,
     "metadata": {},
     "output_type": "execute_result"
    }
   ],
   "source": [
    "re.findall('fish tonight.$', source)"
   ]
  },
  {
   "cell_type": "code",
   "execution_count": 34,
   "id": "51b15214-f2f7-4848-a574-00d7418364dd",
   "metadata": {},
   "outputs": [
    {
     "data": {
      "text/plain": [
       "['wish', 'wish', 'fish']"
      ]
     },
     "execution_count": 34,
     "metadata": {},
     "output_type": "execute_result"
    }
   ],
   "source": [
    "re.findall('[wf]ish', source)"
   ]
  },
  {
   "cell_type": "code",
   "execution_count": 35,
   "id": "4c83c854-a04c-436f-8680-af9c39678cd8",
   "metadata": {},
   "outputs": [
    {
     "data": {
      "text/plain": [
       "['w', 'sh', 'w', 'sh', 'h', 'sh', 'sh', 'h']"
      ]
     },
     "execution_count": 35,
     "metadata": {},
     "output_type": "execute_result"
    }
   ],
   "source": [
    "re.findall('[wsh]+', source)"
   ]
  },
  {
   "cell_type": "code",
   "execution_count": 37,
   "id": "fee303ca-60df-4cbf-b695-53ea8545db5b",
   "metadata": {},
   "outputs": [
    {
     "data": {
      "text/plain": [
       "['ght ', 'ght.']"
      ]
     },
     "execution_count": 37,
     "metadata": {},
     "output_type": "execute_result"
    }
   ],
   "source": [
    "re.findall('ght\\W', source)"
   ]
  },
  {
   "cell_type": "code",
   "execution_count": 38,
   "id": "5400ab9c-0d91-480a-9f7e-accd7883a841",
   "metadata": {},
   "outputs": [
    {
     "data": {
      "text/plain": [
       "['I ', 'I ']"
      ]
     },
     "execution_count": 38,
     "metadata": {},
     "output_type": "execute_result"
    }
   ],
   "source": [
    "re.findall('I (?=wish)', source)"
   ]
  },
  {
   "cell_type": "code",
   "execution_count": 39,
   "id": "13df9f43-28cd-4a11-9688-eb0591a14f22",
   "metadata": {},
   "outputs": [
    {
     "data": {
      "text/plain": [
       "[]"
      ]
     },
     "execution_count": 39,
     "metadata": {},
     "output_type": "execute_result"
    }
   ],
   "source": [
    "re.findall('\\bfish', source)"
   ]
  },
  {
   "cell_type": "code",
   "execution_count": 40,
   "id": "c372486a-7520-45ef-8b60-48eabf27c605",
   "metadata": {},
   "outputs": [
    {
     "data": {
      "text/plain": [
       "['fish']"
      ]
     },
     "execution_count": 40,
     "metadata": {},
     "output_type": "execute_result"
    }
   ],
   "source": [
    "re.findall(r'\\bfish', source)"
   ]
  },
  {
   "cell_type": "markdown",
   "id": "5646e953-1af3-47e7-8611-19a56c245a67",
   "metadata": {},
   "source": [
    "***\n",
    "# パターン：マッチした文字列の出力の指定\n",
    "\n",
    "***"
   ]
  },
  {
   "cell_type": "code",
   "execution_count": 50,
   "id": "e07c3966-27e0-4e7f-a0eb-956522172760",
   "metadata": {},
   "outputs": [
    {
     "data": {
      "text/plain": [
       "'a dish of fish'"
      ]
     },
     "execution_count": 50,
     "metadata": {},
     "output_type": "execute_result"
    }
   ],
   "source": [
    "import re\n",
    "source = '''I wish I may, I wish I might Have a dish of fish tonight.'''\n",
    "m = re.search(r'(. dish\\b).*(\\bfish)', source)\n",
    "m.group()"
   ]
  },
  {
   "cell_type": "code",
   "execution_count": 51,
   "id": "905b704f-2002-4d82-9eae-32aca40f4626",
   "metadata": {},
   "outputs": [
    {
     "data": {
      "text/plain": [
       "('a dish', 'fish')"
      ]
     },
     "execution_count": 51,
     "metadata": {},
     "output_type": "execute_result"
    }
   ],
   "source": [
    "m.groups()"
   ]
  },
  {
   "cell_type": "markdown",
   "id": "84e03526-375d-4a16-8a1e-6fe16b9c5ef8",
   "metadata": {},
   "source": [
    "(?P<name> expr )という形式を使うと、exprにマッチした部分はnameという名前のグループに保存される。"
   ]
  },
  {
   "cell_type": "code",
   "execution_count": 55,
   "id": "630493f8-d591-4f8e-a104-ad3619e2c6e7",
   "metadata": {},
   "outputs": [
    {
     "data": {
      "text/plain": [
       "'a dish of fish'"
      ]
     },
     "execution_count": 55,
     "metadata": {},
     "output_type": "execute_result"
    }
   ],
   "source": [
    "source = '''I wish I may, I wish I might Have a dish of fish tonight.'''\n",
    "m = re.search(r'(?P<DISH>. dish\\b).*(?P<FISH>\\bfish)', source)\n",
    "m.group()"
   ]
  },
  {
   "cell_type": "code",
   "execution_count": 56,
   "id": "ecb1ccae-3cf5-4e1c-ba44-f6116c75bf87",
   "metadata": {},
   "outputs": [
    {
     "data": {
      "text/plain": [
       "'a dish'"
      ]
     },
     "execution_count": 56,
     "metadata": {},
     "output_type": "execute_result"
    }
   ],
   "source": [
    "m.group('DISH')"
   ]
  },
  {
   "cell_type": "code",
   "execution_count": 57,
   "id": "38e042b7-d718-478c-8acb-78b096ddde05",
   "metadata": {},
   "outputs": [
    {
     "data": {
      "text/plain": [
       "'fish'"
      ]
     },
     "execution_count": 57,
     "metadata": {},
     "output_type": "execute_result"
    }
   ],
   "source": [
    "m.group('FISH')"
   ]
  }
 ],
 "metadata": {
  "kernelspec": {
   "display_name": "Python 3",
   "language": "python",
   "name": "python3"
  },
  "language_info": {
   "codemirror_mode": {
    "name": "ipython",
    "version": 3
   },
   "file_extension": ".py",
   "mimetype": "text/x-python",
   "name": "python",
   "nbconvert_exporter": "python",
   "pygments_lexer": "ipython3",
   "version": "3.8.8"
  }
 },
 "nbformat": 4,
 "nbformat_minor": 5
}
