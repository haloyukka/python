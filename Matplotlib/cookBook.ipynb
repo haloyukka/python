{
 "cells": [
  {
   "cell_type": "code",
   "execution_count": 10,
   "id": "8cf92a33-6c73-4918-9653-7434080142ac",
   "metadata": {},
   "outputs": [],
   "source": [
    "def oneat(x):\n",
    "    print('eat', x)\n",
    "\n",
    "def ondrink(x):\n",
    "    print('drink', x)"
   ]
  },
  {
   "cell_type": "code",
   "execution_count": 11,
   "id": "3cb758a3-fdef-4bc6-bca1-96490f68292d",
   "metadata": {},
   "outputs": [],
   "source": [
    "from matplotlib.cbook import CallbackRegistry\n",
    "\n",
    "callbacks = CallbackRegistry()"
   ]
  },
  {
   "cell_type": "code",
   "execution_count": 12,
   "id": "9e81b21c-b7cb-4613-81e5-096d9560f24e",
   "metadata": {},
   "outputs": [],
   "source": [
    "id_eat = callbacks.connect('eat', oneat)\n",
    "id_drink = callbacks.connect('drink', ondrink)"
   ]
  },
  {
   "cell_type": "code",
   "execution_count": 13,
   "id": "848bced5-f68f-4964-b173-a14b493b21ec",
   "metadata": {},
   "outputs": [
    {
     "name": "stdout",
     "output_type": "stream",
     "text": [
      "drink 123\n"
     ]
    }
   ],
   "source": [
    "callbacks.process('drink', 123)"
   ]
  },
  {
   "cell_type": "code",
   "execution_count": 14,
   "id": "b5d3c74b-e844-4601-a24f-6e2c33bb0435",
   "metadata": {},
   "outputs": [
    {
     "name": "stdout",
     "output_type": "stream",
     "text": [
      "eat 456\n"
     ]
    }
   ],
   "source": [
    "callbacks.process('eat', 456)"
   ]
  },
  {
   "cell_type": "code",
   "execution_count": 15,
   "id": "9b34eb10-19fa-4418-8ab9-d168b76879c4",
   "metadata": {},
   "outputs": [],
   "source": [
    "callbacks.process('be marry', 456) # nothing will be called"
   ]
  },
  {
   "cell_type": "code",
   "execution_count": 17,
   "id": "24840cb8-c660-48b8-90ed-2a4e5786a13d",
   "metadata": {},
   "outputs": [],
   "source": [
    "callbacks.disconnect(id_eat)\n",
    "callbacks.process('eat', 456) # nothing will be called"
   ]
  },
  {
   "cell_type": "code",
   "execution_count": null,
   "id": "1b16f851-e4f1-4c15-beea-611be4230caf",
   "metadata": {},
   "outputs": [],
   "source": []
  }
 ],
 "metadata": {
  "kernelspec": {
   "display_name": "Python 3 (ipykernel)",
   "language": "python",
   "name": "python3"
  },
  "language_info": {
   "codemirror_mode": {
    "name": "ipython",
    "version": 3
   },
   "file_extension": ".py",
   "mimetype": "text/x-python",
   "name": "python",
   "nbconvert_exporter": "python",
   "pygments_lexer": "ipython3",
   "version": "3.8.11"
  }
 },
 "nbformat": 4,
 "nbformat_minor": 5
}
