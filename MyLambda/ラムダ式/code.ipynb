{
 "cells": [
  {
   "cell_type": "markdown",
   "id": "9ddd534b-0dff-4e87-9c17-189d25a4be87",
   "metadata": {},
   "source": [
    "# ラムダ式\n",
    "lambda 引数: 処理<br>\n",
    "lambda 引数1, 引数2: 処理<br>"
   ]
  },
  {
   "cell_type": "code",
   "execution_count": 1,
   "id": "3f40b8e1-150b-4bc6-bce2-21bb1ce172e1",
   "metadata": {},
   "outputs": [],
   "source": [
    "func = lambda x: print(x + '!')"
   ]
  },
  {
   "cell_type": "code",
   "execution_count": 2,
   "id": "fa080710-75d8-48fe-bcdc-04ca238a6e1f",
   "metadata": {},
   "outputs": [
    {
     "name": "stdout",
     "output_type": "stream",
     "text": [
      "あいうえお!\n"
     ]
    }
   ],
   "source": [
    "func('あいうえお')"
   ]
  },
  {
   "cell_type": "code",
   "execution_count": 3,
   "id": "3c5fa732-614f-4ad5-b3f9-284f6565db67",
   "metadata": {},
   "outputs": [
    {
     "name": "stdout",
     "output_type": "stream",
     "text": [
      "鈴木さんは学生です\n"
     ]
    }
   ],
   "source": [
    "func = lambda x, y: print(f'{x}さんは{y}です')\n",
    "func('鈴木','学生')"
   ]
  },
  {
   "cell_type": "markdown",
   "id": "41f8426b-3516-476f-97cb-767d5afd505d",
   "metadata": {},
   "source": [
    "# defと何が違うの？\n",
    "\n",
    "ラムダ式は他の関数と組み合わせて使う\n",
    "\n",
    "map関数とかfilter関数など"
   ]
  },
  {
   "cell_type": "markdown",
   "id": "659ac228-b968-40a2-8c22-5f97ebc38f53",
   "metadata": {},
   "source": [
    "・map関数とは？\n",
    "\n",
    "繰り返しオブジェクトの全ての要素にある処理を行う関数\n",
    "\n",
    "書き方<br>\n",
    "map(関数, 繰り返しオブジェクト)<br>\n",
    "この関数の部分をラムダ式で直接書く\n",
    "\n",
    "\n",
    "リストの要素に「さん」をつける<br>\n",
    "names = ['鈴木'. '斎藤', '田中']<br>\n",
    "list(map(lambda x: x + 'さん', names)<br>"
   ]
  },
  {
   "cell_type": "code",
   "execution_count": 4,
   "id": "ee45c4de-e482-4302-96e4-bbcd02e854e5",
   "metadata": {},
   "outputs": [
    {
     "name": "stdout",
     "output_type": "stream",
     "text": [
      "['鈴木さん', '斎藤さん', '田中さん']\n"
     ]
    }
   ],
   "source": [
    "names = ['鈴木', '斎藤', '田中']\n",
    "result = list(map(lambda x: x + 'さん', names))\n",
    "print(result)"
   ]
  },
  {
   "cell_type": "code",
   "execution_count": 5,
   "id": "2edd2dbd-f0d4-4109-a111-b9d347485e23",
   "metadata": {},
   "outputs": [
    {
     "name": "stdout",
     "output_type": "stream",
     "text": [
      "['鈴木めいさん', '斎藤ゆづきさん', '田中ひなたさん']\n"
     ]
    }
   ],
   "source": [
    "n1 = ['鈴木', '斎藤', '田中']\n",
    "n2 = ['めい', 'ゆづき', 'ひなた']\n",
    "result = list(map(lambda x, y: x + y + 'さん', n1, n2))\n",
    "print(result)"
   ]
  },
  {
   "cell_type": "markdown",
   "id": "d939f0d6-aa7f-4128-a242-6f07d7958cde",
   "metadata": {},
   "source": [
    "・filter関数とは？\n",
    "\n",
    "繰り返しオブジェクトの中である条件がTrueになる要素だけを抽出する関数\n",
    "\n",
    "書き方<br>\n",
    "filter(関数, 繰り返しオブジェクト)<br>\n",
    "この関数の部分をラムダ式で直接書く\n",
    "\n",
    "10以上の要素だけを抽出<br>\n",
    "numbers = [1, 4, 6, 10, 22, 30]<br>\n",
    "list(filter(lambda x: x >= 10, numbers))"
   ]
  },
  {
   "cell_type": "code",
   "execution_count": 7,
   "id": "aef4206a-292c-4473-81e4-401b98ff378e",
   "metadata": {},
   "outputs": [
    {
     "name": "stdout",
     "output_type": "stream",
     "text": [
      "[10, 22, 30]\n"
     ]
    }
   ],
   "source": [
    "numbers = [1, 4, 6, 10, 22, 30]\n",
    "result = list(filter(lambda x: x >= 10, numbers))\n",
    "print(result)"
   ]
  },
  {
   "cell_type": "markdown",
   "id": "a68c2663-ed14-4bec-828e-3bd62f20d130",
   "metadata": {},
   "source": [
    "ラムダ式 + map関数<br>\n",
    "ラムダ式 + filter関数<br>\n",
    "\n",
    "リスト内包表記でも同じことができるんじゃない？<br?\n",
    "Yes"
   ]
  },
  {
   "cell_type": "code",
   "execution_count": null,
   "id": "77d69e51-c500-40f3-81c8-7354ac474e15",
   "metadata": {},
   "outputs": [],
   "source": []
  },
  {
   "cell_type": "code",
   "execution_count": null,
   "id": "f641a5f6-b2b6-410b-bfc8-6b9730682c6a",
   "metadata": {},
   "outputs": [],
   "source": []
  }
 ],
 "metadata": {
  "kernelspec": {
   "display_name": "Python 3 (ipykernel)",
   "language": "python",
   "name": "python3"
  },
  "language_info": {
   "codemirror_mode": {
    "name": "ipython",
    "version": 3
   },
   "file_extension": ".py",
   "mimetype": "text/x-python",
   "name": "python",
   "nbconvert_exporter": "python",
   "pygments_lexer": "ipython3",
   "version": "3.8.11"
  }
 },
 "nbformat": 4,
 "nbformat_minor": 5
}
