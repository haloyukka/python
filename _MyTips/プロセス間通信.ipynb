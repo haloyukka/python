{
  "nbformat": 4,
  "nbformat_minor": 0,
  "metadata": {
    "colab": {
      "name": "プロセス間通信.ipynb",
      "provenance": [],
      "collapsed_sections": []
    },
    "kernelspec": {
      "name": "python3",
      "display_name": "Python 3"
    },
    "language_info": {
      "name": "python"
    }
  },
  "cells": [
    {
      "cell_type": "code",
      "execution_count": 1,
      "metadata": {
        "colab": {
          "base_uri": "https://localhost:8080/"
        },
        "id": "Z3-IpgfKPEdR",
        "outputId": "be02f4d6-fb02-4ca0-d857-ce9dd23ee435"
      },
      "outputs": [
        {
          "output_type": "stream",
          "name": "stdout",
          "text": [
            "process1:0\n",
            "process2:0\n",
            "process3:0\n",
            "process1:1\n",
            "process2:1\n",
            "process1:2\n",
            "process3:1\n",
            "process1:3\n",
            "process2:2\n",
            "process1:4\n",
            "process3:2\n",
            "process2:3\n",
            "process2:4\n",
            "process3:3\n",
            "process3:4\n",
            "process ended\n"
          ]
        }
      ],
      "source": [
        "# Pythonでマルチプロセス\n",
        "from multiprocessing import Process\n",
        "import time\n",
        "\n",
        "def process1():\n",
        "  for i in range(5):\n",
        "    time.sleep(0.5)\n",
        "    print(\"process1:\" + str(i))\n",
        "\n",
        "def process2():\n",
        "  for i in range(5):\n",
        "    time.sleep(0.7)\n",
        "    print(\"process2:\" + str(i))\n",
        "\n",
        "def process3():\n",
        "  for i in range(5):\n",
        "    time.sleep(0.9)\n",
        "    print(\"process3:\" + str(i))\n",
        "\n",
        "if __name__ == '__main__':\n",
        "  process1 = Process(target=process1, args=())\n",
        "  process2 = Process(target=process2, args=())\n",
        "  process3 = Process(target=process3, args=())\n",
        "\n",
        "process1.start()\n",
        "process2.start()\n",
        "process3.start()\n",
        "\n",
        "process1.join()\n",
        "process2.join()\n",
        "process3.join()\n",
        "\n",
        "print('process ended')"
      ]
    },
    {
      "cell_type": "code",
      "source": [
        "# 共有メモリ\n",
        "import time\n",
        "from multiprocessing import Value, Array, Process\n",
        "\n",
        "def process1(count, array):\n",
        "  for i in range(5):\n",
        "    time.sleep(0.5)\n",
        "    # Valueオブジェクトの値を操作\n",
        "    count.value += 1\n",
        "    # Arrayオブジェクトの値を操作\n",
        "    array[count.value - 1] = count.value\n",
        "    print(\"process1:\" + str(count.value))\n",
        "  \n",
        "def process2(count, array):\n",
        "  for i in range(5):\n",
        "    time.sleep(0.7)\n",
        "    count.value += 1\n",
        "    array[count.value - 1] = count.value\n",
        "    print(\"process2:\" + str(count.value))\n",
        "  \n",
        "def process3(count, array):\n",
        "   for i in range(5):\n",
        "     time.sleep(0.9)\n",
        "     count.value += 1\n",
        "     array[count.value - 1] = count.value\n",
        "     print(\"process3:\" + str(count.value))\n",
        "\n",
        "if __name__ == '__main__':\n",
        "  # 共有メモリの作成\n",
        "  # Valueオブジェクト生成\n",
        "  count = Value('i', 0)\n",
        "  # Arrayオブジェクトの生成\n",
        "  array = Array('i', 15)\n",
        "  print(\"count:\" + str(type(count)))\n",
        "  print(\"array:\" + str(type(array)))\n",
        "  print(array[:])\n",
        "\n",
        "  process1 = Process(target=process1, args=[count, array])\n",
        "  process2 = Process(target=process2, args=[count, array])\n",
        "  process3 = Process(target=process3, args=[count, array])\n",
        "\n",
        "  process1.start()\n",
        "  process2.start()\n",
        "  process3.start()\n",
        "\n",
        "  process1.join()\n",
        "  process2.join()\n",
        "  process3.join()\n",
        "\n",
        "  print(array[:])\n",
        "  print(\"process ended\")"
      ],
      "metadata": {
        "colab": {
          "base_uri": "https://localhost:8080/"
        },
        "id": "wzOSsPYbQoLk",
        "outputId": "2977b34e-6cbc-42f1-8727-4c32e9aafb68"
      },
      "execution_count": 5,
      "outputs": [
        {
          "output_type": "stream",
          "name": "stdout",
          "text": [
            "count:<class 'multiprocessing.sharedctypes.Synchronized'>\n",
            "array:<class 'multiprocessing.sharedctypes.SynchronizedArray'>\n",
            "[0, 0, 0, 0, 0, 0, 0, 0, 0, 0, 0, 0, 0, 0, 0]\n",
            "process1:1\n",
            "process2:2\n",
            "process3:3\n",
            "process1:4\n",
            "process2:5\n",
            "process1:6\n",
            "process3:7\n",
            "process1:8\n",
            "process2:9\n",
            "process1:10\n",
            "process3:11\n",
            "process2:12\n",
            "process2:13\n",
            "process3:14\n",
            "process3:15\n",
            "[1, 2, 3, 4, 5, 6, 7, 8, 9, 10, 11, 12, 13, 14, 15]\n",
            "process ended\n"
          ]
        }
      ]
    },
    {
      "cell_type": "code",
      "source": [
        "# サーバープロセス（Server Process）\n",
        "import time\n",
        "from multiprocessing import Manager, Value, Process\n",
        "\n",
        "def process1(count, array):\n",
        "  for i in range(5):\n",
        "    time.sleep(0.5)\n",
        "    # Valueオブジェクトの値を操作\n",
        "    count.value += 1\n",
        "    # Listを操作\n",
        "    array.append(count.value)\n",
        "    print(\"process1:\" + str(count.value))\n",
        "\n",
        "def process2(count, array):\n",
        "  for i in range(5):\n",
        "    time.sleep(0.7)\n",
        "    count.value += 1\n",
        "    array.append(count.value)\n",
        "    print(\"process2\" + str(count.value))\n",
        "\n",
        "def process3(count, array):\n",
        "  for i in range(5):\n",
        "    time.sleep(0.9)\n",
        "    count.value += 1\n",
        "    array.append(count.value)\n",
        "    print(\"process3:\" + str(count.value))\n",
        "\n",
        "if __name__ == '__main__':\n",
        "  # Managerオブジェクトの生成\n",
        "  with Manager() as manager:\n",
        "    # ManagerからValueクラスを生成\n",
        "    count = manager.Value('i', 0)\n",
        "    # ManagerからListを作成\n",
        "    array = manager.list()\n",
        "    print('count:' + str(type(count)))\n",
        "    print('array' + str(type(array)))\n",
        "    print(array[:])\n",
        "\n",
        "    process1 = Process(target=process1, args=[count, array])\n",
        "    process2 = Process(target=process2, args=[count, array])\n",
        "    process3 = Process(target=process3, args=[count, array])\n",
        "\n",
        "    process1.start()\n",
        "    process2.start()\n",
        "    process3.start()\n",
        "\n",
        "    process1.join()\n",
        "    process2.join()\n",
        "    process3.join()\n",
        "\n",
        "    print(array[:])\n",
        "    print(\"process ended\")"
      ],
      "metadata": {
        "colab": {
          "base_uri": "https://localhost:8080/"
        },
        "id": "T4Lh4fKR0qSN",
        "outputId": "dee9b9af-7a1d-41e9-a047-01567252e789"
      },
      "execution_count": 8,
      "outputs": [
        {
          "output_type": "stream",
          "name": "stdout",
          "text": [
            "count:<class 'multiprocessing.managers.ValueProxy'>\n",
            "array<class 'multiprocessing.managers.ListProxy'>\n",
            "[]\n",
            "process1:1\n",
            "process22\n",
            "process3:3\n",
            "process1:4\n",
            "process25\n",
            "process1:6\n",
            "process3:7\n",
            "process1:8\n",
            "process29\n",
            "process1:10\n",
            "process3:11\n",
            "process212\n",
            "process213\n",
            "process3:14\n",
            "process3:15\n",
            "[1, 2, 3, 4, 5, 6, 7, 8, 9, 10, 11, 12, 13, 14, 15]\n",
            "process ended\n"
          ]
        }
      ]
    }
  ]
}