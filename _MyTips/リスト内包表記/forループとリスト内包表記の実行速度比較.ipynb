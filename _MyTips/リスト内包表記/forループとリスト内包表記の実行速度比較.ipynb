{
  "nbformat": 4,
  "nbformat_minor": 0,
  "metadata": {
    "colab": {
      "name": "forループとリスト内包表記の実行速度比較.ipynb",
      "provenance": [],
      "collapsed_sections": []
    },
    "kernelspec": {
      "name": "python3",
      "display_name": "Python 3"
    },
    "language_info": {
      "name": "python"
    }
  },
  "cells": [
    {
      "cell_type": "markdown",
      "source": [
        "# forループとリスト内包表記の実行速度比較\n",
        "\n",
        "それぞれの関数では1,000個の要素をリストに追加し、さらにそれぞれの関数を1,000回呼びだす。<br>\n",
        "このテストでは、第1引数として文字列形式のコードではなく、関数名を使ってtimeit()を呼び出していることに注意する。"
      ],
      "metadata": {
        "id": "rhBDP0_NidtO"
      }
    },
    {
      "cell_type": "code",
      "execution_count": 2,
      "metadata": {
        "colab": {
          "base_uri": "https://localhost:8080/"
        },
        "id": "GXIOzjXcfVeN",
        "outputId": "b5ecfacc-1a55-4ba2-e86e-731954d1b758"
      },
      "outputs": [
        {
          "output_type": "stream",
          "name": "stdout",
          "text": [
            "make_list_1 takes 0.0863340249999851 second\n",
            "make_list_2 takes 0.044717617999992854 second\n"
          ]
        }
      ],
      "source": [
        "from timeit import timeit\n",
        "\n",
        "def make_list_1():\n",
        "  result = []\n",
        "  for value in range(1000):\n",
        "    result.append(value)\n",
        "  return result\n",
        "\n",
        "def make_list_2():\n",
        "  result = [value for value in range(1000)]\n",
        "  return result\n",
        "\n",
        "print('make_list_1 takes',timeit(make_list_1, number=1000), 'second')\n",
        "print('make_list_2 takes',timeit(make_list_2, number=1000), 'second')"
      ]
    },
    {
      "cell_type": "markdown",
      "source": [
        "# 結論\n",
        "リスト内包表記は、append()を使ったリストへの要素の追加と比べて少なくとも2倍以上高速。一般に、内包表記は手作業の構築よりも高速である。<br>\n",
        "あなた自身のコードを高速化するために、このことは覚えておくとよい。"
      ],
      "metadata": {
        "id": "ab39YBISjU-u"
      }
    }
  ]
}