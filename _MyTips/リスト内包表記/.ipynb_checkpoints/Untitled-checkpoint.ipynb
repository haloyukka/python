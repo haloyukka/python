{
 "cells": [
  {
   "cell_type": "markdown",
   "id": "de92a2ee-f343-4c1a-8031-b73af9645908",
   "metadata": {},
   "source": [
    "リスト内包表記１つ目の書き方<br>\n",
    "基本<br>\n",
    "forの繰り返し処理だけ<br>\n",
    "[式 for 変数 in 繰り返しオブジェクト]<br>\n"
   ]
  },
  {
   "cell_type": "code",
   "execution_count": 2,
   "id": "45840bc9-759a-49f3-94cf-7f46609e345d",
   "metadata": {},
   "outputs": [
    {
     "name": "stdout",
     "output_type": "stream",
     "text": [
      "[0, 1, 2, 3, 4, 5]\n"
     ]
    }
   ],
   "source": [
    "x = [i for i in range(6)]\n",
    "print(x)"
   ]
  },
  {
   "cell_type": "code",
   "execution_count": 3,
   "id": "6b4f6b80-a274-4d8f-8139-03582e10c9aa",
   "metadata": {},
   "outputs": [
    {
     "name": "stdout",
     "output_type": "stream",
     "text": [
      "[1000, 1001, 1002, 1003, 1004, 1005]\n"
     ]
    }
   ],
   "source": [
    "x = [i + 1000 for i in range(6)]\n",
    "print(x)"
   ]
  },
  {
   "cell_type": "code",
   "execution_count": 4,
   "id": "745f1962-b82a-4f07-97f0-dfc648459aaf",
   "metadata": {},
   "outputs": [
    {
     "name": "stdout",
     "output_type": "stream",
     "text": [
      "['斎藤さん', '山田さん', '田中さん']\n"
     ]
    }
   ],
   "source": [
    "names = ['斎藤', '山田', '田中']\n",
    "x = [i + 'さん' for i in names]\n",
    "print(x)"
   ]
  },
  {
   "cell_type": "markdown",
   "id": "0ef142fb-bc89-44c3-992d-30327f2a9822",
   "metadata": {},
   "source": [
    "リスト内包表記２つ目の書き方<br>\n",
    "条件付き<br>\n",
    "0から10までの数値の中で偶数だけのリスト\n",
    "\n",
    "[式 for 変数 in 繰り返しobj if 条件式]<br>\n",
    "条件式がTrueの時だけ新リストの要素に<br>"
   ]
  },
  {
   "cell_type": "code",
   "execution_count": 6,
   "id": "9bdd3af5-7816-4a70-bb54-f9885b28cc07",
   "metadata": {},
   "outputs": [
    {
     "name": "stdout",
     "output_type": "stream",
     "text": [
      "[1, 3, 5, 7, 9]\n"
     ]
    }
   ],
   "source": [
    "x = [i for i in range(11) if i % 2 != 0]\n",
    "print(x)"
   ]
  },
  {
   "cell_type": "code",
   "execution_count": 7,
   "id": "fe7e9c22-ef7f-422f-a9f0-fe049bb272c0",
   "metadata": {},
   "outputs": [
    {
     "name": "stdout",
     "output_type": "stream",
     "text": [
      "['apple', 'banana']\n"
     ]
    }
   ],
   "source": [
    "foods = ['apple', 'banana', 'lemon']\n",
    "x = [i for i in foods if 'a' in i]\n",
    "print(x)"
   ]
  },
  {
   "cell_type": "markdown",
   "id": "8babf088-121f-473a-8891-1c53af4c426a",
   "metadata": {},
   "source": [
    "リスト内包表記３つ目の書き方<br>\n",
    "三項演算子を使用<br>\n",
    "\n",
    "0から10までの数値の中で偶数だけ「ぐ」になるリスト<br>\n",
    "\n",
    "['ぐ' if i % 2 == 0 else i for i in range(11)]<br>\n",
    "[True時の値 if 条件式 else False時の値 for 変数 in 繰り返しobj]<br>"
   ]
  },
  {
   "cell_type": "code",
   "execution_count": 9,
   "id": "6a61daea-7704-481e-905c-e9875646f8c7",
   "metadata": {},
   "outputs": [
    {
     "name": "stdout",
     "output_type": "stream",
     "text": [
      "[0, 1, 2, 3, 4, 5]\n",
      "['ぐ', 1, 'ぐ', 3, 'ぐ', 5]\n"
     ]
    }
   ],
   "source": [
    "x1 = [i for i in range(6)]\n",
    "x2 = ['ぐ' if i % 2 == 0 else i for i in range(6)]\n",
    "print(x1)\n",
    "print(x2)"
   ]
  },
  {
   "cell_type": "code",
   "execution_count": 10,
   "id": "6d8c2b00-6612-40c3-8aa8-19815f653d78",
   "metadata": {},
   "outputs": [
    {
     "name": "stdout",
     "output_type": "stream",
     "text": [
      "['千葉県', '栃木県', '東京都', '埼玉県', '茨城県', '群馬県', '神奈川県']\n"
     ]
    }
   ],
   "source": [
    "kanto = ['千葉', '栃木', '東京', '埼玉', '茨城', '群馬', '神奈川']\n",
    "x = [i + '都' if i == '東京' else i + '県' for i in kanto]\n",
    "print(x)"
   ]
  },
  {
   "cell_type": "code",
   "execution_count": null,
   "id": "c8cd4937-d60c-4fee-b622-03ed35f73173",
   "metadata": {},
   "outputs": [],
   "source": []
  }
 ],
 "metadata": {
  "kernelspec": {
   "display_name": "Python 3 (ipykernel)",
   "language": "python",
   "name": "python3"
  },
  "language_info": {
   "codemirror_mode": {
    "name": "ipython",
    "version": 3
   },
   "file_extension": ".py",
   "mimetype": "text/x-python",
   "name": "python",
   "nbconvert_exporter": "python",
   "pygments_lexer": "ipython3",
   "version": "3.8.11"
  }
 },
 "nbformat": 4,
 "nbformat_minor": 5
}
