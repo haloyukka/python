{
  "nbformat": 4,
  "nbformat_minor": 0,
  "metadata": {
    "colab": {
      "name": "計算.ipynb",
      "provenance": [],
      "include_colab_link": true
    },
    "kernelspec": {
      "name": "python3",
      "display_name": "Python 3"
    },
    "language_info": {
      "name": "python"
    }
  },
  "cells": [
    {
      "cell_type": "markdown",
      "metadata": {
        "id": "view-in-github",
        "colab_type": "text"
      },
      "source": [
        "<a href=\"https://colab.research.google.com/github/haloyukka/python/blob/master/_MyTips/%E8%A8%88%E7%AE%97.ipynb\" target=\"_parent\"><img src=\"https://colab.research.google.com/assets/colab-badge.svg\" alt=\"Open In Colab\"/></a>"
      ]
    },
    {
      "cell_type": "markdown",
      "source": [
        "このコードは、2つの3次元座標点の距離を計算する関数を定義し、それを実行するためのコードです。\n",
        "\n",
        "最初に、mathモジュールと、関数で使用される入力パラメーターのデータ型を指定するために必要なtypingモジュールをインポートしています。\n",
        "\n",
        "次に、2つの3次元座標点が含まれる辞書を作成します。各座標点は、3つの値x、y、zを持ちます。\n",
        "\n",
        "関数calc_distanceは、2つの引数として2つの座標点を受け取ります。引数は、それぞれp1とp2という名前が付けられています。関数の戻り値は、2つの座標点間の距離です。\n",
        "\n",
        "関数は、まずdistance変数を-1で初期化します。次に、p1とp2が辞書型である場合にのみ、距離を計算します。このチェックは、isinstance関数を使用して実行されます。distance変数は、mathモジュールのsqrt関数を使用して計算されます。座標点間の距離は、3次元空間内の2点間の距離を計算する方法に基づいて計算されます。\n",
        "\n",
        "最後に、calc_distance関数を2回呼び出しています。1回目の呼び出しでは、p1とp2の座標点の距離が計算され、2回目の呼び出しでは、2つの整数が関数に渡されますが、正しいデータ型でないため、計算されません。結果として、2回目の呼び出しは-1を返します。"
      ],
      "metadata": {
        "id": "i_QZKRuh_h3X"
      }
    },
    {
      "cell_type": "code",
      "execution_count": null,
      "metadata": {
        "colab": {
          "base_uri": "https://localhost:8080/"
        },
        "id": "oGbNTRhpV_iH",
        "outputId": "acd2853c-4823-4c77-879e-c19e3d2caf3d"
      },
      "outputs": [
        {
          "output_type": "stream",
          "name": "stdout",
          "text": [
            "44.82186966202994\n",
            "-1\n"
          ]
        }
      ],
      "source": [
        "import math\n",
        "from typing import List, Dict\n",
        "\n",
        "p1 = {'x': 118, 'y':92, 'z':38}\n",
        "p2 = {'x': 88, 'y':67, 'z':16}\n",
        "\n",
        "def calc_distance(p1:Dict[str, int], p2:Dict[str, int]) -> float:\n",
        "  distance = -1\n",
        "  \n",
        "  if isinstance(p1, dict) and isinstance(p2, dict):\n",
        "    distance = math.sqrt((p1['x'] - p2['x'])**2 + (p1['y'] - p2['y'])**2 + (p1['z'] - p2['z'])**2)\n",
        "\n",
        "  return distance\n",
        "\n",
        "\n",
        "print(calc_distance(p1, p2))\n",
        "print(calc_distance(1, 2))"
      ]
    }
  ]
}