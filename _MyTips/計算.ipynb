{
  "nbformat": 4,
  "nbformat_minor": 0,
  "metadata": {
    "colab": {
      "name": "計算.ipynb",
      "provenance": [],
      "collapsed_sections": [],
      "include_colab_link": true
    },
    "kernelspec": {
      "name": "python3",
      "display_name": "Python 3"
    },
    "language_info": {
      "name": "python"
    }
  },
  "cells": [
    {
      "cell_type": "markdown",
      "metadata": {
        "id": "view-in-github",
        "colab_type": "text"
      },
      "source": [
        "<a href=\"https://colab.research.google.com/github/haloyukka/python/blob/master/_MyTips/%E8%A8%88%E7%AE%97.ipynb\" target=\"_parent\"><img src=\"https://colab.research.google.com/assets/colab-badge.svg\" alt=\"Open In Colab\"/></a>"
      ]
    },
    {
      "cell_type": "code",
      "execution_count": null,
      "metadata": {
        "colab": {
          "base_uri": "https://localhost:8080/"
        },
        "id": "oGbNTRhpV_iH",
        "outputId": "acd2853c-4823-4c77-879e-c19e3d2caf3d"
      },
      "outputs": [
        {
          "output_type": "stream",
          "name": "stdout",
          "text": [
            "44.82186966202994\n",
            "-1\n"
          ]
        }
      ],
      "source": [
        "import math\n",
        "from typing import List, Dict\n",
        "\n",
        "p1 = {'x': 118, 'y':92, 'z':38}\n",
        "p2 = {'x': 88, 'y':67, 'z':16}\n",
        "\n",
        "def calc_distance(p1:Dict[str, int], p2:Dict[str, int]) -> float:\n",
        "  distance = -1\n",
        "  \n",
        "  if isinstance(p1, dict) and isinstance(p2, dict):\n",
        "    distance = math.sqrt((p1['x'] - p2['x'])**2 + (p1['y'] - p2['y'])**2 + (p1['z'] - p2['z'])**2)\n",
        "\n",
        "  return distance\n",
        "\n",
        "\n",
        "print(calc_distance(p1, p2))\n",
        "print(calc_distance(1, 2))"
      ]
    }
  ]
}