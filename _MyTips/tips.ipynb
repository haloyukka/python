{
  "nbformat": 4,
  "nbformat_minor": 0,
  "metadata": {
    "colab": {
      "name": "tips.ipynb",
      "provenance": [],
      "collapsed_sections": [],
      "include_colab_link": true
    },
    "kernelspec": {
      "name": "python3",
      "display_name": "Python 3"
    },
    "language_info": {
      "name": "python"
    }
  },
  "cells": [
    {
      "cell_type": "markdown",
      "metadata": {
        "id": "view-in-github",
        "colab_type": "text"
      },
      "source": [
        "<a href=\"https://colab.research.google.com/github/haloyukka/python/blob/master/_MyTips/tips.ipynb\" target=\"_parent\"><img src=\"https://colab.research.google.com/assets/colab-badge.svg\" alt=\"Open In Colab\"/></a>"
      ]
    },
    {
      "cell_type": "markdown",
      "source": [
        "原文<br>\n",
        "100 Helpful Python Tips You Can Learn Before Finishing Your Morning Coffee<br>\n",
        "https://towardsdatascience.com/100-helpful-python-tips-you-can-learn-before-finishing-your-morning-coffee-eb9c39e68958\n",
        "\n",
        "\n",
        "朝飯前に学べる！便利なPythonのヒント100選【前編】<br>\n",
        "https://qiita.com/baby-degu/items/05cf809d4d992923020d\n",
        "\n",
        "朝飯前に学べる！便利なPythonのヒント100選【後編】<br>\n",
        "https://qiita.com/baby-degu/items/532bea7be058c35f61a8"
      ],
      "metadata": {
        "id": "VZAbxWJxJNpZ"
      }
    },
    {
      "cell_type": "code",
      "execution_count": null,
      "metadata": {
        "colab": {
          "base_uri": "https://localhost:8080/"
        },
        "id": "z4M_xMoJwyME",
        "outputId": "7bf65320-f5ac-46ac-cd38-abac3107703b"
      },
      "outputs": [
        {
          "output_type": "stream",
          "name": "stdout",
          "text": [
            "1\n"
          ]
        }
      ],
      "source": [
        "# 1. “Else” condition inside a “for” loop\n",
        "numbers = [2, 4, 6, 8, 1]\n",
        "\n",
        "for number in numbers:\n",
        "    if number % 2 == 1:\n",
        "        print(number)\n",
        "        break\n",
        "else:\n",
        "    print(\"No odd numbers\")"
      ]
    },
    {
      "cell_type": "code",
      "source": [
        "# 2. Get elements from a list using named variables\n",
        "my_list = [1, 2, 3, 4, 5]\n",
        "one, two, three, four, five = my_list\n",
        "print(two)"
      ],
      "metadata": {
        "colab": {
          "base_uri": "https://localhost:8080/"
        },
        "id": "sSLpQNOlxt1c",
        "outputId": "15f818af-2336-44ee-836e-5399d3fecdaf"
      },
      "execution_count": null,
      "outputs": [
        {
          "output_type": "stream",
          "name": "stdout",
          "text": [
            "2\n"
          ]
        }
      ]
    },
    {
      "cell_type": "code",
      "source": [
        "# 3. Get n largest or n smallest elements in a list using the module heapq\n",
        "import heapq\n",
        "\n",
        "scores = [51, 33, 64, 87, 91, 75, 15, 49, 33, 82]\n",
        "\n",
        "print(heapq.nlargest(3, scores))  # [91, 87, 82]\n",
        "print(heapq.nsmallest(5, scores))  # [15, 33, 33, 49, 51]"
      ],
      "metadata": {
        "colab": {
          "base_uri": "https://localhost:8080/"
        },
        "id": "_NSe7Hmrx1x6",
        "outputId": "a31ca247-aebb-42c0-f947-f7d5f0d89063"
      },
      "execution_count": null,
      "outputs": [
        {
          "output_type": "stream",
          "name": "stdout",
          "text": [
            "[91, 87, 82]\n",
            "[15, 33, 33, 49, 51]\n"
          ]
        }
      ]
    },
    {
      "cell_type": "code",
      "source": [
        "# 4. Pass values from a list as method arguments\n",
        "# We can extract all elements of a list using “*”:\n",
        "# This can be helpful in situations where we want to pass all elements of a list as method arguments:\n",
        "my_list = [1, 2, 3, 4]\n",
        "print(my_list)  # [1, 2, 3, 4]\n",
        "\n",
        "print(*my_list)  # 1 2 3 4\n",
        "\n",
        "\n",
        "def sum_of_elements(*arg):\n",
        "    total = 0\n",
        "    for i in arg:\n",
        "        total += i\n",
        "\n",
        "    return total\n",
        "\n",
        "\n",
        "result = sum_of_elements(*my_list)\n",
        "print(result)  # 10"
      ],
      "metadata": {
        "colab": {
          "base_uri": "https://localhost:8080/"
        },
        "id": "_KtMeKCyyEpz",
        "outputId": "4b0c1791-60a3-445c-ad86-b15adcb0f2a1"
      },
      "execution_count": null,
      "outputs": [
        {
          "output_type": "stream",
          "name": "stdout",
          "text": [
            "[1, 2, 3, 4]\n",
            "1 2 3 4\n",
            "10\n"
          ]
        }
      ]
    },
    {
      "cell_type": "code",
      "source": [
        "# 5. Get all the elements in the middle of the list\n",
        "\n",
        "_, *elements_in_the_middle, _ = [1, 2, 3, 4, 5, 6, 7, 8]\n",
        "print(elements_in_the_middle)  # [2, 3, 4, 5, 6, 7]"
      ],
      "metadata": {
        "colab": {
          "base_uri": "https://localhost:8080/"
        },
        "id": "xnXarvGAzHwb",
        "outputId": "107457d3-bbb5-46a4-9c80-e0cbc4467485"
      },
      "execution_count": null,
      "outputs": [
        {
          "output_type": "stream",
          "name": "stdout",
          "text": [
            "[2, 3, 4, 5, 6, 7]\n"
          ]
        }
      ]
    },
    {
      "cell_type": "code",
      "source": [
        "# 6. Assign multiple variables in just one line\n",
        "one, two, three, four = 1, 2, 3, 4"
      ],
      "metadata": {
        "id": "yYXzNHaqzXHh"
      },
      "execution_count": null,
      "outputs": []
    },
    {
      "cell_type": "code",
      "source": [
        "# 7. List comprehensions\n",
        "numbers = [1, 2, 3, 4, 5, 6, 7, 8]\n",
        "\n",
        "even_numbers = [number for number in numbers if number % 2 == 0]\n",
        "\n",
        "print(even_numbers)  # [2, 4, 6, 8]\n",
        "\n",
        "dictionary = {'first_element': 1, 'second_element': 2,\n",
        "              'third_element': 3, 'fourth_element': 4}\n",
        "odd_value_elements = {key: num for (key, num) in\n",
        "                      dictionary.items() if num % 2 == 1}\n",
        "print(odd_value_elements)  # {'first_element': 1, 'third_element': 3}"
      ],
      "metadata": {
        "colab": {
          "base_uri": "https://localhost:8080/"
        },
        "id": "U9nf_lEYzob1",
        "outputId": "2f5f98af-e6a8-4ef4-ab90-dfb945a7e602"
      },
      "execution_count": null,
      "outputs": [
        {
          "output_type": "stream",
          "name": "stdout",
          "text": [
            "[2, 4, 6, 8]\n",
            "{'first_element': 1, 'third_element': 3}\n"
          ]
        }
      ]
    },
    {
      "cell_type": "code",
      "source": [
        "# 8. Enumerate related items of the same concept via Enum\n",
        "# An Enum is a set of symbolic names bound to unique values.\n",
        "# They are similar to global variables, but they offer a more useful repr(), grouping, type-safety, and a few other features.\n",
        "\n",
        "from enum import Enum\n",
        "\n",
        "\n",
        "class Status(Enum):\n",
        "    NO_STATUS = -1\n",
        "    NOT_STARTED = 0\n",
        "    IN_PROGRESS = 1\n",
        "    COMPLETED = 2\n",
        "\n",
        "\n",
        "print(Status.IN_PROGRESS.name)  # IN_PROGRESS\n",
        "print(Status.COMPLETED.value)  # 2"
      ],
      "metadata": {
        "colab": {
          "base_uri": "https://localhost:8080/"
        },
        "id": "is123ecX0H6W",
        "outputId": "5aa50e1a-77ea-46b9-edb0-8c13b50e8d14"
      },
      "execution_count": null,
      "outputs": [
        {
          "output_type": "stream",
          "name": "stdout",
          "text": [
            "IN_PROGRESS\n",
            "2\n"
          ]
        }
      ]
    },
    {
      "cell_type": "code",
      "source": [
        "# 9. Repeat strings without looping\n",
        "string = \"Abc\"\n",
        "\n",
        "print(string * 5)  # AbcAbcAbcAbcAbc"
      ],
      "metadata": {
        "colab": {
          "base_uri": "https://localhost:8080/"
        },
        "id": "1azOKItx0XzW",
        "outputId": "ad830bba-3c16-4538-c8ff-d493a29163a9"
      },
      "execution_count": null,
      "outputs": [
        {
          "output_type": "stream",
          "name": "stdout",
          "text": [
            "AbcAbcAbcAbcAbc\n"
          ]
        }
      ]
    },
    {
      "cell_type": "code",
      "source": [
        "# 10. Compare 3 numbers just like in Math\n",
        "x = 3\n",
        "print(1 < x < 10)  # True"
      ],
      "metadata": {
        "colab": {
          "base_uri": "https://localhost:8080/"
        },
        "id": "i3_A59qR0afu",
        "outputId": "c25a9883-92a3-497f-9aed-179b24009295"
      },
      "execution_count": null,
      "outputs": [
        {
          "output_type": "stream",
          "name": "stdout",
          "text": [
            "True\n"
          ]
        }
      ]
    },
    {
      "cell_type": "code",
      "source": [
        "# 11. Merge dictionaries in a single readable line\n",
        "# (Python3.9)\n",
        "\n",
        "first_dictionary = {'name': 'Fatos', 'location': 'Munich'}\n",
        "second_dictionary = {'name': 'Fatos', 'surname': 'Morina',\n",
        "                     'location': 'Bavaria, Munich'}\n",
        "result = first_dictionary | second_dictionary\n",
        "print(result)\n",
        "# {'name': 'Fatos', 'location': 'Bavaria, Munich', 'surname': 'Morina'}"
      ],
      "metadata": {
        "id": "pKgav3SJ0g-v"
      },
      "execution_count": null,
      "outputs": []
    },
    {
      "cell_type": "code",
      "source": [
        "# 12. Find the index of an element in a tuple\n",
        "books = ('Atomic habits', 'Ego is the enemy', 'Outliers', 'Mastery')\n",
        "\n",
        "print(books.index('Mastery'))   # 3"
      ],
      "metadata": {
        "colab": {
          "base_uri": "https://localhost:8080/"
        },
        "id": "18JvD7PB1JAA",
        "outputId": "7e310e8e-2488-4594-f6fa-2e7c1eab9bf4"
      },
      "execution_count": null,
      "outputs": [
        {
          "output_type": "stream",
          "name": "stdout",
          "text": [
            "3\n"
          ]
        }
      ]
    },
    {
      "cell_type": "code",
      "source": [
        "# 13. Convert a string into a list of strings\n",
        "\n",
        "import ast\n",
        "\n",
        "\n",
        "def string_to_list(string):\n",
        "    return ast.literal_eval(string)\n",
        "\n",
        "\n",
        "string = \"[[1, 2, 3],[4, 5, 6]]\"\n",
        "my_list = string_to_list(string)\n",
        "print(my_list)  # [[1, 2, 3], [4, 5, 6]]"
      ],
      "metadata": {
        "colab": {
          "base_uri": "https://localhost:8080/"
        },
        "id": "rLoYyrMz1U74",
        "outputId": "94d96d99-5b5c-471a-e2c6-e2b6bb9dd827"
      },
      "execution_count": null,
      "outputs": [
        {
          "output_type": "stream",
          "name": "stdout",
          "text": [
            "[[1, 2, 3], [4, 5, 6]]\n"
          ]
        }
      ]
    },
    {
      "cell_type": "code",
      "source": [
        "# 14. Avoid “trivial” mistakes by using named parameters\n",
        "\n",
        "\n",
        "def subtract(a, b):\n",
        "    return a - b\n",
        "\n",
        "\n",
        "# Order trivial mistake\n",
        "print((subtract(1, 3)))  # -2\n",
        "print((subtract(3, 1)))  # 2\n",
        "\n",
        "# Named parameter version\n",
        "print((subtract(a=1, b=3)))  # -2\n",
        "print((subtract(b=3, a=1)))  # -2"
      ],
      "metadata": {
        "colab": {
          "base_uri": "https://localhost:8080/"
        },
        "id": "yYBbWUrq1cAR",
        "outputId": "887282df-1274-4aa5-c45f-6dabc081a72a"
      },
      "execution_count": null,
      "outputs": [
        {
          "output_type": "stream",
          "name": "stdout",
          "text": [
            "-2\n",
            "2\n",
            "-2\n",
            "-2\n"
          ]
        }
      ]
    },
    {
      "cell_type": "code",
      "source": [
        "# 15. Print multiple elements with a single print() statement\n",
        "print(1, 2, 3, \"a\", \"z\", \"this is here\", \"here is something else\")"
      ],
      "metadata": {
        "colab": {
          "base_uri": "https://localhost:8080/"
        },
        "id": "MKXRUOlq1zPX",
        "outputId": "2335c70c-a6bc-4469-f079-008ade145ce6"
      },
      "execution_count": null,
      "outputs": [
        {
          "output_type": "stream",
          "name": "stdout",
          "text": [
            "1 2 3 a z this is here here is something else\n"
          ]
        }
      ]
    },
    {
      "cell_type": "code",
      "source": [
        "# 16. Print multiple elements in the same line\n",
        "print(\"Hello\", end=\"\")\n",
        "print(\"World\")  # HelloWorld\n",
        "print(\"Hello\", end=\" \")\n",
        "print(\"World\")  # Hello World\n",
        "print('words', 'with', 'commas', 'in', 'between', sep=', ')\n",
        "# words, with, commas, in, between"
      ],
      "metadata": {
        "colab": {
          "base_uri": "https://localhost:8080/"
        },
        "id": "ovLp9LBE18zw",
        "outputId": "6800334c-a706-4f7b-da22-fffe6f04d7a5"
      },
      "execution_count": null,
      "outputs": [
        {
          "output_type": "stream",
          "name": "stdout",
          "text": [
            "HelloWorld\n",
            "Hello World\n",
            "words, with, commas, in, between\n"
          ]
        }
      ]
    },
    {
      "cell_type": "code",
      "source": [
        "# 17. Print multiple values with a custom separator in between each value\n",
        "print(\"29\", \"01\", \"2022\", sep=\"/\")  # 29/01/2022\n",
        "print(\"name\", \"domain.com\", sep=\"@\")  # name@domain.com\n"
      ],
      "metadata": {
        "colab": {
          "base_uri": "https://localhost:8080/"
        },
        "id": "GAd9LqkL2GnR",
        "outputId": "94cab3ae-1b36-43ab-bcee-92b1766be163"
      },
      "execution_count": null,
      "outputs": [
        {
          "output_type": "stream",
          "name": "stdout",
          "text": [
            "29/01/2022\n",
            "name@domain.com\n"
          ]
        }
      ]
    },
    {
      "cell_type": "code",
      "source": [
        "# 18. You cannot use a number at the beginning of the name of a variable\n",
        "four_letters = \"abcd\"  # this works\n",
        "# 4_letters = \"abcd\"  # this doesn’t work"
      ],
      "metadata": {
        "id": "JdugmN9L2f8E"
      },
      "execution_count": null,
      "outputs": []
    },
    {
      "cell_type": "code",
      "source": [
        "# 19. You cannot use an operator at the beginning of the name of a variable\n",
        "# +variable = “abcd”  # this doesn’t work"
      ],
      "metadata": {
        "id": "BYsmoZob2oaI"
      },
      "execution_count": null,
      "outputs": []
    },
    {
      "cell_type": "code",
      "source": [
        "# 20. You cannot have 0 as the first digit in a number\n",
        "# number = 0110 # this doesn't work"
      ],
      "metadata": {
        "id": "Cjw4LtNa2sGR"
      },
      "execution_count": null,
      "outputs": []
    },
    {
      "cell_type": "code",
      "source": [
        "# 21. You can use the underscore character anywhere in the name of a variable\n",
        "a______b = \"abcd\"  # this works\n",
        "_a_b_c_d = \"abcd\"  # this also works"
      ],
      "metadata": {
        "id": "jyrFRq2p2uJI"
      },
      "execution_count": null,
      "outputs": []
    },
    {
      "cell_type": "code",
      "source": [
        "# 22. You can separate big numbers with the underscore\n",
        "# This way it can be easier to read them.\n",
        "\n",
        "print(1_000_000_000)  # 1000000000\n",
        "print(1_234_567)  # 1234567"
      ],
      "metadata": {
        "colab": {
          "base_uri": "https://localhost:8080/"
        },
        "id": "o2OE1vR-2zN_",
        "outputId": "02e07e2c-1156-4b9c-c8cc-6f20304e11d6"
      },
      "execution_count": null,
      "outputs": [
        {
          "output_type": "stream",
          "name": "stdout",
          "text": [
            "1000000000\n",
            "1234567\n"
          ]
        }
      ]
    },
    {
      "cell_type": "code",
      "source": [
        "# 23. Reverse the ordering of a list\n",
        "\n",
        "my_list = ['a', 'b', 'c', 'd']\n",
        "my_list.reverse()\n",
        "print(my_list)  # ['d', 'c', 'b', 'a']"
      ],
      "metadata": {
        "colab": {
          "base_uri": "https://localhost:8080/"
        },
        "id": "JxkA-Y_V22Jw",
        "outputId": "2c7212fc-e912-4bc1-f94c-7a28b6d14d0d"
      },
      "execution_count": null,
      "outputs": [
        {
          "output_type": "stream",
          "name": "stdout",
          "text": [
            "['d', 'c', 'b', 'a']\n"
          ]
        }
      ]
    },
    {
      "cell_type": "code",
      "source": [
        "# 24. Slice a string using a step function\n",
        "my_string = \"This is just a sentence\"\n",
        "print(my_string[0:5])  # This\n",
        "\n",
        "# Take three steps forward\n",
        "print(my_string[0:10:3])  # Tsse"
      ],
      "metadata": {
        "colab": {
          "base_uri": "https://localhost:8080/"
        },
        "id": "efCo5Q7L25DZ",
        "outputId": "2f41bd5a-e546-4ebc-f1de-5d7afcad78f5"
      },
      "execution_count": null,
      "outputs": [
        {
          "output_type": "stream",
          "name": "stdout",
          "text": [
            "This \n",
            "Tssu\n"
          ]
        }
      ]
    },
    {
      "cell_type": "code",
      "source": [
        "# 25. Reverse slicing\n",
        "my_string = \"This is just a sentence\"\n",
        "print(my_string[10:0:-1])  # suj si sih\n",
        "\n",
        "# Take two steps forward\n",
        "print(my_string[10:0:-2])  # sjs i"
      ],
      "metadata": {
        "colab": {
          "base_uri": "https://localhost:8080/"
        },
        "id": "rJ-PkBTI3ImK",
        "outputId": "ee333235-8427-4de8-eec3-c7d8f0fa873c"
      },
      "execution_count": null,
      "outputs": [
        {
          "output_type": "stream",
          "name": "stdout",
          "text": [
            "suj si sih\n",
            "sjs i\n"
          ]
        }
      ]
    },
    {
      "cell_type": "code",
      "source": [
        "# 26. Partial Slicing with just the beginning or ending index\n",
        "my_string = \"This is just a sentence\"\n",
        "print(my_string[4:])  # is just a sentence\n",
        "\n",
        "print(my_string[:3])  # Thi"
      ],
      "metadata": {
        "colab": {
          "base_uri": "https://localhost:8080/"
        },
        "id": "cUA_w91j3K4o",
        "outputId": "27271aac-93dd-4f1f-a9ad-69a6883615aa"
      },
      "execution_count": null,
      "outputs": [
        {
          "output_type": "stream",
          "name": "stdout",
          "text": [
            " is just a sentence\n",
            "Thi\n"
          ]
        }
      ]
    },
    {
      "cell_type": "code",
      "source": [
        "# 27. Floor division\n",
        "print(3 / 2)  # 1.5\n",
        "print(3 // 2)  # 1"
      ],
      "metadata": {
        "colab": {
          "base_uri": "https://localhost:8080/"
        },
        "id": "KdeIEejd3X_5",
        "outputId": "a77a02ea-114f-4c39-edad-0739ebcf0305"
      },
      "execution_count": null,
      "outputs": [
        {
          "output_type": "stream",
          "name": "stdout",
          "text": [
            "1.5\n",
            "1\n"
          ]
        }
      ]
    },
    {
      "cell_type": "code",
      "source": [
        "# 28. Difference between == and “is”\n",
        "# “is” checks whether 2 variables are pointing to the same object in memory.\n",
        "# “==” compares the equality of values that these 2 objects hold.\n",
        "\n",
        "first_list = [1, 2, 3]\n",
        "second_list = [1, 2, 3]\n",
        "\n",
        "# Is their actual value the same?\n",
        "print(first_list == second_list)  # True\n",
        "\n",
        "# Are they pointing to the same object in memory\n",
        "print(first_list is second_list)\n",
        "# False, since they have same values, but in different objects in memory\n",
        "\n",
        "third_list = first_list\n",
        "\n",
        "print(third_list is first_list)\n",
        "# True, since both point to the same object in memory"
      ],
      "metadata": {
        "colab": {
          "base_uri": "https://localhost:8080/"
        },
        "id": "_-0I0Fgk3bOK",
        "outputId": "144ed3eb-13b3-45c0-ce00-12be70ce9c1a"
      },
      "execution_count": null,
      "outputs": [
        {
          "output_type": "stream",
          "name": "stdout",
          "text": [
            "True\n",
            "False\n",
            "True\n"
          ]
        }
      ]
    },
    {
      "cell_type": "code",
      "source": [
        "# 29. Merge 2 dictionaries quickly\n",
        "dictionary_one = {\"a\": 1, \"b\": 2}\n",
        "dictionary_two = {\"c\": 3, \"d\": 4}\n",
        "\n",
        "merged = {**dictionary_one, **dictionary_two}\n",
        "\n",
        "print(merged)  # {'a': 1, 'b': 2, 'c': 3, 'd': 4}"
      ],
      "metadata": {
        "colab": {
          "base_uri": "https://localhost:8080/"
        },
        "id": "Sc22kMho3sRS",
        "outputId": "54422457-f69c-4e05-e92d-403d8b938be7"
      },
      "execution_count": null,
      "outputs": [
        {
          "output_type": "stream",
          "name": "stdout",
          "text": [
            "{'a': 1, 'b': 2, 'c': 3, 'd': 4}\n"
          ]
        }
      ]
    },
    {
      "cell_type": "code",
      "source": [
        "# 30. Check whether a string is larger than another string\n",
        "first = \"abc\"\n",
        "second = \"def\"\n",
        "print(first < second)  # True\n",
        "second = \"ab\"\n",
        "print(first < second)  # False"
      ],
      "metadata": {
        "colab": {
          "base_uri": "https://localhost:8080/"
        },
        "id": "73dKnkyH30f0",
        "outputId": "24a72428-403d-479d-a457-bf87257062c0"
      },
      "execution_count": null,
      "outputs": [
        {
          "output_type": "stream",
          "name": "stdout",
          "text": [
            "True\n",
            "False\n"
          ]
        }
      ]
    },
    {
      "cell_type": "code",
      "source": [
        "# 31. Check whether a string starts with a particular character without using the index 0\n",
        "my_string = \"abcdef\"\n",
        "print(my_string.startswith(\"b\"))  # False"
      ],
      "metadata": {
        "colab": {
          "base_uri": "https://localhost:8080/"
        },
        "id": "KbjpCYe64A7b",
        "outputId": "81f6632d-9e76-40ff-c6fb-88973c35b710"
      },
      "execution_count": null,
      "outputs": [
        {
          "output_type": "stream",
          "name": "stdout",
          "text": [
            "False\n"
          ]
        }
      ]
    },
    {
      "cell_type": "code",
      "source": [
        "# 32. Find the unique id of a variable using id()\n",
        "print(id(1))  # 139756189194544\n",
        "print(id(2))  # 139756189194576\n",
        "print(id(\"string\"))  # 139756187036656"
      ],
      "metadata": {
        "colab": {
          "base_uri": "https://localhost:8080/"
        },
        "id": "E7e2ScmA4Ilz",
        "outputId": "94212ad3-2180-4e13-85bc-cb7b676f345f"
      },
      "execution_count": null,
      "outputs": [
        {
          "output_type": "stream",
          "name": "stdout",
          "text": [
            "11256064\n",
            "11256096\n",
            "140321215172528\n"
          ]
        }
      ]
    },
    {
      "cell_type": "code",
      "source": [
        "# 33. Integers, floats, strings, booleans, and tuples are immutable\n",
        "# When we assign a variable to an immutable type such as integers, floats, strings, booleans, and tuples, then this variable points to an object in memory.\n",
        "# In case we assign to that variable another value, the original object is still in memory, but the variable pointing to it is lost:\n",
        "\n",
        "number = 1\n",
        "print(id(number))  # 139756189194544\n",
        "print(id(1))  # 139756189194544\n",
        "\n",
        "number = 3\n",
        "print(id(number))  # 139756189194608\n",
        "print(id(1))  # 139756189194544"
      ],
      "metadata": {
        "colab": {
          "base_uri": "https://localhost:8080/"
        },
        "id": "X_B2VOK64P9S",
        "outputId": "06457218-6bfd-485e-d73d-9eaaaa662665"
      },
      "execution_count": null,
      "outputs": [
        {
          "output_type": "stream",
          "name": "stdout",
          "text": [
            "11256064\n",
            "11256064\n",
            "11256128\n",
            "11256064\n"
          ]
        }
      ]
    },
    {
      "cell_type": "code",
      "source": [
        "# 34. Strings and tuples are immutable\n",
        "\n",
        "name = \"Fatos\"\n",
        "print(id(name))  # 4422282544\n",
        "name = \"fatos\"\n",
        "print(id(name))  # 4422346608\n",
        "\n",
        "my_tuple = (1, 2, 3, 4)\n",
        "print(id(my_tuple))  # 4499290128\n",
        "\n",
        "my_tuple = ('a', 'b')\n",
        "print(id(my_tuple))  # 4498867584"
      ],
      "metadata": {
        "colab": {
          "base_uri": "https://localhost:8080/"
        },
        "id": "64gKWR5F4pbT",
        "outputId": "b1f26edf-489c-4364-ccf6-3147d9cfd9be"
      },
      "execution_count": null,
      "outputs": [
        {
          "output_type": "stream",
          "name": "stdout",
          "text": [
            "140320808728752\n",
            "140320808670640\n",
            "140320808811600\n",
            "140320809718480\n"
          ]
        }
      ]
    },
    {
      "cell_type": "code",
      "source": [
        "# 35. Lists, sets, and dictionaries are mutable\n",
        "# This means that we can change the object without losing binding to it:\n",
        "cities = [\"Munich\", \"Zurich\", \"London\"]\n",
        "print(id(cities))  # 4482699712\n",
        "\n",
        "cities.append(\"Berlin\")\n",
        "print(id(cities))  # 4482699712\n",
        "\n",
        "my_set = {1, 2, 3, 4}\n",
        "print(id(my_set))  # 4352726176\n",
        "my_set.add(5)\n",
        "print(id(my_set))  # 4352726176"
      ],
      "metadata": {
        "colab": {
          "base_uri": "https://localhost:8080/"
        },
        "id": "2iIfdy7G5MqN",
        "outputId": "bec478b2-94d1-4d72-b7b4-1529942a266d"
      },
      "execution_count": null,
      "outputs": [
        {
          "output_type": "stream",
          "name": "stdout",
          "text": [
            "140320808760896\n",
            "140320808760896\n",
            "140320881260016\n",
            "140320881260016\n"
          ]
        }
      ]
    },
    {
      "cell_type": "code",
      "source": [
        "# 36. You can turn a set into an immutable set\n",
        "my_set = frozenset(['a', 'b', 'c', 'd'])\n",
        "# my_set.add(\"a\") # Error"
      ],
      "metadata": {
        "id": "Mv5AQB0R5sUg"
      },
      "execution_count": null,
      "outputs": []
    },
    {
      "cell_type": "code",
      "source": [
        "# 37. An “if-elif” block can exist without the else block at the end\n",
        "\n",
        "\n",
        "def check_number(number):\n",
        "    if number > 0:\n",
        "        return \"Positive\"\n",
        "    elif number == 0:\n",
        "        return \"Zero\"\n",
        "\n",
        "    return \"Negative\"\n",
        "\n",
        "\n",
        "print(check_number(1))  # Positive"
      ],
      "metadata": {
        "colab": {
          "base_uri": "https://localhost:8080/"
        },
        "id": "VJYvG_q05zOI",
        "outputId": "ae3be0b7-5e0b-482c-b5ae-93f220d66ab2"
      },
      "execution_count": null,
      "outputs": [
        {
          "output_type": "stream",
          "name": "stdout",
          "text": [
            "Positive\n"
          ]
        }
      ]
    },
    {
      "cell_type": "code",
      "source": [
        "# 38. Check whether 2 strings are anagrams using sorted()\n",
        "\n",
        "\n",
        "def check_if_anagram(first_word, second_word):\n",
        "    first_word = first_word.lower()\n",
        "    second_word = second_word.lower()\n",
        "    return sorted(first_word) == sorted(second_word)\n",
        "\n",
        "\n",
        "print(check_if_anagram(\"testinG\", \"Testing\"))  # True\n",
        "print(check_if_anagram(\"Here\", \"Rehe\"))  # True\n",
        "print(check_if_anagram(\"Know\", \"Now\"))  # False"
      ],
      "metadata": {
        "colab": {
          "base_uri": "https://localhost:8080/"
        },
        "id": "Nx51g0Ra6Mbi",
        "outputId": "eff06edd-841b-4fed-8733-f56295b99b02"
      },
      "execution_count": null,
      "outputs": [
        {
          "output_type": "stream",
          "name": "stdout",
          "text": [
            "True\n",
            "True\n",
            "False\n"
          ]
        }
      ]
    },
    {
      "cell_type": "code",
      "source": [
        "# 39. Get the value of a character in Unicode\n",
        "print(ord(\"A\"))  # 65\n",
        "print(ord(\"B\"))  # 66\n",
        "print(ord(\"C\"))  # 66\n",
        "print(ord(\"a\"))  # 97"
      ],
      "metadata": {
        "colab": {
          "base_uri": "https://localhost:8080/"
        },
        "id": "XVI50mPg6j80",
        "outputId": "c6e50a1b-9dc3-41f9-8760-279bbb4726aa"
      },
      "execution_count": null,
      "outputs": [
        {
          "output_type": "stream",
          "name": "stdout",
          "text": [
            "65\n",
            "66\n",
            "67\n",
            "97\n"
          ]
        }
      ]
    },
    {
      "cell_type": "code",
      "source": [
        "# 40. Get keys of a dictionary in a single line\n",
        "dictionary = {\"a\": 1, \"b\": 2, \"c\": 3}\n",
        "\n",
        "keys = dictionary.keys()\n",
        "\n",
        "print(list(keys))  # ['a', 'b', 'c']"
      ],
      "metadata": {
        "colab": {
          "base_uri": "https://localhost:8080/"
        },
        "id": "TWRoOpSZ6nEL",
        "outputId": "790a4638-8643-4305-9e2c-5735215352d2"
      },
      "execution_count": null,
      "outputs": [
        {
          "output_type": "stream",
          "name": "stdout",
          "text": [
            "['a', 'b', 'c']\n"
          ]
        }
      ]
    },
    {
      "cell_type": "code",
      "source": [
        "# 41. Get values of a dictionary in a single line\n",
        "\n",
        "dictionary = {\"a\": 1, \"b\": 2, \"c\": 3}\n",
        "\n",
        "values = dictionary.values()\n",
        "\n",
        "print(list(values))  # [1, 2, 3]"
      ],
      "metadata": {
        "colab": {
          "base_uri": "https://localhost:8080/"
        },
        "id": "frVRaW_b6uab",
        "outputId": "1b54b203-2c0e-4daa-93f3-312823eb81e1"
      },
      "execution_count": null,
      "outputs": [
        {
          "output_type": "stream",
          "name": "stdout",
          "text": [
            "[1, 2, 3]\n"
          ]
        }
      ]
    },
    {
      "cell_type": "code",
      "source": [
        "# 42. Swap keys and values of a dictionary\n",
        "\n",
        "dictionary = {\"a\": 1, \"b\": 2, \"c\": 3}\n",
        "\n",
        "reversed_dictionary = {j: i for i, j in dictionary.items()}\n",
        "\n",
        "print(reversed_dictionary)  # {1: 'a', 2: 'b', 3: 'c'}"
      ],
      "metadata": {
        "id": "CYmIzXnr60cc"
      },
      "execution_count": null,
      "outputs": []
    },
    {
      "cell_type": "code",
      "source": [
        "# 43. You can convert a boolean value into a number\n",
        "print(int(False))  # 0\n",
        "print(float(True))  # 1.0\n"
      ],
      "metadata": {
        "colab": {
          "base_uri": "https://localhost:8080/"
        },
        "id": "wBmkqX5o69t1",
        "outputId": "c4715224-17d0-451d-8805-658dbb88a3e5"
      },
      "execution_count": null,
      "outputs": [
        {
          "output_type": "stream",
          "name": "stdout",
          "text": [
            "0\n",
            "1.0\n"
          ]
        }
      ]
    },
    {
      "cell_type": "code",
      "source": [
        "# 44. You can use boolean values in arithmetic operations\n",
        "x = 10\n",
        "y = 12\n",
        "result = (x - False) / (y * True)\n",
        "print(result)  # 0.8333333333333334"
      ],
      "metadata": {
        "colab": {
          "base_uri": "https://localhost:8080/"
        },
        "id": "AvTn8gXe7CbN",
        "outputId": "eb5bcea5-ffb6-49b0-c32f-094b0e235a35"
      },
      "execution_count": null,
      "outputs": [
        {
          "output_type": "stream",
          "name": "stdout",
          "text": [
            "0.8333333333333334\n"
          ]
        }
      ]
    },
    {
      "cell_type": "code",
      "source": [
        "# 45. You can convert any data type into a boolean value\n",
        "print(bool(.0))  # False\n",
        "print(bool(3))  # True\n",
        "print(bool(\"-\"))  # True\n",
        "print(bool(\"string\"))  # True\n",
        "print(bool(\" \"))  # True"
      ],
      "metadata": {
        "id": "80WBBUCh7KrH"
      },
      "execution_count": null,
      "outputs": []
    },
    {
      "cell_type": "code",
      "source": [
        "# 46. Convert a value into a complex number\n",
        "print(complex(10, 2))  # (10+2j)\n",
        "# You can also convert a number into a hexadecimal number:\n",
        "print(hex(11))  # 0xb"
      ],
      "metadata": {
        "colab": {
          "base_uri": "https://localhost:8080/"
        },
        "id": "AHRmk5cd7cYf",
        "outputId": "0e9b6975-91d4-4e35-8311-c03cd711ad8d"
      },
      "execution_count": null,
      "outputs": [
        {
          "output_type": "stream",
          "name": "stdout",
          "text": [
            "(10+2j)\n",
            "0xb\n"
          ]
        }
      ]
    },
    {
      "cell_type": "code",
      "source": [
        "# 47. Add a value in the first position in a list\n",
        "# If you use append(), you are going to insert new values from the right.\n",
        "# We can also use insert() to specify the index and the element where we want to insert this new element.\n",
        "# In our case, we want to insert it in the first position, so we use 0 as the index:\n",
        "\n",
        "my_list = [3, 4, 5]\n",
        "\n",
        "my_list.append(6)\n",
        "my_list.insert(0, 2)\n",
        "print(my_list)  # [2, 3, 4, 5, 6]\n"
      ],
      "metadata": {
        "colab": {
          "base_uri": "https://localhost:8080/"
        },
        "id": "AN63PkTs7e8-",
        "outputId": "e7a63c56-d9c2-4575-f4ac-1b80b77bb63c"
      },
      "execution_count": null,
      "outputs": [
        {
          "output_type": "stream",
          "name": "stdout",
          "text": [
            "[2, 3, 4, 5, 6]\n"
          ]
        }
      ]
    },
    {
      "cell_type": "code",
      "source": [
        "# 48. Lambda functions can only be in one line\n",
        "\n",
        "# comparison = lambda x: if x > 3:\n",
        "#                     print(\"x > 3\")\n",
        "#                 else:\n",
        "#                     print(\"x is not greater than 3\")\n",
        "\n",
        "# result = lambda x: if x > 3:"
      ],
      "metadata": {
        "id": "Sca7Pu377qzf"
      },
      "execution_count": null,
      "outputs": []
    },
    {
      "cell_type": "code",
      "source": [
        "# 49. Conditionals statements in lambda should always include the “else” part\n",
        "\n",
        "# comparison = lambda x: \"x > 3\" if x > 3"
      ],
      "metadata": {
        "id": "DspuYmJk7yu4"
      },
      "execution_count": null,
      "outputs": []
    },
    {
      "cell_type": "code",
      "source": [
        "# 50. filter() returns a new object\n",
        "my_list = [1, 2, 3, 4]\n",
        "\n",
        "odd = filter(lambda x: x % 2 == 1, my_list)\n",
        "\n",
        "print(list(odd))   # [1, 3]\n",
        "print(my_list)  # [1, 2, 3, 4]"
      ],
      "metadata": {
        "colab": {
          "base_uri": "https://localhost:8080/"
        },
        "id": "i_dMqa3_76nQ",
        "outputId": "a01f7c50-cc28-4d6b-d12e-81a34a9f7c7c"
      },
      "execution_count": null,
      "outputs": [
        {
          "output_type": "stream",
          "name": "stdout",
          "text": [
            "[1, 3]\n",
            "[1, 2, 3, 4]\n"
          ]
        }
      ]
    },
    {
      "cell_type": "code",
      "source": [
        "# 51. map() returns a new object\n",
        "\n",
        "my_list = [1, 2, 3, 4]\n",
        "\n",
        "squared = map(lambda x: x ** 2, my_list)\n",
        "\n",
        "print(list(squared))   # [1, 4, 9, 16]\n",
        "print(my_list)  # [1, 2, 3, 4]"
      ],
      "metadata": {
        "colab": {
          "base_uri": "https://localhost:8080/"
        },
        "id": "QEIRCoYq8K6Q",
        "outputId": "31226dd2-a51f-470a-e532-85cc12ad2969"
      },
      "execution_count": null,
      "outputs": [
        {
          "output_type": "stream",
          "name": "stdout",
          "text": [
            "[1, 4, 9, 16]\n",
            "[1, 2, 3, 4]\n"
          ]
        }
      ]
    },
    {
      "cell_type": "code",
      "source": [
        "# 52. range() includes a step parameter that may not be known that much\n",
        "for number in range(1, 10, 3):\n",
        "    print(number, end=\" \")\n",
        "# 1 4 7"
      ],
      "metadata": {
        "colab": {
          "base_uri": "https://localhost:8080/"
        },
        "id": "YQxQUaTT8NRl",
        "outputId": "da4a3966-7abb-4a1e-e2b2-ee20de0c8827"
      },
      "execution_count": null,
      "outputs": [
        {
          "output_type": "stream",
          "name": "stdout",
          "text": [
            "1 4 7 "
          ]
        }
      ]
    },
    {
      "cell_type": "code",
      "source": [
        "# 53. range() starts by default at 0\n",
        "\n",
        "\n",
        "def range_with_zero(number):\n",
        "    for i in range(0, number):\n",
        "        print(i, end=' ')\n",
        "\n",
        "\n",
        "def range_with_no_zero(number):\n",
        "    for i in range(number):\n",
        "        print(i, end=' ')\n",
        "\n",
        "\n",
        "range_with_zero(3)  # 0 1 2\n",
        "range_with_no_zero(3)  # 0 1 2"
      ],
      "metadata": {
        "colab": {
          "base_uri": "https://localhost:8080/"
        },
        "id": "hcNar6Ao8cCq",
        "outputId": "d14aae71-f11f-4701-d185-e88f109b07ef"
      },
      "execution_count": null,
      "outputs": [
        {
          "output_type": "stream",
          "name": "stdout",
          "text": [
            "0 1 2 0 1 2 "
          ]
        }
      ]
    },
    {
      "cell_type": "code",
      "source": [
        "# 54. You don’t need to compare the length with 0\n",
        "\n",
        "\n",
        "def get_element_with_comparison(my_list):\n",
        "    if len(my_list) > 0:\n",
        "        return my_list[0]\n",
        "\n",
        "\n",
        "def get_first_element(my_list):\n",
        "    if len(my_list):\n",
        "        return my_list[0]\n",
        "\n",
        "\n",
        "elements = [1, 2, 3, 4]\n",
        "first_result = get_element_with_comparison(elements)\n",
        "second_result = get_first_element(elements)\n",
        "\n",
        "print(first_result == second_result)  # True"
      ],
      "metadata": {
        "colab": {
          "base_uri": "https://localhost:8080/"
        },
        "id": "FpRuxIn88v3B",
        "outputId": "dd4260a1-a429-435c-b872-f589ba06a11d"
      },
      "execution_count": null,
      "outputs": [
        {
          "output_type": "stream",
          "name": "stdout",
          "text": [
            "True\n"
          ]
        }
      ]
    },
    {
      "cell_type": "code",
      "source": [
        "# 55. You can define the same method multiple times inside the same scope\n",
        "# However, only the last one is called, since it overrides previous ones.\n",
        "\n",
        "\n",
        "def get_address():\n",
        "    return \"First address\"\n",
        "\n",
        "\n",
        "def get_address():\n",
        "    return \"Second address\"\n",
        "\n",
        "\n",
        "def get_address():\n",
        "    return \"Third address\"\n",
        "\n",
        "\n",
        "print(get_address())  # Third address"
      ],
      "metadata": {
        "colab": {
          "base_uri": "https://localhost:8080/"
        },
        "id": "9hw7LShy9HeS",
        "outputId": "4657a282-7e08-4ad2-d869-8c5c92ddbef5"
      },
      "execution_count": null,
      "outputs": [
        {
          "output_type": "stream",
          "name": "stdout",
          "text": [
            "Third address\n"
          ]
        }
      ]
    },
    {
      "cell_type": "code",
      "source": [
        "# 56. You can access private properties even outside their intended scope\n",
        "\n",
        "\n",
        "class Engineer:\n",
        "    def __init__(self, name):\n",
        "        self.name = name\n",
        "        self.__starting_salary = 62000\n",
        "\n",
        "\n",
        "dain = Engineer('Dain')\n",
        "print(dain._Engineer__starting_salary)  # 62000"
      ],
      "metadata": {
        "id": "HQt7iVlm-L31"
      },
      "execution_count": null,
      "outputs": []
    },
    {
      "cell_type": "code",
      "source": [
        "# 57. Check the memory usage of an object\n",
        "import sys\n",
        "\n",
        "print(sys.getsizeof(\"bitcoin\"))  # 56"
      ],
      "metadata": {
        "colab": {
          "base_uri": "https://localhost:8080/"
        },
        "id": "3gHVeEqy-f76",
        "outputId": "76661770-d6a7-4529-b527-c6308f9b1aec"
      },
      "execution_count": null,
      "outputs": [
        {
          "output_type": "stream",
          "name": "stdout",
          "text": [
            "56\n"
          ]
        }
      ]
    },
    {
      "cell_type": "code",
      "source": [
        "# 58. You can define a method that can be called with as many parameters as you want\n",
        "\n",
        "\n",
        "def get_sum(*arguments):\n",
        "    result = 0\n",
        "    for i in arguments:\n",
        "        result += i\n",
        "    return result\n",
        "\n",
        "\n",
        "print(get_sum(1, 2, 3))  # 6\n",
        "print(get_sum(1, 2, 3, 4, 5))  # 15\n",
        "print(get_sum(1, 2, 3, 4, 5, 6, 7))  # 28"
      ],
      "metadata": {
        "colab": {
          "base_uri": "https://localhost:8080/"
        },
        "id": "0gBitDel-s1b",
        "outputId": "f9516f32-9c1d-4438-e7bc-d998b5bd916d"
      },
      "execution_count": null,
      "outputs": [
        {
          "output_type": "stream",
          "name": "stdout",
          "text": [
            "6\n",
            "15\n",
            "28\n"
          ]
        }
      ]
    },
    {
      "cell_type": "code",
      "source": [
        "# 59. You can call the parent class’s initializer using super() or parent class’s name\n",
        "\n",
        "\n",
        "class Parent:\n",
        "    def __init__(self, city, address):\n",
        "        self.city = city\n",
        "        self.address = address\n",
        "\n",
        "\n",
        "class Child(Parent):\n",
        "    def __init__(self, city, address, university):\n",
        "        super().__init__(city, address)\n",
        "        self.university = university\n",
        "\n",
        "\n",
        "child = Child('Zürich', 'Rämistrasse 101', 'ETH Zürich')\n",
        "print(child.university)  # ETH Zürich\n",
        "\n",
        "# Note that calls to parent initializers using __init__() and super() can only be used inside the child class’s initializer.\n"
      ],
      "metadata": {
        "id": "AAt2np2h-xrb"
      },
      "execution_count": null,
      "outputs": []
    },
    {
      "cell_type": "code",
      "source": [
        "# 60. You can redefine the “+” operator inside your own classes\n",
        "print(10 + 1)  # Adding two integers using '+'\n",
        "print('first' + 'second')  # Merging two strings '+'\n",
        "\n",
        "\n",
        "class Expenses:\n",
        "    def __init__(self, rent, groceries):\n",
        "        self.rent = rent\n",
        "        self.groceries = groceries\n",
        "\n",
        "    def __add__(self, other):\n",
        "        return Expenses(self.rent + other.rent,\n",
        "                        self.groceries + other.groceries)\n",
        "\n",
        "\n",
        "april_expenses = Expenses(1000, 200)\n",
        "may_expenses = Expenses(1000, 300)\n",
        "\n",
        "total_expenses = april_expenses + may_expenses\n",
        "print(total_expenses.rent)  # 2000\n",
        "print(total_expenses.groceries)  # 500"
      ],
      "metadata": {
        "id": "1_2XLMAW_L0t"
      },
      "execution_count": null,
      "outputs": []
    },
    {
      "cell_type": "code",
      "source": [
        "# 61. You can also redefine the “<” and “==” operators inside your own classes\n",
        "\n",
        "\n",
        "class Game:\n",
        "    def __init__(self, score):\n",
        "        self.score = score\n",
        "\n",
        "    def __lt__(self, other):\n",
        "        return self.score < other.score\n",
        "\n",
        "\n",
        "first = Game(1)\n",
        "second = Game(2)\n",
        "\n",
        "print(first < second)  # True\n",
        "\n",
        "\n",
        "class Journey:\n",
        "    def __init__(self, location, destination, duration):\n",
        "        self.location = location\n",
        "        self.destination = destination\n",
        "        self.duration = duration\n",
        "\n",
        "    def __eq__(self, other):\n",
        "        return ((self.location == other.location) and\n",
        "                (self.destination == other.destination) and\n",
        "                (self.duration == other.duration))\n",
        "\n",
        "\n",
        "first = Journey('Location A', 'Destination A', '30min')\n",
        "second = Journey('Location B', 'Destination B', '30min')\n",
        "\n",
        "print(first == second)\n",
        "\n",
        "# You can also analogously define:\n",
        "# __sub__() for -\n",
        "# __mul__() for *\n",
        "# __truediv__() for /\n",
        "# __ne__() for !=\n",
        "# __ge__() for >=\n",
        "# __gt__() for >\n"
      ],
      "metadata": {
        "colab": {
          "base_uri": "https://localhost:8080/"
        },
        "id": "qRwsGWgO_nNl",
        "outputId": "4e6d06b0-d050-43b3-9395-46f3c4c9ec0e"
      },
      "execution_count": null,
      "outputs": [
        {
          "output_type": "stream",
          "name": "stdout",
          "text": [
            "True\n",
            "False\n"
          ]
        }
      ]
    },
    {
      "cell_type": "code",
      "source": [
        "# 62. You can define a custom printable version for an object of a class\n",
        "\n",
        "\n",
        "class Rectangle:\n",
        "    def __init__(self, a, b):\n",
        "        self.a = a\n",
        "        self.b = b\n",
        "\n",
        "    def __repr__(self):\n",
        "        return repr('Rectangle with area=' + str(self.a * self.b))\n",
        "\n",
        "\n",
        "print(Rectangle(3, 4))  # 'Rectangle with area=12'"
      ],
      "metadata": {
        "colab": {
          "base_uri": "https://localhost:8080/"
        },
        "id": "iy327xbQ_9pe",
        "outputId": "6bcfba12-dc4c-40fe-86e8-0417513826c4"
      },
      "execution_count": null,
      "outputs": [
        {
          "output_type": "stream",
          "name": "stdout",
          "text": [
            "'Rectangle with area=12'\n"
          ]
        }
      ]
    },
    {
      "cell_type": "code",
      "source": [
        "# 63. Swap cases of characters in a string\n",
        "string = \"This is just a sentence.\"\n",
        "result = string.swapcase()\n",
        "print(result)  # tHIS IS JUST A SENTENCE."
      ],
      "metadata": {
        "colab": {
          "base_uri": "https://localhost:8080/"
        },
        "id": "YaMUsZvuAGv1",
        "outputId": "08c32626-3aa5-4c9e-b3c6-06e83413861d"
      },
      "execution_count": null,
      "outputs": [
        {
          "output_type": "stream",
          "name": "stdout",
          "text": [
            "tHIS IS JUST A SENTENCE.\n"
          ]
        }
      ]
    },
    {
      "cell_type": "code",
      "source": [
        "# 64. Check if all characters are white spaces in a string\n",
        "\n",
        "# string = \"  \"\n",
        "string = \"　\"\n",
        "result = string.isspace()\n",
        "print(result)  # True"
      ],
      "metadata": {
        "colab": {
          "base_uri": "https://localhost:8080/"
        },
        "id": "eSfo1sRvAMKv",
        "outputId": "8377697e-bef4-4605-89df-429dcb7376f8"
      },
      "execution_count": null,
      "outputs": [
        {
          "output_type": "stream",
          "name": "stdout",
          "text": [
            "True\n"
          ]
        }
      ]
    },
    {
      "cell_type": "code",
      "source": [
        "# 65. Check if all characters in a string are either alphabets or numbers\n",
        "name = \"Password\"\n",
        "print(name.isalnum())  # True, because all characters are alphabets\n",
        "name = \"Secure Password \"\n",
        "print(name.isalnum())  # False, because it contains whitespaces\n",
        "name = \"S3cur3P4ssw0rd\"\n",
        "print(name.isalnum())  # True\n",
        "name = \"133\"\n",
        "print(name.isalnum())  # True, because all characters are numbers"
      ],
      "metadata": {
        "colab": {
          "base_uri": "https://localhost:8080/"
        },
        "id": "s1T7osgBATVO",
        "outputId": "ae32fb8f-1904-4044-e522-b93b7fad7537"
      },
      "execution_count": null,
      "outputs": [
        {
          "output_type": "stream",
          "name": "stdout",
          "text": [
            "True\n",
            "False\n",
            "True\n",
            "True\n"
          ]
        }
      ]
    },
    {
      "cell_type": "code",
      "source": [
        "# 66. Check if all characters in a string are alphabets\n",
        "\n",
        "string = \"Name\"\n",
        "print(string.isalpha())  # True\n",
        "string = \"Firstname Lastname\"\n",
        "print(string.isalpha())  # False, because it contains whitespace\n",
        "string = \"P4ssw0rd\"\n",
        "print(string.isalpha())  # False, because it contains numbers"
      ],
      "metadata": {
        "colab": {
          "base_uri": "https://localhost:8080/"
        },
        "id": "xpvY3_VbAlhV",
        "outputId": "4d13b690-e26e-4630-cc66-3c439f647ceb"
      },
      "execution_count": null,
      "outputs": [
        {
          "output_type": "stream",
          "name": "stdout",
          "text": [
            "True\n",
            "False\n",
            "False\n"
          ]
        }
      ]
    },
    {
      "cell_type": "code",
      "source": [
        "# 67. Remove characters from the right based on the argument\n",
        "\n",
        "string = \"This is a sentence with       \"\n",
        "# Remove trailing spaces from the right\n",
        "print(string.rstrip())  # \"This is a sentence with\"\n",
        "string = \"this here is a sentence…..,,,,aaaaasd\"\n",
        "print(string.rstrip(\".,dsa\"))  # \"this here is a sentence\"\n",
        "\n",
        "# You can similarly remove characters from the left based on the argument:\n",
        "\n",
        "string = \"ffffffffFirst\"\n",
        "print(string.lstrip(\"f\"))  # First"
      ],
      "metadata": {
        "colab": {
          "base_uri": "https://localhost:8080/"
        },
        "id": "8rzx8KXUApTW",
        "outputId": "dd5fca15-49d3-4aaa-bddd-b5b14b262ba3"
      },
      "execution_count": null,
      "outputs": [
        {
          "output_type": "stream",
          "name": "stdout",
          "text": [
            "This is a sentence with\n",
            "this here is a sentence…\n",
            "First\n"
          ]
        }
      ]
    },
    {
      "cell_type": "code",
      "source": [
        "# 68. Check if a string represents a number\n",
        "\n",
        "string = \"seven\"\n",
        "print(string.isdigit())  # False\n",
        "string = \"1337\"\n",
        "print(string.isdigit())  # True\n",
        "string = \"5a\"\n",
        "print(string.isdigit())  # False, because it contains the character 'a'\n",
        "string = \"2**5\"\n",
        "print(string.isdigit())  # False"
      ],
      "metadata": {
        "colab": {
          "base_uri": "https://localhost:8080/"
        },
        "id": "TzoqjsBLAwhC",
        "outputId": "4682cf00-449a-4e6b-b691-23d6cf57a264"
      },
      "execution_count": null,
      "outputs": [
        {
          "output_type": "stream",
          "name": "stdout",
          "text": [
            "False\n",
            "True\n",
            "False\n",
            "False\n"
          ]
        }
      ]
    },
    {
      "cell_type": "code",
      "source": [
        "# 69. Check if a string represents a Chinese number\n",
        "# 42673 in Arabic numerals\n",
        "string = \"四二六七三\"\n",
        "\n",
        "print(string.isdigit())  # False\n",
        "print(string.isnumeric())  # True"
      ],
      "metadata": {
        "colab": {
          "base_uri": "https://localhost:8080/"
        },
        "id": "Z5f8E7HtAzvw",
        "outputId": "744174da-36bb-4744-9a89-6665475e127a"
      },
      "execution_count": null,
      "outputs": [
        {
          "output_type": "stream",
          "name": "stdout",
          "text": [
            "False\n",
            "True\n"
          ]
        }
      ]
    },
    {
      "cell_type": "code",
      "source": [
        "# 70. Check if a string has all its words starting with an uppercase character\n",
        "string = \"This is a sentence\"\n",
        "print(string.istitle())  # False\n",
        "\n",
        "string = \"10 Python Tips\"\n",
        "print(string.istitle())  # True\n",
        "\n",
        "string = \"How to Print A String in Python\"\n",
        "# False, because of the first characters being lowercase in \"to\" and \"in\"\n",
        "print(string.istitle())\n",
        "\n",
        "string = \"PYTHON\"\n",
        "print(string.istitle())  # False. It's titlelized version is \"Python\""
      ],
      "metadata": {
        "colab": {
          "base_uri": "https://localhost:8080/"
        },
        "id": "pWPk4bM-A4kG",
        "outputId": "6d6181b8-b802-4cab-c019-2340db03aff5"
      },
      "execution_count": null,
      "outputs": [
        {
          "output_type": "stream",
          "name": "stdout",
          "text": [
            "False\n",
            "True\n",
            "False\n",
            "False\n"
          ]
        }
      ]
    },
    {
      "cell_type": "code",
      "source": [
        "# 71. We can use negative indexes in tuples too\n",
        "\n",
        "numbers = (1, 2, 3, 4)\n",
        "\n",
        "print(numbers[-1])  # 4\n",
        "print(numbers[-4])  # 1"
      ],
      "metadata": {
        "colab": {
          "base_uri": "https://localhost:8080/"
        },
        "id": "7uh4i4HKBP0O",
        "outputId": "d739d6b2-8326-4c4c-c4e7-511204b1e531"
      },
      "execution_count": null,
      "outputs": [
        {
          "output_type": "stream",
          "name": "stdout",
          "text": [
            "4\n",
            "1\n"
          ]
        }
      ]
    },
    {
      "cell_type": "code",
      "source": [
        "# 72. Nest a list and a tuple inside a tuple\n",
        "\n",
        "mixed_tuple = ((\"a\" * 10, 3, 4), ['first', 'second', 'third'])\n",
        "\n",
        "print(mixed_tuple[1])  # ['first', 'second', 'third']\n",
        "print(mixed_tuple[0])  # ('aaaaaaaaaa', 3, 4)"
      ],
      "metadata": {
        "colab": {
          "base_uri": "https://localhost:8080/"
        },
        "id": "w9QI0YTnBSgK",
        "outputId": "81319476-2a79-4125-ab5a-47d372cfa1e5"
      },
      "execution_count": null,
      "outputs": [
        {
          "output_type": "stream",
          "name": "stdout",
          "text": [
            "['first', 'second', 'third']\n",
            "('aaaaaaaaaa', 3, 4)\n"
          ]
        }
      ]
    },
    {
      "cell_type": "code",
      "source": [
        "# 73. Quickly count the number of times an element appears in a list that satisfies a condition\n",
        "\n",
        "names = [\"Besim\", \"Albert\", \"Besim\", \"Fisnik\", \"Meriton\"]\n",
        "\n",
        "print(names.count(\"Besim\"))  # 2"
      ],
      "metadata": {
        "colab": {
          "base_uri": "https://localhost:8080/"
        },
        "id": "SxuV6TVkBfVu",
        "outputId": "57579b65-2fe8-4936-eeee-bd464cb7349a"
      },
      "execution_count": null,
      "outputs": [
        {
          "output_type": "stream",
          "name": "stdout",
          "text": [
            "2\n"
          ]
        }
      ]
    },
    {
      "cell_type": "code",
      "source": [
        "# 74. You can easily get the last n elements using slice()\n",
        "\n",
        "my_list = [1, 2, 3, 4, 5, 6, 7, 8, 9, 10]\n",
        "slicing = slice(-4, None)\n",
        "# Getting the last 4 elements from the list\n",
        "print(my_list[slicing])  # [7, 8, 9, 10]\n",
        "# Getting only the third element starting from the right\n",
        "print(my_list[-3])  # 8\n",
        "\n",
        "string = \"Data Science\"\n",
        "# start = 1, stop = None (don't stop anywhere), step = 1\n",
        "# contains 1, 3 and 5 indices\n",
        "slice_object = slice(5, None)\n",
        "print(string[slice_object])   # Science"
      ],
      "metadata": {
        "colab": {
          "base_uri": "https://localhost:8080/"
        },
        "id": "RIeWjAhqBnVu",
        "outputId": "15282401-6d75-4f40-dda6-036aba64d2e7"
      },
      "execution_count": null,
      "outputs": [
        {
          "output_type": "stream",
          "name": "stdout",
          "text": [
            "[7, 8, 9, 10]\n",
            "8\n",
            "Science\n"
          ]
        }
      ]
    },
    {
      "cell_type": "code",
      "source": [
        "# 75. Count the number of times an element appears in a tuple\n",
        "\n",
        "my_tuple = ('a', 1, 'f', 'a', 5, 'a')\n",
        "\n",
        "print(my_tuple.count('a'))  # 3"
      ],
      "metadata": {
        "colab": {
          "base_uri": "https://localhost:8080/"
        },
        "id": "yOkHnE1SBrXe",
        "outputId": "cc92b96d-0fab-4ef8-f1da-85bf59baa578"
      },
      "execution_count": null,
      "outputs": [
        {
          "output_type": "stream",
          "name": "stdout",
          "text": [
            "3\n"
          ]
        }
      ]
    },
    {
      "cell_type": "code",
      "source": [
        "# 76. Get the index of an element in a tuple\n",
        "my_tuple = ('a', 1, 'f', 'a', 5, 'a')\n",
        "print(my_tuple.index('f'))  # 2"
      ],
      "metadata": {
        "colab": {
          "base_uri": "https://localhost:8080/"
        },
        "id": "GkSkazabBuUO",
        "outputId": "9c64a71d-5a93-43f8-d5b4-b6d474ffca88"
      },
      "execution_count": null,
      "outputs": [
        {
          "output_type": "stream",
          "name": "stdout",
          "text": [
            "2\n"
          ]
        }
      ]
    },
    {
      "cell_type": "code",
      "source": [
        "# 77. Get sub-tuples by making jumps\n",
        "my_tuple = (1, 2, 3, 4, 5, 6, 7, 8, 9, 10)\n",
        "print(my_tuple[::3])  # (1, 4, 7, 10)"
      ],
      "metadata": {
        "colab": {
          "base_uri": "https://localhost:8080/"
        },
        "id": "RQ94zSl1BzQG",
        "outputId": "8e92ac2a-42da-408c-aefe-441ab421d76c"
      },
      "execution_count": null,
      "outputs": [
        {
          "output_type": "stream",
          "name": "stdout",
          "text": [
            "(1, 4, 7, 10)\n"
          ]
        }
      ]
    },
    {
      "cell_type": "code",
      "source": [
        "# 78. Get sub-tuples starting from an index\n",
        "my_tuple = (1, 2, 3, 4, 5, 6, 7, 8, 9, 10)\n",
        "print(my_tuple[3:])  # (4, 5, 6, 7, 8, 9, 10)"
      ],
      "metadata": {
        "colab": {
          "base_uri": "https://localhost:8080/"
        },
        "id": "UN6MXOPGB4zA",
        "outputId": "caa43007-56d2-4eb2-9c82-f1ae00ff0d2d"
      },
      "execution_count": null,
      "outputs": [
        {
          "output_type": "stream",
          "name": "stdout",
          "text": [
            "(4, 5, 6, 7, 8, 9, 10)\n"
          ]
        }
      ]
    },
    {
      "cell_type": "code",
      "source": [
        "# 79. Remove all elements from a list, set, or dictionary\n",
        "\n",
        "my_list = [1, 2, 3, 4]\n",
        "my_list.clear()\n",
        "print(my_list)  # []\n",
        "\n",
        "my_set = {1, 2, 3}\n",
        "my_set.clear()\n",
        "print(my_set)  # set()\n",
        "\n",
        "my_dict = {\"a\": 1, \"b\": 2}\n",
        "my_dict.clear()\n",
        "print(my_dict)  # {}"
      ],
      "metadata": {
        "colab": {
          "base_uri": "https://localhost:8080/"
        },
        "id": "PHfu3ANXB8l2",
        "outputId": "178fc1d5-0923-418a-b0d9-10ec7c851c12"
      },
      "execution_count": null,
      "outputs": [
        {
          "output_type": "stream",
          "name": "stdout",
          "text": [
            "[]\n",
            "set()\n",
            "{}\n"
          ]
        }
      ]
    },
    {
      "cell_type": "code",
      "source": [
        "# 80. Join 2 sets\n",
        "first_set = {4, 5, 6}\n",
        "second_set = {1, 2, 3}\n",
        "\n",
        "print(first_set.union(second_set))  # {1, 2, 3, 4, 5, 6}\n",
        "\n",
        "first_set = {4, 5, 6}\n",
        "second_set = {1, 2, 3}\n",
        "\n",
        "first_set.update(second_set)\n",
        "\n",
        "print(first_set)  # {1, 2, 3, 4, 5, 6}"
      ],
      "metadata": {
        "colab": {
          "base_uri": "https://localhost:8080/"
        },
        "id": "GzBb5fjlCE53",
        "outputId": "3414f2eb-2e40-45bc-e19f-25924a64b242"
      },
      "execution_count": null,
      "outputs": [
        {
          "output_type": "stream",
          "name": "stdout",
          "text": [
            "{1, 2, 3, 4, 5, 6}\n",
            "{1, 2, 3, 4, 5, 6}\n"
          ]
        }
      ]
    },
    {
      "cell_type": "code",
      "source": [
        "# 81. Condition inside the print function\n",
        "\n",
        "\n",
        "def is_positive(number):\n",
        "    print(\"Positive\" if number > 0 else \"Negative\")  # Positive\n",
        "\n",
        "\n",
        "is_positive(-3)"
      ],
      "metadata": {
        "colab": {
          "base_uri": "https://localhost:8080/"
        },
        "id": "GKH9rJ8aChO2",
        "outputId": "3c05de5b-cb2f-47d3-cf94-bc6667a21b7e"
      },
      "execution_count": null,
      "outputs": [
        {
          "output_type": "stream",
          "name": "stdout",
          "text": [
            "Negative\n"
          ]
        }
      ]
    },
    {
      "cell_type": "code",
      "source": [
        "# 82. Multiple conditions at a single if-statement\n",
        "math_points = 51\n",
        "biology_points = 78\n",
        "physics_points = 56\n",
        "history_points = 72\n",
        "\n",
        "my_conditions = [math_points > 50, biology_points > 50,\n",
        "                 physics_points > 50, history_points > 50]\n",
        "\n",
        "if all(my_conditions):\n",
        "    print(\"Congratulations! You have passed all of the exams.\")\n",
        "else:\n",
        "    print(\"I am sorry, but it seems that you have to repeat at least one exam.\")\n",
        "# Congratulations! You have passed all of the exams."
      ],
      "metadata": {
        "colab": {
          "base_uri": "https://localhost:8080/"
        },
        "id": "ldYd3uzcClyg",
        "outputId": "3c8fa737-e25b-4a37-df30-1891965aea4f"
      },
      "execution_count": null,
      "outputs": [
        {
          "output_type": "stream",
          "name": "stdout",
          "text": [
            "Congratulations! You have passed all of the exams.\n"
          ]
        }
      ]
    },
    {
      "cell_type": "code",
      "source": [
        "# 83. At least one condition is met out of many in a single if-statement\n",
        "math_points = 51\n",
        "biology_points = 78\n",
        "physics_points = 56\n",
        "history_points = 72\n",
        "\n",
        "my_conditions = [math_points > 50, biology_points > 50,\n",
        "                 physics_points > 50, history_points > 50]\n",
        "\n",
        "if any(my_conditions):\n",
        "    print(\"Congratulations! You have passed all of the exams.\")\n",
        "else:\n",
        "    print(\"I am sorry, but it seems that you have to repeat at least one exam.\")\n",
        "# Congratulations! You have passed all of the exams."
      ],
      "metadata": {
        "colab": {
          "base_uri": "https://localhost:8080/"
        },
        "id": "UWPQlvtwCv-n",
        "outputId": "67842fc7-8c53-4463-925c-a22f21b710da"
      },
      "execution_count": null,
      "outputs": [
        {
          "output_type": "stream",
          "name": "stdout",
          "text": [
            "Congratulations! You have passed all of the exams.\n"
          ]
        }
      ]
    },
    {
      "cell_type": "code",
      "source": [
        "# 84. Any non-empty string is evaluated to True\n",
        "print(bool(\"Non empty\"))  # True\n",
        "print(bool(\"\"))  # False"
      ],
      "metadata": {
        "colab": {
          "base_uri": "https://localhost:8080/"
        },
        "id": "6_IUFACfC5RS",
        "outputId": "005159ee-1d28-4195-b49a-d1c30b29b1cf"
      },
      "execution_count": null,
      "outputs": [
        {
          "output_type": "stream",
          "name": "stdout",
          "text": [
            "True\n",
            "False\n"
          ]
        }
      ]
    },
    {
      "cell_type": "code",
      "source": [
        "# 85. Any non-empty list, tuple, or dictionary is evaluated to True\n",
        "print(bool([]))  # False\n",
        "print(bool(set([])))  # False\n",
        "\n",
        "print(bool({}))  # False\n",
        "print(bool({\"a\": 1}))  # True"
      ],
      "metadata": {
        "colab": {
          "base_uri": "https://localhost:8080/"
        },
        "id": "cvwQK4baC8CZ",
        "outputId": "08a8de4d-d69c-49a3-bd59-0b16488edc33"
      },
      "execution_count": null,
      "outputs": [
        {
          "output_type": "stream",
          "name": "stdout",
          "text": [
            "False\n",
            "False\n",
            "False\n",
            "True\n"
          ]
        }
      ]
    },
    {
      "cell_type": "code",
      "source": [
        "# 86. Other values that evaluate to False are None, “False” and the number 0\n",
        "print(bool(False))  # False\n",
        "print(bool(None))  # False\n",
        "print(bool(0))  # False"
      ],
      "metadata": {
        "colab": {
          "base_uri": "https://localhost:8080/"
        },
        "id": "k8b0ggDyC_qI",
        "outputId": "054b1e44-fc85-4095-90db-ffef96f3fdb0"
      },
      "execution_count": null,
      "outputs": [
        {
          "output_type": "stream",
          "name": "stdout",
          "text": [
            "False\n",
            "False\n",
            "False\n"
          ]
        }
      ]
    },
    {
      "cell_type": "code",
      "source": [
        "# 87. You cannot change the value of a global variable just by mentioning it inside a function\n",
        "\n",
        "string = \"string\"\n",
        "\n",
        "\n",
        "def do_nothing():\n",
        "    string = \"inside a method\"\n",
        "\n",
        "\n",
        "do_nothing()\n",
        "\n",
        "print(string)  # string\n",
        "\n",
        "# You need to use the access modifier global as well:\n",
        "string = \"string\"\n",
        "\n",
        "\n",
        "def do_nothing():\n",
        "    global string\n",
        "    string = \"inside a method\"\n",
        "\n",
        "\n",
        "do_nothing()\n",
        "\n",
        "print(string)  # inside a method"
      ],
      "metadata": {
        "colab": {
          "base_uri": "https://localhost:8080/"
        },
        "id": "KfRmI2E8DDTI",
        "outputId": "b15905e5-fa83-4a97-91c7-bc7f4dd87b6c"
      },
      "execution_count": null,
      "outputs": [
        {
          "output_type": "stream",
          "name": "stdout",
          "text": [
            "string\n",
            "inside a method\n"
          ]
        }
      ]
    },
    {
      "cell_type": "code",
      "source": [
        "# 88. Count the number of elements in a string or list using Counter from “collections”\n",
        "from collections import Counter\n",
        "\n",
        "result = Counter(\"Banana\")\n",
        "print(result)  # Counter({'a': 3, 'n': 2, 'B': 1})\n",
        "\n",
        "\n",
        "result = Counter([1, 2, 1, 3, 1, 4, 1, 5, 1, 6])\n",
        "print(result)  # Counter({1: 5, 2: 1, 3: 1, 4: 1, 5: 1, 6: 1})"
      ],
      "metadata": {
        "colab": {
          "base_uri": "https://localhost:8080/"
        },
        "id": "0vpRLFTODGJY",
        "outputId": "e031dedd-4c1a-422c-9368-6b05bb0ceec3"
      },
      "execution_count": null,
      "outputs": [
        {
          "output_type": "stream",
          "name": "stdout",
          "text": [
            "Counter({'a': 3, 'n': 2, 'B': 1})\n",
            "Counter({1: 5, 2: 1, 3: 1, 4: 1, 5: 1, 6: 1})\n"
          ]
        }
      ]
    },
    {
      "cell_type": "code",
      "source": [
        "# 89. Check if 2 strings are anagrams using Counter\n",
        "\n",
        "from collections import Counter\n",
        "\n",
        "\n",
        "def check_if_anagram(first_string, second_string):\n",
        "    first_string = first_string.lower()\n",
        "    second_string = second_string.lower()\n",
        "    return Counter(first_string) == Counter(second_string)\n",
        "\n",
        "\n",
        "print(check_if_anagram('testinG', 'Testing'))  # True\n",
        "print(check_if_anagram('Here', 'Rehe'))  # True\n",
        "print(check_if_anagram('Know', 'Now'))  # False"
      ],
      "metadata": {
        "colab": {
          "base_uri": "https://localhost:8080/"
        },
        "id": "4jZ047TwDJuo",
        "outputId": "2a160e29-49ce-4666-d75d-ba2df9497cbe"
      },
      "execution_count": null,
      "outputs": [
        {
          "output_type": "stream",
          "name": "stdout",
          "text": [
            "True\n",
            "True\n",
            "False\n"
          ]
        }
      ]
    },
    {
      "cell_type": "code",
      "source": [
        "# 90. Count the number of elements using “count” from “itertools”\n",
        "from itertools import count\n",
        "\n",
        "my_vowels = ['a', 'e', 'i', 'o', 'u', 'A', 'E', 'I', 'O', 'U']\n",
        "\n",
        "current_counter = count()\n",
        "\n",
        "string = \"This is just a sentence.\"\n",
        "\n",
        "for i in string:\n",
        "    if i in my_vowels:\n",
        "        print(f\"Current vowel: {i}\")\n",
        "        print(f\"Number of vowels found so far: {next(current_counter)}\")"
      ],
      "metadata": {
        "colab": {
          "base_uri": "https://localhost:8080/"
        },
        "id": "xePspSd1De85",
        "outputId": "8924f8cd-6320-498e-967b-556f1e8ff702"
      },
      "execution_count": null,
      "outputs": [
        {
          "output_type": "stream",
          "name": "stdout",
          "text": [
            "Current vowel: i\n",
            "Number of vowels found so far: 0\n",
            "Current vowel: i\n",
            "Number of vowels found so far: 1\n",
            "Current vowel: u\n",
            "Number of vowels found so far: 2\n",
            "Current vowel: a\n",
            "Number of vowels found so far: 3\n",
            "Current vowel: e\n",
            "Number of vowels found so far: 4\n",
            "Current vowel: e\n",
            "Number of vowels found so far: 5\n",
            "Current vowel: e\n",
            "Number of vowels found so far: 6\n"
          ]
        }
      ]
    },
    {
      "cell_type": "code",
      "source": [
        "# 91. Sort elements of a string or list based on their frequency\n",
        "from collections import Counter\n",
        "\n",
        "result = Counter([1, 2, 3, 2, 2, 2, 2])\n",
        "print(result)  # Counter({2: 5, 1: 1, 3: 1})\n",
        "print(result.most_common())  # [(2, 5), (1, 1), (3, 1)]"
      ],
      "metadata": {
        "colab": {
          "base_uri": "https://localhost:8080/"
        },
        "id": "wqqzLOMhDlSB",
        "outputId": "0c886107-ca0a-4782-85b7-07f795bf7768"
      },
      "execution_count": null,
      "outputs": [
        {
          "output_type": "stream",
          "name": "stdout",
          "text": [
            "Counter({2: 5, 1: 1, 3: 1})\n",
            "[(2, 5), (1, 1), (3, 1)]\n"
          ]
        }
      ]
    },
    {
      "cell_type": "code",
      "source": [
        "# 92. Find the most frequent element in a list in just one line\n",
        "\n",
        "my_list = ['1', 1, 0, 'a', 'b', 2, 'a', 'c', 'a']\n",
        "\n",
        "print(max(set(my_list), key=my_list.count))  # a"
      ],
      "metadata": {
        "colab": {
          "base_uri": "https://localhost:8080/"
        },
        "id": "XGVumHX1DtGh",
        "outputId": "7a39a725-32cf-4ab8-9d3f-75f89d04ca4b"
      },
      "execution_count": null,
      "outputs": [
        {
          "output_type": "stream",
          "name": "stdout",
          "text": [
            "a\n"
          ]
        }
      ]
    },
    {
      "cell_type": "code",
      "source": [
        "# 93. Difference between copy() and deepcopy()\n",
        "\n",
        "# A shallow copy means constructing a new collection object and then populating it with references to the child objects found in the original.\n",
        "# In essence, a shallow copy is only one level deep.\n",
        "# The copying process does not recurse and therefore won’t create copies of the child objects themselves.\n",
        "# A deep copy makes the copying process recursive.\n",
        "# It means first constructing a new collection object and then recursively populating it with copies of the child objects found in the original.\n",
        "# Copying an object this way walks the whole object tree to create a fully independent clone of the original object and all of its children.\n",
        "\n",
        "first_list = [[1, 2, 3], ['a', 'b', 'c']]\n",
        "\n",
        "second_list = first_list.copy()\n",
        "\n",
        "first_list[0][2] = 831\n",
        "\n",
        "print(first_list)  # [[1, 2, 831], ['a', 'b', 'c']]\n",
        "print(second_list)  # [[1, 2, 831], ['a', 'b', 'c']]\n",
        "\n",
        "import copy\n",
        "\n",
        "first_list = [[1, 2, 3], ['a', 'b', 'c']]\n",
        "\n",
        "second_list = copy.deepcopy(first_list)\n",
        "\n",
        "first_list[0][2] = 831\n",
        "\n",
        "print(first_list)  # [[1, 2, 831], ['a', 'b', 'c']]\n",
        "print(second_list)  # [[1, 2, 3], ['a', 'b', 'c']]"
      ],
      "metadata": {
        "colab": {
          "base_uri": "https://localhost:8080/"
        },
        "id": "7Yr3-ORtDymC",
        "outputId": "21f5fd25-e1ce-45fb-fc65-8266a2953ebd"
      },
      "execution_count": null,
      "outputs": [
        {
          "output_type": "stream",
          "name": "stdout",
          "text": [
            "[[1, 2, 831], ['a', 'b', 'c']]\n",
            "[[1, 2, 831], ['a', 'b', 'c']]\n",
            "[[1, 2, 831], ['a', 'b', 'c']]\n",
            "[[1, 2, 3], ['a', 'b', 'c']]\n"
          ]
        }
      ]
    },
    {
      "cell_type": "code",
      "source": [
        "# 94. You can avoid throwing errors when trying to access a non-existent key in a dictionary\n",
        "# my_dictionary = {\"name\": \"Name\", \"surname\": \"Surname\"}\n",
        "# print(my_dictionary[\"age\"])\n",
        "\n",
        "from collections import defaultdict\n",
        "\n",
        "my_dictonary = defaultdict(str)\n",
        "my_dictonary['name'] = \"Name\"\n",
        "my_dictonary['surname'] = \"Surname\"\n",
        "\n",
        "print(my_dictonary[\"age\"])"
      ],
      "metadata": {
        "colab": {
          "base_uri": "https://localhost:8080/"
        },
        "id": "_SITj-KoENJs",
        "outputId": "6b30cd44-eaa0-4774-a0c9-0d483ec070ba"
      },
      "execution_count": null,
      "outputs": [
        {
          "output_type": "stream",
          "name": "stdout",
          "text": [
            "\n"
          ]
        }
      ]
    },
    {
      "cell_type": "code",
      "source": [
        "# 95. You can build your own iterator\n",
        "\n",
        "\n",
        "class OddNumbers:\n",
        "    def __iter__(self):\n",
        "        self.a = 1\n",
        "        return self\n",
        "\n",
        "    def __next__(self):\n",
        "        x = self.a\n",
        "        self.a += 2\n",
        "        return x\n",
        "\n",
        "\n",
        "odd_numbers_object = OddNumbers()\n",
        "iterator = iter(odd_numbers_object)\n",
        "\n",
        "print(next(iterator))  # 1\n",
        "print(next(iterator))  # 3\n",
        "print(next(iterator))  # 5"
      ],
      "metadata": {
        "colab": {
          "base_uri": "https://localhost:8080/"
        },
        "id": "DPegJYakEa2A",
        "outputId": "5025c331-902e-4aee-f342-eb445fcbec80"
      },
      "execution_count": null,
      "outputs": [
        {
          "output_type": "stream",
          "name": "stdout",
          "text": [
            "1\n",
            "3\n",
            "5\n"
          ]
        }
      ]
    },
    {
      "cell_type": "code",
      "source": [
        "# 96. You can remove duplicates from a list in a single line\n",
        "\n",
        "my_set = set([1, 2, 1, 2, 3, 4, 5])\n",
        "print(list(my_set))  # [1, 2, 3, 4, 5]"
      ],
      "metadata": {
        "colab": {
          "base_uri": "https://localhost:8080/"
        },
        "id": "o0ld86pyEeUb",
        "outputId": "92cbcc05-dfa8-42f3-bad2-c9968a96143c"
      },
      "execution_count": null,
      "outputs": [
        {
          "output_type": "stream",
          "name": "stdout",
          "text": [
            "[1, 2, 3, 4, 5]\n"
          ]
        }
      ]
    },
    {
      "cell_type": "code",
      "source": [
        "# 97. Print the place where a module is located\n",
        "\n",
        "# import torch\n",
        "\n",
        "# print(torch)  # <module 'torch' from '/Users/...'"
      ],
      "metadata": {
        "id": "7eyZPCkFEg7s"
      },
      "execution_count": null,
      "outputs": []
    },
    {
      "cell_type": "code",
      "source": [
        "# 98. You can check whether a value is not part of a list using “not in”\n",
        "odd_numbers = [1, 3, 5, 7, 9]\n",
        "even_numbers = []\n",
        "\n",
        "for i in range(9):\n",
        "    if i not in odd_numbers:\n",
        "        even_numbers.append(i)\n",
        "\n",
        "print(even_numbers)  # [0, 2, 4, 6, 8]"
      ],
      "metadata": {
        "colab": {
          "base_uri": "https://localhost:8080/"
        },
        "id": "xLqtv7qIEsFa",
        "outputId": "f218ae6d-b33e-4e57-fa81-358eca535cf5"
      },
      "execution_count": null,
      "outputs": [
        {
          "output_type": "stream",
          "name": "stdout",
          "text": [
            "[0, 2, 4, 6, 8]\n"
          ]
        }
      ]
    },
    {
      "cell_type": "code",
      "source": [
        "# 99. Difference between sort() and sorted()\n",
        "# sort() sorts the original list.\n",
        "# sorted() returns a new sorted list.\n",
        "groceries = ['milk', 'bread', 'tea']\n",
        "\n",
        "new_groceries = sorted(groceries)\n",
        "# new_groceries = ['bread', 'milk', 'tea']\n",
        "\n",
        "print(new_groceries)\n",
        "\n",
        "# groceries = ['milk', 'bread', 'tea']\n",
        "print(groceries)\n",
        "\n",
        "groceries.sort()\n",
        "\n",
        "# groceries = ['bread', 'milk', 'tea']\n",
        "print(groceries)"
      ],
      "metadata": {
        "colab": {
          "base_uri": "https://localhost:8080/"
        },
        "id": "ZK8zGP6mEz_1",
        "outputId": "cbb7090e-5627-4881-d41e-bad1de801114"
      },
      "execution_count": null,
      "outputs": [
        {
          "output_type": "stream",
          "name": "stdout",
          "text": [
            "['bread', 'milk', 'tea']\n",
            "['milk', 'bread', 'tea']\n",
            "['bread', 'milk', 'tea']\n"
          ]
        }
      ]
    },
    {
      "cell_type": "code",
      "source": [
        "# 100. Generate unique IDs using the uuid module\n",
        "import uuid\n",
        "\n",
        "# Generate a UUID from a host ID, sequence number, and the current time\n",
        "print(uuid.uuid1())  # 308490b6-afe4-11eb-95f7-0c4de9a0c5af\n",
        "\n",
        "# Generate a random UUID\n",
        "print(uuid.uuid4())  # 93bc700b-253e-4081-a358-24b60591076a"
      ],
      "metadata": {
        "colab": {
          "base_uri": "https://localhost:8080/"
        },
        "id": "UxRuZwVsFJnq",
        "outputId": "711d9cc4-5ffe-4b6a-bbeb-8816801db6d0"
      },
      "execution_count": null,
      "outputs": [
        {
          "output_type": "stream",
          "name": "stdout",
          "text": [
            "3949d0e2-eb8b-11ec-93df-0242ac1c0002\n",
            "ff8f538b-6124-4223-837e-2a859242f1e4\n"
          ]
        }
      ]
    }
  ]
}