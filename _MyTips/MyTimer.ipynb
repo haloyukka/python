{
  "nbformat": 4,
  "nbformat_minor": 0,
  "metadata": {
    "colab": {
      "name": "MyTimer.ipynb",
      "provenance": [],
      "collapsed_sections": [],
      "authorship_tag": "ABX9TyPCYPEU1WMXTAgfV9KEIE1o",
      "include_colab_link": true
    },
    "kernelspec": {
      "name": "python3",
      "display_name": "Python 3"
    },
    "language_info": {
      "name": "python"
    }
  },
  "cells": [
    {
      "cell_type": "markdown",
      "metadata": {
        "id": "view-in-github",
        "colab_type": "text"
      },
      "source": [
        "<a href=\"https://colab.research.google.com/github/haloyukka/python/blob/master/_MyTips/MyTimer.ipynb\" target=\"_parent\"><img src=\"https://colab.research.google.com/assets/colab-badge.svg\" alt=\"Open In Colab\"/></a>"
      ]
    },
    {
      "cell_type": "code",
      "execution_count": 6,
      "metadata": {
        "id": "Ql8H1wKhaFVB"
      },
      "outputs": [],
      "source": [
        "import time\n",
        "\n",
        "class TimerError(Exception):\n",
        "  \"\"\"A custom exception used to report errors in use of Timer class\"\"\"\n",
        "\n",
        "class Timer:\n",
        "  def __init__(self):\n",
        "    self._start_time = None\n",
        "  \n",
        "  def start(self):\n",
        "    \"\"\"Start a new timer\"\"\"\n",
        "    if self._start_time is not None:\n",
        "      raise TimerError(f\"Timer is running. Use .stop() to stop it\")\n",
        "    \n",
        "    self._start_time = time.perf_counter()\n",
        "  \n",
        "  def stop(self):\n",
        "    \"\"\"Stop the timer, and report the elapsed time\"\"\"\n",
        "    if self._start_time is None:\n",
        "      raise TimerError(f\"Timer is not running. Use .start() to start it\")\n",
        "    \n",
        "    elapsed_time = time.perf_counter() - self._start_time\n",
        "    self._start_time = None\n",
        "    print(f\"Elapsed time: {elapsed_time:0.4f} seconds\")\n",
        "\n"
      ]
    },
    {
      "cell_type": "code",
      "source": [
        "\"\"\"TEST\"\"\"\n",
        "import time\n",
        "\n",
        "timer1 = Timer()\n",
        "timer1.start()\n",
        "\n",
        "time.sleep(5)\n",
        "\n",
        "timer1.stop()"
      ],
      "metadata": {
        "colab": {
          "base_uri": "https://localhost:8080/"
        },
        "id": "C_0D7tJ6bZfh",
        "outputId": "3036b941-e91e-44c5-b77a-e4ab45865633"
      },
      "execution_count": 5,
      "outputs": [
        {
          "output_type": "stream",
          "name": "stdout",
          "text": [
            "Elapsed time: 5.00417 seconds\n"
          ]
        }
      ]
    }
  ]
}