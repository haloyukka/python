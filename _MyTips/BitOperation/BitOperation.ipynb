{
 "cells": [
  {
   "cell_type": "markdown",
   "metadata": {},
   "source": [
    "<u>2進数</u><br>\n",
    "0bをつけて記述します。REPLで入力すると10進数に変換されます。"
   ]
  },
  {
   "cell_type": "code",
   "execution_count": 1,
   "metadata": {},
   "outputs": [
    {
     "data": {
      "text/plain": [
       "5"
      ]
     },
     "execution_count": 1,
     "metadata": {},
     "output_type": "execute_result"
    }
   ],
   "source": [
    "0b101"
   ]
  },
  {
   "cell_type": "code",
   "execution_count": 10,
   "metadata": {},
   "outputs": [
    {
     "data": {
      "text/plain": [
       "'0b101'"
      ]
     },
     "execution_count": 10,
     "metadata": {},
     "output_type": "execute_result"
    }
   ],
   "source": [
    "bin(5)"
   ]
  },
  {
   "cell_type": "markdown",
   "metadata": {},
   "source": [
    "<u>16進数</u><br>\n",
    "元の数値を16進数で記述すれば、16進数から2進数に変換できます。"
   ]
  },
  {
   "cell_type": "code",
   "execution_count": 3,
   "metadata": {},
   "outputs": [
    {
     "data": {
      "text/plain": [
       "'0b10010'"
      ]
     },
     "execution_count": 3,
     "metadata": {},
     "output_type": "execute_result"
    }
   ],
   "source": [
    "bin(0x12)"
   ]
  },
  {
   "cell_type": "code",
   "execution_count": 4,
   "metadata": {},
   "outputs": [
    {
     "data": {
      "text/plain": [
       "'0x12'"
      ]
     },
     "execution_count": 4,
     "metadata": {},
     "output_type": "execute_result"
    }
   ],
   "source": [
    "hex(0b10010)"
   ]
  },
  {
   "cell_type": "markdown",
   "metadata": {},
   "source": [
    "<u>左シフト</u><br>\n",
    "\n",
    "演算子<<です。指定した桁だけ左にずらして、空いたビットには0が入ります。<br>\n",
    "右揃えに整形して例を示します。<br>\n",
    "\n",
    "|入力|出力|\n",
    "|:---:|:---:|\n",
    "|bin(5<<0)|'0b101'|\n",
    "|bin(5<<1)|'0b1010'|\n",
    "|bin(5<<2)|'0b10100'|\n",
    "|bin(5<<3)|'0b101000'|"
   ]
  },
  {
   "cell_type": "code",
   "execution_count": 6,
   "metadata": {},
   "outputs": [
    {
     "data": {
      "text/plain": [
       "'0b101'"
      ]
     },
     "execution_count": 6,
     "metadata": {},
     "output_type": "execute_result"
    }
   ],
   "source": [
    "bin(5<<0)"
   ]
  },
  {
   "cell_type": "code",
   "execution_count": 7,
   "metadata": {},
   "outputs": [
    {
     "data": {
      "text/plain": [
       "'0b1010'"
      ]
     },
     "execution_count": 7,
     "metadata": {},
     "output_type": "execute_result"
    }
   ],
   "source": [
    "bin(5<<1)"
   ]
  },
  {
   "cell_type": "code",
   "execution_count": 8,
   "metadata": {},
   "outputs": [
    {
     "data": {
      "text/plain": [
       "'0b101000'"
      ]
     },
     "execution_count": 8,
     "metadata": {},
     "output_type": "execute_result"
    }
   ],
   "source": [
    "bin(5<<3)"
   ]
  },
  {
   "cell_type": "code",
   "execution_count": 9,
   "metadata": {},
   "outputs": [
    {
     "data": {
      "text/plain": [
       "'0b10100'"
      ]
     },
     "execution_count": 9,
     "metadata": {},
     "output_type": "execute_result"
    }
   ],
   "source": [
    "bin(5<<2)"
   ]
  },
  {
   "cell_type": "markdown",
   "metadata": {},
   "source": [
    "<u>右シフト</u><br>\n",
    "\n",
    "演算子>>です。指定した桁だけ右にずらして、最下位より先に押し出されたビットは消えます。<br>\n",
    "右揃えに整形して例を示します。<br>\n",
    "\n",
    "|入力|出力|\n",
    "|:---:|:---:|\n",
    "|bin(5>>0)|'0b101'|\n",
    "|bin(5>>1)|'0b10'|\n",
    "|bin(5>>2)|'0b1'|\n",
    "|bin(5>>3)|'0b0'|"
   ]
  },
  {
   "cell_type": "markdown",
   "metadata": {},
   "source": [
    "<u>論理演算</u><br>\n",
    "2進数の各行に対する計算です。<br>\n",
    "基本的な考え方は真偽値による処理で、1を真、0を偽とみなす。<br>"
   ]
  },
  {
   "cell_type": "markdown",
   "metadata": {},
   "source": [
    "<u>論理積(AND)</u><br>\n",
    "演算子&です。両方が真(1)のときにしか成立(1)しません。1桁だけ見れば掛け算と同じです。<br>\n",
    "\n",
    "|AND|掛け算|結果\n",
    "|:---:|:---:|:---:|\n",
    "|0 & 0|0 * 0|0|\n",
    "|0 & 1|0 * 1|0|\n",
    "|1 & 0|1 * 0|0|\n",
    "|1 & 1|1 * 1|1|\n",
    "\n",
    "複数桁では繰り上がりを一切考えずに、桁ごと独立して掛け算します。<br>\n",
    "<p>\n",
    "   10010010<br>\n",
    "&) 10100111<br>\n",
    "------------------<br>\n",
    "   10000010<br>\n",
    "</p>"
   ]
  },
  {
   "cell_type": "code",
   "execution_count": 1,
   "metadata": {},
   "outputs": [
    {
     "data": {
      "text/plain": [
       "'0b10000010'"
      ]
     },
     "execution_count": 1,
     "metadata": {},
     "output_type": "execute_result"
    }
   ],
   "source": [
    "bin(0b10010010 & 0b10100111)"
   ]
  },
  {
   "cell_type": "markdown",
   "metadata": {},
   "source": [
    "<u>論理積(OR)</u><br>\n",
    "演算子|です。どちらかが真(1)であれば成立(1)します。1桁だけ見れば足し算に似ていますが、計算結果の1以上はすべて1として扱います（2→1）。<br>\n",
    "\n",
    "|OR|掛け算|結果\n",
    "|:---:|:---:|:---:|\n",
    "|0 \\| 0|0 + 0|0|\n",
    "|0 \\| 1|0 + 1|1|\n",
    "|1 \\| 0|1 + 0|1|\n",
    "|1 \\| 1|1 + 1|1|\n",
    "\n",
    "複数桁では繰り上がりを一切考えずに、桁ごとに独立して足し算します。計算結果の1以上はすべて1として扱います（2→1）。<br>\n",
    "<p>\n",
    "   10010010<br>\n",
    "|) 10100111<br>\n",
    "------------------<br>\n",
    "   10110111<br>\n",
    "</p>"
   ]
  },
  {
   "cell_type": "code",
   "execution_count": 5,
   "metadata": {},
   "outputs": [
    {
     "data": {
      "text/plain": [
       "'0b10110111'"
      ]
     },
     "execution_count": 5,
     "metadata": {},
     "output_type": "execute_result"
    }
   ],
   "source": [
    "bin(0b10010010 | 0b10100111)"
   ]
  },
  {
   "cell_type": "markdown",
   "metadata": {},
   "source": [
    "<u>排他的論理和(XOR)</u><br>\n",
    "演算子^です。片方だけが真(1)であれば成立(1)します（両立しない点が排他的）。2進数1桁だけ見れば繰り上りを捨てる足し算です（1+1=2=0b10 → 0）。<br>\n",
    "\n",
    "|XOR|掛け算|結果\n",
    "|:---:|:---:|:---:|\n",
    "|0 ^ 0|0 + 0|0|\n",
    "|0 ^ 1|0 + 1|1|\n",
    "|1 ^ 0|1 + 0|1|\n",
    "|1 ^ 1|1 + 1|2->0|\n",
    "\n",
    "複数桁では繰り上がりを一切考えずに、桁ごとに独立して足し算します。計算結果の1以上はすべて1として扱います（2→1）。<br>\n",
    "<p>\n",
    "   10010010<br>\n",
    "^) 10100111<br>\n",
    "------------------<br>\n",
    "   00110101<br>\n",
    "</p>"
   ]
  },
  {
   "cell_type": "code",
   "execution_count": 8,
   "metadata": {},
   "outputs": [
    {
     "data": {
      "text/plain": [
       "'0b110101'"
      ]
     },
     "execution_count": 8,
     "metadata": {},
     "output_type": "execute_result"
    }
   ],
   "source": [
    "bin(0b10010010 ^ 0b10100111)"
   ]
  },
  {
   "cell_type": "markdown",
   "metadata": {},
   "source": [
    "同じ値で2回XORすると元の値に戻るという性質があります。<br>\n",
    "a ^ b ^ b -> a"
   ]
  },
  {
   "cell_type": "code",
   "execution_count": 9,
   "metadata": {},
   "outputs": [
    {
     "data": {
      "text/plain": [
       "'0b10010010'"
      ]
     },
     "execution_count": 9,
     "metadata": {},
     "output_type": "execute_result"
    }
   ],
   "source": [
    "bin(0b10010010 ^ 0b10100111 ^ 0b10100111)"
   ]
  },
  {
   "cell_type": "markdown",
   "metadata": {},
   "source": [
    "元の値を消すこともできます。<br>\n",
    "a ^ b ^ a -> b"
   ]
  },
  {
   "cell_type": "code",
   "execution_count": 10,
   "metadata": {},
   "outputs": [
    {
     "data": {
      "text/plain": [
       "'0b10100111'"
      ]
     },
     "execution_count": 10,
     "metadata": {},
     "output_type": "execute_result"
    }
   ],
   "source": [
    "bin(0b10010010 ^ 0b10100111 ^ 0b10010010)"
   ]
  },
  {
   "cell_type": "markdown",
   "metadata": {},
   "source": [
    "<u>反転(NOT)</u><br>\n",
    "\n",
    "演算子~です。0と1を逆にします。<br>\n",
    "Pythonでは上の桁が無限に0で埋められていると見なして、反転も上の桁が無限に1で埋められているという想定でマイナスを返します。<br>"
   ]
  },
  {
   "cell_type": "code",
   "execution_count": 11,
   "metadata": {},
   "outputs": [
    {
     "data": {
      "text/plain": [
       "-2"
      ]
     },
     "execution_count": 11,
     "metadata": {},
     "output_type": "execute_result"
    }
   ],
   "source": [
    "~1"
   ]
  },
  {
   "cell_type": "markdown",
   "metadata": {},
   "source": [
    "この計算は 000...0001 → 111...1110 を意味しています。\n",
    "後でANDとNOTの組み合わせで見るように、通常はビットだけに注目して具体的な数値（ここではマイナス）は意識しません。符号の考え方について興味がある方は次の記事を参照してください。\n",
    "\n",
    "@7shi: [符号あり数値の直感的な考え方 2014.10.8](https://qiita.com/7shi/items/6887e7939c0168a0eb21)\n",
    "※ 値だけに注目して ~x→-(x+1) という式が紹介されることもあります。これを見てもビット反転の意味が分からないので、ここでは深く追求しません。"
   ]
  },
  {
   "cell_type": "code",
   "execution_count": null,
   "metadata": {},
   "outputs": [],
   "source": []
  }
 ],
 "metadata": {
  "kernelspec": {
   "display_name": "Python 3",
   "language": "python",
   "name": "python3"
  },
  "language_info": {
   "codemirror_mode": {
    "name": "ipython",
    "version": 3
   },
   "file_extension": ".py",
   "mimetype": "text/x-python",
   "name": "python",
   "nbconvert_exporter": "python",
   "pygments_lexer": "ipython3",
   "version": "3.7.4"
  }
 },
 "nbformat": 4,
 "nbformat_minor": 2
}
