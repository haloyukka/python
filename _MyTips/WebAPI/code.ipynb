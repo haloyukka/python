{
 "cells": [
  {
   "cell_type": "code",
   "execution_count": 9,
   "id": "599cd47a-8804-4f02-89b4-67dac5130323",
   "metadata": {},
   "outputs": [
    {
     "name": "stdout",
     "output_type": "stream",
     "text": [
      "environ({'ALLUSERSPROFILE': 'C:\\\\ProgramData', 'APPDATA': 'C:\\\\Users\\\\takahashi-takuma\\\\AppData\\\\Roaming', 'ASL.LOG': 'Destination=file', 'COMMONPROGRAMFILES': 'C:\\\\Program Files\\\\Common Files', 'COMMONPROGRAMFILES(X86)': 'C:\\\\Program Files (x86)\\\\Common Files', 'COMMONPROGRAMW6432': 'C:\\\\Program Files\\\\Common Files', 'COMPUTERNAME': 'TAKUMAT-WIN', 'COMSPEC': 'C:\\\\WINDOWS\\\\system32\\\\cmd.exe', 'CONDA_DEFAULT_ENV': 'base', 'CONDA_ENVS_PATH': 'C:\\\\Users\\\\takahashi-takuma\\\\anaconda3\\\\envs', 'CONDA_EXE': 'C:\\\\Users\\\\takahashi-takuma\\\\anaconda3\\\\Scripts\\\\conda.exe', 'CONDA_PREFIX': 'C:\\\\Users\\\\takahashi-takuma\\\\anaconda3', 'CONDA_PROMPT_MODIFIER': '(base) ', 'CONDA_PYTHON_EXE': 'C:\\\\Users\\\\takahashi-takuma\\\\anaconda3\\\\python.exe', 'CONDA_SHLVL': '1', 'CUDA_PATH': 'C:\\\\Program Files\\\\NVIDIA GPU Computing Toolkit\\\\CUDA\\\\v8.0', 'CUDA_PATH_V8_0': 'C:\\\\Program Files\\\\NVIDIA GPU Computing Toolkit\\\\CUDA\\\\v8.0', 'DRIVERDATA': 'C:\\\\Windows\\\\System32\\\\Drivers\\\\DriverData', 'FPS_BROWSER_APP_PROFILE_STRING': 'Internet Explorer', 'FPS_BROWSER_USER_PROFILE_STRING': 'Default', 'FP_NO_HOST_CHECK': 'NO', 'GAME_LIB_DIR': 'C:\\\\GameLib', 'GTK_BASEPATH': 'C:\\\\Program Files (x86)\\\\GtkSharp\\\\2.12\\\\', 'HOMEDRIVE': 'C:', 'HOMEPATH': '\\\\Users\\\\takahashi-takuma', 'INTEL_DEV_REDIST': 'C:\\\\Program Files (x86)\\\\Common Files\\\\Intel\\\\Shared Libraries\\\\', 'JAVA_HOME': 'C:\\\\Program Files\\\\Java\\\\jdk1.8.0_152', 'LOCALAPPDATA': 'C:\\\\Users\\\\takahashi-takuma\\\\AppData\\\\Local', 'LOGONSERVER': '\\\\\\\\TAKUMAT-WIN', 'MIC_LD_LIBRARY_PATH': 'C:\\\\Program Files (x86)\\\\Common Files\\\\Intel\\\\Shared Libraries\\\\compiler\\\\lib\\\\mic', 'NUMBER_OF_PROCESSORS': '8', 'NVCUDASAMPLES8_0_ROOT': 'C:\\\\ProgramData\\\\NVIDIA Corporation\\\\CUDA Samples\\\\v8.0', 'NVCUDASAMPLES_ROOT': 'C:\\\\ProgramData\\\\NVIDIA Corporation\\\\CUDA Samples\\\\v8.0', 'NVTOOLSEXT_PATH': 'C:\\\\Program Files\\\\NVIDIA Corporation\\\\NvToolsExt\\\\', 'ONEDRIVE': 'C:\\\\Users\\\\takahashi-takuma\\\\OneDrive', 'ONEDRIVECONSUMER': 'C:\\\\Users\\\\takahashi-takuma\\\\OneDrive', 'OS': 'Windows_NT', 'PATH': 'C:\\\\Users\\\\takahashi-takuma\\\\anaconda3;C:\\\\Users\\\\takahashi-takuma\\\\anaconda3\\\\Library\\\\mingw-w64\\\\bin;C:\\\\Users\\\\takahashi-takuma\\\\anaconda3\\\\Library\\\\usr\\\\bin;C:\\\\Users\\\\takahashi-takuma\\\\anaconda3\\\\Library\\\\bin;C:\\\\Users\\\\takahashi-takuma\\\\anaconda3\\\\Scripts;C:\\\\Users\\\\takahashi-takuma\\\\anaconda3\\\\bin;C:\\\\Users\\\\takahashi-takuma\\\\anaconda3\\\\condabin;C:\\\\Program Files (x86)\\\\iis express\\\\PHP\\\\v7.1;C:\\\\Program Files (x86)\\\\Common Files\\\\Oracle\\\\Java\\\\javapath;C:\\\\Program Files (x86)\\\\Common Files\\\\Intel\\\\Shared Libraries\\\\redist\\\\intel64\\\\compiler;C:\\\\Program Files\\\\NVIDIA GPU Computing Toolkit\\\\CUDA\\\\v8.0\\\\bin;C:\\\\Program Files\\\\NVIDIA GPU Computing Toolkit\\\\CUDA\\\\v8.0\\\\libnvvp;C:\\\\ProgramData\\\\Oracle\\\\Java\\\\javapath;C:\\\\Program Files (x86)\\\\Intel\\\\iCLS Client;C:\\\\Program Files\\\\Intel\\\\iCLS Client;C:\\\\Windows\\\\system32;C:\\\\Windows;C:\\\\Windows\\\\System32\\\\Wbem;C:\\\\Windows\\\\System32\\\\WindowsPowerShell\\\\v1.0;C:\\\\Program Files\\\\Intel\\\\Intel(R) Management Engine Components\\\\DAL;C:\\\\Program Files (x86)\\\\Intel\\\\Intel(R) Management Engine Components\\\\DAL;C:\\\\Program Files\\\\Intel\\\\Intel(R) Management Engine Components\\\\IPT;C:\\\\Program Files (x86)\\\\Intel\\\\Intel(R) Management Engine Components\\\\IPT;C:\\\\Program Files\\\\Microsoft SQL Server\\\\110\\\\Tools\\\\Binn;C:\\\\Program Files\\\\Microsoft SQL Server\\\\120\\\\Tools\\\\Binn;C:\\\\Program Files\\\\Microsoft;C:\\\\WINDOWS\\\\system32;C:\\\\WINDOWS;C:\\\\WINDOWS\\\\System32\\\\Wbem;C:\\\\WINDOWS\\\\System32\\\\WindowsPowerShell\\\\v;C:\\\\Program Files (x86)\\\\dotnet;C:\\\\Program Files\\\\Microsoft SQL Server\\\\Client SDK\\\\ODBC\\\\170\\\\Tools\\\\Binn;C:\\\\Program Files\\\\Microsoft SQL Server\\\\150\\\\DTS\\\\Binn;C:\\\\Program Files\\\\dotnet;C:\\\\Program Files\\\\Java\\\\jdk1.8.0_73\\\\bin;E:\\\\program_file\\\\Microsoft VS Code\\\\bin;C:\\\\WINDOWS\\\\System32\\\\WindowsPowerShell\\\\v1.0;C:\\\\WINDOWS\\\\System32\\\\OpenSSH;C:\\\\Program Files\\\\NVIDIA Corporation\\\\NVIDIA NvDLISR;C:\\\\Program Files\\\\TortoiseGit\\\\bin;C:\\\\Program Files\\\\Git\\\\cmd;C:\\\\WINDOWS\\\\system32;C:\\\\WINDOWS;C:\\\\WINDOWS\\\\System32\\\\Wbem;C:\\\\WINDOWS\\\\System32\\\\WindowsPowerShell\\\\v1.0;C:\\\\WINDOWS\\\\System32\\\\OpenSSH;C:\\\\Users\\\\takahashi-takuma\\\\AppData\\\\Local\\\\Programs\\\\Python\\\\Python39\\\\Scripts;C:\\\\Users\\\\takahashi-takuma\\\\AppData\\\\Local\\\\Programs\\\\Python\\\\Python39;E:\\\\program_file\\\\Microsoft VS Code\\\\bin;C:\\\\Users\\\\takahashi-takuma\\\\AppData\\\\Local\\\\Microsoft\\\\WindowsApps;C:\\\\Users\\\\takahashi-takuma\\\\Desktop\\\\flutter\\\\flutter\\\\bin;C:\\\\Users\\\\takahashi-takuma\\\\AppData\\\\Roaming\\\\npm;C:\\\\MinGW\\\\bin;C:\\\\Users\\\\takahashi-takuma\\\\.dotnet\\\\tools;C:\\\\Users\\\\takahashi-takuma\\\\anaconda3;C:\\\\Users\\\\takahashi-takuma\\\\anaconda3\\\\Scripts;.', 'PATHEXT': '.COM;.EXE;.BAT;.CMD;.VBS;.VBE;.JS;.JSE;.WSF;.WSH;.MSC', 'PROCESSOR_ARCHITECTURE': 'AMD64', 'PROCESSOR_IDENTIFIER': 'Intel64 Family 6 Model 60 Stepping 3, GenuineIntel', 'PROCESSOR_LEVEL': '6', 'PROCESSOR_REVISION': '3c03', 'PROGRAMDATA': 'C:\\\\ProgramData', 'PROGRAMFILES': 'C:\\\\Program Files', 'PROGRAMFILES(X86)': 'C:\\\\Program Files (x86)', 'PROGRAMW6432': 'C:\\\\Program Files', 'PROMPT': '(base) $P$G', 'PSMODULEPATH': 'C:\\\\WINDOWS\\\\system32\\\\WindowsPowerShell\\\\v1.0\\\\Modules\\\\;C:\\\\Program Files (x86)\\\\Microsoft SQL Server\\\\150\\\\Tools\\\\PowerShell\\\\Modules\\\\', 'PUBLIC': 'C:\\\\Users\\\\Public', 'SESSIONNAME': 'Console', 'SYSTEMDRIVE': 'C:', 'SYSTEMROOT': 'C:\\\\WINDOWS', 'TEMP': 'C:\\\\Users\\\\TAKAHA~1\\\\AppData\\\\Local\\\\Temp', 'TMP': 'C:\\\\Users\\\\TAKAHA~1\\\\AppData\\\\Local\\\\Temp', 'USERDOMAIN': 'TAKUMAT-WIN', 'USERDOMAIN_ROAMINGPROFILE': 'TAKUMAT-WIN', 'USERNAME': 'takahashi-takuma', 'USERPROFILE': 'C:\\\\Users\\\\takahashi-takuma', 'VBOX_MSI_INSTALL_PATH': 'C:\\\\Program Files\\\\Oracle\\\\VirtualBox\\\\', 'VS110COMNTOOLS': 'C:\\\\Program Files (x86)\\\\Microsoft Visual Studio 11.0\\\\Common7\\\\Tools\\\\', 'VS120COMNTOOLS': 'C:\\\\Program Files (x86)\\\\Microsoft Visual Studio 12.0\\\\Common7\\\\Tools\\\\', 'VS140COMNTOOLS': 'C:\\\\Program Files (x86)\\\\Microsoft Visual Studio 14.0\\\\Common7\\\\Tools\\\\', 'WINDIR': 'C:\\\\WINDOWS', 'GIT_PYTHON_REFRESH': 'quiet', 'JPY_INTERRUPT_EVENT': '4040', 'IPY_INTERRUPT_EVENT': '4040', 'JPY_PARENT_PID': '3976', 'TERM': 'xterm-color', 'CLICOLOR': '1', 'PAGER': 'cat', 'GIT_PAGER': 'cat', 'MPLBACKEND': 'module://matplotlib_inline.backend_inline'})\n",
      "{\n",
      "  \"title\": \"Unauthorized\",\n",
      "  \"detail\": \"Unauthorized\",\n",
      "  \"type\": \"about:blank\",\n",
      "  \"status\": 401\n",
      "}\n"
     ]
    }
   ],
   "source": [
    "import requests\n",
    "import os\n",
    "import urllib\n",
    "import json\n",
    "\n",
    "bearer_token = os.environ.get(\"BEARER_TOKEN\")\n",
    "headers = {\"Authorization\": f\"Bearer {bearer_token}\"}\n",
    "vr_academia = urllib.parse.quote('#VRアカデミア')\n",
    "url = 'https://api.twitter.com/2/tweets/search/recent?query={vr_academia} -is:retweet'\n",
    "response = requests.get(url, headers=headers)\n",
    "json_response = response.json()\n",
    "print(json.dumps(json_response, indent=2, ensure_ascii=False))"
   ]
  },
  {
   "cell_type": "code",
   "execution_count": null,
   "id": "84cdb000-a3a6-4786-94a8-60521269fd90",
   "metadata": {},
   "outputs": [],
   "source": []
  }
 ],
 "metadata": {
  "kernelspec": {
   "display_name": "Python 3 (ipykernel)",
   "language": "python",
   "name": "python3"
  },
  "language_info": {
   "codemirror_mode": {
    "name": "ipython",
    "version": 3
   },
   "file_extension": ".py",
   "mimetype": "text/x-python",
   "name": "python",
   "nbconvert_exporter": "python",
   "pygments_lexer": "ipython3",
   "version": "3.8.11"
  }
 },
 "nbformat": 4,
 "nbformat_minor": 5
}
