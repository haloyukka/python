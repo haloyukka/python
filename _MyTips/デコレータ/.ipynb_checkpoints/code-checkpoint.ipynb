{
 "cells": [
  {
   "cell_type": "code",
   "execution_count": 5,
   "id": "cf809907-f988-4d8f-b9a4-40b94c5c5414",
   "metadata": {},
   "outputs": [
    {
     "name": "stdout",
     "output_type": "stream",
     "text": [
      "これはりんごです\n",
      "これはりんごです\n"
     ]
    }
   ],
   "source": [
    "#関数もオブジェクト\n",
    "def print_apple():\n",
    "    print('これはりんごです')\n",
    "    \n",
    "def repeat_func_twice(func):\n",
    "    func()\n",
    "    func()\n",
    "\n",
    "repeat_func_twice(print_apple)\n"
   ]
  },
  {
   "cell_type": "code",
   "execution_count": 8,
   "id": "625a2ba8-5888-406f-aac0-29f291d60d8c",
   "metadata": {},
   "outputs": [
    {
     "name": "stdout",
     "output_type": "stream",
     "text": [
      "これはりんごです\n",
      "これはりんごです!\n"
     ]
    }
   ],
   "source": [
    "#関数内関数\n",
    "def print_text_twice(text):\n",
    "    def add_exclamation(text): #この中でしかコールできない\n",
    "        return text + '!'\n",
    "    text_e = add_exclamation(text)\n",
    "    print(text)\n",
    "    print(text_e)\n",
    "\n",
    "print_text_twice('これはりんごです')"
   ]
  },
  {
   "cell_type": "code",
   "execution_count": 9,
   "id": "5fe2d12b-a439-4900-bcc0-61038452e1a6",
   "metadata": {},
   "outputs": [
    {
     "name": "stdout",
     "output_type": "stream",
     "text": [
      "start\n",
      "これはりんごです\n",
      "end\n"
     ]
    }
   ],
   "source": [
    "# @マークを使用しない場合\n",
    "def start_end(func):\n",
    "    def add_start_end():\n",
    "        print('start')\n",
    "        func()\n",
    "        print('end')\n",
    "    return add_start_end\n",
    "\n",
    "def print_apple():\n",
    "    print('これはりんごです')\n",
    "\n",
    "start_end(print_apple)()\n"
   ]
  },
  {
   "cell_type": "code",
   "execution_count": null,
   "id": "d751bc7e-b067-4ef2-bbaa-3d202b9c7e6d",
   "metadata": {},
   "outputs": [],
   "source": [
    "def start_end(func):\n",
    "    def add_start_end():\n",
    "        print('start')\n",
    "        func()\n",
    "        print('end')\n",
    "    return add_start_end\n",
    "\n",
    "def print_apple():\n",
    "    print('これはりんごです')\n",
    "\n",
    "start_end(print_apple)()\n"
   ]
  }
 ],
 "metadata": {
  "kernelspec": {
   "display_name": "Python 3 (ipykernel)",
   "language": "python",
   "name": "python3"
  },
  "language_info": {
   "codemirror_mode": {
    "name": "ipython",
    "version": 3
   },
   "file_extension": ".py",
   "mimetype": "text/x-python",
   "name": "python",
   "nbconvert_exporter": "python",
   "pygments_lexer": "ipython3",
   "version": "3.8.11"
  }
 },
 "nbformat": 4,
 "nbformat_minor": 5
}
