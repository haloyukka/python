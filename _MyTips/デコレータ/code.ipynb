{
 "cells": [
  {
   "cell_type": "code",
   "execution_count": 5,
   "id": "cf809907-f988-4d8f-b9a4-40b94c5c5414",
   "metadata": {},
   "outputs": [
    {
     "name": "stdout",
     "output_type": "stream",
     "text": [
      "これはりんごです\n",
      "これはりんごです\n"
     ]
    }
   ],
   "source": [
    "#関数もオブジェクト\n",
    "def print_apple():\n",
    "    print('これはりんごです')\n",
    "    \n",
    "def repeat_func_twice(func):\n",
    "    func()\n",
    "    func()\n",
    "\n",
    "repeat_func_twice(print_apple)\n"
   ]
  },
  {
   "cell_type": "code",
   "execution_count": 8,
   "id": "625a2ba8-5888-406f-aac0-29f291d60d8c",
   "metadata": {},
   "outputs": [
    {
     "name": "stdout",
     "output_type": "stream",
     "text": [
      "これはりんごです\n",
      "これはりんごです!\n"
     ]
    }
   ],
   "source": [
    "#関数内関数\n",
    "def print_text_twice(text):\n",
    "    def add_exclamation(text): #この中でしかコールできない\n",
    "        return text + '!'\n",
    "    text_e = add_exclamation(text)\n",
    "    print(text)\n",
    "    print(text_e)\n",
    "\n",
    "print_text_twice('これはりんごです')"
   ]
  },
  {
   "cell_type": "code",
   "execution_count": 9,
   "id": "5fe2d12b-a439-4900-bcc0-61038452e1a6",
   "metadata": {},
   "outputs": [
    {
     "name": "stdout",
     "output_type": "stream",
     "text": [
      "start\n",
      "これはりんごです\n",
      "end\n"
     ]
    }
   ],
   "source": [
    "# @マークを使用しない場合\n",
    "def start_end(func):\n",
    "    def add_start_end():\n",
    "        print('start')\n",
    "        func()\n",
    "        print('end')\n",
    "    return add_start_end\n",
    "\n",
    "def print_apple():\n",
    "    print('これはりんごです')\n",
    "\n",
    "start_end(print_apple)()\n"
   ]
  },
  {
   "cell_type": "code",
   "execution_count": 11,
   "id": "d751bc7e-b067-4ef2-bbaa-3d202b9c7e6d",
   "metadata": {},
   "outputs": [
    {
     "name": "stdout",
     "output_type": "stream",
     "text": [
      "start\n",
      "これはりんごです\n",
      "end\n"
     ]
    }
   ],
   "source": [
    "def start_end(func):\n",
    "    def add_start_end():\n",
    "        print('start')\n",
    "        func()\n",
    "        print('end')\n",
    "    return add_start_end\n",
    "\n",
    "@start_end\n",
    "def print_apple():\n",
    "    print('これはりんごです')\n",
    "\n",
    "print_apple()"
   ]
  },
  {
   "cell_type": "code",
   "execution_count": 13,
   "id": "67c0ebca-8080-4643-b69c-b83259fbb980",
   "metadata": {},
   "outputs": [
    {
     "name": "stdout",
     "output_type": "stream",
     "text": [
      "start\n",
      "これはりんごです!\n",
      "end\n"
     ]
    }
   ],
   "source": [
    "# @マークを使用しない場合\n",
    "def start_end(func):\n",
    "    def add_start_end(_text):\n",
    "        print('start')\n",
    "        func(_text)\n",
    "        print('end')\n",
    "    return add_start_end\n",
    "\n",
    "def print_text(text):\n",
    "    print(text + '!')\n",
    "\n",
    "start_end(print_text)('これはりんごです')\n"
   ]
  },
  {
   "cell_type": "code",
   "execution_count": 14,
   "id": "2f57ed00-fd30-4c2f-bd2a-87992dd3d659",
   "metadata": {},
   "outputs": [
    {
     "name": "stdout",
     "output_type": "stream",
     "text": [
      "start\n",
      "これはりんごです!\n",
      "end\n"
     ]
    }
   ],
   "source": [
    "def start_end(func):\n",
    "    def add_start_end(_text):\n",
    "        print('start')\n",
    "        func(_text)\n",
    "        print('end')\n",
    "    return add_start_end\n",
    "\n",
    "@start_end\n",
    "def print_text(text):\n",
    "    print(text + '!')\n",
    "\n",
    "print_text('これはりんごです')"
   ]
  },
  {
   "cell_type": "code",
   "execution_count": 17,
   "id": "72a8f693-f66e-4cae-acfc-77260cedcda1",
   "metadata": {},
   "outputs": [
    {
     "name": "stdout",
     "output_type": "stream",
     "text": [
      "start\n",
      "163-8001\n",
      "end\n"
     ]
    }
   ],
   "source": [
    "def start_end(func):\n",
    "    def add_start_end(*args, **kwargs):\n",
    "        print('start')\n",
    "        func(*args, **kwargs)\n",
    "        print('end')\n",
    "    return add_start_end\n",
    "\n",
    "@start_end\n",
    "def print_join_dash(a, b):\n",
    "    print(f'{a}-{b}')\n",
    "\n",
    "print_join_dash('163', b='8001')"
   ]
  },
  {
   "cell_type": "code",
   "execution_count": 21,
   "id": "ebc671b4-5901-451b-aaac-a8ed2aa6a790",
   "metadata": {},
   "outputs": [
    {
     "name": "stdout",
     "output_type": "stream",
     "text": [
      "start\n",
      "add_exclamationが実行されました\n",
      "end\n",
      "これはりんごです!\n"
     ]
    }
   ],
   "source": [
    "def start_end(func):\n",
    "    def add_start_end(*args, **kwargs):\n",
    "        print('start')\n",
    "        x = func(*args, **kwargs)\n",
    "        print('end')\n",
    "        return x\n",
    "    return add_start_end\n",
    "\n",
    "@start_end\n",
    "def print_exclamation(text):\n",
    "    print('add_exclamationが実行されました')\n",
    "    return text + '!'\n",
    "\n",
    "result = print_exclamation('これはりんごです')\n",
    "print(result)"
   ]
  },
  {
   "cell_type": "code",
   "execution_count": 22,
   "id": "6e92e9af-e415-4039-8e97-ffaaeea671a6",
   "metadata": {},
   "outputs": [
    {
     "name": "stdout",
     "output_type": "stream",
     "text": [
      "start\n",
      "add_exclamationが実行されました\n",
      "end\n",
      "これはバナナですか？\n",
      "これはりんごです!\n"
     ]
    }
   ],
   "source": [
    "def start_end(func):\n",
    "    def add_start_end(*args, **kwargs):\n",
    "        print('start')\n",
    "        x = func(*args, **kwargs)\n",
    "        print('end')\n",
    "        return x\n",
    "    return add_start_end\n",
    "\n",
    "@start_end\n",
    "def print_exclamation(text):\n",
    "    print('add_exclamationが実行されました')\n",
    "    return 'これはバナナですか？', text + '!'\n",
    "\n",
    "result1, result2 = print_exclamation('これはりんごです')\n",
    "print(result1)\n",
    "print(result2)"
   ]
  },
  {
   "cell_type": "code",
   "execution_count": null,
   "id": "d80f8913-3fee-44b4-8a72-04026a4e0670",
   "metadata": {},
   "outputs": [],
   "source": []
  }
 ],
 "metadata": {
  "kernelspec": {
   "display_name": "Python 3 (ipykernel)",
   "language": "python",
   "name": "python3"
  },
  "language_info": {
   "codemirror_mode": {
    "name": "ipython",
    "version": 3
   },
   "file_extension": ".py",
   "mimetype": "text/x-python",
   "name": "python",
   "nbconvert_exporter": "python",
   "pygments_lexer": "ipython3",
   "version": "3.8.11"
  }
 },
 "nbformat": 4,
 "nbformat_minor": 5
}
