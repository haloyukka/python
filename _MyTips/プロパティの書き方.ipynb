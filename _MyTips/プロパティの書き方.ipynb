{
 "cells": [
  {
   "cell_type": "markdown",
   "id": "3afef72d-8a3e-4ec3-bd90-25150160b7b9",
   "metadata": {},
   "source": [
    "プロパティの書き方\n",
    "\n",
    "'''\n",
    "@property<br>\n",
    "def プロパティ名(self):<br>\n",
    "    pass<br>\n",
    "'''\n",
    "\n",
    "例\n",
    "\n",
    "'''\n",
    "class Cat:<br>\n",
    "    def __init__(self):<br>\n",
    "        self.name = 'ミケ'<br>\n",
    "'''\n",
    "\n",
    "このクラスのname変数にプロパティを設定したい場合は↓のようにします。\n",
    "\n",
    "'''\n",
    "class Cat:<br>\n",
    "    def __init__(self):<br>\n",
    "        self.__name = 'ミケ'<br>\n",
    "    @property<br>\n",
    "    def name(self):<br>\n",
    "        pass<br>\n"
   ]
  },
  {
   "cell_type": "code",
   "execution_count": 2,
   "id": "52f947e6-e4f7-4f64-a1d1-df1f87c088e7",
   "metadata": {},
   "outputs": [
    {
     "name": "stdout",
     "output_type": "stream",
     "text": [
      "Hello\n"
     ]
    }
   ],
   "source": [
    "class PropertyClass:\n",
    "    def __init__(self, msg):\n",
    "        self.message = msg\n",
    "    \n",
    "    def __str__(self):\n",
    "        return self.message\n",
    "    \n",
    "    @property\n",
    "    def message(self):\n",
    "        return self.__message\n",
    "    \n",
    "    @message.setter\n",
    "    def message(self, value):\n",
    "        if value != '':\n",
    "            self.__message = value\n",
    "\n",
    "\n",
    "pc = PropertyClass('Hello')\n",
    "print(pc.message)"
   ]
  },
  {
   "cell_type": "code",
   "execution_count": 6,
   "id": "63ad49ee-fcc1-469e-a3c0-07b1deb36036",
   "metadata": {},
   "outputs": [
    {
     "name": "stdout",
     "output_type": "stream",
     "text": [
      "Hello\n"
     ]
    }
   ],
   "source": [
    "pc.message=''\n",
    "print(pc)"
   ]
  },
  {
   "cell_type": "code",
   "execution_count": 7,
   "id": "833ebed3-88da-4e24-9d7b-75d8c4a8d98d",
   "metadata": {},
   "outputs": [
    {
     "name": "stdout",
     "output_type": "stream",
     "text": [
      "Bye!\n"
     ]
    }
   ],
   "source": [
    "pc.message = 'Bye!'\n",
    "print(pc)"
   ]
  },
  {
   "cell_type": "code",
   "execution_count": null,
   "id": "7ec68c6a-17b5-4c09-a948-333dc18658f1",
   "metadata": {},
   "outputs": [],
   "source": []
  }
 ],
 "metadata": {
  "kernelspec": {
   "display_name": "Python 3",
   "language": "python",
   "name": "python3"
  },
  "language_info": {
   "codemirror_mode": {
    "name": "ipython",
    "version": 3
   },
   "file_extension": ".py",
   "mimetype": "text/x-python",
   "name": "python",
   "nbconvert_exporter": "python",
   "pygments_lexer": "ipython3",
   "version": "3.8.8"
  }
 },
 "nbformat": 4,
 "nbformat_minor": 5
}
