{
 "cells": [
  {
   "cell_type": "code",
   "execution_count": 2,
   "id": "dcd46b4e-a2f1-4257-92dc-0dc03940835e",
   "metadata": {},
   "outputs": [],
   "source": [
    "import requests\n",
    "from bs4 import BeautifulSoup\n",
    "\n",
    "url = \"https://www.nikkei.com/\"\n",
    "res = requests.get(url)\n",
    "html = res.text\n",
    "soup = BeautifulSoup(html, \"lxml\")"
   ]
  },
  {
   "cell_type": "code",
   "execution_count": 5,
   "id": "723994f6-b957-48d6-a566-5b15a43a72ee",
   "metadata": {},
   "outputs": [
    {
     "name": "stdout",
     "output_type": "stream",
     "text": [
      "<span class=\"k-v\">試される対中包囲網　TPPが覇権争いの場に　</span>\n",
      "<span class=\"k-v\">日印首脳会談、デジタル協力推進　「現状変更反対」共有</span>\n"
     ]
    }
   ],
   "source": [
    "# Topのnewsのタイトルを取得\n",
    "title = soup.find(class_=\"k-card--headline k-card k-card--largest\").find(class_='k-v')\n",
    "print(title)\n",
    "\n",
    "# Subのnewsのタイトルを配列として取得し一番初めの記事のタイトルを表示\n",
    "titles = soup.find_all(class_='k-card--small')\n",
    "print(titles[0].find(class_='k-v'))"
   ]
  },
  {
   "cell_type": "code",
   "execution_count": 6,
   "id": "9f2d1eae-b9a7-4885-9d3d-c3fea1d5f39c",
   "metadata": {},
   "outputs": [
    {
     "name": "stdout",
     "output_type": "stream",
     "text": [
      "https://article-image-ix.nikkei.com/https%3A%2F%2Fimgix-proxy.n8s.jp%2FDSXZQO1077429023092021000000-1.jpg?w=800&h=500&auto=format%2Ccompress&ch=Width%2CDPR&q=45&fit=crop&bg=FFFFFF&crop=focalpoint&fp-x=0.5&fp-y=0.5&fp-z=1&ixlib=js-1.4.1&s=5e1fb3f8dd7f489f4e0ac2adab11f081\n",
      "<Response [200]>\n"
     ]
    }
   ],
   "source": [
    "import requests \n",
    "from bs4 import BeautifulSoup \n",
    "\n",
    "url = \"https://www.nikkei.com/\"\n",
    "res = requests.get(url)\n",
    "html = res.text\n",
    "soup = BeautifulSoup(html, \"lxml\")\n",
    "top_news_area = soup.find(class_=\"k-card--headline k-card k-card--largest\")\n",
    "\n",
    "img_tag = top_news_area.find(\"img\")\n",
    "\n",
    "img_url = img_tag.get(\"src\")\n",
    "print(img_url)\n",
    "\n",
    "# 画像を取得\n",
    "img = requests.get(img_url)\n",
    "print(img)\n",
    "\n",
    "# jpgとして保存\n",
    "with open(\"sample.jpg\", \"wb\") as f:\n",
    "    f.write(img.content)"
   ]
  },
  {
   "cell_type": "code",
   "execution_count": null,
   "id": "c434ee62-696c-4860-9fa1-7312beac6606",
   "metadata": {},
   "outputs": [],
   "source": []
  }
 ],
 "metadata": {
  "kernelspec": {
   "display_name": "Python 3 (ipykernel)",
   "language": "python",
   "name": "python3"
  },
  "language_info": {
   "codemirror_mode": {
    "name": "ipython",
    "version": 3
   },
   "file_extension": ".py",
   "mimetype": "text/x-python",
   "name": "python",
   "nbconvert_exporter": "python",
   "pygments_lexer": "ipython3",
   "version": "3.8.11"
  }
 },
 "nbformat": 4,
 "nbformat_minor": 5
}
