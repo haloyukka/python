{
 "cells": [
  {
   "cell_type": "code",
   "execution_count": 4,
   "metadata": {},
   "outputs": [
    {
     "name": "stdout",
     "output_type": "stream",
     "text": [
      "[[6.83531218e-11 9.19925580e-10 5.45313406e-10 3.99957356e-09\n",
      "  1.16873555e-14 2.17858107e-10 2.98023566e-16 1.00000000e+00\n",
      "  2.00886044e-10 4.71084283e-09]]\n",
      "7\n"
     ]
    },
    {
     "data": {
      "image/png": "[encoded data removed]",
      "text/plain": [
       "<Figure size 432x288 with 1 Axes>"
      ]
     },
     "metadata": {
      "needs_background": "light"
     },
     "output_type": "display_data"
    }
   ],
   "source": [
    "# (1) 学習済みモデルの読み込み\n",
    "from keras.models import load_model\n",
    "model = load_model('cnn.h5')\n",
    "\n",
    "# (2) MNIST テスト画像の読み込み\n",
    "from keras.datasets import mnist\n",
    "(train_images, train_labels), (test_images, test_labels) = mnist.load_data()\n",
    "test_images = test_images.astype('float32') / 255\n",
    "\n",
    "# (3) 予測する画像を表示\n",
    "%matplotlib inline\n",
    "import matplotlib.pyplot as plt\n",
    "plt.imshow(test_images[0], cmap='gray_r')\n",
    "\n",
    "# (4) 機械学習モデルによる予測\n",
    "import numpy as np\n",
    "pred = model.predict(test_images[0].reshape(1,28,28,1))\n",
    "print(pred)\n",
    "\n",
    "\n",
    "print(np.argmax(pred))"
   ]
  },
  {
   "cell_type": "code",
   "execution_count": 23,
   "metadata": {},
   "outputs": [
    {
     "data": {
      "text/html": [
       "\n",
       "<canvas width=\"280\" height=\"280\" style=\"border:solid\"></canvas>\n",
       "<script type=\"text/javascript\">\n",
       "    var pixels = [];\n",
       "    for(var i = 0; i < 28 * 28; i++) pixels[i] = 0;\n",
       "    var canvas = document.querySelector(\"canvas\");\n",
       "    var drawing = false;\n",
       "    \n",
       "    canvas.addEventListener(\"mousedown\", function(){\n",
       "    drawing = true;\n",
       "    });\n",
       "    \n",
       "    canvas.addEventListener(\"mouseup\", function(){\n",
       "        drawing = false;\n",
       "        IPython.notebook.kernel.execute(\"image = [\" + pixels + \"]\");\n",
       "    });\n",
       "    \n",
       "    canvas.addEventListener(\"mousemove\", function(e){\n",
       "        if (drawing){\n",
       "            var x = Math.floor(e.offsetX / 10);\n",
       "            var y = Math.floor(e.offsetY / 10);\n",
       "            if(0 <= x && x <= 27 && 0 <= y && y <= 27){\n",
       "                canvas.getContext(\"2d\").fillRect(x*10, y*10, 10, 10);\n",
       "                pixels[x+y*28] = 1;\n",
       "            }\n",
       "        }\n",
       "    })\n",
       "</script>\n"
      ],
      "text/plain": [
       "<IPython.core.display.HTML object>"
      ]
     },
     "execution_count": 23,
     "metadata": {},
     "output_type": "execute_result"
    }
   ],
   "source": [
    "# (1) Canvasを表示するHTML\n",
    "html= \"\"\"\n",
    "<canvas width=\"280\" height=\"280\" style=\"border:solid\"></canvas>\n",
    "<script type=\"text/javascript\">\n",
    "    var pixels = [];\n",
    "    for(var i = 0; i < 28 * 28; i++) pixels[i] = 0;\n",
    "    var canvas = document.querySelector(\"canvas\");\n",
    "    var drawing = false;\n",
    "    \n",
    "    canvas.addEventListener(\"mousedown\", function(){\n",
    "    drawing = true;\n",
    "    });\n",
    "    \n",
    "    canvas.addEventListener(\"mouseup\", function(){\n",
    "        drawing = false;\n",
    "        IPython.notebook.kernel.execute(\"image = [\" + pixels + \"]\");\n",
    "    });\n",
    "    \n",
    "    canvas.addEventListener(\"mousemove\", function(e){\n",
    "        if (drawing){\n",
    "            var x = Math.floor(e.offsetX / 10);\n",
    "            var y = Math.floor(e.offsetY / 10);\n",
    "            if(0 <= x && x <= 27 && 0 <= y && y <= 27){\n",
    "                canvas.getContext(\"2d\").fillRect(x*10, y*10, 10, 10);\n",
    "                pixels[x+y*28] = 1;\n",
    "            }\n",
    "        }\n",
    "    })\n",
    "</script>\n",
    "\"\"\"\n",
    "\n",
    "# (2) HTML の実行\n",
    "from IPython.display import HTML\n",
    "HTML(html)"
   ]
  },
  {
   "cell_type": "code",
   "execution_count": 24,
   "metadata": {},
   "outputs": [
    {
     "name": "stdout",
     "output_type": "stream",
     "text": [
      "7\n"
     ]
    }
   ],
   "source": [
    "# 機械学習モデルによる予測\n",
    "img = np.array(image, dtype=np.float32)\n",
    "pred = model.predict(img.reshape(1, 28, 28, 1))\n",
    "print(np.argmax(pred))"
   ]
  },
  {
   "cell_type": "code",
   "execution_count": null,
   "metadata": {},
   "outputs": [],
   "source": [
    "import numpy as np\n",
    "import tensorflow as tf\n",
    "from keras.models import load_model\n",
    "from flask import Flask, request\n",
    "from flask_cors import CORS\n",
    "\n",
    "app = Flask(__name__)\n",
    "CORS(app)\n",
    "model = load_model('cnn.h5')\n",
    "graph = tf.get_default_graph()\n",
    "\n",
    "@app.route('/predict', methods=['POST'])\n",
    "def predict():\n",
    "    req = [int(i) for i in request.form['image'].split(',')]\n",
    "    img = np.array(req, dtype=np.float32).reshape(1, 28, 28, 1)\n",
    "    with graph.as_default():\n",
    "        result = np.argmax(model.predict(img))\n",
    "    return str(result)\n",
    "\n",
    "if __name__ = '__main__':\n",
    "    app.run()"
   ]
  },
  {
   "cell_type": "code",
   "execution_count": null,
   "metadata": {},
   "outputs": [],
   "source": []
  },
  {
   "cell_type": "code",
   "execution_count": null,
   "metadata": {},
   "outputs": [],
   "source": []
  },
  {
   "cell_type": "code",
   "execution_count": null,
   "metadata": {},
   "outputs": [],
   "source": []
  },
  {
   "cell_type": "code",
   "execution_count": null,
   "metadata": {},
   "outputs": [],
   "source": []
  },
  {
   "cell_type": "code",
   "execution_count": null,
   "metadata": {},
   "outputs": [],
   "source": []
  },
  {
   "cell_type": "code",
   "execution_count": null,
   "metadata": {},
   "outputs": [],
   "source": []
  },
  {
   "cell_type": "code",
   "execution_count": null,
   "metadata": {},
   "outputs": [],
   "source": []
  },
  {
   "cell_type": "code",
   "execution_count": null,
   "metadata": {},
   "outputs": [],
   "source": []
  },
  {
   "cell_type": "code",
   "execution_count": null,
   "metadata": {},
   "outputs": [],
   "source": []
  },
  {
   "cell_type": "code",
   "execution_count": null,
   "metadata": {},
   "outputs": [],
   "source": []
  }
 ],
 "metadata": {
  "kernelspec": {
   "display_name": "Python 3",
   "language": "python",
   "name": "python3"
  },
  "language_info": {
   "codemirror_mode": {
    "name": "ipython",
    "version": 3
   },
   "file_extension": ".py",
   "mimetype": "text/x-python",
   "name": "python",
   "nbconvert_exporter": "python",
   "pygments_lexer": "ipython3",
   "version": "3.7.4"
  }
 },
 "nbformat": 4,
 "nbformat_minor": 2
}
