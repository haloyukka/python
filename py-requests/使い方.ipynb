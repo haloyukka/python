{
 "cells": [
  {
   "cell_type": "markdown",
   "metadata": {},
   "source": [
    "# <p style=\"font-size: 46px;font-weight: bold;padding-top: 1em;padding-bottom: 1em;margin-bottom: 2em;border-top: 3px solid #3f9613;border-bottom: 3px solid #409614;color: #409614;text-align: center;\">概要</p>\n",
    "`PythonのResuests`を使用するとWeb APIが使えるようになります。<br>\n",
    "Web APIを使用することで自社のWebサイトやアプリケーションに別のサービスの機能を組み込んで、より便利な仕組みを構築することができます。<br>\n",
    "\n",
    "---"
   ]
  },
  {
   "cell_type": "markdown",
   "metadata": {},
   "source": [
    "## <p style=\"font-size: 32px;font-weight: bold;padding-left: .5em;background-color: #ebf4f6;padding-top: .5em;padding-bottom: .5em;margin-bottom: 2em;border-left: 5px solid #318496;border-bottom: 2px solid #cccccc;color: #318496;\">Web APIとは</p>\n",
    "\n",
    "### 定義\n",
    "> `Web API`とは、コンピュータプログラムの提供する機能を外部の別のプログラムから呼び出して利用するための手順・規約（`API`：Application Programming Interface）の類型の一つで、`HTTP`など`Web`の技術を用いて構築されたもの。<br>\n",
    "<br>\n",
    "> 【参考文献】 IT用語辞典 e-Words 『Web API（ウェブAPI）とは - IT用語辞典 e-Words』<br>\n",
    "> https://e-words.jp/w/Web_API.html<br>\n",
    "\n",
    "### Webイメージ\n",
    "![](img/diagram.png)\n",
    "---"
   ]
  },
  {
   "cell_type": "markdown",
   "metadata": {},
   "source": [
    "## <p style=\"font-size: 32px;font-weight: bold;padding-left: .5em;background-color: #ebf4f6;padding-top: .5em;padding-bottom: .5em;margin-bottom: 2em;border-left: 5px solid #318496;border-bottom: 2px solid #cccccc;color: #318496;\">APIとWeb APIの違い</p>\n",
    "\n",
    "`API`(Application Programming Interface)は、OSやソフトウェアが管理する一部機能を外部のプログラムやアプリケーションから利用できるようにした仕組みのこと。<br>\n",
    "簡単にいうと、`APIはOSやソフトウェアの持つ汎用性の高い機能をまとめたパーツ`です。<br>\n",
    "<br>\n",
    "例えば、Microsoftの`Windows API`を自社で作るアプリケーションに組み込めば、スクラッチで複雑なプログラムを構築しなくても、Windowsのフォントやファイルシステムといった機能を利用できるようになります。<br>\n",
    "\n",
    "> 【参考文献】 Microsoft 『Windows API インデックス』<br>\n",
    "> https://docs.microsoft.com/ja-jp/windows/win32/apiindex/windows-api-list\n",
    "\n",
    "一方、Web APIは、`データのやり取りをHTTP/HTTPSベースで実現するAPI`のことを指します。<br>\n",
    "通常「API」は、API利用者が用いるプログラミング言語と同じ言語で提供されますが、Web APIはHTTP/HTTPSベースで利用するAPIのため、仮にプログラミング言語が異なるアプリケーション同士であっても連携でき、Webブラウザでも利用可能です。<br>\n",
    "Web APIは汎用性が高く、無料で利用できるものも多く登場しているので、`あらゆるシーンで活用されています`。\n",
    "\n",
    "![代替テキスト](./img/zu01.jpg \"画像タイトル\")\n",
    "\n",
    "> 【参考文献】日経XTECH 『Part1 Web APIプログラミングに挑戦しよう！』<br>\n",
    "> https://xtech.nikkei.com/it/article/COLUMN/20060925/248842/\n",
    "\n",
    "---"
   ]
  },
  {
   "cell_type": "markdown",
   "metadata": {},
   "source": [
    "## <p style=\"font-size: 32px;font-weight: bold;padding-left: .5em;background-color: #ebf4f6;padding-top: .5em;padding-bottom: .5em;margin-bottom: 2em;border-left: 5px solid #318496;border-bottom: 2px solid #cccccc;color: #318496;\">Web APIの代表的な種類</P>\n",
    "<br>\n",
    "Web APIの実装方式は、主に以下の2種類に分けられます。\n",
    "<br>\n",
    "\n",
    "### ・SOAP API\n",
    "`SOAP API(SimpleObject Access Protocol)`は、Webサービスを実装する際にHTTPリクエストおよびHTTPレスポンスにXMLフォーマットを使用してデータのやり取りを行うRPCプロトコル(※1)です。<br>\n",
    "<br>\n",
    "プログラミング言語やプラットフォームに依存しないという特徴があり、HTTPだけでなく、SMTPなどの任意の通信プロトコルも使用できます。<br>\n",
    "SOAPでは複雑な入力を必要としたり、入出力に対してチェックを必要とするようなサービス等での利用に向いています。<br>\n",
    "<br>\n",
    "※１：別のコンピュータ・プログラムを遠隔で実行するプロトコル<br>\n",
    "\n",
    "### ・REST API\n",
    "`REST(Representational State Transfer)`の設計原則によって実装されたWeb APIを「`REST API / RESTful API`」と呼びます。<br>\n",
    "適切なHTTPメソッドを使い、Web上のリソース（HTML、ファイル、画像など）、固有のURIへアクセスします。<br>\n",
    "<br>\n",
    "RESTの考え方は、以下のとおりです。<br>\n",
    "\n",
    "|思想|詳細|\n",
    "|---|---|\n",
    "|アドレス可能性<br>(Addressability)|全てのリソースが一意なURI（識別子）を持っている（提供するリソースは全てURIで表現できる）|\n",
    "|ステートレス性<br>(Stateless)|セッション管理や状態管理などはしない（情報を保持せずやり取りは１回ごとに完結する）|\n",
    "|接続性<br>(Connectability)|やり取りされる情報に別のリンク（ハイパーリンク）を含めることができる|\n",
    "|統一インターフェース<br>(Uniform Interface)|リソースの操作（取得、作成、更新、削除）は、HTTPメソッド（GET、POST、PUT、DELETE）を利用し、結果はXMLやHTML、JSON、CSV、プレーンテキストなどで返される|\n",
    "\n",
    "<br>\n",
    "\n",
    "### Web APIを使うには\n",
    "\n",
    "以下の項目を把握しているだけで、相手方(Web APIサーバー)がどのように作られているかを意識しなくてもよくなります。\n",
    "\n",
    "|項目|Web API用語|\n",
    "|---|---|\n",
    "|どこにデータを投げるのか|リクエストURL|\n",
    "|どうやって投げるのか|HTTPメソッド（GET、POST、PUT、DELETE）|\n",
    "|どういうデータを投げたら、どういうデータが返ってくるのか|リクエストパラメータ、レスポンスフィールド|\n",
    "\n",
    "<br>\n",
    "\n",
    "---"
   ]
  },
  {
   "cell_type": "markdown",
   "metadata": {},
   "source": [
    "## <p style=\"font-size: 32px;font-weight: bold;padding-left: .5em;background-color: #ebf4f6;padding-top: .5em;padding-bottom: .5em;margin-bottom: 2em;border-left: 5px solid #318496;border-bottom: 2px solid #cccccc;color: #318496;\">Web APIとWebスクレイピングの違い</p>\n",
    "\n",
    "|Web API|Web スクレイピング|\n",
    "|---|---|\n",
    "|リクエストデータの形式が決まっている|HTMLのタグや属性を自分で調査する必要がある|\n",
    "|仕様変更は告知される|ウェブサイトがレイアウトは突然変更される<br>作者が変更を加えるとデータ位置やスタイルが変わってしまう|\n",
    "|公開されているWeb APIの数は多くない|Web スクレイピングできるサイトは多い|"
   ]
  },
  {
   "cell_type": "markdown",
   "metadata": {},
   "source": [
    "# <p style=\"font-size: 46px;font-weight: bold;padding-top: 1em;padding-bottom: 1em;margin-bottom: 2em;border-top: 3px solid #3f9613;border-bottom: 3px solid #409614;color: #409614;text-align: center;\">実践</p>"
   ]
  },
  {
   "cell_type": "markdown",
   "metadata": {},
   "source": [
    "## <p style=\"font-size: 32px;font-weight: bold;padding-left: .5em;background-color: #ebf4f6;padding-top: .5em;padding-bottom: .5em;margin-bottom: 2em;border-left: 5px solid #318496;border-bottom: 2px solid #cccccc;color: #318496;\">環境構築</p>"
   ]
  },
  {
   "cell_type": "markdown",
   "metadata": {},
   "source": [
    "## Pythonライブラリ\n",
    "\n",
    "`Requests`に関するドキュメント類\n",
    "\n",
    "|概要|URL|備考|\n",
    "|---|---|---|\n",
    "|英語ドキュメント|https://docs.python-requests.org/en/latest/|英語版|\n",
    "|日本語ドキュメント|https://requests-docs-ja.readthedocs.io/en/latest/#|日本版|\n",
    "|GitHub|https://github.com/psf/requests|GitHub|\n",
    "|PYPI|https://pypi.org/project/requests/|Pythonのサードパーティソフトウェアリポジトリ|\n",
    "\n",
    "インストール方法\n",
    "```\n",
    "$ python -m pip install requests\n",
    "```"
   ]
  },
  {
   "cell_type": "markdown",
   "metadata": {},
   "source": [
    "## 今回使用するWeb API\n",
    "\n",
    "郵便番号検索API<br>\n",
    "https://zipcloud.ibsnet.co.jp/doc/api\n",
    "\n",
    "\n",
    "|項目|Web API用語|郵便番号検索API|\n",
    "|---|---|---|\n",
    "|どこにデータを投げるのか|リクエストURL|https://zipcloud.ibsnet.co.jp/api/search|\n",
    "|どうやって投げるのか|HTTPメソッド（`GET`、POST、PUT、DELETE）|GET|\n",
    "|どういうデータを投げたら、どういうデータが返ってくるのか|リクエストパラメータ、レスポンスフィールド|・パラメータ<br>zipcode,callback,limit<br>・レスポンス<br>status,result,message|"
   ]
  },
  {
   "cell_type": "markdown",
   "metadata": {},
   "source": [
    "---"
   ]
  },
  {
   "cell_type": "markdown",
   "metadata": {},
   "source": [
    "## <p style=\"font-size: 32px;font-weight: bold;padding-left: .5em;background-color: #ebf4f6;padding-top: .5em;padding-bottom: .5em;margin-bottom: 2em;border-left: 5px solid #318496;border-bottom: 2px solid #cccccc;color: #318496;\">コード</p>"
   ]
  },
  {
   "cell_type": "markdown",
   "metadata": {},
   "source": [
    "## 基本形"
   ]
  },
  {
   "cell_type": "code",
   "execution_count": 1,
   "metadata": {},
   "outputs": [
    {
     "name": "stdout",
     "output_type": "stream",
     "text": [
      "200\n",
      "{\n",
      "\t\"message\": null,\n",
      "\t\"results\": [\n",
      "\t\t{\n",
      "\t\t\t\"address1\": \"高知県\",\n",
      "\t\t\t\"address2\": \"南国市\",\n",
      "\t\t\t\"address3\": \"蛍が丘\",\n",
      "\t\t\t\"kana1\": \"ｺｳﾁｹﾝ\",\n",
      "\t\t\t\"kana2\": \"ﾅﾝｺｸｼ\",\n",
      "\t\t\t\"kana3\": \"ﾎﾀﾙｶﾞｵｶ\",\n",
      "\t\t\t\"prefcode\": \"39\",\n",
      "\t\t\t\"zipcode\": \"7830060\"\n",
      "\t\t}\n",
      "\t],\n",
      "\t\"status\": 200\n",
      "}\n"
     ]
    }
   ],
   "source": [
    "import requests\n",
    "res = requests.get('https://zipcloud.ibsnet.co.jp/api/search?zipcode=7830060')\n",
    "print(res.status_code)\n",
    "print(res.text)"
   ]
  },
  {
   "cell_type": "markdown",
   "metadata": {},
   "source": [
    "## JSONアクセス"
   ]
  },
  {
   "cell_type": "code",
   "execution_count": 19,
   "metadata": {},
   "outputs": [
    {
     "name": "stdout",
     "output_type": "stream",
     "text": [
      "高知県南国市蛍が丘\n"
     ]
    }
   ],
   "source": [
    "import requests\n",
    "res = requests.get('https://zipcloud.ibsnet.co.jp/api/search?zipcode=7830060')\n",
    "res_json = res.json()\n",
    "result = res_json['results'][0]\n",
    "address = result['address1'] + result['address2'] + result['address3']\n",
    "\n",
    "print(address)"
   ]
  },
  {
   "cell_type": "markdown",
   "metadata": {},
   "source": [
    "## パラメーター引数(params)をディクショナリで持つ"
   ]
  },
  {
   "cell_type": "code",
   "execution_count": 20,
   "metadata": {},
   "outputs": [
    {
     "name": "stdout",
     "output_type": "stream",
     "text": [
      "200\n",
      "{\n",
      "\t\"message\": null,\n",
      "\t\"results\": [\n",
      "\t\t{\n",
      "\t\t\t\"address1\": \"愛知県\",\n",
      "\t\t\t\"address2\": \"清須市\",\n",
      "\t\t\t\"address3\": \"春日明河原\",\n",
      "\t\t\t\"kana1\": \"ｱｲﾁｹﾝ\",\n",
      "\t\t\t\"kana2\": \"ｷﾖｽｼ\",\n",
      "\t\t\t\"kana3\": \"ﾊﾙﾋｱｹｶﾞﾜﾗ\",\n",
      "\t\t\t\"prefcode\": \"23\",\n",
      "\t\t\t\"zipcode\": \"4520961\"\n",
      "\t\t},\n",
      "\t\t{\n",
      "\t\t\t\"address1\": \"愛知県\",\n",
      "\t\t\t\"address2\": \"清須市\",\n",
      "\t\t\t\"address3\": \"春日一番割\",\n",
      "\t\t\t\"kana1\": \"ｱｲﾁｹﾝ\",\n",
      "\t\t\t\"kana2\": \"ｷﾖｽｼ\",\n",
      "\t\t\t\"kana3\": \"ﾊﾙﾋｲﾁﾊﾞﾝﾜﾘ\",\n",
      "\t\t\t\"prefcode\": \"23\",\n",
      "\t\t\t\"zipcode\": \"4520961\"\n",
      "\t\t}\n",
      "\t],\n",
      "\t\"status\": 200\n",
      "}\n"
     ]
    }
   ],
   "source": [
    "import requests\n",
    "# res = requests.get('https://zipcloud.ibsnet.co.jp/api/search', params={'zipcode':'452-0961'})\n",
    "res = requests.get('https://zipcloud.ibsnet.co.jp/api/search', params={'zipcode':'452-0961','limit':'2'})\n",
    "print(res.status_code)\n",
    "print(res.text)"
   ]
  },
  {
   "cell_type": "markdown",
   "metadata": {},
   "source": [
    "## 認証関連\n",
    "\n",
    "Web APIの中には`認証`が必要なものがあります。<br>\n",
    "`認証`に成功しないとWeb APIを呼ぶことができません。<br>\n",
    "<br>\n",
    "\n",
    "> 認証とは、対象の正当性や真正性を確かめること<br>\n",
    "> 【参考文献】IT用語辞典 e-Words 『認証とは - IT用語辞典 e-Words』<br>\n",
    "> https://e-words.jp/w/%E8%AA%8D%E8%A8%BC.html\n",
    "\n",
    "<br>\n",
    "\n",
    "> 【参考文献】Twitter Japan 『ベアラートークンの使用と生成』<br>\n",
    "> https://developer.twitter.com/ja/docs/authentication/oauth-2-0/bearer-tokens\n"
   ]
  },
  {
   "cell_type": "markdown",
   "metadata": {},
   "source": [
    "## 実装サンプル"
   ]
  },
  {
   "cell_type": "code",
   "execution_count": 1,
   "metadata": {},
   "outputs": [],
   "source": [
    "import requests\n",
    "import os\n",
    "import json\n",
    "\n",
    "# 例 : 事前に各マシンの環境変数にベアラートークン設定を行う\n",
    "# bearer_token = os.environ.get(\"BEARER_TOKEN\")\n",
    "# headers = {\"Authorization\": f\"Bearer {bearer_token}\"}\n",
    "# url = 'リクエストURL'\n",
    "# response = requests.get(url, headers=headers)\n",
    "\n",
    "# json_response = response.json()\n",
    "# print(json.dumps(json_response, indent=2, ensure_ascii=False))\n"
   ]
  },
  {
   "cell_type": "markdown",
   "metadata": {},
   "source": [
    "# <p style=\"font-size: 46px;font-weight: bold;padding-top: 1em;padding-bottom: 1em;margin-bottom: 2em;border-top: 3px solid #3f9613;border-bottom: 3px solid #409614;color: #409614;text-align: center;\">おすすめAPI</p>"
   ]
  },
  {
   "cell_type": "markdown",
   "metadata": {},
   "source": [
    "|タイトル|概要|URL|\n",
    "|---|---|---|\n",
    "|Google Sheets API|Googleスプレッドシートの読み取り|https://developers.google.com/sheets/api/reference/rest/|\n",
    "|Google YouTube Data API|YouTubeを検索し、動画・再生リスト・チャンネルなどの一覧を取得、更新|https://developers.google.com/youtube/v3/docs/|\n",
    "|Google Maps JavaScript API|Web上での地図表示、経路案内|https://developers.google.com/maps/documentation/javascript/overview|\n",
    "|Google Cloud Vision API|Googleの画像認識AI|https://cloud.google.com/vision/docs/quickstart|\n",
    "|Twitter API|ツイートの検索・取得・投稿など|https://developer.twitter.com/en/docs|\n",
    "|GitHub API|バージョン管理のGithubを扱うことができるAPI|https://docs.github.com/en/rest|\n",
    "\n",
    "\n",
    "\n",
    "【参考文献】『個人でも使える！おすすめAPI一覧』<br>\n",
    "https://qiita.com/mikan3rd/items/ba4737023f08bb2ca161<br>\n",
    "<br>\n",
    "【参考文献】『【2022年最新】作りたいアプリ別API一覧を全紹介〜随時更新〜』<br>\n",
    "https://www.sejuku.net/blog/7278<br>"
   ]
  },
  {
   "cell_type": "markdown",
   "metadata": {},
   "source": [
    "---\n",
    "\n",
    "# 以上"
   ]
  }
 ],
 "metadata": {
  "interpreter": {
   "hash": "383de82e0d02e5441aff8a8b155c841acd1d8d51abdfb1b42f842b16d52cc76a"
  },
  "kernelspec": {
   "display_name": "Python 3.9.6 64-bit",
   "language": "python",
   "name": "python3"
  },
  "language_info": {
   "codemirror_mode": {
    "name": "ipython",
    "version": 3
   },
   "file_extension": ".py",
   "mimetype": "text/x-python",
   "name": "python",
   "nbconvert_exporter": "python",
   "pygments_lexer": "ipython3",
   "version": "3.9.6"
  },
  "orig_nbformat": 4
 },
 "nbformat": 4,
 "nbformat_minor": 2
}
