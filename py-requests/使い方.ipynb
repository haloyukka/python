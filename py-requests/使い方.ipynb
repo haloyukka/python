{
 "cells": [
  {
   "cell_type": "markdown",
   "metadata": {},
   "source": [
    "# 概要\n",
    "Web APIが使えると公開されているいろんなデータが自動で簡単に取得できるようになりとても便利です。\n",
    "\n",
    "---"
   ]
  },
  {
   "cell_type": "markdown",
   "metadata": {},
   "source": [
    "# Web APIとは\n",
    "\n",
    "## 定義\n",
    "`Web API`とは、コンピュータプログラムの提供する機能を外部の別のプログラムから呼び出して利用するための手順・規約（`API`：Application Programming Interface）の類型の一つで、`HTTP`など`Web`の技術を用いて構築されたもの。<br>\n",
    "\n",
    "> ・参考文献<br>\n",
    "> IT用語辞典 e-Words \"Web API（ウェブAPI）とは - IT用語辞典 e-Words\"<br>\n",
    "> https://e-words.jp/w/Web_API.html<br>\n",
    "\n",
    "## Web API\n",
    "イメージですが<br>\n",
    "![代替テキスト](./img/img-01.png \"画像タイトル\")\n",
    "\n",
    "## どんな時に使う？\n",
    "自分では持っていないデータをPython上で使用したい時などに使います。\n",
    "\n",
    "## Web APIとWeb スクレイピングの違い\n",
    "\n",
    "|Web API|Web スクレイピング|\n",
    "|---|---|\n",
    "|リクエストデータの形式決まっている|HTMLのタグや属性を自分で調査する必要がある|\n",
    "|仕様変更は告知される|ウェブサイトがレイアウトは突然変更される。<br>作者が変更を加えるとデータ位置やスタイルが変わってしまう|\n",
    "|公開されているWeb APIの数は多くない|Web スクレイピングできるサイトは多い|\n",
    "\n",
    "---"
   ]
  },
  {
   "cell_type": "markdown",
   "metadata": {},
   "source": [
    "郵便番検索API<br>\n",
    "https://zipcloud.ibsnet.co.jp/doc/api"
   ]
  },
  {
   "cell_type": "markdown",
   "metadata": {},
   "source": [
    "‐ requestsのライブラリドキュメント類\n",
    "|概要|URL|備考|\n",
    "|---|---|---|\n",
    "|英語ドキュメント|https://docs.python-requests.org/en/latest/|英語版|\n",
    "|日本語ドキュメント|https://requests-docs-ja.readthedocs.io/en/latest/#|日本版|\n",
    "|GitHub|https://github.com/psf/requests|GitHub|\n",
    "|PYPI|https://pypi.org/project/requests/|Pythonのサードパーティソフトウェアリポジトリ|\n",
    "\n",
    "インストール方法\n",
    "```\n",
    "$ python -m pip install requests\n",
    "```"
   ]
  },
  {
   "cell_type": "code",
   "execution_count": null,
   "metadata": {},
   "outputs": [],
   "source": []
  },
  {
   "cell_type": "code",
   "execution_count": null,
   "metadata": {},
   "outputs": [],
   "source": []
  },
  {
   "cell_type": "code",
   "execution_count": null,
   "metadata": {},
   "outputs": [],
   "source": []
  },
  {
   "cell_type": "markdown",
   "metadata": {},
   "source": []
  },
  {
   "cell_type": "code",
   "execution_count": 1,
   "metadata": {},
   "outputs": [
    {
     "name": "stdout",
     "output_type": "stream",
     "text": [
      "200\n",
      "{\n",
      "\t\"message\": null,\n",
      "\t\"results\": [\n",
      "\t\t{\n",
      "\t\t\t\"address1\": \"高知県\",\n",
      "\t\t\t\"address2\": \"南国市\",\n",
      "\t\t\t\"address3\": \"蛍が丘\",\n",
      "\t\t\t\"kana1\": \"ｺｳﾁｹﾝ\",\n",
      "\t\t\t\"kana2\": \"ﾅﾝｺｸｼ\",\n",
      "\t\t\t\"kana3\": \"ﾎﾀﾙｶﾞｵｶ\",\n",
      "\t\t\t\"prefcode\": \"39\",\n",
      "\t\t\t\"zipcode\": \"7830060\"\n",
      "\t\t}\n",
      "\t],\n",
      "\t\"status\": 200\n",
      "}\n",
      "高知県南国市蛍が丘\n"
     ]
    }
   ],
   "source": [
    "import requests\n",
    "res = requests.get('https://zipcloud.ibsnet.co.jp/api/search?zipcode=7830060')\n",
    "print(res.status_code)\n",
    "print(res.text)\n",
    "res_jason = res.json()\n",
    "result = res_jason['results'][0]\n",
    "address = result['address1'] + result['address2'] + result['address3']\n",
    "\n",
    "print(address)"
   ]
  },
  {
   "cell_type": "code",
   "execution_count": 28,
   "metadata": {},
   "outputs": [
    {
     "name": "stdout",
     "output_type": "stream",
     "text": [
      "200\n",
      "{\n",
      "\t\"message\": null,\n",
      "\t\"results\": [\n",
      "\t\t{\n",
      "\t\t\t\"address1\": \"高知県\",\n",
      "\t\t\t\"address2\": \"南国市\",\n",
      "\t\t\t\"address3\": \"蛍が丘\",\n",
      "\t\t\t\"kana1\": \"ｺｳﾁｹﾝ\",\n",
      "\t\t\t\"kana2\": \"ﾅﾝｺｸｼ\",\n",
      "\t\t\t\"kana3\": \"ﾎﾀﾙｶﾞｵｶ\",\n",
      "\t\t\t\"prefcode\": \"39\",\n",
      "\t\t\t\"zipcode\": \"7830060\"\n",
      "\t\t}\n",
      "\t],\n",
      "\t\"status\": 200\n",
      "}\n"
     ]
    }
   ],
   "source": [
    "import requests\n",
    "res = requests.get('https://zipcloud.ibsnet.co.jp/api/search', params={'zipcode':'7830060'})\n",
    "print(res.status_code)\n",
    "print(res.text)\n",
    "res_json = res.json()\n",
    "result1 = res_json['results'][0]"
   ]
  },
  {
   "cell_type": "code",
   "execution_count": null,
   "metadata": {},
   "outputs": [],
   "source": []
  }
 ],
 "metadata": {
  "interpreter": {
   "hash": "383de82e0d02e5441aff8a8b155c841acd1d8d51abdfb1b42f842b16d52cc76a"
  },
  "kernelspec": {
   "display_name": "Python 3.9.6 64-bit",
   "language": "python",
   "name": "python3"
  },
  "language_info": {
   "codemirror_mode": {
    "name": "ipython",
    "version": 3
   },
   "file_extension": ".py",
   "mimetype": "text/x-python",
   "name": "python",
   "nbconvert_exporter": "python",
   "pygments_lexer": "ipython3",
   "version": "3.9.6"
  },
  "orig_nbformat": 4
 },
 "nbformat": 4,
 "nbformat_minor": 2
}
