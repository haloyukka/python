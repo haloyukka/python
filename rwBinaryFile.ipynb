{
 "cells": [
  {
   "cell_type": "code",
   "execution_count": 1,
   "metadata": {},
   "outputs": [
    {
     "name": "stdout",
     "output_type": "stream",
     "text": [
      "32\n",
      "('かわさき', 120, 99.9)\n",
      "('かわさき', 120, 99.9)\n",
      "[('かわさき', 120, 99.9), ('えんどう', 60, 68.3), ('いっしき', 25, 65.2)]\n"
     ]
    }
   ],
   "source": [
    "# structモジュールを使ってバイナリファイルに書き込み\n",
    "from struct import pack, unpack, calcsize, iter_unpack\n",
    "\n",
    "person = ('かわさき', 120, 99.9)\n",
    "fmt = '20sid'  # 長さ20のバイト列（20s）、整数（i）、倍精度浮動小数点（d）\n",
    "b = pack(fmt, person[0].encode(), person[1], person[2])  # fmtに従ってバイト列化\n",
    "\n",
    "with open('data.bin', 'wb') as f:\n",
    "    f.write(b)\n",
    "\n",
    "# データサイズの計算\n",
    "data_size = calcsize(fmt)\n",
    "print(data_size)  # 32（このデータは32バイト長）\n",
    "\n",
    "# バイナリファイルから読み込んで、structモジュールを使って復元\n",
    "with open('data.bin', 'rb') as f:\n",
    "    b = f.read(data_size)\n",
    "\n",
    "data = unpack(fmt, b)\n",
    "data = (data[0].strip(b'\\x00').decode(), data[1], data[2])\n",
    "print(data)  # ('かわさき', 120, 99.9)\n",
    "\n",
    "# pathlibモジュールを使う\n",
    "from pathlib import Path\n",
    "p = Path('data2.bin')\n",
    "b = pack(fmt, person[0].encode(), person[1], person[2])\n",
    "p.write_bytes(b)\n",
    "\n",
    "b = p.read_bytes()\n",
    "data = unpack(fmt, b)\n",
    "data = (data[0].strip(b'\\x00').decode(), data[1], data[2])\n",
    "print(data)  # ('かわさき', 120, 99.9)\n",
    "\n",
    "# 複数のデータをバイナリファイルに書き込み\n",
    "p_list = [('かわさき', 120, 99.9),\n",
    "          ('えんどう', 60, 68.3),\n",
    "          ('いっしき', 25, 65.2)]\n",
    "\n",
    "fmt = '20sid'\n",
    "with open('data.bin', 'wb') as f:\n",
    "    b = [pack(fmt, p[0].encode(), p[1], p[2]) for p in p_list]\n",
    "    f.writelines(b)\n",
    "\n",
    "# 複数のデータをバイナリファイルから読み込み\n",
    "data_size = calcsize(fmt)\n",
    "\n",
    "with open('data.bin', 'rb') as f:\n",
    "    b = f.read()\n",
    "\n",
    "result = [(d[0].strip(b'\\x00').decode(), d[1], d[2]) for d in iter_unpack(fmt, b)]\n",
    "\n",
    "print(result)"
   ]
  }
 ],
 "metadata": {
  "kernelspec": {
   "display_name": "Python 3",
   "language": "python",
   "name": "python3"
  },
  "language_info": {
   "codemirror_mode": {
    "name": "ipython",
    "version": 3
   },
   "file_extension": ".py",
   "mimetype": "text/x-python",
   "name": "python",
   "nbconvert_exporter": "python",
   "pygments_lexer": "ipython3",
   "version": "3.7.4"
  }
 },
 "nbformat": 4,
 "nbformat_minor": 4
}
