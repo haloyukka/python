{
  "nbformat": 4,
  "nbformat_minor": 0,
  "metadata": {
    "colab": {
      "name": "MyRequirements.ipynb",
      "provenance": [],
      "collapsed_sections": [],
      "authorship_tag": "ABX9TyP7cWvC7LvM6yT3kY6LbN1N",
      "include_colab_link": true
    },
    "kernelspec": {
      "name": "python3",
      "display_name": "Python 3"
    },
    "language_info": {
      "name": "python"
    }
  },
  "cells": [
    {
      "cell_type": "markdown",
      "metadata": {
        "id": "view-in-github",
        "colab_type": "text"
      },
      "source": [
        "<a href=\"https://colab.research.google.com/github/haloyukka/python/blob/master/MyRequirements/MyRequirements.ipynb\" target=\"_parent\"><img src=\"https://colab.research.google.com/assets/colab-badge.svg\" alt=\"Open In Colab\"/></a>"
      ]
    },
    {
      "cell_type": "markdown",
      "source": [
        "# ◆ 概要\n",
        "Pythonのパッケージをpipで管理している場合、設定ファイルを`requirements.txt`を使用し、指定のパッケージを指定のバージョンで一括インストールすることができる。<br>\n",
        "\n",
        "参照ドキュメント<br>\n",
        "https://pip.pypa.io/en/latest/user_guide/#requirements-files\n",
        "\n",
        "\n",
        "\n",
        "*   pipの一括インストールオプション\n",
        "*   設定ファイル`requirements.txt`の書き方\n",
        "*   現環境の設定ファイル書き出し\n",
        "\n",
        "# ◆ pipの一括インストールオプション\n",
        "Windows\n",
        "```\n",
        "py -m pip install -r requirements.txt\n",
        "```\n",
        "Unix/macOS\n",
        "```\n",
        "python -m pip install -r requirements.txt\n",
        "```\n",
        "\n",
        "# ◆ 設定ファイル`requirements.txt`の書き方\n",
        "`requirements.txt`のファイルフォーマットは以下の通り。<br>\n",
        "https://pip.pypa.io/en/latest/reference/requirements-file-format/#requirements-file-format\n",
        "\n",
        "```\n",
        "# This is a comment, to show how #-prefixed lines are ignored.\n",
        "# It is possible to specify requirements as plain names.\n",
        "pytest\n",
        "pytest-cov\n",
        "beautifulsoup4\n",
        "\n",
        "# The syntax supported here is the same as that of requirement specifiers.\n",
        "docopt == 0.6.1\n",
        "requests [security] >= 2.8.1, == 2.8.* ; python_version < \"2.7\"\n",
        "urllib3 @ https://github.com/urllib3/urllib3/archive/refs/tags/1.26.8.zip\n",
        "\n",
        "# It is possible to refer to other requirement files or constraints files.\n",
        "-r other-requirements.txt\n",
        "-c constraints.txt\n",
        "\n",
        "# It is possible to refer to specific local distribution paths.\n",
        "./downloads/numpy-1.9.2-cp34-none-win32.whl\n",
        "\n",
        "# It is possible to refer to URLs.\n",
        "http://wxpython.org/Phoenix/snapshot-builds/wxPython_Phoenix-3.0.3.dev1820+49a8884-cp34-none-win_amd64.whl\n",
        "```\n",
        "\n",
        "# ◆ 現環境の設定ファイル書き出し\n",
        "## 使い方\n",
        "Windows\n",
        "```\n",
        "py -m pip freeze [options]\n",
        "```\n",
        "Unix/macOS\n",
        "```\n",
        "python -m pip freeze [options]\n",
        "```\n",
        "# 説明\n",
        "requirementsフォーマットでインストールされたパッケージを出力する。<br>\n",
        "パッケージは大文字と小文字を区別しないソート順でリスト化される。<br>\n",
        "\n",
        "## Options\n",
        "下記参照<br>\n",
        "https://pip.pypa.io/en/latest/cli/pip_freeze/#options\n",
        "\n",
        "## Examples\n",
        "1. requirementsファイルの要件形式に適した出力を生成\n",
        "Windows\n",
        "```\n",
        "C:\\> py -m pip freeze\n",
        "docutils==0.11\n",
        "Jinja2==2.7.2\n",
        "MarkupSafe==0.19\n",
        "Pygments==1.6\n",
        "Sphinx==1.2.2\n",
        "```\n",
        "Unix/macOS\n",
        "```\n",
        "$ python -m pip freeze\n",
        "docutils==0.11\n",
        "Jinja2==2.7.2\n",
        "MarkupSafe==0.19\n",
        "Pygments==1.6\n",
        "Sphinx==1.2.2\n",
        "```\n",
        "\n",
        "2. 要件ファイルを出力し、そこから別の環境へインストールする\n",
        "Windows\n",
        "```\n",
        "env1\\bin\\python -m pip freeze > requirements.txt\n",
        "env2\\bin\\python -m pip install -r requirements.txt\n",
        "```\n",
        "Unix/macOS\n",
        "```\n",
        "env1/bin/python -m pip freeze > requirements.txt\n",
        "env2/bin/python -m pip install -r requirements.txt\n",
        "```"
      ],
      "metadata": {
        "id": "nXxtQ6lk-bFV"
      }
    },
    {
      "cell_type": "code",
      "execution_count": null,
      "metadata": {
        "id": "0aBVAGki99OM"
      },
      "outputs": [],
      "source": [
        ""
      ]
    }
  ]
}