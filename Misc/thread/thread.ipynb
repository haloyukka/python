{
 "cells": [
  {
   "cell_type": "markdown",
   "metadata": {},
   "source": [
    "スレッドはプロセス内で実行され、プロセス内のすべてのものにアクセスできる。<br>\n",
    "多重人格のようなものだ。<br>\n",
    "multiprocessingモジュールには、プロセスではなくスレッドを使うthreadingという親類がある。"
   ]
  },
  {
   "cell_type": "code",
   "execution_count": 1,
   "metadata": {
    "collapsed": true
   },
   "outputs": [],
   "source": [
    "import threading"
   ]
  },
  {
   "cell_type": "code",
   "execution_count": 2,
   "metadata": {
    "collapsed": true
   },
   "outputs": [],
   "source": [
    "def do_this(what):\n",
    "    whoami(what)"
   ]
  },
  {
   "cell_type": "code",
   "execution_count": 3,
   "metadata": {
    "collapsed": false
   },
   "outputs": [],
   "source": [
    "def whoami(what):\n",
    "    print(\"Thread %s says: %s\" % (threading.current_thread(),what))"
   ]
  },
  {
   "cell_type": "code",
   "execution_count": 4,
   "metadata": {
    "collapsed": false
   },
   "outputs": [
    {
     "name": "stdout",
     "output_type": "stream",
     "text": [
      "Thread <_MainThread(MainThread, started 12740)> says: I'm the main program\n",
      "Thread <Thread(Thread-6, started 8068)> says: I'm function 0\n",
      "Thread <Thread(Thread-7, started 12952)> says: I'm function 1Thread <Thread(Thread-8, started 14264)> says: I'm function 2\n",
      "\n",
      "Thread <Thread(Thread-9, started 19720)> says: I'm function 3\n"
     ]
    }
   ],
   "source": [
    "if __name__ == \"__main__\":\n",
    "    whoami(\"I'm the main program\")\n",
    "    for n in range(4):\n",
    "        p = threading.Thread(target=do_this,\n",
    "                            args=(\"I'm function %s\" % n,))\n",
    "        p.start()"
   ]
  },
  {
   "cell_type": "code",
   "execution_count": null,
   "metadata": {
    "collapsed": true
   },
   "outputs": [],
   "source": []
  }
 ],
 "metadata": {
  "kernelspec": {
   "display_name": "Python 3",
   "language": "python",
   "name": "python3"
  },
  "language_info": {
   "codemirror_mode": {
    "name": "ipython",
    "version": 3
   },
   "file_extension": ".py",
   "mimetype": "text/x-python",
   "name": "python",
   "nbconvert_exporter": "python",
   "pygments_lexer": "ipython3",
   "version": "3.6.0"
  }
 },
 "nbformat": 4,
 "nbformat_minor": 2
}
