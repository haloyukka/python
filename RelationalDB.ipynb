{
 "cells": [
  {
   "cell_type": "markdown",
   "id": "b85e932e-5586-4c61-a79f-485b4251d56c",
   "metadata": {},
   "source": [
    "***\n",
    "SQLite\n",
    "critter\n",
    "    動物の名前。主キー（可変長文字列）\n",
    "count\n",
    "    その動物の現在の個体数（整数）\n",
    "damages\n",
    "    動物とのふれあいによる現在の損失額（整数）\n",
    "***"
   ]
  },
  {
   "cell_type": "code",
   "execution_count": 6,
   "id": "7da4bf1b-e533-4779-8776-d84c4f583c39",
   "metadata": {},
   "outputs": [
    {
     "data": {
      "text/plain": [
       "<sqlite3.Cursor at 0x2cc92708dc0>"
      ]
     },
     "execution_count": 6,
     "metadata": {},
     "output_type": "execute_result"
    }
   ],
   "source": [
    "import sqlite3\n",
    "conn = sqlite3.connect('enterprise.db')\n",
    "curs = conn.cursor()\n",
    "curs.execute('''CREATE TABLE zoo (critter VARCHAR(20)\n",
    "PRIMARY KEY, count INT, damages FLOAT)''')"
   ]
  },
  {
   "cell_type": "code",
   "execution_count": 7,
   "id": "c5a3d4f6-9409-4251-85cc-aef94f2378ab",
   "metadata": {},
   "outputs": [
    {
     "data": {
      "text/plain": [
       "<sqlite3.Cursor at 0x2cc92708dc0>"
      ]
     },
     "execution_count": 7,
     "metadata": {},
     "output_type": "execute_result"
    }
   ],
   "source": [
    "curs.execute('INSERT INTO zoo VALUES(\"duck\", 5, 0.0)')"
   ]
  },
  {
   "cell_type": "code",
   "execution_count": 8,
   "id": "ba5b5d9b-4184-435d-9613-f2fcd0985b4c",
   "metadata": {},
   "outputs": [
    {
     "data": {
      "text/plain": [
       "<sqlite3.Cursor at 0x2cc92708dc0>"
      ]
     },
     "execution_count": 8,
     "metadata": {},
     "output_type": "execute_result"
    }
   ],
   "source": [
    "curs.execute('INSERT INTO zoo VALUES(\"bear\", 2, 1000.0)')"
   ]
  },
  {
   "cell_type": "markdown",
   "id": "fe22bd36-3a9c-457a-a3a8-27829648be4b",
   "metadata": {},
   "source": [
    "テーブルの挿入には、プレースホルダーを使った安全な方法がある。"
   ]
  },
  {
   "cell_type": "code",
   "execution_count": 10,
   "id": "0b2f030b-1e65-4b97-a2c2-e8ae299cb3c0",
   "metadata": {},
   "outputs": [
    {
     "data": {
      "text/plain": [
       "<sqlite3.Cursor at 0x2cc92708dc0>"
      ]
     },
     "execution_count": 10,
     "metadata": {},
     "output_type": "execute_result"
    }
   ],
   "source": [
    "ins = 'INSERT INTO zoo (critter, count, damages) VALUES(?, ?, ?)'\n",
    "curs.execute(ins, ('weasel', 1, 2000.0))"
   ]
  },
  {
   "cell_type": "markdown",
   "id": "e7d801b0-6fd3-4bd0-a4e2-1949150e8290",
   "metadata": {},
   "source": [
    "値の取り出し"
   ]
  },
  {
   "cell_type": "code",
   "execution_count": 11,
   "id": "8d59d72d-a008-4d96-bc89-0cf6bdc80a84",
   "metadata": {},
   "outputs": [
    {
     "name": "stdout",
     "output_type": "stream",
     "text": [
      "[('duck', 5, 0.0), ('bear', 2, 1000.0), ('weasel', 1, 2000.0)]\n"
     ]
    }
   ],
   "source": [
    "curs.execute('SELECT * FROM zoo')\n",
    "rows = curs.fetchall()\n",
    "print(rows)"
   ]
  },
  {
   "cell_type": "markdown",
   "id": "4198d0db-e199-4a1b-a75a-3d6813ed1064",
   "metadata": {},
   "source": [
    "個体数順にソート"
   ]
  },
  {
   "cell_type": "code",
   "execution_count": 13,
   "id": "12510f48-d3c7-454a-b020-7d31f478643b",
   "metadata": {},
   "outputs": [
    {
     "data": {
      "text/plain": [
       "[('weasel', 1, 2000.0), ('bear', 2, 1000.0), ('duck', 5, 0.0)]"
      ]
     },
     "execution_count": 13,
     "metadata": {},
     "output_type": "execute_result"
    }
   ],
   "source": [
    "curs.execute('SELECT * FROM zoo ORDER BY count')\n",
    "curs.fetchall()"
   ]
  },
  {
   "cell_type": "markdown",
   "id": "287a1767-e880-44e7-9117-150c9dd036d5",
   "metadata": {},
   "source": [
    "順序を降順へ"
   ]
  },
  {
   "cell_type": "code",
   "execution_count": 15,
   "id": "041338e7-939d-4349-aa95-cb76fea82c65",
   "metadata": {},
   "outputs": [
    {
     "data": {
      "text/plain": [
       "[('duck', 5, 0.0), ('bear', 2, 1000.0), ('weasel', 1, 2000.0)]"
      ]
     },
     "execution_count": 15,
     "metadata": {},
     "output_type": "execute_result"
    }
   ],
   "source": [
    "curs.execute('SELECT * FROM zoo ORDER BY count DESC')\n",
    "curs.fetchall()"
   ]
  },
  {
   "cell_type": "markdown",
   "id": "05788821-2faf-462f-bdac-dfac6704fe69",
   "metadata": {},
   "source": [
    "損失の大きい動物は？"
   ]
  },
  {
   "cell_type": "code",
   "execution_count": 16,
   "id": "015a2670-3c9b-4a23-bc28-3446725c145b",
   "metadata": {},
   "outputs": [
    {
     "data": {
      "text/plain": [
       "[('weasel', 1, 2000.0)]"
      ]
     },
     "execution_count": 16,
     "metadata": {},
     "output_type": "execute_result"
    }
   ],
   "source": [
    "curs.execute('''SELECT * FROM zoo WHERE\n",
    "    damages = (SELECT MAX(damages) FROM zoo)''')\n",
    "curs.fetchall()"
   ]
  },
  {
   "cell_type": "markdown",
   "id": "cdf790d6-12b6-4fa2-a2c8-6d475434672d",
   "metadata": {},
   "source": [
    "# SQLiteから離れる前にはクリーンアップ処理が必要である。\n",
    "接続とカーソルを開いたら、使い終わったときにとじなければならない。"
   ]
  },
  {
   "cell_type": "code",
   "execution_count": 18,
   "id": "80a47a91-50b3-45e5-b1d8-7c3567c4ea92",
   "metadata": {},
   "outputs": [
    {
     "ename": "ProgrammingError",
     "evalue": "Cannot operate on a closed database.",
     "output_type": "error",
     "traceback": [
      "\u001b[1;31m----------------------------------------------------------------------\u001b[0m",
      "\u001b[1;31mProgrammingError\u001b[0m                     Traceback (most recent call last)",
      "\u001b[1;32m<ipython-input-18-7a3bcc2ba417>\u001b[0m in \u001b[0;36m<module>\u001b[1;34m\u001b[0m\n\u001b[1;32m----> 1\u001b[1;33m \u001b[0mcurs\u001b[0m\u001b[1;33m.\u001b[0m\u001b[0mclose\u001b[0m\u001b[1;33m(\u001b[0m\u001b[1;33m)\u001b[0m\u001b[1;33m\u001b[0m\u001b[1;33m\u001b[0m\u001b[0m\n\u001b[0m\u001b[0;32m      2\u001b[0m \u001b[0mconn\u001b[0m\u001b[1;33m.\u001b[0m\u001b[0mclose\u001b[0m\u001b[1;33m(\u001b[0m\u001b[1;33m)\u001b[0m\u001b[1;33m\u001b[0m\u001b[1;33m\u001b[0m\u001b[0m\n",
      "\u001b[1;31mProgrammingError\u001b[0m: Cannot operate on a closed database."
     ]
    }
   ],
   "source": [
    "curs.close()\n",
    "conn.close()"
   ]
  },
  {
   "cell_type": "code",
   "execution_count": null,
   "id": "18eceda6-b9f3-447e-9e07-ee419e09349b",
   "metadata": {},
   "outputs": [],
   "source": []
  },
  {
   "cell_type": "code",
   "execution_count": null,
   "id": "0ba24261-0b96-4eb9-9914-58837416bbe0",
   "metadata": {},
   "outputs": [],
   "source": []
  },
  {
   "cell_type": "code",
   "execution_count": null,
   "id": "fc4a2b14-f0eb-4a53-bfa0-b3a20063e63e",
   "metadata": {},
   "outputs": [],
   "source": []
  },
  {
   "cell_type": "code",
   "execution_count": null,
   "id": "bdf87aa0-321f-4998-bbf7-b9ea96f58d89",
   "metadata": {},
   "outputs": [],
   "source": []
  },
  {
   "cell_type": "code",
   "execution_count": null,
   "id": "fa136e0f-93ac-44cb-9447-efdb6650b325",
   "metadata": {},
   "outputs": [],
   "source": []
  },
  {
   "cell_type": "code",
   "execution_count": null,
   "id": "fa53e959-7ae1-4d5c-91f4-7d5637dd279f",
   "metadata": {},
   "outputs": [],
   "source": []
  },
  {
   "cell_type": "code",
   "execution_count": null,
   "id": "6617ef30-1092-44af-8f26-3bcc1bfaf52c",
   "metadata": {},
   "outputs": [],
   "source": []
  },
  {
   "cell_type": "code",
   "execution_count": null,
   "id": "0453d1ef-f243-41e1-a08a-58b76a0f9aa7",
   "metadata": {},
   "outputs": [],
   "source": []
  }
 ],
 "metadata": {
  "kernelspec": {
   "display_name": "Python 3",
   "language": "python",
   "name": "python3"
  },
  "language_info": {
   "codemirror_mode": {
    "name": "ipython",
    "version": 3
   },
   "file_extension": ".py",
   "mimetype": "text/x-python",
   "name": "python",
   "nbconvert_exporter": "python",
   "pygments_lexer": "ipython3",
   "version": "3.8.8"
  }
 },
 "nbformat": 4,
 "nbformat_minor": 5
}
