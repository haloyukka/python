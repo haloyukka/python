{
 "cells": [
  {
   "cell_type": "markdown",
   "id": "a31db5a7-1ffe-49de-9b4a-85b3694bda13",
   "metadata": {},
   "source": [
    "|  TH  |  TH  |\n",
    "| ---- | ---- |\n",
    "|  TD  |  TD  |\n",
    "|  TD  |  TD  |"
   ]
  },
  {
   "cell_type": "code",
   "execution_count": 27,
   "id": "aae8e2ae-f77e-4426-a3ba-e2b4351e724b",
   "metadata": {},
   "outputs": [
    {
     "ename": "SystemExit",
     "evalue": "",
     "output_type": "error",
     "traceback": [
      "An exception has occurred, use %tb to see the full traceback.\n",
      "\u001b[1;31mSystemExit\u001b[0m\n"
     ]
    }
   ],
   "source": [
    "import sys\n",
    "import tkinter as tk\n",
    "from tkinter import messagebox\n",
    "import random\n",
    "\n",
    "field = [\n",
    "    [\"0\", \"1\", \"2\"],\n",
    "    [\"3\", \"4\", \"6\"],\n",
    "    [\"7\", \"8\", \"9\"]\n",
    "]\n",
    "\n",
    "turn = 0\n",
    "\n",
    "def print_field(filed):\n",
    "    for i in field:\n",
    "        print(i)\n",
    "\n",
    "# print_field(field)\n",
    "\n",
    "'''\n",
    "縦横ナナメ判定\n",
    "同じ文字が並んでいたら、その文字を返す\n",
    "並んでいなかったら、0を返す\n",
    "'''\n",
    "def judge(field):\n",
    "    for x in field:\n",
    "        if x[0] == x[1] and x[1] == x[2]:\n",
    "            return x[0]\n",
    "        for y in range(3):\n",
    "            if field[0][y] == field[1][y] and field[1][y] == field[2][y]:\n",
    "                return field[0][y]\n",
    "        if field[0][0] == field[1][1] and field[1][1] == field[2][2]:\n",
    "            return field[0][0]\n",
    "        if field[0][2] == field[1][1] and field[1][1] == field[2][0]:\n",
    "            return field[0][2]\n",
    "        return 0\n",
    "\n",
    "def click_btn(btn):\n",
    "#     pass\n",
    "    global turn, field\n",
    "    \n",
    "    select_place = list(btn.widget._name)\n",
    "    \n",
    "    #varsでどんなメンバがあるか参照できる。\n",
    "#     print(vars(btn.widget))\n",
    "    if field[int(select_place[0])][int(select_place[1])] not in [\"○\", \"✕\"]:\n",
    "        field[int(select_place[0])][int(select_place[1])] = \"○\"\n",
    "    else:\n",
    "        tk.messagebox.showinfo(\"ゲームマスター\",\"そこには置けません\")\n",
    "    \n",
    "    btn.widget[\"text\"] = \"○\"\n",
    "    btn.widget[\"fg\"] = \"#ffffff\"\n",
    "    turn += 1\n",
    "    \n",
    "    if judge(field):\n",
    "        tk.messagebox.showinfo(\"ゲームマスター\",\"あなたの勝ちです！\")\n",
    "        root.destroy()\n",
    "        sys.exit()\n",
    "    if turn == 5:\n",
    "        tk.messagebox.showinfo(\"ゲームマスター\",\"引き分けです\")\n",
    "        root.destroy()\n",
    "        sys.exit()\n",
    "\n",
    "    tk.messagebox.showinfo(\"ゲームマスター\",\"相手の番です。\")\n",
    "    while True:\n",
    "        x = random.randint(0,2)\n",
    "        y = random.randint(0,2)\n",
    "        if field[x][y] != \"○\" and field[x][y] != \"✕\":\n",
    "            field[x][y] = \"x\"\n",
    "            select_place = str(x+1)+\"/\"+str(y+1)\n",
    "            btn_idx = x+y*3\n",
    "            btns[btn_idx][\"text\"] = \"✕\"\n",
    "            break\n",
    "        tk.messagebox(\"ゲームマスタ\",\"相手が[\"+ select_place+\"]に置きました\")\n",
    "        if judge(field):\n",
    "            tk.messagebox.showinfo(\"ゲームマスター\",\"あなたの負けです...\")\n",
    "            root.destroy()\n",
    "            sys.exit()\n",
    "        tk.messagebox.showinfo(\"ゲームマスター\",\"あなたの番です\")\n",
    "            \n",
    "    \n",
    "root = tk.Tk()\n",
    "root.title(\"○✕\")\n",
    "root.configure(bg=\"gray30\")\n",
    "\n",
    "# btn = tk.Button(root, text=\"aaaaa\")\n",
    "# btn.place(x=10, y=10)\n",
    "btns = []\n",
    "for y in range(3):\n",
    "    for x in range(3):\n",
    "        btn_place = str(x)+str(y)\n",
    "#         print(btn_place)\n",
    "        btns.append(tk.Button(root, text=\"\", name=btn_place))\n",
    "        btns[x+y*3].place(x=x*50+20, y=y*50+135,width=50, height=50)\n",
    "        btns[x+y*3].configure(bg=\"gray50\")\n",
    "# print(btns)\n",
    "\n",
    "meu_img = tk.PhotoImage(file=\"meu01.png\",master=root) #ここtk.PhotoImageの引数としてmasterを指定する必要があって、その画像を表示するwidgetが格納される、rootなりframeなりを master=root のように明示すると解決した。\n",
    "board_img = meu_img.subsample(2)\n",
    "meu = tk.Label(root, image=board_img)\n",
    "meu.place(x=0, y=15, height=110)\n",
    "\n",
    "#bind <1>は左クリックのこと\n",
    "root.bind(\"<1>\", click_btn)\n",
    "\n",
    "root.geometry(\"200x300\")\n",
    "root.mainloop()"
   ]
  },
  {
   "cell_type": "code",
   "execution_count": 24,
   "id": "99244292-2ef6-4a9e-a9b6-c5d31c6a210c",
   "metadata": {},
   "outputs": [],
   "source": [
    "import tkinter as tk\n",
    "root = tk.Tk()\n",
    "root.mainloop()"
   ]
  },
  {
   "cell_type": "code",
   "execution_count": 5,
   "id": "5dd4f55d-3f70-4aa8-97d4-83bdc9395677",
   "metadata": {},
   "outputs": [
    {
     "data": {
      "text/plain": [
       "'C:\\\\dev\\\\python'"
      ]
     },
     "execution_count": 5,
     "metadata": {},
     "output_type": "execute_result"
    }
   ],
   "source": [
    "%pwd"
   ]
  }
 ],
 "metadata": {
  "kernelspec": {
   "display_name": "Python 3",
   "language": "python",
   "name": "python3"
  },
  "language_info": {
   "codemirror_mode": {
    "name": "ipython",
    "version": 3
   },
   "file_extension": ".py",
   "mimetype": "text/x-python",
   "name": "python",
   "nbconvert_exporter": "python",
   "pygments_lexer": "ipython3",
   "version": "3.8.8"
  }
 },
 "nbformat": 4,
 "nbformat_minor": 5
}
