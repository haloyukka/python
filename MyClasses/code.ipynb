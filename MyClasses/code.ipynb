{
 "cells": [
  {
   "cell_type": "code",
   "execution_count": 1,
   "id": "68d42022-ae59-49bc-904f-28b1a9d306ff",
   "metadata": {},
   "outputs": [
    {
     "name": "stdout",
     "output_type": "stream",
     "text": [
      "防御しました\n"
     ]
    }
   ],
   "source": [
    "class HumanClass:\n",
    "    def defend(self):\n",
    "        print('防御しました!')\n",
    "\n",
    "class WizardClass(HumanClass):\n",
    "    pass\n",
    "\n",
    "wizard = WizardClass()\n",
    "wizard.defend()"
   ]
  },
  {
   "cell_type": "code",
   "execution_count": 2,
   "id": "56932519-fdc8-497b-bae7-e2018eeeaa0c",
   "metadata": {},
   "outputs": [
    {
     "name": "stdout",
     "output_type": "stream",
     "text": [
      "HumanClassのinit\n",
      "100\n"
     ]
    }
   ],
   "source": [
    "class HumanClass:\n",
    "    def __init__(self):\n",
    "        print('HumanClassのinit')\n",
    "        self.hp = 100\n",
    "\n",
    "class WizardClass(HumanClass):\n",
    "    pass\n",
    "\n",
    "wizard = WizardClass()\n",
    "print(wizard.hp)"
   ]
  },
  {
   "cell_type": "code",
   "execution_count": 5,
   "id": "e987e01a-4ce5-498c-b4b0-5e1b6d1a1d46",
   "metadata": {},
   "outputs": [
    {
     "name": "stdout",
     "output_type": "stream",
     "text": [
      "HumanClassのinit\n",
      "50\n"
     ]
    }
   ],
   "source": [
    "class HumanClass:\n",
    "    def __init__(self):\n",
    "        print('HumanClassのinit')\n",
    "        self.hp = 100\n",
    "\n",
    "class WizardClass(HumanClass):\n",
    "    def __init__(self):\n",
    "        super().__init__()\n",
    "        self.mp = 50\n",
    "\n",
    "wizard = WizardClass()\n",
    "print(wizard.mp)"
   ]
  },
  {
   "cell_type": "code",
   "execution_count": 7,
   "id": "9f663559-9504-42c2-bd57-3ee253db5874",
   "metadata": {},
   "outputs": [
    {
     "name": "stdout",
     "output_type": "stream",
     "text": [
      "HumanClassのinit\n",
      "現在のHPは100で、MPは50です。\n"
     ]
    }
   ],
   "source": [
    "class HumanClass:\n",
    "    def __init__(self):\n",
    "        print('HumanClassのinit')\n",
    "        self.hp = 100\n",
    "\n",
    "class WizardClass(HumanClass):\n",
    "    def __init__(self):\n",
    "        super().__init__()\n",
    "        self.mp = 50\n",
    "    def output_info(self):\n",
    "        print(f'現在のHPは{self.hp}で、'\n",
    "             f'MPは{self.mp}です。')\n",
    "\n",
    "wizard = WizardClass()\n",
    "wizard.output_info()"
   ]
  },
  {
   "cell_type": "code",
   "execution_count": 8,
   "id": "f74f033e-2107-4cf4-9b96-a75fc4716902",
   "metadata": {},
   "outputs": [
    {
     "name": "stdout",
     "output_type": "stream",
     "text": [
      "WizardClassのinit\n"
     ]
    }
   ],
   "source": [
    "class WizardClass:\n",
    "    def __init__(self):\n",
    "        print('WizardClassのinit')\n",
    "\n",
    "class SwordFighterClass:\n",
    "    def __init__(self):\n",
    "        print('SwordFighterClassのinit')\n",
    "\n",
    "class MagicSwordFighterClass(WizardClass,\n",
    "                             SwordFighterClass):\n",
    "    pass\n",
    "\n",
    "msf = MagicSwordFighterClass()"
   ]
  },
  {
   "cell_type": "code",
   "execution_count": 9,
   "id": "a623ce70-927d-465e-afb2-30a5ccdcbc8d",
   "metadata": {},
   "outputs": [
    {
     "name": "stdout",
     "output_type": "stream",
     "text": [
      "WizardClassのinit\n",
      "呪文を唱える\n",
      "剣で攻撃をする\n"
     ]
    }
   ],
   "source": [
    "class WizardClass:\n",
    "    def __init__(self):\n",
    "        self.mp = 100\n",
    "        print('WizardClassのinit')\n",
    "        \n",
    "    def cast_spell(self):\n",
    "        print('呪文を唱える')\n",
    "\n",
    "class SwordFighterClass:\n",
    "    def attack_with_sword(self):\n",
    "        print('剣で攻撃をする')\n",
    "        \n",
    "class MagicSwordFighterClass(WizardClass,\n",
    "                             SwordFighterClass):\n",
    "    pass\n",
    "\n",
    "msf = MagicSwordFighterClass()\n",
    "msf.cast_spell()\n",
    "msf.attack_with_sword()"
   ]
  },
  {
   "cell_type": "code",
   "execution_count": null,
   "id": "0c4a89a4-75c7-40f4-a4fa-bbec311557f1",
   "metadata": {},
   "outputs": [],
   "source": []
  }
 ],
 "metadata": {
  "kernelspec": {
   "display_name": "Python 3 (ipykernel)",
   "language": "python",
   "name": "python3"
  },
  "language_info": {
   "codemirror_mode": {
    "name": "ipython",
    "version": 3
   },
   "file_extension": ".py",
   "mimetype": "text/x-python",
   "name": "python",
   "nbconvert_exporter": "python",
   "pygments_lexer": "ipython3",
   "version": "3.8.11"
  }
 },
 "nbformat": 4,
 "nbformat_minor": 5
}
