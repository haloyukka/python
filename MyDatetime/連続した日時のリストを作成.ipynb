{
  "nbformat": 4,
  "nbformat_minor": 0,
  "metadata": {
    "colab": {
      "name": "連続した日時のリストを作成.ipynb",
      "provenance": [],
      "collapsed_sections": [],
      "include_colab_link": true
    },
    "kernelspec": {
      "name": "python3",
      "display_name": "Python 3"
    },
    "language_info": {
      "name": "python"
    }
  },
  "cells": [
    {
      "cell_type": "markdown",
      "metadata": {
        "id": "view-in-github",
        "colab_type": "text"
      },
      "source": [
        "<a href=\"https://colab.research.google.com/github/haloyukka/python/blob/master/%E9%80%A3%E7%B6%9A%E3%81%97%E3%81%9F%E6%97%A5%E6%99%82%E3%81%AE%E3%83%AA%E3%82%B9%E3%83%88%E3%82%92%E4%BD%9C%E6%88%90.ipynb\" target=\"_parent\"><img src=\"https://colab.research.google.com/assets/colab-badge.svg\" alt=\"Open In Colab\"/></a>"
      ]
    },
    {
      "cell_type": "markdown",
      "source": [
        "# 連続した日時のリストを作成"
      ],
      "metadata": {
        "id": "45wwSuFiaqXO"
      }
    },
    {
      "cell_type": "code",
      "execution_count": null,
      "metadata": {
        "id": "LNuGmLyVVC8T"
      },
      "outputs": [],
      "source": [
        "from datetime import datetime\n",
        "\n",
        "import pandas as pd"
      ]
    },
    {
      "cell_type": "code",
      "source": [
        "# 連続した日付のリストを作成\n",
        "dt_list = pd.date_range(start='2022-01-01', periods=10, freq='D')\n",
        "print(dt_list)"
      ],
      "metadata": {
        "colab": {
          "base_uri": "https://localhost:8080/"
        },
        "id": "o6xeks53VLOB",
        "outputId": "9fc8dc35-a0e3-49e8-ff11-57a889f8c1ff"
      },
      "execution_count": null,
      "outputs": [
        {
          "output_type": "stream",
          "name": "stdout",
          "text": [
            "DatetimeIndex(['2022-01-01', '2022-01-02', '2022-01-03', '2022-01-04',\n",
            "               '2022-01-05', '2022-01-06', '2022-01-07', '2022-01-08',\n",
            "               '2022-01-09', '2022-01-10'],\n",
            "              dtype='datetime64[ns]', freq='D')\n"
          ]
        }
      ]
    },
    {
      "cell_type": "code",
      "source": [
        "# 始まりと終わりの日時の指定でも作成できる\n",
        "dt_list = pd.date_range(start='2022-01-01', end='2022-01-10', freq='D')\n",
        "print(dt_list)"
      ],
      "metadata": {
        "colab": {
          "base_uri": "https://localhost:8080/"
        },
        "id": "b1um3L6uVRz7",
        "outputId": "93b43cba-71f9-4e28-db0c-28f1a9c52318"
      },
      "execution_count": null,
      "outputs": [
        {
          "output_type": "stream",
          "name": "stdout",
          "text": [
            "DatetimeIndex(['2022-01-01', '2022-01-02', '2022-01-03', '2022-01-04',\n",
            "               '2022-01-05', '2022-01-06', '2022-01-07', '2022-01-08',\n",
            "               '2022-01-09', '2022-01-10'],\n",
            "              dtype='datetime64[ns]', freq='D')\n"
          ]
        }
      ]
    },
    {
      "cell_type": "code",
      "source": [
        "# 時刻の引数はdatetime型でもOK\n",
        "start_dt = datetime(year=2022, month=1, day=1)\n",
        "dt_list = pd.date_range(start=start_dt, periods=10, freq='D')\n",
        "print(dt_list)"
      ],
      "metadata": {
        "colab": {
          "base_uri": "https://localhost:8080/"
        },
        "id": "p3EH14BWWF1t",
        "outputId": "eab0d585-d077-45a2-853d-a33857d8d24d"
      },
      "execution_count": null,
      "outputs": [
        {
          "output_type": "stream",
          "name": "stdout",
          "text": [
            "DatetimeIndex(['2022-01-01', '2022-01-02', '2022-01-03', '2022-01-04',\n",
            "               '2022-01-05', '2022-01-06', '2022-01-07', '2022-01-08',\n",
            "               '2022-01-09', '2022-01-10'],\n",
            "              dtype='datetime64[ns]', freq='D')\n"
          ]
        }
      ]
    },
    {
      "cell_type": "code",
      "source": [
        "# 10分ごとや、30分ごとの日時のリストも作成できる\n",
        "dt_list = pd.date_range(start='2022-01-01', periods=10, freq='10min')\n",
        "print(dt_list)\n",
        "\n",
        "dt_list = pd.date_range(start='2022-01-01', periods=10, freq='30min')\n",
        "print(dt_list)"
      ],
      "metadata": {
        "colab": {
          "base_uri": "https://localhost:8080/"
        },
        "id": "y_X6ky4daHBf",
        "outputId": "651dda14-a0bc-47ae-8a5f-e59dae709754"
      },
      "execution_count": null,
      "outputs": [
        {
          "output_type": "stream",
          "name": "stdout",
          "text": [
            "DatetimeIndex(['2022-01-01 00:00:00', '2022-01-01 00:10:00',\n",
            "               '2022-01-01 00:20:00', '2022-01-01 00:30:00',\n",
            "               '2022-01-01 00:40:00', '2022-01-01 00:50:00',\n",
            "               '2022-01-01 01:00:00', '2022-01-01 01:10:00',\n",
            "               '2022-01-01 01:20:00', '2022-01-01 01:30:00'],\n",
            "              dtype='datetime64[ns]', freq='10T')\n",
            "DatetimeIndex(['2022-01-01 00:00:00', '2022-01-01 00:30:00',\n",
            "               '2022-01-01 01:00:00', '2022-01-01 01:30:00',\n",
            "               '2022-01-01 02:00:00', '2022-01-01 02:30:00',\n",
            "               '2022-01-01 03:00:00', '2022-01-01 03:30:00',\n",
            "               '2022-01-01 04:00:00', '2022-01-01 04:30:00'],\n",
            "              dtype='datetime64[ns]', freq='30T')\n"
          ]
        }
      ]
    },
    {
      "cell_type": "markdown",
      "source": [
        "参考: [公式リファレンス](https://pandas.pydata.org/docs/user_guide/timeseries.html#timeseries-offset-aliases)"
      ],
      "metadata": {
        "id": "ZUpmAmcna97I"
      }
    }
  ]
}