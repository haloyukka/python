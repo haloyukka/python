{
  "nbformat": 4,
  "nbformat_minor": 0,
  "metadata": {
    "colab": {
      "name": "Color_seaboarn.ipynb",
      "provenance": [],
      "collapsed_sections": [],
      "include_colab_link": true
    },
    "kernelspec": {
      "name": "python3",
      "display_name": "Python 3"
    },
    "language_info": {
      "name": "python"
    },
    "widgets": {
      "application/vnd.jupyter.widget-state+json": {
        "f9802addb8fa4f0a92f2d676ef8f5778": {
          "model_module": "@jupyter-widgets/controls",
          "model_name": "VBoxModel",
          "model_module_version": "1.5.0",
          "state": {
            "_dom_classes": [
              "widget-interact"
            ],
            "_model_module": "@jupyter-widgets/controls",
            "_model_module_version": "1.5.0",
            "_model_name": "VBoxModel",
            "_view_count": null,
            "_view_module": "@jupyter-widgets/controls",
            "_view_module_version": "1.5.0",
            "_view_name": "VBoxView",
            "box_style": "",
            "children": [
              "IPY_MODEL_980a15d5c374410fa4d587d3cfffe37b",
              "IPY_MODEL_0f49d254523646a49bea27b9cf01de2f"
            ],
            "layout": "IPY_MODEL_2a855654a5bb49de9721f04fa75a2e0d"
          }
        },
        "980a15d5c374410fa4d587d3cfffe37b": {
          "model_module": "@jupyter-widgets/controls",
          "model_name": "DropdownModel",
          "model_module_version": "1.5.0",
          "state": {
            "_dom_classes": [],
            "_model_module": "@jupyter-widgets/controls",
            "_model_module_version": "1.5.0",
            "_model_name": "DropdownModel",
            "_options_labels": [
              "deep",
              "muted",
              "pastel",
              "bright",
              "dark",
              "colorblind"
            ],
            "_view_count": null,
            "_view_module": "@jupyter-widgets/controls",
            "_view_module_version": "1.5.0",
            "_view_name": "DropdownView",
            "description": "palette",
            "description_tooltip": null,
            "disabled": false,
            "index": 0,
            "layout": "IPY_MODEL_2a2871aa832141dc9c3034ea11637ccb",
            "style": "IPY_MODEL_87424298062840a8882a9e2af0d96f66"
          }
        },
        "0f49d254523646a49bea27b9cf01de2f": {
          "model_module": "@jupyter-widgets/output",
          "model_name": "OutputModel",
          "model_module_version": "1.0.0",
          "state": {
            "_dom_classes": [],
            "_model_module": "@jupyter-widgets/output",
            "_model_module_version": "1.0.0",
            "_model_name": "OutputModel",
            "_view_count": null,
            "_view_module": "@jupyter-widgets/output",
            "_view_module_version": "1.0.0",
            "_view_name": "OutputView",
            "layout": "IPY_MODEL_1233513a25894e97b486c3829860fedd",
            "msg_id": "",
            "outputs": [
              {
                "output_type": "display_data",
                "data": {
                  "text/plain": "<Figure size 1728x72 with 1 Axes>",
                  "image/png": "iVBORw0KGgoAAAANSUhEUgAABU0AAABICAYAAADCk9RBAAAABHNCSVQICAgIfAhkiAAAAAlwSFlzAAALEgAACxIB0t1+/AAAADh0RVh0U29mdHdhcmUAbWF0cGxvdGxpYiB2ZXJzaW9uMy4yLjIsIGh0dHA6Ly9tYXRwbG90bGliLm9yZy+WH4yJAAAD3ElEQVR4nO3dMUuVYRjH4ftNCxVKMHOLFte21qCtzxBN4Qdo7Us0tEVjQ1tLu0Fj0BdwjkAqSZCENHgbWu7BoAM+POd+uK71SNx/hHj4wcFpnucAAAAAAOCvK70PAAAAAABYJqIpAAAAAEAimgIAAAAAJKIpAAAAAEAimgIAAAAAJKIpAAAAAECyusgPX1u/MW9s7rS6pbvbK0e9T2jqy9rV3ic0s3N03vuEpk7Wtnuf0NTK9KP3CU1tro79+zuOn71PaOr6+rj/v3ybt3qf0NT5yVnvE5rybqnN26Uu75bavFtq83apy7ultpHfLYenp3F89mu66LOFounG5k7cf/z8cq5aQi+2Xvc+oalnu+MG76dvvvY+oan93Se9T2hq69rb3ic09fDmXu8Tmno3fex9QlMP7h72PqGZl78f9T6hqcP9z71PaMq7pTZvl7q8W2rzbqnN26Uu75baRn637H14/8/PfD0fAAAAACARTQEAAAAAEtEUAAAAACARTQEAAAAAEtEUAAAAACARTQEAAAAAEtEUAAAAACARTQEAAAAAEtEUAAAAACARTQEAAAAAEtEUAAAAACARTQEAAAAAEtEUAAAAACARTQEAAAAAEtEUAAAAACARTQEAAAAAEtEUAAAAACARTQEAAAAAEtEUAAAAACARTQEAAAAAEtEUAAAAACARTQEAAAAAEtEUAAAAACARTQEAAAAAEtEUAAAAACARTQEAAAAAEtEUAAAAACARTQEAAAAAEtEUAAAAACARTQEAAAAAEtEUAAAAACARTQEAAAAAEtEUAAAAACARTQEAAAAAEtEUAAAAACARTQEAAAAAEtEUAAAAACARTQEAAAAAEtEUAAAAACARTQEAAAAAEtEUAAAAACARTQEAAAAAEtEUAAAAACARTQEAAAAAEtEUAAAAACARTQEAAAAAEtEUAAAAACARTQEAAAAAEtEUAAAAACARTQEAAAAAEtEUAAAAACARTQEAAAAAkmme5///4Wk6iYiDdud0tx0R33sf0cjI2yLsq86+ukbeFmFfdfbVNfK2CPuqs6+ukbdF2FfdyPtG3hZhX3V35nm+ddEHqwv+QwfzPN+7hIOW0jRNn0bdN/K2CPuqs6+ukbdF2FedfXWNvC3Cvursq2vkbRH2VTfyvpG3Rdg3Ml/PBwAAAABIRFMAAAAAgGTRaPqqyRXLY+R9I2+LsK86++oaeVuEfdXZV9fI2yLsq86+ukbeFmFfdSPvG3lbhH3DWugPQQEAAAAAjM7X8wEAAAAAEtEUAAAAACARTQEAAAAAEtEUAAAAACARTQEAAAAAkj++9d4xh/e4fgAAAABJRU5ErkJggg==\n"
                },
                "metadata": {
                  "needs_background": "light"
                }
              }
            ]
          }
        },
        "2a855654a5bb49de9721f04fa75a2e0d": {
          "model_module": "@jupyter-widgets/base",
          "model_name": "LayoutModel",
          "model_module_version": "1.2.0",
          "state": {
            "_model_module": "@jupyter-widgets/base",
            "_model_module_version": "1.2.0",
            "_model_name": "LayoutModel",
            "_view_count": null,
            "_view_module": "@jupyter-widgets/base",
            "_view_module_version": "1.2.0",
            "_view_name": "LayoutView",
            "align_content": null,
            "align_items": null,
            "align_self": null,
            "border": null,
            "bottom": null,
            "display": null,
            "flex": null,
            "flex_flow": null,
            "grid_area": null,
            "grid_auto_columns": null,
            "grid_auto_flow": null,
            "grid_auto_rows": null,
            "grid_column": null,
            "grid_gap": null,
            "grid_row": null,
            "grid_template_areas": null,
            "grid_template_columns": null,
            "grid_template_rows": null,
            "height": null,
            "justify_content": null,
            "justify_items": null,
            "left": null,
            "margin": null,
            "max_height": null,
            "max_width": null,
            "min_height": null,
            "min_width": null,
            "object_fit": null,
            "object_position": null,
            "order": null,
            "overflow": null,
            "overflow_x": null,
            "overflow_y": null,
            "padding": null,
            "right": null,
            "top": null,
            "visibility": null,
            "width": null
          }
        },
        "2a2871aa832141dc9c3034ea11637ccb": {
          "model_module": "@jupyter-widgets/base",
          "model_name": "LayoutModel",
          "model_module_version": "1.2.0",
          "state": {
            "_model_module": "@jupyter-widgets/base",
            "_model_module_version": "1.2.0",
            "_model_name": "LayoutModel",
            "_view_count": null,
            "_view_module": "@jupyter-widgets/base",
            "_view_module_version": "1.2.0",
            "_view_name": "LayoutView",
            "align_content": null,
            "align_items": null,
            "align_self": null,
            "border": null,
            "bottom": null,
            "display": null,
            "flex": null,
            "flex_flow": null,
            "grid_area": null,
            "grid_auto_columns": null,
            "grid_auto_flow": null,
            "grid_auto_rows": null,
            "grid_column": null,
            "grid_gap": null,
            "grid_row": null,
            "grid_template_areas": null,
            "grid_template_columns": null,
            "grid_template_rows": null,
            "height": null,
            "justify_content": null,
            "justify_items": null,
            "left": null,
            "margin": null,
            "max_height": null,
            "max_width": null,
            "min_height": null,
            "min_width": null,
            "object_fit": null,
            "object_position": null,
            "order": null,
            "overflow": null,
            "overflow_x": null,
            "overflow_y": null,
            "padding": null,
            "right": null,
            "top": null,
            "visibility": null,
            "width": null
          }
        },
        "87424298062840a8882a9e2af0d96f66": {
          "model_module": "@jupyter-widgets/controls",
          "model_name": "DescriptionStyleModel",
          "model_module_version": "1.5.0",
          "state": {
            "_model_module": "@jupyter-widgets/controls",
            "_model_module_version": "1.5.0",
            "_model_name": "DescriptionStyleModel",
            "_view_count": null,
            "_view_module": "@jupyter-widgets/base",
            "_view_module_version": "1.2.0",
            "_view_name": "StyleView",
            "description_width": ""
          }
        },
        "1233513a25894e97b486c3829860fedd": {
          "model_module": "@jupyter-widgets/base",
          "model_name": "LayoutModel",
          "model_module_version": "1.2.0",
          "state": {
            "_model_module": "@jupyter-widgets/base",
            "_model_module_version": "1.2.0",
            "_model_name": "LayoutModel",
            "_view_count": null,
            "_view_module": "@jupyter-widgets/base",
            "_view_module_version": "1.2.0",
            "_view_name": "LayoutView",
            "align_content": null,
            "align_items": null,
            "align_self": null,
            "border": null,
            "bottom": null,
            "display": null,
            "flex": null,
            "flex_flow": null,
            "grid_area": null,
            "grid_auto_columns": null,
            "grid_auto_flow": null,
            "grid_auto_rows": null,
            "grid_column": null,
            "grid_gap": null,
            "grid_row": null,
            "grid_template_areas": null,
            "grid_template_columns": null,
            "grid_template_rows": null,
            "height": null,
            "justify_content": null,
            "justify_items": null,
            "left": null,
            "margin": null,
            "max_height": null,
            "max_width": null,
            "min_height": null,
            "min_width": null,
            "object_fit": null,
            "object_position": null,
            "order": null,
            "overflow": null,
            "overflow_x": null,
            "overflow_y": null,
            "padding": null,
            "right": null,
            "top": null,
            "visibility": null,
            "width": null
          }
        },
        "1f637ba9aa4746ec845accbd1e1fab76": {
          "model_module": "@jupyter-widgets/controls",
          "model_name": "VBoxModel",
          "model_module_version": "1.5.0",
          "state": {
            "_dom_classes": [
              "widget-interact"
            ],
            "_model_module": "@jupyter-widgets/controls",
            "_model_module_version": "1.5.0",
            "_model_name": "VBoxModel",
            "_view_count": null,
            "_view_module": "@jupyter-widgets/controls",
            "_view_module_version": "1.5.0",
            "_view_name": "VBoxView",
            "box_style": "",
            "children": [
              "IPY_MODEL_5fb847c4ffd94d6fa55d7414d280656c",
              "IPY_MODEL_fcf5b05bb6e549dabc537d538d76515b",
              "IPY_MODEL_816284213aca42b2a75b82da24390d89"
            ],
            "layout": "IPY_MODEL_1d3088f58b014b6caf2b25b24c15b715"
          }
        },
        "5fb847c4ffd94d6fa55d7414d280656c": {
          "model_module": "@jupyter-widgets/controls",
          "model_name": "FloatSliderModel",
          "model_module_version": "1.5.0",
          "state": {
            "_dom_classes": [],
            "_model_module": "@jupyter-widgets/controls",
            "_model_module_version": "1.5.0",
            "_model_name": "FloatSliderModel",
            "_view_count": null,
            "_view_module": "@jupyter-widgets/controls",
            "_view_module_version": "1.5.0",
            "_view_name": "FloatSliderView",
            "continuous_update": true,
            "description": "l",
            "description_tooltip": null,
            "disabled": false,
            "layout": "IPY_MODEL_b3b01dca85c14db49b697363f55d3abb",
            "max": 1,
            "min": 0,
            "orientation": "horizontal",
            "readout": true,
            "readout_format": ".2f",
            "step": 0.1,
            "style": "IPY_MODEL_b238b01d252142f5b188a7e52b93ffa2",
            "value": 0.6
          }
        },
        "fcf5b05bb6e549dabc537d538d76515b": {
          "model_module": "@jupyter-widgets/controls",
          "model_name": "FloatSliderModel",
          "model_module_version": "1.5.0",
          "state": {
            "_dom_classes": [],
            "_model_module": "@jupyter-widgets/controls",
            "_model_module_version": "1.5.0",
            "_model_name": "FloatSliderModel",
            "_view_count": null,
            "_view_module": "@jupyter-widgets/controls",
            "_view_module_version": "1.5.0",
            "_view_name": "FloatSliderView",
            "continuous_update": true,
            "description": "s",
            "description_tooltip": null,
            "disabled": false,
            "layout": "IPY_MODEL_b12c4a088de74377af628e10692ff713",
            "max": 1,
            "min": 0,
            "orientation": "horizontal",
            "readout": true,
            "readout_format": ".2f",
            "step": 0.1,
            "style": "IPY_MODEL_061bb78a20ba4c888089f4a37c8fdd2a",
            "value": 0.65
          }
        },
        "816284213aca42b2a75b82da24390d89": {
          "model_module": "@jupyter-widgets/output",
          "model_name": "OutputModel",
          "model_module_version": "1.0.0",
          "state": {
            "_dom_classes": [],
            "_model_module": "@jupyter-widgets/output",
            "_model_module_version": "1.0.0",
            "_model_name": "OutputModel",
            "_view_count": null,
            "_view_module": "@jupyter-widgets/output",
            "_view_module_version": "1.0.0",
            "_view_name": "OutputView",
            "layout": "IPY_MODEL_e05065ee13754fc49b0e0dbc48c790b4",
            "msg_id": "",
            "outputs": [
              {
                "output_type": "display_data",
                "data": {
                  "text/plain": "<Figure size 1728x72 with 1 Axes>",
                  "image/png": "iVBORw0KGgoAAAANSUhEUgAABU0AAABICAYAAADCk9RBAAAABHNCSVQICAgIfAhkiAAAAAlwSFlzAAALEgAACxIB0t1+/AAAADh0RVh0U29mdHdhcmUAbWF0cGxvdGxpYiB2ZXJzaW9uMy4yLjIsIGh0dHA6Ly9tYXRwbG90bGliLm9yZy+WH4yJAAADuUlEQVR4nO3dMWqVURSF0fOHqIFYiRaSQnQMTsHKyuk5AUsH4BScQBqtJI1YKGJU8Lew2YWCD3K57x7Wal8IZ1cXviRk2/e9AAAAAAD442T2AQAAAAAAx0Q0BQAAAAAIoikAAAAAQBBNAQAAAACCaAoAAAAAEERTAAAAAIBwesgX3zu7s1/cPR91y3y3Zx8w2J3ZBwzUeVtV/bo1+4Kxfsw+YLDvsw8YrPu+n61/vujhW1vzfR6/tXV+HDpvq6qTn7MvGMvLt7bu+27Vr9knDOThW1vffR++fq5P379tf/vsoGh6cfe8Xj9/djNXHaPHsw8YrPO+J7MPGOv64ewLxno/+4DBuu97N/uAwa7qbPYJA3V+GKr67/P4La3749B5X/OH7+xq9gVjdX8Zuu9r/vLVw7qefcJAnR+Gqv77+j5+L968+udnnX99BgAAAADgYKIpAAAAAEAQTQEAAAAAgmgKAAAAABBEUwAAAACAIJoCAAAAAATRFAAAAAAgiKYAAAAAAEE0BQAAAAAIoikAAAAAQBBNAQAAAACCaAoAAAAAEERTAAAAAIAgmgIAAAAABNEUAAAAACCIpgAAAAAAQTQFAAAAAAiiKQAAAABAEE0BAAAAAIJoCgAAAAAQRFMAAAAAgCCaAgAAAAAE0RQAAAAAIIimAAAAAABBNAUAAAAACKIpAAAAAEAQTQEAAAAAgmgKAAAAABBEUwAAAACAIJoCAAAAAATRFAAAAAAgiKYAAAAAAEE0BQAAAAAIoikAAAAAQBBNAQAAAACCaAoAAAAAEERTAAAAAIAgmgIAAAAABNEUAAAAACCIpgAAAAAAQTQFAAAAAAiiKQAAAABAEE0BAAAAAIJoCgAAAAAQRFMAAAAAgCCaAgAAAAAE0RQAAAAAIIimAAAAAABBNAUAAAAACKIpAAAAAEAQTQEAAAAAgmgKAAAAABC2fd///4u37UtVXY47Z7r7VfVx9hGDdN5WZd/q7FtX521V9q3OvnV13lZl3+rsW1fnbVX2ra7zvs7bquxb3aN93x/87YPTA7/R5b7vT2/goKO0bdvbrvs6b6uyb3X2ravztir7Vmffujpvq7Jvdfatq/O2KvtW13lf521V9nXmz/MBAAAAAIJoCgAAAAAQDo2mL4dccTw67+u8rcq+1dm3rs7bquxbnX3r6rytyr7V2beuztuq7Ftd532dt1XZ19ZB/wgKAAAAAKA7f54PAAAAABBEUwAAAACAIJoCAAAAAATRFAAAAAAgiKYAAAAAAOE36oa6OhrBDo8AAAAASUVORK5CYII=\n"
                },
                "metadata": {
                  "needs_background": "light"
                }
              }
            ]
          }
        },
        "1d3088f58b014b6caf2b25b24c15b715": {
          "model_module": "@jupyter-widgets/base",
          "model_name": "LayoutModel",
          "model_module_version": "1.2.0",
          "state": {
            "_model_module": "@jupyter-widgets/base",
            "_model_module_version": "1.2.0",
            "_model_name": "LayoutModel",
            "_view_count": null,
            "_view_module": "@jupyter-widgets/base",
            "_view_module_version": "1.2.0",
            "_view_name": "LayoutView",
            "align_content": null,
            "align_items": null,
            "align_self": null,
            "border": null,
            "bottom": null,
            "display": null,
            "flex": null,
            "flex_flow": null,
            "grid_area": null,
            "grid_auto_columns": null,
            "grid_auto_flow": null,
            "grid_auto_rows": null,
            "grid_column": null,
            "grid_gap": null,
            "grid_row": null,
            "grid_template_areas": null,
            "grid_template_columns": null,
            "grid_template_rows": null,
            "height": null,
            "justify_content": null,
            "justify_items": null,
            "left": null,
            "margin": null,
            "max_height": null,
            "max_width": null,
            "min_height": null,
            "min_width": null,
            "object_fit": null,
            "object_position": null,
            "order": null,
            "overflow": null,
            "overflow_x": null,
            "overflow_y": null,
            "padding": null,
            "right": null,
            "top": null,
            "visibility": null,
            "width": null
          }
        },
        "b3b01dca85c14db49b697363f55d3abb": {
          "model_module": "@jupyter-widgets/base",
          "model_name": "LayoutModel",
          "model_module_version": "1.2.0",
          "state": {
            "_model_module": "@jupyter-widgets/base",
            "_model_module_version": "1.2.0",
            "_model_name": "LayoutModel",
            "_view_count": null,
            "_view_module": "@jupyter-widgets/base",
            "_view_module_version": "1.2.0",
            "_view_name": "LayoutView",
            "align_content": null,
            "align_items": null,
            "align_self": null,
            "border": null,
            "bottom": null,
            "display": null,
            "flex": null,
            "flex_flow": null,
            "grid_area": null,
            "grid_auto_columns": null,
            "grid_auto_flow": null,
            "grid_auto_rows": null,
            "grid_column": null,
            "grid_gap": null,
            "grid_row": null,
            "grid_template_areas": null,
            "grid_template_columns": null,
            "grid_template_rows": null,
            "height": null,
            "justify_content": null,
            "justify_items": null,
            "left": null,
            "margin": null,
            "max_height": null,
            "max_width": null,
            "min_height": null,
            "min_width": null,
            "object_fit": null,
            "object_position": null,
            "order": null,
            "overflow": null,
            "overflow_x": null,
            "overflow_y": null,
            "padding": null,
            "right": null,
            "top": null,
            "visibility": null,
            "width": null
          }
        },
        "b238b01d252142f5b188a7e52b93ffa2": {
          "model_module": "@jupyter-widgets/controls",
          "model_name": "SliderStyleModel",
          "model_module_version": "1.5.0",
          "state": {
            "_model_module": "@jupyter-widgets/controls",
            "_model_module_version": "1.5.0",
            "_model_name": "SliderStyleModel",
            "_view_count": null,
            "_view_module": "@jupyter-widgets/base",
            "_view_module_version": "1.2.0",
            "_view_name": "StyleView",
            "description_width": "",
            "handle_color": null
          }
        },
        "b12c4a088de74377af628e10692ff713": {
          "model_module": "@jupyter-widgets/base",
          "model_name": "LayoutModel",
          "model_module_version": "1.2.0",
          "state": {
            "_model_module": "@jupyter-widgets/base",
            "_model_module_version": "1.2.0",
            "_model_name": "LayoutModel",
            "_view_count": null,
            "_view_module": "@jupyter-widgets/base",
            "_view_module_version": "1.2.0",
            "_view_name": "LayoutView",
            "align_content": null,
            "align_items": null,
            "align_self": null,
            "border": null,
            "bottom": null,
            "display": null,
            "flex": null,
            "flex_flow": null,
            "grid_area": null,
            "grid_auto_columns": null,
            "grid_auto_flow": null,
            "grid_auto_rows": null,
            "grid_column": null,
            "grid_gap": null,
            "grid_row": null,
            "grid_template_areas": null,
            "grid_template_columns": null,
            "grid_template_rows": null,
            "height": null,
            "justify_content": null,
            "justify_items": null,
            "left": null,
            "margin": null,
            "max_height": null,
            "max_width": null,
            "min_height": null,
            "min_width": null,
            "object_fit": null,
            "object_position": null,
            "order": null,
            "overflow": null,
            "overflow_x": null,
            "overflow_y": null,
            "padding": null,
            "right": null,
            "top": null,
            "visibility": null,
            "width": null
          }
        },
        "061bb78a20ba4c888089f4a37c8fdd2a": {
          "model_module": "@jupyter-widgets/controls",
          "model_name": "SliderStyleModel",
          "model_module_version": "1.5.0",
          "state": {
            "_model_module": "@jupyter-widgets/controls",
            "_model_module_version": "1.5.0",
            "_model_name": "SliderStyleModel",
            "_view_count": null,
            "_view_module": "@jupyter-widgets/base",
            "_view_module_version": "1.2.0",
            "_view_name": "StyleView",
            "description_width": "",
            "handle_color": null
          }
        },
        "e05065ee13754fc49b0e0dbc48c790b4": {
          "model_module": "@jupyter-widgets/base",
          "model_name": "LayoutModel",
          "model_module_version": "1.2.0",
          "state": {
            "_model_module": "@jupyter-widgets/base",
            "_model_module_version": "1.2.0",
            "_model_name": "LayoutModel",
            "_view_count": null,
            "_view_module": "@jupyter-widgets/base",
            "_view_module_version": "1.2.0",
            "_view_name": "LayoutView",
            "align_content": null,
            "align_items": null,
            "align_self": null,
            "border": null,
            "bottom": null,
            "display": null,
            "flex": null,
            "flex_flow": null,
            "grid_area": null,
            "grid_auto_columns": null,
            "grid_auto_flow": null,
            "grid_auto_rows": null,
            "grid_column": null,
            "grid_gap": null,
            "grid_row": null,
            "grid_template_areas": null,
            "grid_template_columns": null,
            "grid_template_rows": null,
            "height": null,
            "justify_content": null,
            "justify_items": null,
            "left": null,
            "margin": null,
            "max_height": null,
            "max_width": null,
            "min_height": null,
            "min_width": null,
            "object_fit": null,
            "object_position": null,
            "order": null,
            "overflow": null,
            "overflow_x": null,
            "overflow_y": null,
            "padding": null,
            "right": null,
            "top": null,
            "visibility": null,
            "width": null
          }
        },
        "65d049d576c643a1a3754218665a0de7": {
          "model_module": "@jupyter-widgets/controls",
          "model_name": "VBoxModel",
          "model_module_version": "1.5.0",
          "state": {
            "_dom_classes": [
              "widget-interact"
            ],
            "_model_module": "@jupyter-widgets/controls",
            "_model_module_version": "1.5.0",
            "_model_name": "VBoxModel",
            "_view_count": null,
            "_view_module": "@jupyter-widgets/controls",
            "_view_module_version": "1.5.0",
            "_view_name": "VBoxView",
            "box_style": "",
            "children": [
              "IPY_MODEL_d25b55f8d31d492e907c3531e2b6a0ad",
              "IPY_MODEL_b8d1589a70c347f08395ebb2808e3f9e",
              "IPY_MODEL_088b9721278645b2a1bc67da4cf2278a",
              "IPY_MODEL_b2e51d57fcb647e0be9372340b959aac"
            ],
            "layout": "IPY_MODEL_770d9086e4724e76a7f7f80eff0d807b"
          }
        },
        "d25b55f8d31d492e907c3531e2b6a0ad": {
          "model_module": "@jupyter-widgets/controls",
          "model_name": "DropdownModel",
          "model_module_version": "1.5.0",
          "state": {
            "_dom_classes": [],
            "_model_module": "@jupyter-widgets/controls",
            "_model_module_version": "1.5.0",
            "_model_name": "DropdownModel",
            "_options_labels": [
              "Set1",
              "Set2",
              "Set3",
              "Paired",
              "Accent",
              "Pastel1",
              "Pastel2",
              "Dark2"
            ],
            "_view_count": null,
            "_view_module": "@jupyter-widgets/controls",
            "_view_module_version": "1.5.0",
            "_view_name": "DropdownView",
            "description": "name",
            "description_tooltip": null,
            "disabled": false,
            "index": 0,
            "layout": "IPY_MODEL_4a26cdb592614dbcb95d41286efb7240",
            "style": "IPY_MODEL_422cecdbf0a94c4da07ab0baf3cc609c"
          }
        },
        "b8d1589a70c347f08395ebb2808e3f9e": {
          "model_module": "@jupyter-widgets/controls",
          "model_name": "IntSliderModel",
          "model_module_version": "1.5.0",
          "state": {
            "_dom_classes": [],
            "_model_module": "@jupyter-widgets/controls",
            "_model_module_version": "1.5.0",
            "_model_name": "IntSliderModel",
            "_view_count": null,
            "_view_module": "@jupyter-widgets/controls",
            "_view_module_version": "1.5.0",
            "_view_name": "IntSliderView",
            "continuous_update": true,
            "description": "n",
            "description_tooltip": null,
            "disabled": false,
            "layout": "IPY_MODEL_9412cb5aa0ca4d77a6c3c0cecaa5914f",
            "max": 16,
            "min": 2,
            "orientation": "horizontal",
            "readout": true,
            "readout_format": "d",
            "step": 1,
            "style": "IPY_MODEL_a0782c8079c54f859b0ac0d593d1b2df",
            "value": 9
          }
        },
        "088b9721278645b2a1bc67da4cf2278a": {
          "model_module": "@jupyter-widgets/controls",
          "model_name": "FloatSliderModel",
          "model_module_version": "1.5.0",
          "state": {
            "_dom_classes": [],
            "_model_module": "@jupyter-widgets/controls",
            "_model_module_version": "1.5.0",
            "_model_name": "FloatSliderModel",
            "_view_count": null,
            "_view_module": "@jupyter-widgets/controls",
            "_view_module_version": "1.5.0",
            "_view_name": "FloatSliderView",
            "continuous_update": true,
            "description": "desat",
            "description_tooltip": null,
            "disabled": false,
            "layout": "IPY_MODEL_083df4863b424a94b8a2ab1c7a02e46d",
            "max": 1,
            "min": 0,
            "orientation": "horizontal",
            "readout": true,
            "readout_format": ".2f",
            "step": 0.1,
            "style": "IPY_MODEL_f2e2eaa34cbc46baa8110ad5db397257",
            "value": 1
          }
        },
        "b2e51d57fcb647e0be9372340b959aac": {
          "model_module": "@jupyter-widgets/output",
          "model_name": "OutputModel",
          "model_module_version": "1.0.0",
          "state": {
            "_dom_classes": [],
            "_model_module": "@jupyter-widgets/output",
            "_model_module_version": "1.0.0",
            "_model_name": "OutputModel",
            "_view_count": null,
            "_view_module": "@jupyter-widgets/output",
            "_view_module_version": "1.0.0",
            "_view_name": "OutputView",
            "layout": "IPY_MODEL_6c13acdf546e49018f6377862d5cf3d4",
            "msg_id": "",
            "outputs": [
              {
                "output_type": "display_data",
                "data": {
                  "text/plain": "<Figure size 648x72 with 1 Axes>",
                  "image/png": "iVBORw0KGgoAAAANSUhEUgAAAggAAABICAYAAACTOw0mAAAABHNCSVQICAgIfAhkiAAAAAlwSFlzAAALEgAACxIB0t1+/AAAADh0RVh0U29mdHdhcmUAbWF0cGxvdGxpYiB2ZXJzaW9uMy4yLjIsIGh0dHA6Ly9tYXRwbG90bGliLm9yZy+WH4yJAAACYklEQVR4nO3aMWpUURiG4XOH2ziNqEkQCcRSsAq4CytBEAs7wW3YzAa0ERvByhW4CjcQi1gLMzaOYCPHVvgScSCHM/f6PO2dDN9f5YU7Q621AAD8adF7AACwfwQCABAEAgAQBAIAEAQCABAEAgAQxl0+fHOxqMfjTn8yKecHd3tPaGpcfu09oanr61u9JzRzuPzSe0Jbd5a9FzT17fxX7wlN3bh20ntCU+vxZ+8JzWw2m7LdboeLnu303/54HMvHw6OrWbWHHj9/3XtCU0enr3pPaOrhu6e9JzTz4vRZ7wlN1Zf3ek9o6sOTH70nNPXo/pveE5p6f/tz7wnNrFarS595xQAABIEAAASBAAAEgQAABIEAAASBAAAEgQAABIEAAASBAAAEgQAABIEAAASBAAAEgQAABIEAAASBAAAEgQAABIEAAASBAAAEgQAABIEAAASBAAAEgQAABIEAAASBAAAEgQAABIEAAASBAAAEgQAABIEAAASBAAAEgQAABIEAAASBAAAEgQAABIEAAASBAAAEgQAABIEAAASBAAAEgQAABIEAAASBAAAEgQAABIEAAASBAAAEgQAABIEAAASBAAAEgQAABIEAAASBAAAEgQAAhKHW+u8fHobvpZSzdnO6OyilrHuPaGTOt5Xivqlz33TN+bZS5n/fSa318KIH445fdFZrfXAFg/bSMAyf5nrfnG8rxX1T577pmvNtpcz/vr/xigEACAIBAAi7BsLbJiv2x5zvm/Ntpbhv6tw3XXO+rZT533epnX6kCAD8H7xiAACCQAAAgkAAAIJAAACCQAAAwm/4SF0yH/ZniwAAAABJRU5ErkJggg==\n"
                },
                "metadata": {
                  "needs_background": "light"
                }
              }
            ]
          }
        },
        "770d9086e4724e76a7f7f80eff0d807b": {
          "model_module": "@jupyter-widgets/base",
          "model_name": "LayoutModel",
          "model_module_version": "1.2.0",
          "state": {
            "_model_module": "@jupyter-widgets/base",
            "_model_module_version": "1.2.0",
            "_model_name": "LayoutModel",
            "_view_count": null,
            "_view_module": "@jupyter-widgets/base",
            "_view_module_version": "1.2.0",
            "_view_name": "LayoutView",
            "align_content": null,
            "align_items": null,
            "align_self": null,
            "border": null,
            "bottom": null,
            "display": null,
            "flex": null,
            "flex_flow": null,
            "grid_area": null,
            "grid_auto_columns": null,
            "grid_auto_flow": null,
            "grid_auto_rows": null,
            "grid_column": null,
            "grid_gap": null,
            "grid_row": null,
            "grid_template_areas": null,
            "grid_template_columns": null,
            "grid_template_rows": null,
            "height": null,
            "justify_content": null,
            "justify_items": null,
            "left": null,
            "margin": null,
            "max_height": null,
            "max_width": null,
            "min_height": null,
            "min_width": null,
            "object_fit": null,
            "object_position": null,
            "order": null,
            "overflow": null,
            "overflow_x": null,
            "overflow_y": null,
            "padding": null,
            "right": null,
            "top": null,
            "visibility": null,
            "width": null
          }
        },
        "4a26cdb592614dbcb95d41286efb7240": {
          "model_module": "@jupyter-widgets/base",
          "model_name": "LayoutModel",
          "model_module_version": "1.2.0",
          "state": {
            "_model_module": "@jupyter-widgets/base",
            "_model_module_version": "1.2.0",
            "_model_name": "LayoutModel",
            "_view_count": null,
            "_view_module": "@jupyter-widgets/base",
            "_view_module_version": "1.2.0",
            "_view_name": "LayoutView",
            "align_content": null,
            "align_items": null,
            "align_self": null,
            "border": null,
            "bottom": null,
            "display": null,
            "flex": null,
            "flex_flow": null,
            "grid_area": null,
            "grid_auto_columns": null,
            "grid_auto_flow": null,
            "grid_auto_rows": null,
            "grid_column": null,
            "grid_gap": null,
            "grid_row": null,
            "grid_template_areas": null,
            "grid_template_columns": null,
            "grid_template_rows": null,
            "height": null,
            "justify_content": null,
            "justify_items": null,
            "left": null,
            "margin": null,
            "max_height": null,
            "max_width": null,
            "min_height": null,
            "min_width": null,
            "object_fit": null,
            "object_position": null,
            "order": null,
            "overflow": null,
            "overflow_x": null,
            "overflow_y": null,
            "padding": null,
            "right": null,
            "top": null,
            "visibility": null,
            "width": null
          }
        },
        "422cecdbf0a94c4da07ab0baf3cc609c": {
          "model_module": "@jupyter-widgets/controls",
          "model_name": "DescriptionStyleModel",
          "model_module_version": "1.5.0",
          "state": {
            "_model_module": "@jupyter-widgets/controls",
            "_model_module_version": "1.5.0",
            "_model_name": "DescriptionStyleModel",
            "_view_count": null,
            "_view_module": "@jupyter-widgets/base",
            "_view_module_version": "1.2.0",
            "_view_name": "StyleView",
            "description_width": ""
          }
        },
        "9412cb5aa0ca4d77a6c3c0cecaa5914f": {
          "model_module": "@jupyter-widgets/base",
          "model_name": "LayoutModel",
          "model_module_version": "1.2.0",
          "state": {
            "_model_module": "@jupyter-widgets/base",
            "_model_module_version": "1.2.0",
            "_model_name": "LayoutModel",
            "_view_count": null,
            "_view_module": "@jupyter-widgets/base",
            "_view_module_version": "1.2.0",
            "_view_name": "LayoutView",
            "align_content": null,
            "align_items": null,
            "align_self": null,
            "border": null,
            "bottom": null,
            "display": null,
            "flex": null,
            "flex_flow": null,
            "grid_area": null,
            "grid_auto_columns": null,
            "grid_auto_flow": null,
            "grid_auto_rows": null,
            "grid_column": null,
            "grid_gap": null,
            "grid_row": null,
            "grid_template_areas": null,
            "grid_template_columns": null,
            "grid_template_rows": null,
            "height": null,
            "justify_content": null,
            "justify_items": null,
            "left": null,
            "margin": null,
            "max_height": null,
            "max_width": null,
            "min_height": null,
            "min_width": null,
            "object_fit": null,
            "object_position": null,
            "order": null,
            "overflow": null,
            "overflow_x": null,
            "overflow_y": null,
            "padding": null,
            "right": null,
            "top": null,
            "visibility": null,
            "width": null
          }
        },
        "a0782c8079c54f859b0ac0d593d1b2df": {
          "model_module": "@jupyter-widgets/controls",
          "model_name": "SliderStyleModel",
          "model_module_version": "1.5.0",
          "state": {
            "_model_module": "@jupyter-widgets/controls",
            "_model_module_version": "1.5.0",
            "_model_name": "SliderStyleModel",
            "_view_count": null,
            "_view_module": "@jupyter-widgets/base",
            "_view_module_version": "1.2.0",
            "_view_name": "StyleView",
            "description_width": "",
            "handle_color": null
          }
        },
        "083df4863b424a94b8a2ab1c7a02e46d": {
          "model_module": "@jupyter-widgets/base",
          "model_name": "LayoutModel",
          "model_module_version": "1.2.0",
          "state": {
            "_model_module": "@jupyter-widgets/base",
            "_model_module_version": "1.2.0",
            "_model_name": "LayoutModel",
            "_view_count": null,
            "_view_module": "@jupyter-widgets/base",
            "_view_module_version": "1.2.0",
            "_view_name": "LayoutView",
            "align_content": null,
            "align_items": null,
            "align_self": null,
            "border": null,
            "bottom": null,
            "display": null,
            "flex": null,
            "flex_flow": null,
            "grid_area": null,
            "grid_auto_columns": null,
            "grid_auto_flow": null,
            "grid_auto_rows": null,
            "grid_column": null,
            "grid_gap": null,
            "grid_row": null,
            "grid_template_areas": null,
            "grid_template_columns": null,
            "grid_template_rows": null,
            "height": null,
            "justify_content": null,
            "justify_items": null,
            "left": null,
            "margin": null,
            "max_height": null,
            "max_width": null,
            "min_height": null,
            "min_width": null,
            "object_fit": null,
            "object_position": null,
            "order": null,
            "overflow": null,
            "overflow_x": null,
            "overflow_y": null,
            "padding": null,
            "right": null,
            "top": null,
            "visibility": null,
            "width": null
          }
        },
        "f2e2eaa34cbc46baa8110ad5db397257": {
          "model_module": "@jupyter-widgets/controls",
          "model_name": "SliderStyleModel",
          "model_module_version": "1.5.0",
          "state": {
            "_model_module": "@jupyter-widgets/controls",
            "_model_module_version": "1.5.0",
            "_model_name": "SliderStyleModel",
            "_view_count": null,
            "_view_module": "@jupyter-widgets/base",
            "_view_module_version": "1.2.0",
            "_view_name": "StyleView",
            "description_width": "",
            "handle_color": null
          }
        },
        "6c13acdf546e49018f6377862d5cf3d4": {
          "model_module": "@jupyter-widgets/base",
          "model_name": "LayoutModel",
          "model_module_version": "1.2.0",
          "state": {
            "_model_module": "@jupyter-widgets/base",
            "_model_module_version": "1.2.0",
            "_model_name": "LayoutModel",
            "_view_count": null,
            "_view_module": "@jupyter-widgets/base",
            "_view_module_version": "1.2.0",
            "_view_name": "LayoutView",
            "align_content": null,
            "align_items": null,
            "align_self": null,
            "border": null,
            "bottom": null,
            "display": null,
            "flex": null,
            "flex_flow": null,
            "grid_area": null,
            "grid_auto_columns": null,
            "grid_auto_flow": null,
            "grid_auto_rows": null,
            "grid_column": null,
            "grid_gap": null,
            "grid_row": null,
            "grid_template_areas": null,
            "grid_template_columns": null,
            "grid_template_rows": null,
            "height": null,
            "justify_content": null,
            "justify_items": null,
            "left": null,
            "margin": null,
            "max_height": null,
            "max_width": null,
            "min_height": null,
            "min_width": null,
            "object_fit": null,
            "object_position": null,
            "order": null,
            "overflow": null,
            "overflow_x": null,
            "overflow_y": null,
            "padding": null,
            "right": null,
            "top": null,
            "visibility": null,
            "width": null
          }
        },
        "b20277fbf71c4608933f5d2bbf884ab1": {
          "model_module": "@jupyter-widgets/controls",
          "model_name": "VBoxModel",
          "model_module_version": "1.5.0",
          "state": {
            "_dom_classes": [
              "widget-interact"
            ],
            "_model_module": "@jupyter-widgets/controls",
            "_model_module_version": "1.5.0",
            "_model_name": "VBoxModel",
            "_view_count": null,
            "_view_module": "@jupyter-widgets/controls",
            "_view_module_version": "1.5.0",
            "_view_name": "VBoxView",
            "box_style": "",
            "children": [
              "IPY_MODEL_280f614fe3f24b5c80e247417f14d8b1",
              "IPY_MODEL_d8ab11b4cc5746e0a99b0f412cd56e26",
              "IPY_MODEL_4a502e9b371a4a4fa7c37b44ec82d73c",
              "IPY_MODEL_2652053b0fd441568276a086e72a954e",
              "IPY_MODEL_f288b03bd5a64bed91c525fc3aaef572"
            ],
            "layout": "IPY_MODEL_29557780b1f34efdb06f425df167b50e"
          }
        },
        "280f614fe3f24b5c80e247417f14d8b1": {
          "model_module": "@jupyter-widgets/controls",
          "model_name": "DropdownModel",
          "model_module_version": "1.5.0",
          "state": {
            "_dom_classes": [],
            "_model_module": "@jupyter-widgets/controls",
            "_model_module_version": "1.5.0",
            "_model_name": "DropdownModel",
            "_options_labels": [
              "Greys",
              "Reds",
              "Greens",
              "Blues",
              "Oranges",
              "Purples",
              "BuGn",
              "BuPu",
              "GnBu",
              "OrRd",
              "PuBu",
              "PuRd",
              "RdPu",
              "YlGn",
              "PuBuGn",
              "YlGnBu",
              "YlOrBr",
              "YlOrRd"
            ],
            "_view_count": null,
            "_view_module": "@jupyter-widgets/controls",
            "_view_module_version": "1.5.0",
            "_view_name": "DropdownView",
            "description": "name",
            "description_tooltip": null,
            "disabled": false,
            "index": 0,
            "layout": "IPY_MODEL_75b2b5d0a93b49e29533cbd1ba4955ba",
            "style": "IPY_MODEL_7efa7de31a17466aadfdffb078a855ca"
          }
        },
        "d8ab11b4cc5746e0a99b0f412cd56e26": {
          "model_module": "@jupyter-widgets/controls",
          "model_name": "IntSliderModel",
          "model_module_version": "1.5.0",
          "state": {
            "_dom_classes": [],
            "_model_module": "@jupyter-widgets/controls",
            "_model_module_version": "1.5.0",
            "_model_name": "IntSliderModel",
            "_view_count": null,
            "_view_module": "@jupyter-widgets/controls",
            "_view_module_version": "1.5.0",
            "_view_name": "IntSliderView",
            "continuous_update": true,
            "description": "n",
            "description_tooltip": null,
            "disabled": false,
            "layout": "IPY_MODEL_c587f2f748884c34a34079e4b45f4061",
            "max": 18,
            "min": 2,
            "orientation": "horizontal",
            "readout": true,
            "readout_format": "d",
            "step": 1,
            "style": "IPY_MODEL_11f80818a73b45869979e558068e7795",
            "value": 10
          }
        },
        "4a502e9b371a4a4fa7c37b44ec82d73c": {
          "model_module": "@jupyter-widgets/controls",
          "model_name": "FloatSliderModel",
          "model_module_version": "1.5.0",
          "state": {
            "_dom_classes": [],
            "_model_module": "@jupyter-widgets/controls",
            "_model_module_version": "1.5.0",
            "_model_name": "FloatSliderModel",
            "_view_count": null,
            "_view_module": "@jupyter-widgets/controls",
            "_view_module_version": "1.5.0",
            "_view_name": "FloatSliderView",
            "continuous_update": true,
            "description": "desat",
            "description_tooltip": null,
            "disabled": false,
            "layout": "IPY_MODEL_955cee37babf40e481da6545b76595b9",
            "max": 1,
            "min": 0,
            "orientation": "horizontal",
            "readout": true,
            "readout_format": ".2f",
            "step": 0.1,
            "style": "IPY_MODEL_28b23dfd16a540d18c7cbc7ab3460a0f",
            "value": 1
          }
        },
        "2652053b0fd441568276a086e72a954e": {
          "model_module": "@jupyter-widgets/controls",
          "model_name": "DropdownModel",
          "model_module_version": "1.5.0",
          "state": {
            "_dom_classes": [],
            "_model_module": "@jupyter-widgets/controls",
            "_model_module_version": "1.5.0",
            "_model_name": "DropdownModel",
            "_options_labels": [
              "regular",
              "reverse",
              "dark"
            ],
            "_view_count": null,
            "_view_module": "@jupyter-widgets/controls",
            "_view_module_version": "1.5.0",
            "_view_name": "DropdownView",
            "description": "variant",
            "description_tooltip": null,
            "disabled": false,
            "index": 0,
            "layout": "IPY_MODEL_5c2019407d7f40cfb20e6933bc71fbe9",
            "style": "IPY_MODEL_a4e3c8381d75439194cf302e500c341c"
          }
        },
        "f288b03bd5a64bed91c525fc3aaef572": {
          "model_module": "@jupyter-widgets/output",
          "model_name": "OutputModel",
          "model_module_version": "1.0.0",
          "state": {
            "_dom_classes": [],
            "_model_module": "@jupyter-widgets/output",
            "_model_module_version": "1.0.0",
            "_model_name": "OutputModel",
            "_view_count": null,
            "_view_module": "@jupyter-widgets/output",
            "_view_module_version": "1.0.0",
            "_view_name": "OutputView",
            "layout": "IPY_MODEL_605ba5263ae74757a75c0a5afd27e087",
            "msg_id": "",
            "outputs": [
              {
                "output_type": "display_data",
                "data": {
                  "text/plain": "<Figure size 720x72 with 1 Axes>",
                  "image/png": "iVBORw0KGgoAAAANSUhEUgAAAj8AAABICAYAAAAZFJRnAAAABHNCSVQICAgIfAhkiAAAAAlwSFlzAAALEgAACxIB0t1+/AAAADh0RVh0U29mdHdhcmUAbWF0cGxvdGxpYiB2ZXJzaW9uMy4yLjIsIGh0dHA6Ly9tYXRwbG90bGliLm9yZy+WH4yJAAACV0lEQVR4nO3aQYoaQRiG4eowR3C2nUvktLmO21xglg6oCwdEsrOVyn7IIsJUyq7veZYi8n/o4oV2qrUWAIAU33ofAADwP4kfACCK+AEAoogfACCK+AEAoogfACDKyyNv3mw2dZ7nVrd0d7/fe5/Q1O12631CMyNvK6WUZVl6n9DU9XrtfUJTo39/I+8b/bc5+r5lWT5qra+fX38ofuZ5Ltvt9uuuejKXy6X3CU2dz+feJzRzOp16n9DUfr/vfUJTo+87Ho+9T2hq5H273a73CU29v7/3PqGpw+Hw1y/QYy8AIIr4AQCiiB8AIIr4AQCiiB8AIIr4AQCiiB8AIIr4AQCiiB8AIIr4AQCiiB8AIIr4AQCiiB8AIIr4AQCiiB8AIIr4AQCiiB8AIIr4AQCiiB8AIIr4AQCiiB8AIIr4AQCiiB8AIIr4AQCiiB8AIIr4AQCiiB8AIIr4AQCiiB8AIIr4AQCiiB8AIIr4AQCiiB8AIIr4AQCiiB8AIIr4AQCiiB8AIIr4AQCiiB8AIIr4AQCiiB8AIIr4AQCiiB8AIIr4AQCiiB8AIIr4AQCiiB8AIIr4AQCiiB8AIIr4AQCiiB8AIIr4AQCiTLXWf3/zNP0upby1O6e7TSnlo/cRjYy8rRT71s6+9Rp5Wyn2rd33Wuvr5xdfHvyQt1rrjy866OlM0/Rr1H0jbyvFvrWzb71G3laKfaPy2AsAiCJ+AIAoj8bPzyZXPI+R9428rRT71s6+9Rp5Wyn2DemhPzwDAKydx14AQBTxAwBEET8AQBTxAwBEET8AQJQ/CXyHQd0GEAcAAAAASUVORK5CYII=\n"
                },
                "metadata": {
                  "needs_background": "light"
                }
              }
            ]
          }
        },
        "29557780b1f34efdb06f425df167b50e": {
          "model_module": "@jupyter-widgets/base",
          "model_name": "LayoutModel",
          "model_module_version": "1.2.0",
          "state": {
            "_model_module": "@jupyter-widgets/base",
            "_model_module_version": "1.2.0",
            "_model_name": "LayoutModel",
            "_view_count": null,
            "_view_module": "@jupyter-widgets/base",
            "_view_module_version": "1.2.0",
            "_view_name": "LayoutView",
            "align_content": null,
            "align_items": null,
            "align_self": null,
            "border": null,
            "bottom": null,
            "display": null,
            "flex": null,
            "flex_flow": null,
            "grid_area": null,
            "grid_auto_columns": null,
            "grid_auto_flow": null,
            "grid_auto_rows": null,
            "grid_column": null,
            "grid_gap": null,
            "grid_row": null,
            "grid_template_areas": null,
            "grid_template_columns": null,
            "grid_template_rows": null,
            "height": null,
            "justify_content": null,
            "justify_items": null,
            "left": null,
            "margin": null,
            "max_height": null,
            "max_width": null,
            "min_height": null,
            "min_width": null,
            "object_fit": null,
            "object_position": null,
            "order": null,
            "overflow": null,
            "overflow_x": null,
            "overflow_y": null,
            "padding": null,
            "right": null,
            "top": null,
            "visibility": null,
            "width": null
          }
        },
        "75b2b5d0a93b49e29533cbd1ba4955ba": {
          "model_module": "@jupyter-widgets/base",
          "model_name": "LayoutModel",
          "model_module_version": "1.2.0",
          "state": {
            "_model_module": "@jupyter-widgets/base",
            "_model_module_version": "1.2.0",
            "_model_name": "LayoutModel",
            "_view_count": null,
            "_view_module": "@jupyter-widgets/base",
            "_view_module_version": "1.2.0",
            "_view_name": "LayoutView",
            "align_content": null,
            "align_items": null,
            "align_self": null,
            "border": null,
            "bottom": null,
            "display": null,
            "flex": null,
            "flex_flow": null,
            "grid_area": null,
            "grid_auto_columns": null,
            "grid_auto_flow": null,
            "grid_auto_rows": null,
            "grid_column": null,
            "grid_gap": null,
            "grid_row": null,
            "grid_template_areas": null,
            "grid_template_columns": null,
            "grid_template_rows": null,
            "height": null,
            "justify_content": null,
            "justify_items": null,
            "left": null,
            "margin": null,
            "max_height": null,
            "max_width": null,
            "min_height": null,
            "min_width": null,
            "object_fit": null,
            "object_position": null,
            "order": null,
            "overflow": null,
            "overflow_x": null,
            "overflow_y": null,
            "padding": null,
            "right": null,
            "top": null,
            "visibility": null,
            "width": null
          }
        },
        "7efa7de31a17466aadfdffb078a855ca": {
          "model_module": "@jupyter-widgets/controls",
          "model_name": "DescriptionStyleModel",
          "model_module_version": "1.5.0",
          "state": {
            "_model_module": "@jupyter-widgets/controls",
            "_model_module_version": "1.5.0",
            "_model_name": "DescriptionStyleModel",
            "_view_count": null,
            "_view_module": "@jupyter-widgets/base",
            "_view_module_version": "1.2.0",
            "_view_name": "StyleView",
            "description_width": ""
          }
        },
        "c587f2f748884c34a34079e4b45f4061": {
          "model_module": "@jupyter-widgets/base",
          "model_name": "LayoutModel",
          "model_module_version": "1.2.0",
          "state": {
            "_model_module": "@jupyter-widgets/base",
            "_model_module_version": "1.2.0",
            "_model_name": "LayoutModel",
            "_view_count": null,
            "_view_module": "@jupyter-widgets/base",
            "_view_module_version": "1.2.0",
            "_view_name": "LayoutView",
            "align_content": null,
            "align_items": null,
            "align_self": null,
            "border": null,
            "bottom": null,
            "display": null,
            "flex": null,
            "flex_flow": null,
            "grid_area": null,
            "grid_auto_columns": null,
            "grid_auto_flow": null,
            "grid_auto_rows": null,
            "grid_column": null,
            "grid_gap": null,
            "grid_row": null,
            "grid_template_areas": null,
            "grid_template_columns": null,
            "grid_template_rows": null,
            "height": null,
            "justify_content": null,
            "justify_items": null,
            "left": null,
            "margin": null,
            "max_height": null,
            "max_width": null,
            "min_height": null,
            "min_width": null,
            "object_fit": null,
            "object_position": null,
            "order": null,
            "overflow": null,
            "overflow_x": null,
            "overflow_y": null,
            "padding": null,
            "right": null,
            "top": null,
            "visibility": null,
            "width": null
          }
        },
        "11f80818a73b45869979e558068e7795": {
          "model_module": "@jupyter-widgets/controls",
          "model_name": "SliderStyleModel",
          "model_module_version": "1.5.0",
          "state": {
            "_model_module": "@jupyter-widgets/controls",
            "_model_module_version": "1.5.0",
            "_model_name": "SliderStyleModel",
            "_view_count": null,
            "_view_module": "@jupyter-widgets/base",
            "_view_module_version": "1.2.0",
            "_view_name": "StyleView",
            "description_width": "",
            "handle_color": null
          }
        },
        "955cee37babf40e481da6545b76595b9": {
          "model_module": "@jupyter-widgets/base",
          "model_name": "LayoutModel",
          "model_module_version": "1.2.0",
          "state": {
            "_model_module": "@jupyter-widgets/base",
            "_model_module_version": "1.2.0",
            "_model_name": "LayoutModel",
            "_view_count": null,
            "_view_module": "@jupyter-widgets/base",
            "_view_module_version": "1.2.0",
            "_view_name": "LayoutView",
            "align_content": null,
            "align_items": null,
            "align_self": null,
            "border": null,
            "bottom": null,
            "display": null,
            "flex": null,
            "flex_flow": null,
            "grid_area": null,
            "grid_auto_columns": null,
            "grid_auto_flow": null,
            "grid_auto_rows": null,
            "grid_column": null,
            "grid_gap": null,
            "grid_row": null,
            "grid_template_areas": null,
            "grid_template_columns": null,
            "grid_template_rows": null,
            "height": null,
            "justify_content": null,
            "justify_items": null,
            "left": null,
            "margin": null,
            "max_height": null,
            "max_width": null,
            "min_height": null,
            "min_width": null,
            "object_fit": null,
            "object_position": null,
            "order": null,
            "overflow": null,
            "overflow_x": null,
            "overflow_y": null,
            "padding": null,
            "right": null,
            "top": null,
            "visibility": null,
            "width": null
          }
        },
        "28b23dfd16a540d18c7cbc7ab3460a0f": {
          "model_module": "@jupyter-widgets/controls",
          "model_name": "SliderStyleModel",
          "model_module_version": "1.5.0",
          "state": {
            "_model_module": "@jupyter-widgets/controls",
            "_model_module_version": "1.5.0",
            "_model_name": "SliderStyleModel",
            "_view_count": null,
            "_view_module": "@jupyter-widgets/base",
            "_view_module_version": "1.2.0",
            "_view_name": "StyleView",
            "description_width": "",
            "handle_color": null
          }
        },
        "5c2019407d7f40cfb20e6933bc71fbe9": {
          "model_module": "@jupyter-widgets/base",
          "model_name": "LayoutModel",
          "model_module_version": "1.2.0",
          "state": {
            "_model_module": "@jupyter-widgets/base",
            "_model_module_version": "1.2.0",
            "_model_name": "LayoutModel",
            "_view_count": null,
            "_view_module": "@jupyter-widgets/base",
            "_view_module_version": "1.2.0",
            "_view_name": "LayoutView",
            "align_content": null,
            "align_items": null,
            "align_self": null,
            "border": null,
            "bottom": null,
            "display": null,
            "flex": null,
            "flex_flow": null,
            "grid_area": null,
            "grid_auto_columns": null,
            "grid_auto_flow": null,
            "grid_auto_rows": null,
            "grid_column": null,
            "grid_gap": null,
            "grid_row": null,
            "grid_template_areas": null,
            "grid_template_columns": null,
            "grid_template_rows": null,
            "height": null,
            "justify_content": null,
            "justify_items": null,
            "left": null,
            "margin": null,
            "max_height": null,
            "max_width": null,
            "min_height": null,
            "min_width": null,
            "object_fit": null,
            "object_position": null,
            "order": null,
            "overflow": null,
            "overflow_x": null,
            "overflow_y": null,
            "padding": null,
            "right": null,
            "top": null,
            "visibility": null,
            "width": null
          }
        },
        "a4e3c8381d75439194cf302e500c341c": {
          "model_module": "@jupyter-widgets/controls",
          "model_name": "DescriptionStyleModel",
          "model_module_version": "1.5.0",
          "state": {
            "_model_module": "@jupyter-widgets/controls",
            "_model_module_version": "1.5.0",
            "_model_name": "DescriptionStyleModel",
            "_view_count": null,
            "_view_module": "@jupyter-widgets/base",
            "_view_module_version": "1.2.0",
            "_view_name": "StyleView",
            "description_width": ""
          }
        },
        "605ba5263ae74757a75c0a5afd27e087": {
          "model_module": "@jupyter-widgets/base",
          "model_name": "LayoutModel",
          "model_module_version": "1.2.0",
          "state": {
            "_model_module": "@jupyter-widgets/base",
            "_model_module_version": "1.2.0",
            "_model_name": "LayoutModel",
            "_view_count": null,
            "_view_module": "@jupyter-widgets/base",
            "_view_module_version": "1.2.0",
            "_view_name": "LayoutView",
            "align_content": null,
            "align_items": null,
            "align_self": null,
            "border": null,
            "bottom": null,
            "display": null,
            "flex": null,
            "flex_flow": null,
            "grid_area": null,
            "grid_auto_columns": null,
            "grid_auto_flow": null,
            "grid_auto_rows": null,
            "grid_column": null,
            "grid_gap": null,
            "grid_row": null,
            "grid_template_areas": null,
            "grid_template_columns": null,
            "grid_template_rows": null,
            "height": null,
            "justify_content": null,
            "justify_items": null,
            "left": null,
            "margin": null,
            "max_height": null,
            "max_width": null,
            "min_height": null,
            "min_width": null,
            "object_fit": null,
            "object_position": null,
            "order": null,
            "overflow": null,
            "overflow_x": null,
            "overflow_y": null,
            "padding": null,
            "right": null,
            "top": null,
            "visibility": null,
            "width": null
          }
        },
        "48ca180973e74e1a97002b5b110568d8": {
          "model_module": "@jupyter-widgets/controls",
          "model_name": "VBoxModel",
          "model_module_version": "1.5.0",
          "state": {
            "_dom_classes": [
              "widget-interact"
            ],
            "_model_module": "@jupyter-widgets/controls",
            "_model_module_version": "1.5.0",
            "_model_name": "VBoxModel",
            "_view_count": null,
            "_view_module": "@jupyter-widgets/controls",
            "_view_module_version": "1.5.0",
            "_view_name": "VBoxView",
            "box_style": "",
            "children": [
              "IPY_MODEL_3698163fe27d4e51bba3f91c56592060",
              "IPY_MODEL_32d306d86123412aba41a0992be119cb",
              "IPY_MODEL_796e04d9b5664514b3cf1f24461be49a"
            ],
            "layout": "IPY_MODEL_5bd99e662451488fa41b03fc0c9fa0a5"
          }
        },
        "3698163fe27d4e51bba3f91c56592060": {
          "model_module": "@jupyter-widgets/controls",
          "model_name": "FloatSliderModel",
          "model_module_version": "1.5.0",
          "state": {
            "_dom_classes": [],
            "_model_module": "@jupyter-widgets/controls",
            "_model_module_version": "1.5.0",
            "_model_name": "FloatSliderModel",
            "_view_count": null,
            "_view_module": "@jupyter-widgets/controls",
            "_view_module_version": "1.5.0",
            "_view_name": "FloatSliderView",
            "continuous_update": true,
            "description": "start",
            "description_tooltip": null,
            "disabled": false,
            "layout": "IPY_MODEL_e4c76df7ecfc4f958fde0e707597b2cd",
            "max": 1,
            "min": 0,
            "orientation": "horizontal",
            "readout": true,
            "readout_format": ".2f",
            "step": 0.1,
            "style": "IPY_MODEL_bd4d4ab39d7c4b23a87923c0a072810d",
            "value": 0
          }
        },
        "32d306d86123412aba41a0992be119cb": {
          "model_module": "@jupyter-widgets/controls",
          "model_name": "FloatSliderModel",
          "model_module_version": "1.5.0",
          "state": {
            "_dom_classes": [],
            "_model_module": "@jupyter-widgets/controls",
            "_model_module_version": "1.5.0",
            "_model_name": "FloatSliderModel",
            "_view_count": null,
            "_view_module": "@jupyter-widgets/controls",
            "_view_module_version": "1.5.0",
            "_view_name": "FloatSliderView",
            "continuous_update": true,
            "description": "rot",
            "description_tooltip": null,
            "disabled": false,
            "layout": "IPY_MODEL_b78f84062a134718a467ea73c2109997",
            "max": 1,
            "min": 0,
            "orientation": "horizontal",
            "readout": true,
            "readout_format": ".2f",
            "step": 0.1,
            "style": "IPY_MODEL_d364b87ecadb412bb71e758afce909b5",
            "value": 0.4
          }
        },
        "796e04d9b5664514b3cf1f24461be49a": {
          "model_module": "@jupyter-widgets/output",
          "model_name": "OutputModel",
          "model_module_version": "1.0.0",
          "state": {
            "_dom_classes": [],
            "_model_module": "@jupyter-widgets/output",
            "_model_module_version": "1.0.0",
            "_model_name": "OutputModel",
            "_view_count": null,
            "_view_module": "@jupyter-widgets/output",
            "_view_module_version": "1.0.0",
            "_view_name": "OutputView",
            "layout": "IPY_MODEL_0cd6b1c3c90d4b0dba05349e7295baae",
            "msg_id": "",
            "outputs": [
              {
                "output_type": "display_data",
                "data": {
                  "text/plain": "<Figure size 1728x72 with 1 Axes>",
                  "image/png": "iVBORw0KGgoAAAANSUhEUgAABU0AAABICAYAAADCk9RBAAAABHNCSVQICAgIfAhkiAAAAAlwSFlzAAALEgAACxIB0t1+/AAAADh0RVh0U29mdHdhcmUAbWF0cGxvdGxpYiB2ZXJzaW9uMy4yLjIsIGh0dHA6Ly9tYXRwbG90bGliLm9yZy+WH4yJAAAD3klEQVR4nO3dP4pbZxTG4aPgBSTEbgaMN5HVpkzjXXgFAdcGL8BFOo/+XkmfizRvYYMFvtz5Ds/TahjOy9Uw1g8G78YYBQAAAADA/37b+gAAAAAAgJdENAUAAAAACKIpAAAAAEAQTQEAAAAAgmgKAAAAABBEUwAAAACA8OqRL/7zj9/H26entW7Z3v2+9QWrGvex9QmrGZ7d1Oybm33zujfeVlV1H733jd6/+to/Pz9/8+r+7G6Nn11V7/dmVdW9+eei7s/v1viX+73xtqr++zq/N5frqa63Zfe91x6Kpm+fnurD+39+zVUv0PVw2vqEVd2O561PWM1133dbVdVyuGx9wqqWw7L1Cau6HHvvW47XrU9Y1bnxvlPz9+bp1PfZVVUdG783q6pO59vWJ6zqcO7983c49d23b/7sns+9/915WHrv2196fy56Pvf+zP689N33fDlsfcKqDstx6xNWtb/stz5hNZ+/fPzha/48HwAAAAAgiKYAAAAAAEE0BQAAAAAIoikAAAAAQBBNAQAAAACCaAoAAAAAEERTAAAAAIAgmgIAAAAABNEUAAAAACCIpgAAAAAAQTQFAAAAAAiiKQAAAABAEE0BAAAAAIJoCgAAAAAQRFMAAAAAgCCaAgAAAAAE0RQAAAAAIIimAAAAAABBNAUAAAAACKIpAAAAAEAQTQEAAAAAgmgKAAAAABBEUwAAAACAIJoCAAAAAATRFAAAAAAgiKYAAAAAAEE0BQAAAAAIoikAAAAAQBBNAQAAAACCaAoAAAAAEERTAAAAAIAgmgIAAAAABNEUAAAAACCIpgAAAAAAQTQFAAAAAAiiKQAAAABAEE0BAAAAAIJoCgAAAAAQRFMAAAAAgCCaAgAAAAAE0RQAAAAAIIimAAAAAABBNAUAAAAACKIpAAAAAEAQTQEAAAAAgmgKAAAAABBEUwAAAACAIJoCAAAAAATRFAAAAAAgiKYAAAAAAEE0BQAAAAAIoikAAAAAQNiNMX7+i3e7r1X1ab1zNve6qv7b+oiVdN5WZd/s7JtX521V9s3Ovnl13lZl3+zsm1fnbVX2za7zvs7bquyb3bsxxpvvvfDqwW/0aYzx1y846EXa7Xb/dt3XeVuVfbOzb16dt1XZNzv75tV5W5V9s7NvXp23Vdk3u877Om+rsq8zf54PAAAAABBEUwAAAACA8Gg0/XuVK16Ozvs6b6uyb3b2zavztir7ZmffvDpvq7JvdvbNq/O2Kvtm13lf521V9rX10H8EBQAAAADQnT/PBwAAAAAIoikAAAAAQBBNAQAAAACCaAoAAAAAEERTAAAAAIDwDQnPJf1Gx6T9AAAAAElFTkSuQmCC\n"
                },
                "metadata": {
                  "needs_background": "light"
                }
              }
            ]
          }
        },
        "5bd99e662451488fa41b03fc0c9fa0a5": {
          "model_module": "@jupyter-widgets/base",
          "model_name": "LayoutModel",
          "model_module_version": "1.2.0",
          "state": {
            "_model_module": "@jupyter-widgets/base",
            "_model_module_version": "1.2.0",
            "_model_name": "LayoutModel",
            "_view_count": null,
            "_view_module": "@jupyter-widgets/base",
            "_view_module_version": "1.2.0",
            "_view_name": "LayoutView",
            "align_content": null,
            "align_items": null,
            "align_self": null,
            "border": null,
            "bottom": null,
            "display": null,
            "flex": null,
            "flex_flow": null,
            "grid_area": null,
            "grid_auto_columns": null,
            "grid_auto_flow": null,
            "grid_auto_rows": null,
            "grid_column": null,
            "grid_gap": null,
            "grid_row": null,
            "grid_template_areas": null,
            "grid_template_columns": null,
            "grid_template_rows": null,
            "height": null,
            "justify_content": null,
            "justify_items": null,
            "left": null,
            "margin": null,
            "max_height": null,
            "max_width": null,
            "min_height": null,
            "min_width": null,
            "object_fit": null,
            "object_position": null,
            "order": null,
            "overflow": null,
            "overflow_x": null,
            "overflow_y": null,
            "padding": null,
            "right": null,
            "top": null,
            "visibility": null,
            "width": null
          }
        },
        "e4c76df7ecfc4f958fde0e707597b2cd": {
          "model_module": "@jupyter-widgets/base",
          "model_name": "LayoutModel",
          "model_module_version": "1.2.0",
          "state": {
            "_model_module": "@jupyter-widgets/base",
            "_model_module_version": "1.2.0",
            "_model_name": "LayoutModel",
            "_view_count": null,
            "_view_module": "@jupyter-widgets/base",
            "_view_module_version": "1.2.0",
            "_view_name": "LayoutView",
            "align_content": null,
            "align_items": null,
            "align_self": null,
            "border": null,
            "bottom": null,
            "display": null,
            "flex": null,
            "flex_flow": null,
            "grid_area": null,
            "grid_auto_columns": null,
            "grid_auto_flow": null,
            "grid_auto_rows": null,
            "grid_column": null,
            "grid_gap": null,
            "grid_row": null,
            "grid_template_areas": null,
            "grid_template_columns": null,
            "grid_template_rows": null,
            "height": null,
            "justify_content": null,
            "justify_items": null,
            "left": null,
            "margin": null,
            "max_height": null,
            "max_width": null,
            "min_height": null,
            "min_width": null,
            "object_fit": null,
            "object_position": null,
            "order": null,
            "overflow": null,
            "overflow_x": null,
            "overflow_y": null,
            "padding": null,
            "right": null,
            "top": null,
            "visibility": null,
            "width": null
          }
        },
        "bd4d4ab39d7c4b23a87923c0a072810d": {
          "model_module": "@jupyter-widgets/controls",
          "model_name": "SliderStyleModel",
          "model_module_version": "1.5.0",
          "state": {
            "_model_module": "@jupyter-widgets/controls",
            "_model_module_version": "1.5.0",
            "_model_name": "SliderStyleModel",
            "_view_count": null,
            "_view_module": "@jupyter-widgets/base",
            "_view_module_version": "1.2.0",
            "_view_name": "StyleView",
            "description_width": "",
            "handle_color": null
          }
        },
        "b78f84062a134718a467ea73c2109997": {
          "model_module": "@jupyter-widgets/base",
          "model_name": "LayoutModel",
          "model_module_version": "1.2.0",
          "state": {
            "_model_module": "@jupyter-widgets/base",
            "_model_module_version": "1.2.0",
            "_model_name": "LayoutModel",
            "_view_count": null,
            "_view_module": "@jupyter-widgets/base",
            "_view_module_version": "1.2.0",
            "_view_name": "LayoutView",
            "align_content": null,
            "align_items": null,
            "align_self": null,
            "border": null,
            "bottom": null,
            "display": null,
            "flex": null,
            "flex_flow": null,
            "grid_area": null,
            "grid_auto_columns": null,
            "grid_auto_flow": null,
            "grid_auto_rows": null,
            "grid_column": null,
            "grid_gap": null,
            "grid_row": null,
            "grid_template_areas": null,
            "grid_template_columns": null,
            "grid_template_rows": null,
            "height": null,
            "justify_content": null,
            "justify_items": null,
            "left": null,
            "margin": null,
            "max_height": null,
            "max_width": null,
            "min_height": null,
            "min_width": null,
            "object_fit": null,
            "object_position": null,
            "order": null,
            "overflow": null,
            "overflow_x": null,
            "overflow_y": null,
            "padding": null,
            "right": null,
            "top": null,
            "visibility": null,
            "width": null
          }
        },
        "d364b87ecadb412bb71e758afce909b5": {
          "model_module": "@jupyter-widgets/controls",
          "model_name": "SliderStyleModel",
          "model_module_version": "1.5.0",
          "state": {
            "_model_module": "@jupyter-widgets/controls",
            "_model_module_version": "1.5.0",
            "_model_name": "SliderStyleModel",
            "_view_count": null,
            "_view_module": "@jupyter-widgets/base",
            "_view_module_version": "1.2.0",
            "_view_name": "StyleView",
            "description_width": "",
            "handle_color": null
          }
        },
        "0cd6b1c3c90d4b0dba05349e7295baae": {
          "model_module": "@jupyter-widgets/base",
          "model_name": "LayoutModel",
          "model_module_version": "1.2.0",
          "state": {
            "_model_module": "@jupyter-widgets/base",
            "_model_module_version": "1.2.0",
            "_model_name": "LayoutModel",
            "_view_count": null,
            "_view_module": "@jupyter-widgets/base",
            "_view_module_version": "1.2.0",
            "_view_name": "LayoutView",
            "align_content": null,
            "align_items": null,
            "align_self": null,
            "border": null,
            "bottom": null,
            "display": null,
            "flex": null,
            "flex_flow": null,
            "grid_area": null,
            "grid_auto_columns": null,
            "grid_auto_flow": null,
            "grid_auto_rows": null,
            "grid_column": null,
            "grid_gap": null,
            "grid_row": null,
            "grid_template_areas": null,
            "grid_template_columns": null,
            "grid_template_rows": null,
            "height": null,
            "justify_content": null,
            "justify_items": null,
            "left": null,
            "margin": null,
            "max_height": null,
            "max_width": null,
            "min_height": null,
            "min_width": null,
            "object_fit": null,
            "object_position": null,
            "order": null,
            "overflow": null,
            "overflow_x": null,
            "overflow_y": null,
            "padding": null,
            "right": null,
            "top": null,
            "visibility": null,
            "width": null
          }
        },
        "3acaffd83c5442f69d8aa3f4c08cc5f7": {
          "model_module": "@jupyter-widgets/controls",
          "model_name": "VBoxModel",
          "model_module_version": "1.5.0",
          "state": {
            "_dom_classes": [
              "widget-interact"
            ],
            "_model_module": "@jupyter-widgets/controls",
            "_model_module_version": "1.5.0",
            "_model_name": "VBoxModel",
            "_view_count": null,
            "_view_module": "@jupyter-widgets/controls",
            "_view_module_version": "1.5.0",
            "_view_name": "VBoxView",
            "box_style": "",
            "children": [
              "IPY_MODEL_289a28c1fd0b4ee2bab1d949207e0d12",
              "IPY_MODEL_f8f301969479465ca47666aa71ea1674",
              "IPY_MODEL_f4ea12bc92e44d17b2cce8e1e9c20a77",
              "IPY_MODEL_e0143cc9fb044e42bfe30fc92588a7d6",
              "IPY_MODEL_cbd56e3e663f4f378dd396a7a76e1447"
            ],
            "layout": "IPY_MODEL_bc1c6644e6f746659573d4aa9b93bbcd"
          }
        },
        "289a28c1fd0b4ee2bab1d949207e0d12": {
          "model_module": "@jupyter-widgets/controls",
          "model_name": "DropdownModel",
          "model_module_version": "1.5.0",
          "state": {
            "_dom_classes": [],
            "_model_module": "@jupyter-widgets/controls",
            "_model_module_version": "1.5.0",
            "_model_name": "DropdownModel",
            "_options_labels": [
              "RdBu",
              "RdGy",
              "PRGn",
              "PiYG",
              "BrBG",
              "RdYlBu",
              "RdYlGn",
              "Spectral"
            ],
            "_view_count": null,
            "_view_module": "@jupyter-widgets/controls",
            "_view_module_version": "1.5.0",
            "_view_name": "DropdownView",
            "description": "name",
            "description_tooltip": null,
            "disabled": false,
            "index": 0,
            "layout": "IPY_MODEL_b05df1f79b724a9b9a15bcd146899533",
            "style": "IPY_MODEL_e073f3ebab0e45d6b83714753a29ab8d"
          }
        },
        "f8f301969479465ca47666aa71ea1674": {
          "model_module": "@jupyter-widgets/controls",
          "model_name": "IntSliderModel",
          "model_module_version": "1.5.0",
          "state": {
            "_dom_classes": [],
            "_model_module": "@jupyter-widgets/controls",
            "_model_module_version": "1.5.0",
            "_model_name": "IntSliderModel",
            "_view_count": null,
            "_view_module": "@jupyter-widgets/controls",
            "_view_module_version": "1.5.0",
            "_view_name": "IntSliderView",
            "continuous_update": true,
            "description": "n",
            "description_tooltip": null,
            "disabled": false,
            "layout": "IPY_MODEL_95084768a7094e0b8fdd58b6854a1590",
            "max": 16,
            "min": 2,
            "orientation": "horizontal",
            "readout": true,
            "readout_format": "d",
            "step": 1,
            "style": "IPY_MODEL_849dcd94adb1400f8eedd9f4fa481ea3",
            "value": 9
          }
        },
        "f4ea12bc92e44d17b2cce8e1e9c20a77": {
          "model_module": "@jupyter-widgets/controls",
          "model_name": "FloatSliderModel",
          "model_module_version": "1.5.0",
          "state": {
            "_dom_classes": [],
            "_model_module": "@jupyter-widgets/controls",
            "_model_module_version": "1.5.0",
            "_model_name": "FloatSliderModel",
            "_view_count": null,
            "_view_module": "@jupyter-widgets/controls",
            "_view_module_version": "1.5.0",
            "_view_name": "FloatSliderView",
            "continuous_update": true,
            "description": "desat",
            "description_tooltip": null,
            "disabled": false,
            "layout": "IPY_MODEL_4155f1ab623042acb4c82b38a95f281c",
            "max": 1,
            "min": 0,
            "orientation": "horizontal",
            "readout": true,
            "readout_format": ".2f",
            "step": 0.1,
            "style": "IPY_MODEL_118b1c52de0d4bcc94f81f89d7489078",
            "value": 1
          }
        },
        "e0143cc9fb044e42bfe30fc92588a7d6": {
          "model_module": "@jupyter-widgets/controls",
          "model_name": "DropdownModel",
          "model_module_version": "1.5.0",
          "state": {
            "_dom_classes": [],
            "_model_module": "@jupyter-widgets/controls",
            "_model_module_version": "1.5.0",
            "_model_name": "DropdownModel",
            "_options_labels": [
              "regular",
              "reverse"
            ],
            "_view_count": null,
            "_view_module": "@jupyter-widgets/controls",
            "_view_module_version": "1.5.0",
            "_view_name": "DropdownView",
            "description": "variant",
            "description_tooltip": null,
            "disabled": false,
            "index": 0,
            "layout": "IPY_MODEL_2e9b0cfbf602467387298d7521bd3835",
            "style": "IPY_MODEL_eb7efb01f14f4319b54e3e390c75b634"
          }
        },
        "cbd56e3e663f4f378dd396a7a76e1447": {
          "model_module": "@jupyter-widgets/output",
          "model_name": "OutputModel",
          "model_module_version": "1.0.0",
          "state": {
            "_dom_classes": [],
            "_model_module": "@jupyter-widgets/output",
            "_model_module_version": "1.0.0",
            "_model_name": "OutputModel",
            "_view_count": null,
            "_view_module": "@jupyter-widgets/output",
            "_view_module_version": "1.0.0",
            "_view_name": "OutputView",
            "layout": "IPY_MODEL_a4d0c904817149e7bcf4e5932f55d4b5",
            "msg_id": "",
            "outputs": [
              {
                "output_type": "display_data",
                "data": {
                  "text/plain": "<Figure size 648x72 with 1 Axes>",
                  "image/png": "iVBORw0KGgoAAAANSUhEUgAAAggAAABICAYAAACTOw0mAAAABHNCSVQICAgIfAhkiAAAAAlwSFlzAAALEgAACxIB0t1+/AAAADh0RVh0U29mdHdhcmUAbWF0cGxvdGxpYiB2ZXJzaW9uMy4yLjIsIGh0dHA6Ly9tYXRwbG90bGliLm9yZy+WH4yJAAACYElEQVR4nO3bPWpUURzG4XOTGT8iJIWaShEsrC0CbkDEJbkJN+AqxA24AbGwC4J2sVBRHFBHE4+t8CbiQA5n5vg87R2G99/94M5MtdYCAPCnrd4DAID1IxAAgCAQAIAgEACAIBAAgCAQAIAwW+XDu1uzur89b7Wlu0t7F3tPaOrC7k7vCU1tXdnrPaGZX/PLvSc0tTwZ++/Wi+Vx7wlNff76s/eEppbfxr3vePG+nHz/Mp32bKVA2N+el8dXb5/PqjV05+G4t5VSys37B70nNLVz70HvCc0sb9ztPaGp159+9J7Q1PO3H3tPaOrZy6PeE5p68+pd7wnNHD19dOYzrxgAgCAQAIAgEACAIBAAgCAQAIAgEACAIBAAgCAQAIAgEACAIBAAgCAQAIAgEACAIBAAgCAQAIAgEACAIBAAgCAQAIAgEACAIBAAgCAQAIAgEACAIBAAgCAQAIAgEACAIBAAgCAQAIAgEACAIBAAgCAQAIAgEACAIBAAgCAQAIAgEACAIBAAgCAQAIAgEACAIBAAgCAQAIAgEACAIBAAgCAQAIAgEACAIBAAgCAQAIAgEACAIBAAgCAQAIAgEACAIBAAgCAQAIAgEACAIBAAgDDVWv/9w9O0KKUctpvT3bVSyofeIxoZ+bZS3Lfp3Le5Rr6tlPHvu1VrvX7ag9mKX3RYaz04h0FraZqmF6PeN/Jtpbhv07lvc418Wynj3/c3XjEAAEEgAABh1UB40mTF+hj5vpFvK8V9m859m2vk20oZ/74zrfQjRQDg/+AVAwAQBAIAEAQCABAEAgAQBAIAEH4DBiVkKtLRODwAAAAASUVORK5CYII=\n"
                },
                "metadata": {
                  "needs_background": "light"
                }
              }
            ]
          }
        },
        "bc1c6644e6f746659573d4aa9b93bbcd": {
          "model_module": "@jupyter-widgets/base",
          "model_name": "LayoutModel",
          "model_module_version": "1.2.0",
          "state": {
            "_model_module": "@jupyter-widgets/base",
            "_model_module_version": "1.2.0",
            "_model_name": "LayoutModel",
            "_view_count": null,
            "_view_module": "@jupyter-widgets/base",
            "_view_module_version": "1.2.0",
            "_view_name": "LayoutView",
            "align_content": null,
            "align_items": null,
            "align_self": null,
            "border": null,
            "bottom": null,
            "display": null,
            "flex": null,
            "flex_flow": null,
            "grid_area": null,
            "grid_auto_columns": null,
            "grid_auto_flow": null,
            "grid_auto_rows": null,
            "grid_column": null,
            "grid_gap": null,
            "grid_row": null,
            "grid_template_areas": null,
            "grid_template_columns": null,
            "grid_template_rows": null,
            "height": null,
            "justify_content": null,
            "justify_items": null,
            "left": null,
            "margin": null,
            "max_height": null,
            "max_width": null,
            "min_height": null,
            "min_width": null,
            "object_fit": null,
            "object_position": null,
            "order": null,
            "overflow": null,
            "overflow_x": null,
            "overflow_y": null,
            "padding": null,
            "right": null,
            "top": null,
            "visibility": null,
            "width": null
          }
        },
        "b05df1f79b724a9b9a15bcd146899533": {
          "model_module": "@jupyter-widgets/base",
          "model_name": "LayoutModel",
          "model_module_version": "1.2.0",
          "state": {
            "_model_module": "@jupyter-widgets/base",
            "_model_module_version": "1.2.0",
            "_model_name": "LayoutModel",
            "_view_count": null,
            "_view_module": "@jupyter-widgets/base",
            "_view_module_version": "1.2.0",
            "_view_name": "LayoutView",
            "align_content": null,
            "align_items": null,
            "align_self": null,
            "border": null,
            "bottom": null,
            "display": null,
            "flex": null,
            "flex_flow": null,
            "grid_area": null,
            "grid_auto_columns": null,
            "grid_auto_flow": null,
            "grid_auto_rows": null,
            "grid_column": null,
            "grid_gap": null,
            "grid_row": null,
            "grid_template_areas": null,
            "grid_template_columns": null,
            "grid_template_rows": null,
            "height": null,
            "justify_content": null,
            "justify_items": null,
            "left": null,
            "margin": null,
            "max_height": null,
            "max_width": null,
            "min_height": null,
            "min_width": null,
            "object_fit": null,
            "object_position": null,
            "order": null,
            "overflow": null,
            "overflow_x": null,
            "overflow_y": null,
            "padding": null,
            "right": null,
            "top": null,
            "visibility": null,
            "width": null
          }
        },
        "e073f3ebab0e45d6b83714753a29ab8d": {
          "model_module": "@jupyter-widgets/controls",
          "model_name": "DescriptionStyleModel",
          "model_module_version": "1.5.0",
          "state": {
            "_model_module": "@jupyter-widgets/controls",
            "_model_module_version": "1.5.0",
            "_model_name": "DescriptionStyleModel",
            "_view_count": null,
            "_view_module": "@jupyter-widgets/base",
            "_view_module_version": "1.2.0",
            "_view_name": "StyleView",
            "description_width": ""
          }
        },
        "95084768a7094e0b8fdd58b6854a1590": {
          "model_module": "@jupyter-widgets/base",
          "model_name": "LayoutModel",
          "model_module_version": "1.2.0",
          "state": {
            "_model_module": "@jupyter-widgets/base",
            "_model_module_version": "1.2.0",
            "_model_name": "LayoutModel",
            "_view_count": null,
            "_view_module": "@jupyter-widgets/base",
            "_view_module_version": "1.2.0",
            "_view_name": "LayoutView",
            "align_content": null,
            "align_items": null,
            "align_self": null,
            "border": null,
            "bottom": null,
            "display": null,
            "flex": null,
            "flex_flow": null,
            "grid_area": null,
            "grid_auto_columns": null,
            "grid_auto_flow": null,
            "grid_auto_rows": null,
            "grid_column": null,
            "grid_gap": null,
            "grid_row": null,
            "grid_template_areas": null,
            "grid_template_columns": null,
            "grid_template_rows": null,
            "height": null,
            "justify_content": null,
            "justify_items": null,
            "left": null,
            "margin": null,
            "max_height": null,
            "max_width": null,
            "min_height": null,
            "min_width": null,
            "object_fit": null,
            "object_position": null,
            "order": null,
            "overflow": null,
            "overflow_x": null,
            "overflow_y": null,
            "padding": null,
            "right": null,
            "top": null,
            "visibility": null,
            "width": null
          }
        },
        "849dcd94adb1400f8eedd9f4fa481ea3": {
          "model_module": "@jupyter-widgets/controls",
          "model_name": "SliderStyleModel",
          "model_module_version": "1.5.0",
          "state": {
            "_model_module": "@jupyter-widgets/controls",
            "_model_module_version": "1.5.0",
            "_model_name": "SliderStyleModel",
            "_view_count": null,
            "_view_module": "@jupyter-widgets/base",
            "_view_module_version": "1.2.0",
            "_view_name": "StyleView",
            "description_width": "",
            "handle_color": null
          }
        },
        "4155f1ab623042acb4c82b38a95f281c": {
          "model_module": "@jupyter-widgets/base",
          "model_name": "LayoutModel",
          "model_module_version": "1.2.0",
          "state": {
            "_model_module": "@jupyter-widgets/base",
            "_model_module_version": "1.2.0",
            "_model_name": "LayoutModel",
            "_view_count": null,
            "_view_module": "@jupyter-widgets/base",
            "_view_module_version": "1.2.0",
            "_view_name": "LayoutView",
            "align_content": null,
            "align_items": null,
            "align_self": null,
            "border": null,
            "bottom": null,
            "display": null,
            "flex": null,
            "flex_flow": null,
            "grid_area": null,
            "grid_auto_columns": null,
            "grid_auto_flow": null,
            "grid_auto_rows": null,
            "grid_column": null,
            "grid_gap": null,
            "grid_row": null,
            "grid_template_areas": null,
            "grid_template_columns": null,
            "grid_template_rows": null,
            "height": null,
            "justify_content": null,
            "justify_items": null,
            "left": null,
            "margin": null,
            "max_height": null,
            "max_width": null,
            "min_height": null,
            "min_width": null,
            "object_fit": null,
            "object_position": null,
            "order": null,
            "overflow": null,
            "overflow_x": null,
            "overflow_y": null,
            "padding": null,
            "right": null,
            "top": null,
            "visibility": null,
            "width": null
          }
        },
        "118b1c52de0d4bcc94f81f89d7489078": {
          "model_module": "@jupyter-widgets/controls",
          "model_name": "SliderStyleModel",
          "model_module_version": "1.5.0",
          "state": {
            "_model_module": "@jupyter-widgets/controls",
            "_model_module_version": "1.5.0",
            "_model_name": "SliderStyleModel",
            "_view_count": null,
            "_view_module": "@jupyter-widgets/base",
            "_view_module_version": "1.2.0",
            "_view_name": "StyleView",
            "description_width": "",
            "handle_color": null
          }
        },
        "2e9b0cfbf602467387298d7521bd3835": {
          "model_module": "@jupyter-widgets/base",
          "model_name": "LayoutModel",
          "model_module_version": "1.2.0",
          "state": {
            "_model_module": "@jupyter-widgets/base",
            "_model_module_version": "1.2.0",
            "_model_name": "LayoutModel",
            "_view_count": null,
            "_view_module": "@jupyter-widgets/base",
            "_view_module_version": "1.2.0",
            "_view_name": "LayoutView",
            "align_content": null,
            "align_items": null,
            "align_self": null,
            "border": null,
            "bottom": null,
            "display": null,
            "flex": null,
            "flex_flow": null,
            "grid_area": null,
            "grid_auto_columns": null,
            "grid_auto_flow": null,
            "grid_auto_rows": null,
            "grid_column": null,
            "grid_gap": null,
            "grid_row": null,
            "grid_template_areas": null,
            "grid_template_columns": null,
            "grid_template_rows": null,
            "height": null,
            "justify_content": null,
            "justify_items": null,
            "left": null,
            "margin": null,
            "max_height": null,
            "max_width": null,
            "min_height": null,
            "min_width": null,
            "object_fit": null,
            "object_position": null,
            "order": null,
            "overflow": null,
            "overflow_x": null,
            "overflow_y": null,
            "padding": null,
            "right": null,
            "top": null,
            "visibility": null,
            "width": null
          }
        },
        "eb7efb01f14f4319b54e3e390c75b634": {
          "model_module": "@jupyter-widgets/controls",
          "model_name": "DescriptionStyleModel",
          "model_module_version": "1.5.0",
          "state": {
            "_model_module": "@jupyter-widgets/controls",
            "_model_module_version": "1.5.0",
            "_model_name": "DescriptionStyleModel",
            "_view_count": null,
            "_view_module": "@jupyter-widgets/base",
            "_view_module_version": "1.2.0",
            "_view_name": "StyleView",
            "description_width": ""
          }
        },
        "a4d0c904817149e7bcf4e5932f55d4b5": {
          "model_module": "@jupyter-widgets/base",
          "model_name": "LayoutModel",
          "model_module_version": "1.2.0",
          "state": {
            "_model_module": "@jupyter-widgets/base",
            "_model_module_version": "1.2.0",
            "_model_name": "LayoutModel",
            "_view_count": null,
            "_view_module": "@jupyter-widgets/base",
            "_view_module_version": "1.2.0",
            "_view_name": "LayoutView",
            "align_content": null,
            "align_items": null,
            "align_self": null,
            "border": null,
            "bottom": null,
            "display": null,
            "flex": null,
            "flex_flow": null,
            "grid_area": null,
            "grid_auto_columns": null,
            "grid_auto_flow": null,
            "grid_auto_rows": null,
            "grid_column": null,
            "grid_gap": null,
            "grid_row": null,
            "grid_template_areas": null,
            "grid_template_columns": null,
            "grid_template_rows": null,
            "height": null,
            "justify_content": null,
            "justify_items": null,
            "left": null,
            "margin": null,
            "max_height": null,
            "max_width": null,
            "min_height": null,
            "min_width": null,
            "object_fit": null,
            "object_position": null,
            "order": null,
            "overflow": null,
            "overflow_x": null,
            "overflow_y": null,
            "padding": null,
            "right": null,
            "top": null,
            "visibility": null,
            "width": null
          }
        }
      }
    }
  },
  "cells": [
    {
      "cell_type": "markdown",
      "metadata": {
        "id": "view-in-github",
        "colab_type": "text"
      },
      "source": [
        "<a href=\"https://colab.research.google.com/github/haloyukka/python/blob/master/MyColor/Color_seaboarn.ipynb\" target=\"_parent\"><img src=\"https://colab.research.google.com/assets/colab-badge.svg\" alt=\"Open In Colab\"/></a>"
      ]
    },
    {
      "cell_type": "code",
      "execution_count": null,
      "metadata": {
        "colab": {
          "base_uri": "https://localhost:8080/",
          "height": 80
        },
        "id": "on7CyfPKMY1-",
        "outputId": "2b2302e6-22b9-42c0-f3d5-93cbe81be0fd"
      },
      "outputs": [
        {
          "output_type": "display_data",
          "data": {
            "text/plain": [
              "<Figure size 1728x72 with 1 Axes>"
            ],
            "image/png": "[encoded data removed]"
          },
          "metadata": {
            "needs_background": "light"
          }
        }
      ],
      "source": [
        "# 定性的なカラーパレット(Qualitative color palettes)\n",
        "%matplotlib inline\n",
        "import seaborn as sns, numpy as np\n",
        "from ipywidgets import interact, FloatSlider\n",
        "\n",
        "current_palette = sns.color_palette(n_colors=24)\n",
        "sns.palplot(current_palette)"
      ]
    },
    {
      "cell_type": "code",
      "source": [
        "# 定性的なカラーパレット(Qualitative color palettes)\n",
        "%matplotlib inline\n",
        "import seaborn as sns, numpy as np\n",
        "from ipywidgets import interact, FloatSlider\n",
        "\n",
        "def show_pal0(palette):\n",
        "    sns.palplot(sns.color_palette(palette, 24))\n",
        "interact(show_pal0, palette='deep muted pastel bright dark colorblind'.split());"
      ],
      "metadata": {
        "colab": {
          "base_uri": "https://localhost:8080/",
          "height": 112,
          "referenced_widgets": [
            "f9802addb8fa4f0a92f2d676ef8f5778",
            "980a15d5c374410fa4d587d3cfffe37b",
            "0f49d254523646a49bea27b9cf01de2f",
            "2a855654a5bb49de9721f04fa75a2e0d",
            "2a2871aa832141dc9c3034ea11637ccb",
            "87424298062840a8882a9e2af0d96f66",
            "1233513a25894e97b486c3829860fedd"
          ]
        },
        "id": "ZU_XWn2FMjvO",
        "outputId": "ca59578e-2f41-45c7-ccbb-0634ca9c23e9"
      },
      "execution_count": null,
      "outputs": [
        {
          "output_type": "display_data",
          "data": {
            "text/plain": [
              "interactive(children=(Dropdown(description='palette', options=('deep', 'muted', 'pastel', 'bright', 'dark', 'c…"
            ],
            "application/vnd.jupyter.widget-view+json": {
              "version_major": 2,
              "version_minor": 0,
              "model_id": "f9802addb8fa4f0a92f2d676ef8f5778"
            }
          },
          "metadata": {}
        }
      ]
    },
    {
      "cell_type": "code",
      "source": [
        "# 色相カラーパレット (Using circular color systems)\n",
        "# よく使われるのは、hlsです。color_paletteでも、hls_paletteでも作成できます。\n",
        "%matplotlib inline\n",
        "import seaborn as sns, numpy as np\n",
        "from ipywidgets import interact, FloatSlider\n",
        "\n",
        "sns.palplot(sns.color_palette(\"hls\",24))\n",
        "sns.palplot(sns.hls_palette(24))"
      ],
      "metadata": {
        "colab": {
          "base_uri": "https://localhost:8080/",
          "height": 142
        },
        "id": "d3vUp7LMM6F2",
        "outputId": "f6d054c9-0641-46ba-dd5c-ca7784012b9b"
      },
      "execution_count": null,
      "outputs": [
        {
          "output_type": "display_data",
          "data": {
            "text/plain": [
              "<Figure size 1728x72 with 1 Axes>"
            ],
            "image/png": "[encoded data removed]"
          },
          "metadata": {
            "needs_background": "light"
          }
        },
        {
          "output_type": "display_data",
          "data": {
            "text/plain": [
              "<Figure size 1728x72 with 1 Axes>"
            ],
            "image/png": "[encoded data removed]"
          },
          "metadata": {
            "needs_background": "light"
          }
        }
      ]
    },
    {
      "cell_type": "code",
      "source": [
        "# 色相カラーパレット (Using circular color systems)\n",
        "# パラメータ l で明度を、s で彩度を指定できます。\n",
        "%matplotlib inline\n",
        "import seaborn as sns, numpy as np\n",
        "from ipywidgets import interact, FloatSlider\n",
        "\n",
        "sns.palplot(sns.hls_palette(24, l=0.2))\n",
        "sns.palplot(sns.hls_palette(24, s=0.2))"
      ],
      "metadata": {
        "colab": {
          "base_uri": "https://localhost:8080/",
          "height": 142
        },
        "id": "54_6YjesNK2m",
        "outputId": "155d9b49-c614-457a-caab-f7e8917a176a"
      },
      "execution_count": null,
      "outputs": [
        {
          "output_type": "display_data",
          "data": {
            "text/plain": [
              "<Figure size 1728x72 with 1 Axes>"
            ],
            "image/png": "[encoded data removed]"
          },
          "metadata": {
            "needs_background": "light"
          }
        },
        {
          "output_type": "display_data",
          "data": {
            "text/plain": [
              "<Figure size 1728x72 with 1 Axes>"
            ],
            "image/png": "[encoded data removed]"
          },
          "metadata": {
            "needs_background": "light"
          }
        }
      ]
    },
    {
      "cell_type": "code",
      "source": [
        "# 色相カラーパレット (Using circular color systems)\n",
        "# くっきりしたカラーパレット\n",
        "%matplotlib inline\n",
        "import seaborn as sns, numpy as np\n",
        "from ipywidgets import interact, FloatSlider\n",
        "\n",
        "sns.palplot(sns.hls_palette(24, l=0.5, s=1))"
      ],
      "metadata": {
        "colab": {
          "base_uri": "https://localhost:8080/",
          "height": 80
        },
        "id": "tbG67d8UNa8t",
        "outputId": "9b158961-0f42-437f-b289-58c0e26d850e"
      },
      "execution_count": null,
      "outputs": [
        {
          "output_type": "display_data",
          "data": {
            "text/plain": [
              "<Figure size 1728x72 with 1 Axes>"
            ],
            "image/png": "[encoded data removed]"
          },
          "metadata": {
            "needs_background": "light"
          }
        }
      ]
    },
    {
      "cell_type": "code",
      "source": [
        "# インタラクティブに設定\n",
        "%matplotlib inline\n",
        "import seaborn as sns, numpy as np\n",
        "from ipywidgets import interact, FloatSlider\n",
        "\n",
        "def show_pal1(l, s):\n",
        "    sns.palplot(sns.hls_palette(24, l=l, s=s))\n",
        "interact(show_pal1, l=FloatSlider(0.6, max=1), s=FloatSlider(0.65, max=1));"
      ],
      "metadata": {
        "colab": {
          "base_uri": "https://localhost:8080/",
          "height": 144,
          "referenced_widgets": [
            "1f637ba9aa4746ec845accbd1e1fab76",
            "5fb847c4ffd94d6fa55d7414d280656c",
            "fcf5b05bb6e549dabc537d538d76515b",
            "816284213aca42b2a75b82da24390d89",
            "1d3088f58b014b6caf2b25b24c15b715",
            "b3b01dca85c14db49b697363f55d3abb",
            "b238b01d252142f5b188a7e52b93ffa2",
            "b12c4a088de74377af628e10692ff713",
            "061bb78a20ba4c888089f4a37c8fdd2a",
            "e05065ee13754fc49b0e0dbc48c790b4"
          ]
        },
        "id": "_4DwVRhqNnBV",
        "outputId": "bae6574f-d5f5-4db7-b418-6690d48c3748"
      },
      "execution_count": null,
      "outputs": [
        {
          "output_type": "display_data",
          "data": {
            "text/plain": [
              "interactive(children=(FloatSlider(value=0.6, description='l', max=1.0), FloatSlider(value=0.65, description='s…"
            ],
            "application/vnd.jupyter.widget-view+json": {
              "version_major": 2,
              "version_minor": 0,
              "model_id": "1f637ba9aa4746ec845accbd1e1fab76"
            }
          },
          "metadata": {}
        }
      ]
    },
    {
      "cell_type": "code",
      "source": [
        "# hlsの色相ごとの明度のばらつきを少なくしたhuslも利用できます。\n",
        "%matplotlib inline\n",
        "import seaborn as sns, numpy as np\n",
        "from ipywidgets import interact, FloatSlider\n",
        "\n",
        "sns.palplot(sns.husl_palette(24))"
      ],
      "metadata": {
        "colab": {
          "base_uri": "https://localhost:8080/",
          "height": 80
        },
        "id": "9venwHACN0mP",
        "outputId": "fa701cc4-fa2b-4a6b-e9ad-e497d436f783"
      },
      "execution_count": null,
      "outputs": [
        {
          "output_type": "display_data",
          "data": {
            "text/plain": [
              "<Figure size 1728x72 with 1 Axes>"
            ],
            "image/png": "[encoded data removed]"
          },
          "metadata": {
            "needs_background": "light"
          }
        }
      ]
    },
    {
      "cell_type": "code",
      "source": [
        "# カテゴリカラー (Using categorical Color Brewer palettes)\n",
        "%matplotlib inline\n",
        "import seaborn as sns, numpy as np\n",
        "from ipywidgets import interact, FloatSlider\n",
        "\n",
        "sns.palplot(sns.color_palette(\"Set1\", 24))"
      ],
      "metadata": {
        "colab": {
          "base_uri": "https://localhost:8080/",
          "height": 80
        },
        "id": "6Pw46_e2OMAF",
        "outputId": "e5b7300e-ff9c-47e4-dfd3-d2655b50f022"
      },
      "execution_count": null,
      "outputs": [
        {
          "output_type": "display_data",
          "data": {
            "text/plain": [
              "<Figure size 1728x72 with 1 Axes>"
            ],
            "image/png": "[encoded data removed]"
          },
          "metadata": {
            "needs_background": "light"
          }
        }
      ]
    },
    {
      "cell_type": "code",
      "source": [
        "%matplotlib inline\n",
        "import seaborn as sns, numpy as np\n",
        "from ipywidgets import interact, FloatSlider\n",
        "\n",
        "sns.choose_colorbrewer_palette('qualitative');"
      ],
      "metadata": {
        "colab": {
          "base_uri": "https://localhost:8080/",
          "height": 185,
          "referenced_widgets": [
            "65d049d576c643a1a3754218665a0de7",
            "d25b55f8d31d492e907c3531e2b6a0ad",
            "b8d1589a70c347f08395ebb2808e3f9e",
            "088b9721278645b2a1bc67da4cf2278a",
            "b2e51d57fcb647e0be9372340b959aac",
            "770d9086e4724e76a7f7f80eff0d807b",
            "4a26cdb592614dbcb95d41286efb7240",
            "422cecdbf0a94c4da07ab0baf3cc609c",
            "9412cb5aa0ca4d77a6c3c0cecaa5914f",
            "a0782c8079c54f859b0ac0d593d1b2df",
            "083df4863b424a94b8a2ab1c7a02e46d",
            "f2e2eaa34cbc46baa8110ad5db397257",
            "6c13acdf546e49018f6377862d5cf3d4"
          ]
        },
        "id": "X89U0DBvOTg8",
        "outputId": "fd08907f-1ce1-4feb-d5ba-b1ddfd4e8a31"
      },
      "execution_count": null,
      "outputs": [
        {
          "output_type": "display_data",
          "data": {
            "text/plain": [
              "interactive(children=(Dropdown(description='name', options=('Set1', 'Set2', 'Set3', 'Paired', 'Accent', 'Paste…"
            ],
            "application/vnd.jupyter.widget-view+json": {
              "version_major": 2,
              "version_minor": 0,
              "model_id": "65d049d576c643a1a3754218665a0de7"
            }
          },
          "metadata": {}
        }
      ]
    },
    {
      "cell_type": "code",
      "source": [
        "# RGBで指定してカラーパレットを作成することもできます。\n",
        "flatui = [\"#9b59b6\", \"#3498db\", \"#95a5a6\", \"#e74c3c\", \"#34495e\", \"#2ecc71\"]\n",
        "sns.palplot(sns.color_palette(flatui, 24))"
      ],
      "metadata": {
        "colab": {
          "base_uri": "https://localhost:8080/",
          "height": 80
        },
        "id": "32UkpscNOcGV",
        "outputId": "0d66b353-c96f-4a5e-b643-30fc82419874"
      },
      "execution_count": null,
      "outputs": [
        {
          "output_type": "display_data",
          "data": {
            "text/plain": [
              "<Figure size 1728x72 with 1 Axes>"
            ],
            "image/png": "[encoded data removed]"
          },
          "metadata": {
            "needs_background": "light"
          }
        }
      ]
    },
    {
      "cell_type": "code",
      "source": [
        "# 連続カラーパレット (Sequential color palettes)\n",
        "sns.palplot(sns.color_palette(\"Blues\", 24))\n",
        "sns.palplot(sns.color_palette(\"Blues_d\", 24))\n",
        "sns.palplot(sns.color_palette(\"Blues_r\", 24))"
      ],
      "metadata": {
        "colab": {
          "base_uri": "https://localhost:8080/",
          "height": 205
        },
        "id": "c4K4lRnJOo1F",
        "outputId": "630ec8e7-bc8e-4b56-aff3-f0673b737e7d"
      },
      "execution_count": null,
      "outputs": [
        {
          "output_type": "display_data",
          "data": {
            "text/plain": [
              "<Figure size 1728x72 with 1 Axes>"
            ],
            "image/png": "[encoded data removed]"
          },
          "metadata": {
            "needs_background": "light"
          }
        },
        {
          "output_type": "display_data",
          "data": {
            "text/plain": [
              "<Figure size 1728x72 with 1 Axes>"
            ],
            "image/png": "[encoded data removed]"
          },
          "metadata": {
            "needs_background": "light"
          }
        },
        {
          "output_type": "display_data",
          "data": {
            "text/plain": [
              "<Figure size 1728x72 with 1 Axes>"
            ],
            "image/png": "[encoded data removed]"
          },
          "metadata": {
            "needs_background": "light"
          }
        }
      ]
    },
    {
      "cell_type": "code",
      "source": [
        "sns.choose_colorbrewer_palette('sequential');"
      ],
      "metadata": {
        "colab": {
          "base_uri": "https://localhost:8080/",
          "height": 217,
          "referenced_widgets": [
            "b20277fbf71c4608933f5d2bbf884ab1",
            "280f614fe3f24b5c80e247417f14d8b1",
            "d8ab11b4cc5746e0a99b0f412cd56e26",
            "4a502e9b371a4a4fa7c37b44ec82d73c",
            "2652053b0fd441568276a086e72a954e",
            "f288b03bd5a64bed91c525fc3aaef572",
            "29557780b1f34efdb06f425df167b50e",
            "75b2b5d0a93b49e29533cbd1ba4955ba",
            "7efa7de31a17466aadfdffb078a855ca",
            "c587f2f748884c34a34079e4b45f4061",
            "11f80818a73b45869979e558068e7795",
            "955cee37babf40e481da6545b76595b9",
            "28b23dfd16a540d18c7cbc7ab3460a0f",
            "5c2019407d7f40cfb20e6933bc71fbe9",
            "a4e3c8381d75439194cf302e500c341c",
            "605ba5263ae74757a75c0a5afd27e087"
          ]
        },
        "id": "0V9cI12aOv7m",
        "outputId": "4f442c29-4e34-406b-f000-c4eba5823e2e"
      },
      "execution_count": null,
      "outputs": [
        {
          "output_type": "display_data",
          "data": {
            "text/plain": [
              "interactive(children=(Dropdown(description='name', options=('Greys', 'Reds', 'Greens', 'Blues', 'Oranges', 'Pu…"
            ],
            "application/vnd.jupyter.widget-view+json": {
              "version_major": 2,
              "version_minor": 0,
              "model_id": "b20277fbf71c4608933f5d2bbf884ab1"
            }
          },
          "metadata": {}
        }
      ]
    },
    {
      "cell_type": "code",
      "source": [
        "# cubehelix_paletteを用いた連続カラーパレット (Sequential palettes with cubehelix_palette())\n",
        "# cubehelixを使って色調を変化させながら、明るさを連続的に変化させたカラーパレットを作成できます。\n",
        "sns.palplot(sns.color_palette(\"cubehelix\", 24))"
      ],
      "metadata": {
        "colab": {
          "base_uri": "https://localhost:8080/",
          "height": 80
        },
        "id": "SVCG9RuJOzLf",
        "outputId": "785749b7-4b30-4139-99f6-38f2274c03d0"
      },
      "execution_count": null,
      "outputs": [
        {
          "output_type": "display_data",
          "data": {
            "text/plain": [
              "<Figure size 1728x72 with 1 Axes>"
            ],
            "image/png": "[encoded data removed]"
          },
          "metadata": {
            "needs_background": "light"
          }
        }
      ]
    },
    {
      "cell_type": "code",
      "source": [
        "# cubehelix_paletteは、違うカラーパレットになるようです。\n",
        "sns.palplot(sns.cubehelix_palette(24))"
      ],
      "metadata": {
        "colab": {
          "base_uri": "https://localhost:8080/",
          "height": 80
        },
        "id": "aUyVEzs3O3-9",
        "outputId": "9a088900-6339-4a69-9c76-14d5520249ea"
      },
      "execution_count": null,
      "outputs": [
        {
          "output_type": "display_data",
          "data": {
            "text/plain": [
              "<Figure size 1728x72 with 1 Axes>"
            ],
            "image/png": "[encoded data removed]"
          },
          "metadata": {
            "needs_background": "light"
          }
        }
      ]
    },
    {
      "cell_type": "code",
      "source": [
        "# as_cmap=Trueとすることで、cmapパラメータを持つグラフ描画で使えるようになります。\n",
        "np.random.seed(1)\n",
        "x, y = np.random.multivariate_normal([0, 0], [[1, -.5], [-.5, 1]], size=300).T\n",
        "cmap = sns.cubehelix_palette(light=1, as_cmap=True)\n",
        "sns.kdeplot(x, y, cmap=cmap, shade=True);"
      ],
      "metadata": {
        "colab": {
          "base_uri": "https://localhost:8080/",
          "height": 321
        },
        "id": "xhVNy3s8PA6s",
        "outputId": "d9c50cae-43ae-4e53-fb49-df705f97b408"
      },
      "execution_count": null,
      "outputs": [
        {
          "output_type": "stream",
          "name": "stderr",
          "text": [
            "/usr/local/lib/python3.7/dist-packages/seaborn/_decorators.py:43: FutureWarning: Pass the following variable as a keyword arg: y. From version 0.12, the only valid positional argument will be `data`, and passing other arguments without an explicit keyword will result in an error or misinterpretation.\n",
            "  FutureWarning\n"
          ]
        },
        {
          "output_type": "display_data",
          "data": {
            "text/plain": [
              "<Figure size 432x288 with 1 Axes>"
            ],
            "image/png": "[encoded data removed]"
          },
          "metadata": {
            "needs_background": "light"
          }
        }
      ]
    },
    {
      "cell_type": "code",
      "source": [
        "# Jupyterで、cubehelix_palette カラーパレットをインタラクティブに確認できるようにしました。\n",
        "def show_pal2(start, rot):\n",
        "    sns.palplot(sns.cubehelix_palette(24, start=start, rot=rot))\n",
        "interact(show_pal2, start=FloatSlider(max=1), rot=FloatSlider(0.4, max=1));"
      ],
      "metadata": {
        "colab": {
          "base_uri": "https://localhost:8080/",
          "height": 144,
          "referenced_widgets": [
            "48ca180973e74e1a97002b5b110568d8",
            "3698163fe27d4e51bba3f91c56592060",
            "32d306d86123412aba41a0992be119cb",
            "796e04d9b5664514b3cf1f24461be49a",
            "5bd99e662451488fa41b03fc0c9fa0a5",
            "e4c76df7ecfc4f958fde0e707597b2cd",
            "bd4d4ab39d7c4b23a87923c0a072810d",
            "b78f84062a134718a467ea73c2109997",
            "d364b87ecadb412bb71e758afce909b5",
            "0cd6b1c3c90d4b0dba05349e7295baae"
          ]
        },
        "id": "p_T1Lx3TPOjO",
        "outputId": "dd88ecba-ac31-46a7-ebb0-6602c2266f59"
      },
      "execution_count": null,
      "outputs": [
        {
          "output_type": "display_data",
          "data": {
            "text/plain": [
              "interactive(children=(FloatSlider(value=0.0, description='start', max=1.0), FloatSlider(value=0.4, description…"
            ],
            "application/vnd.jupyter.widget-view+json": {
              "version_major": 2,
              "version_minor": 0,
              "model_id": "48ca180973e74e1a97002b5b110568d8"
            }
          },
          "metadata": {}
        }
      ]
    },
    {
      "cell_type": "code",
      "source": [
        "# カスタム連続カラーパレット(Custom sequential palettes with light_palette() and dark_palette())\n",
        "# light_paletteやdark_paletteを使うこともできます。\n",
        "sns.palplot(sns.light_palette(\"blue\", 24))\n",
        "sns.palplot(sns.dark_palette(\"blue\", 24))"
      ],
      "metadata": {
        "colab": {
          "base_uri": "https://localhost:8080/",
          "height": 142
        },
        "id": "AThls8BKPUC_",
        "outputId": "c134f458-707c-49e3-ed15-00d74a08e472"
      },
      "execution_count": null,
      "outputs": [
        {
          "output_type": "display_data",
          "data": {
            "text/plain": [
              "<Figure size 1728x72 with 1 Axes>"
            ],
            "image/png": "[encoded data removed]"
          },
          "metadata": {
            "needs_background": "light"
          }
        },
        {
          "output_type": "display_data",
          "data": {
            "text/plain": [
              "<Figure size 1728x72 with 1 Axes>"
            ],
            "image/png": "[encoded data removed]"
          },
          "metadata": {
            "needs_background": "light"
          }
        }
      ]
    },
    {
      "cell_type": "code",
      "source": [
        "# 先ほどの図の等高線に使ってみましょう。\n",
        "cmap = sns.dark_palette(\"palegreen\", as_cmap=True)\n",
        "sns.kdeplot(x, y, cmap=cmap);"
      ],
      "metadata": {
        "colab": {
          "base_uri": "https://localhost:8080/",
          "height": 321
        },
        "id": "JxZ5vbxmPbzm",
        "outputId": "9e5ef417-c68d-4bfe-d218-f2ffeeb28026"
      },
      "execution_count": null,
      "outputs": [
        {
          "output_type": "stream",
          "name": "stderr",
          "text": [
            "/usr/local/lib/python3.7/dist-packages/seaborn/_decorators.py:43: FutureWarning: Pass the following variable as a keyword arg: y. From version 0.12, the only valid positional argument will be `data`, and passing other arguments without an explicit keyword will result in an error or misinterpretation.\n",
            "  FutureWarning\n"
          ]
        },
        {
          "output_type": "display_data",
          "data": {
            "text/plain": [
              "<Figure size 432x288 with 1 Axes>"
            ],
            "image/png": "[encoded data removed]"
          },
          "metadata": {
            "needs_background": "light"
          }
        }
      ]
    },
    {
      "cell_type": "code",
      "source": [
        "# Jupyterで、インタラクティブに確認できるようにしました。\n",
        "def show_pal3(light_or_dark, color, reverse):\n",
        "    sns.palplot(eval('sns.%s_palette'%light_or_dark)(color=color, n_colors=24, reverse=reverse))\n",
        "interact(show_pal3, light_or_dark=('light', 'dark'), color=('blue', 'navy', 'green', 'palegreen', 'red'), reverse=False);"
      ],
      "metadata": {
        "id": "OsKFuldNPhJn"
      },
      "execution_count": null,
      "outputs": []
    },
    {
      "cell_type": "code",
      "source": [
        "# 2色に分かれたカラーパレット(Diverging color palettes)\n",
        "# 両端が別の色で、中間が白色のカラーパレットです。\n",
        "# color_paletteで指定すれば作成できます。\n",
        "\n",
        "sns.palplot(sns.color_palette(\"BrBG\", 24))\n",
        "sns.palplot(sns.color_palette(\"RdBu_r\", 24))\n",
        "sns.palplot(sns.color_palette(\"coolwarm\", 24))"
      ],
      "metadata": {
        "colab": {
          "base_uri": "https://localhost:8080/",
          "height": 205
        },
        "id": "OPiqyUjZPyF2",
        "outputId": "d80f567a-f3c8-46da-a784-6dad8dccf043"
      },
      "execution_count": null,
      "outputs": [
        {
          "output_type": "display_data",
          "data": {
            "text/plain": [
              "<Figure size 1728x72 with 1 Axes>"
            ],
            "image/png": "[encoded data removed]"
          },
          "metadata": {
            "needs_background": "light"
          }
        },
        {
          "output_type": "display_data",
          "data": {
            "text/plain": [
              "<Figure size 1728x72 with 1 Axes>"
            ],
            "image/png": "[encoded data removed]"
          },
          "metadata": {
            "needs_background": "light"
          }
        },
        {
          "output_type": "display_data",
          "data": {
            "text/plain": [
              "<Figure size 1728x72 with 1 Axes>"
            ],
            "image/png": "[encoded data removed]"
          },
          "metadata": {
            "needs_background": "light"
          }
        }
      ]
    },
    {
      "cell_type": "code",
      "source": [
        "# Jupyterでは、簡単に確認できます。\n",
        "sns.choose_colorbrewer_palette('diverging');"
      ],
      "metadata": {
        "colab": {
          "base_uri": "https://localhost:8080/",
          "height": 217,
          "referenced_widgets": [
            "3acaffd83c5442f69d8aa3f4c08cc5f7",
            "289a28c1fd0b4ee2bab1d949207e0d12",
            "f8f301969479465ca47666aa71ea1674",
            "f4ea12bc92e44d17b2cce8e1e9c20a77",
            "e0143cc9fb044e42bfe30fc92588a7d6",
            "cbd56e3e663f4f378dd396a7a76e1447",
            "bc1c6644e6f746659573d4aa9b93bbcd",
            "b05df1f79b724a9b9a15bcd146899533",
            "e073f3ebab0e45d6b83714753a29ab8d",
            "95084768a7094e0b8fdd58b6854a1590",
            "849dcd94adb1400f8eedd9f4fa481ea3",
            "4155f1ab623042acb4c82b38a95f281c",
            "118b1c52de0d4bcc94f81f89d7489078",
            "2e9b0cfbf602467387298d7521bd3835",
            "eb7efb01f14f4319b54e3e390c75b634",
            "a4d0c904817149e7bcf4e5932f55d4b5"
          ]
        },
        "id": "z-meKnddP7uF",
        "outputId": "b6dec307-97f8-408b-accd-2f4b63b844a3"
      },
      "execution_count": null,
      "outputs": [
        {
          "output_type": "display_data",
          "data": {
            "text/plain": [
              "interactive(children=(Dropdown(description='name', options=('RdBu', 'RdGy', 'PRGn', 'PiYG', 'BrBG', 'RdYlBu', …"
            ],
            "application/vnd.jupyter.widget-view+json": {
              "version_major": 2,
              "version_minor": 0,
              "model_id": "3acaffd83c5442f69d8aa3f4c08cc5f7"
            }
          },
          "metadata": {}
        }
      ]
    },
    {
      "cell_type": "code",
      "source": [
        "# 2色に分かれたカスタムカラーパレット(Custom diverging palettes with diverging_palette())\n",
        "# diverging_paletteでカスタムできます。\n",
        "# 中間を暗くすることもできます。\n",
        "sns.palplot(sns.diverging_palette(220, 20, n=24))\n",
        "sns.palplot(sns.diverging_palette(145, 280, s=85, l=25, n=24))\n",
        "sns.palplot(sns.diverging_palette(255, 133, l=60, n=24, center=\"dark\"))"
      ],
      "metadata": {
        "colab": {
          "base_uri": "https://localhost:8080/",
          "height": 205
        },
        "id": "fTyh1ajOQAId",
        "outputId": "71b52f6e-cdbc-4ab7-cc72-c78be30f5620"
      },
      "execution_count": null,
      "outputs": [
        {
          "output_type": "display_data",
          "data": {
            "text/plain": [
              "<Figure size 1728x72 with 1 Axes>"
            ],
            "image/png": "[encoded data removed]"
          },
          "metadata": {
            "needs_background": "light"
          }
        },
        {
          "output_type": "display_data",
          "data": {
            "text/plain": [
              "<Figure size 1728x72 with 1 Axes>"
            ],
            "image/png": "[encoded data removed]"
          },
          "metadata": {
            "needs_background": "light"
          }
        },
        {
          "output_type": "display_data",
          "data": {
            "text/plain": [
              "<Figure size 1728x72 with 1 Axes>"
            ],
            "image/png": "[encoded data removed]"
          },
          "metadata": {
            "needs_background": "light"
          }
        }
      ]
    },
    {
      "cell_type": "code",
      "source": [
        "# Jupyterで、インタラクティブに確認できるようにしました。\n",
        "def show_pal4(h_neg, h_pos, s, l, center):\n",
        "    sns.palplot(sns.diverging_palette(h_neg, h_pos, n=24, s=s, l=l, center=center))\n",
        "interact(show_pal4, h_neg=FloatSlider(220, max=360), h_pos=FloatSlider(20, max=360), \n",
        "         s=FloatSlider(75, max=99), l=FloatSlider(50, max=99), center=('light', 'dark'));"
      ],
      "metadata": {
        "id": "GRKwJFb8QGZF"
      },
      "execution_count": null,
      "outputs": []
    },
    {
      "cell_type": "code",
      "source": [
        "# デフォルトカラーパレットの設定(Changing default palettes with set_palette())\n",
        "# set_paletteでデフォルトカラーパレットを設定できます。\n",
        "# 設定なしで描画します。\n",
        "import matplotlib.pyplot as plt\n",
        "\n",
        "def sinplot(flip=1):\n",
        "    x = np.linspace(0, 14, 100)\n",
        "    for i in range(1, 7):\n",
        "        plt.plot(x, np.sin(x + i * .5) * (7 - i) * flip)\n",
        "\n",
        "sinplot()"
      ],
      "metadata": {
        "colab": {
          "base_uri": "https://localhost:8080/",
          "height": 265
        },
        "id": "P1pQnzgwQOzl",
        "outputId": "c075c359-e499-4ee1-825a-5d81018f9c90"
      },
      "execution_count": null,
      "outputs": [
        {
          "output_type": "display_data",
          "data": {
            "text/plain": [
              "<Figure size 432x288 with 1 Axes>"
            ],
            "image/png": "[encoded data removed]"
          },
          "metadata": {
            "needs_background": "light"
          }
        }
      ]
    },
    {
      "cell_type": "code",
      "source": [
        "# 設定して描画します。\n",
        "sns.set_palette(\"husl\")\n",
        "sinplot()"
      ],
      "metadata": {
        "colab": {
          "base_uri": "https://localhost:8080/",
          "height": 265
        },
        "id": "6nb_Roa9QmwY",
        "outputId": "173fa64f-2697-409e-b309-209f7d329e0d"
      },
      "execution_count": null,
      "outputs": [
        {
          "output_type": "display_data",
          "data": {
            "text/plain": [
              "<Figure size 432x288 with 1 Axes>"
            ],
            "image/png": "[encoded data removed]"
          },
          "metadata": {
            "needs_background": "light"
          }
        }
      ]
    },
    {
      "cell_type": "code",
      "source": [
        "# with句を使うと、局所的に変更できます。\n",
        "with sns.color_palette(\"PuBuGn_d\"):\n",
        "    sinplot()"
      ],
      "metadata": {
        "colab": {
          "base_uri": "https://localhost:8080/",
          "height": 265
        },
        "id": "tjsSi-FnQqyH",
        "outputId": "05192ff7-96b2-4329-dcd3-e173a002aa08"
      },
      "execution_count": null,
      "outputs": [
        {
          "output_type": "display_data",
          "data": {
            "text/plain": [
              "<Figure size 432x288 with 1 Axes>"
            ],
            "image/png": "[encoded data removed]"
          },
          "metadata": {
            "needs_background": "light"
          }
        }
      ]
    }
  ]
}