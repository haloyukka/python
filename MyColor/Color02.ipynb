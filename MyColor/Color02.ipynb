{
  "nbformat": 4,
  "nbformat_minor": 0,
  "metadata": {
    "colab": {
      "name": "Color02.ipynb",
      "provenance": [],
      "collapsed_sections": [],
      "include_colab_link": true
    },
    "kernelspec": {
      "name": "python3",
      "display_name": "Python 3"
    },
    "language_info": {
      "name": "python"
    }
  },
  "cells": [
    {
      "cell_type": "markdown",
      "metadata": {
        "id": "view-in-github",
        "colab_type": "text"
      },
      "source": [
        "<a href=\"https://colab.research.google.com/github/haloyukka/python/blob/master/MyColor/Color02.ipynb\" target=\"_parent\"><img src=\"https://colab.research.google.com/assets/colab-badge.svg\" alt=\"Open In Colab\"/></a>"
      ]
    },
    {
      "cell_type": "code",
      "source": [
        "# フォント色\n",
        "import numpy as np\n",
        " \n",
        "fig = plt.figure()\n",
        "fig.patch.set_facecolor('white')\n",
        " \n",
        "colorlist = ['#FFFFFF', '#646E82', '#4BDCFF', '#353A4D', '#141414']\n",
        "x = np.arange(1, len(colorlist)+1)\n",
        "\n",
        "# height = np.arange(1, len(colorlist))\n",
        "height = np.repeat(1, len(colorlist))\n",
        "plt.barh(x, height, color=colorlist, tick_label=colorlist, align=\"center\")"
      ],
      "metadata": {
        "colab": {
          "base_uri": "https://localhost:8080/",
          "height": 282
        },
        "id": "gCVIucK46nJr",
        "outputId": "06b739d7-47bd-4aef-b440-6fbeffd00e93"
      },
      "execution_count": 18,
      "outputs": [
        {
          "output_type": "execute_result",
          "data": {
            "text/plain": [
              "<BarContainer object of 6 artists>"
            ]
          },
          "metadata": {},
          "execution_count": 18
        },
        {
          "output_type": "display_data",
          "data": {
            "text/plain": [
              "<Figure size 432x288 with 1 Axes>"
            ],
            "image/png": "[encoded data removed]"
          },
          "metadata": {}
        }
      ]
    },
    {
      "cell_type": "code",
      "source": [
        "# グラフ・インジケータ色\n",
        "import numpy as np\n",
        " \n",
        "fig = plt.figure()\n",
        "fig.patch.set_facecolor('white')\n",
        " \n",
        "colorlist = ['#00AFF0', '#465073', '#FFFFFF']\n",
        "x = np.arange(1, len(colorlist)+1)\n",
        "\n",
        "height = np.repeat(1, len(colorlist))\n",
        "plt.barh(x, height, color=colorlist, tick_label=colorlist, align=\"center\")"
      ],
      "metadata": {
        "colab": {
          "base_uri": "https://localhost:8080/",
          "height": 282
        },
        "id": "bKXjoU1GHKmB",
        "outputId": "dd6df8cd-4695-4d18-ba17-51f2bc053b69"
      },
      "execution_count": 19,
      "outputs": [
        {
          "output_type": "execute_result",
          "data": {
            "text/plain": [
              "<BarContainer object of 3 artists>"
            ]
          },
          "metadata": {},
          "execution_count": 19
        },
        {
          "output_type": "display_data",
          "data": {
            "text/plain": [
              "<Figure size 432x288 with 1 Axes>"
            ],
            "image/png": "[encoded data removed]"
          },
          "metadata": {}
        }
      ]
    },
    {
      "cell_type": "code",
      "source": [
        "# 表色\n",
        "import numpy as np\n",
        " \n",
        "fig = plt.figure()\n",
        "fig.patch.set_facecolor('white')\n",
        " \n",
        "colorlist = ['#050F28', '#050F32', '#0A143C', '#232864']\n",
        "x = np.arange(1, len(colorlist)+1)\n",
        "\n",
        "height = np.repeat(1, len(colorlist))\n",
        "plt.barh(x, height, color=colorlist, tick_label=colorlist, align=\"center\")"
      ],
      "metadata": {
        "colab": {
          "base_uri": "https://localhost:8080/",
          "height": 282
        },
        "id": "QisZHvhDIt0d",
        "outputId": "f53ebf32-0f8a-4688-ccc2-971fb2dd9dae"
      },
      "execution_count": 20,
      "outputs": [
        {
          "output_type": "execute_result",
          "data": {
            "text/plain": [
              "<BarContainer object of 4 artists>"
            ]
          },
          "metadata": {},
          "execution_count": 20
        },
        {
          "output_type": "display_data",
          "data": {
            "text/plain": [
              "<Figure size 432x288 with 1 Axes>"
            ],
            "image/png": "[encoded data removed]"
          },
          "metadata": {}
        }
      ]
    },
    {
      "cell_type": "code",
      "source": [
        "# ボタン色\n",
        "import numpy as np\n",
        " \n",
        "fig = plt.figure()\n",
        "fig.patch.set_facecolor('white')\n",
        " \n",
        "colorlist = ['#0F1E4B', '#020921']\n",
        "x = np.arange(1, len(colorlist)+1)\n",
        "\n",
        "height = np.repeat(1, len(colorlist))\n",
        "plt.barh(x, height, color=colorlist, tick_label=colorlist, align=\"center\")"
      ],
      "metadata": {
        "colab": {
          "base_uri": "https://localhost:8080/",
          "height": 282
        },
        "id": "WPh4Me9xI5-C",
        "outputId": "5ff46465-ea66-4e80-ff41-61e080404650"
      },
      "execution_count": 21,
      "outputs": [
        {
          "output_type": "execute_result",
          "data": {
            "text/plain": [
              "<BarContainer object of 2 artists>"
            ]
          },
          "metadata": {},
          "execution_count": 21
        },
        {
          "output_type": "display_data",
          "data": {
            "text/plain": [
              "<Figure size 432x288 with 1 Axes>"
            ],
            "image/png": "[encoded data removed]"
          },
          "metadata": {}
        }
      ]
    },
    {
      "cell_type": "code",
      "source": [
        "# アイコン色\n",
        "import numpy as np\n",
        " \n",
        "fig = plt.figure()\n",
        "fig.patch.set_facecolor('white')\n",
        " \n",
        "colorlist = ['#E60000', '#F0FF00', '#FF822D', '#9B41FF', '#F05AFF', '#00F078', '#465073', '#FFFFFF']\n",
        "x = np.arange(1, len(colorlist)+1)\n",
        "\n",
        "height = np.repeat(1, len(colorlist))\n",
        "plt.barh(x, height, color=colorlist, tick_label=colorlist, align=\"center\")"
      ],
      "metadata": {
        "colab": {
          "base_uri": "https://localhost:8080/",
          "height": 282
        },
        "id": "b08898_RI_45",
        "outputId": "d367620c-2b25-45bc-b491-aad92042b825"
      },
      "execution_count": 22,
      "outputs": [
        {
          "output_type": "execute_result",
          "data": {
            "text/plain": [
              "<BarContainer object of 8 artists>"
            ]
          },
          "metadata": {},
          "execution_count": 22
        },
        {
          "output_type": "display_data",
          "data": {
            "text/plain": [
              "<Figure size 432x288 with 1 Axes>"
            ],
            "image/png": "[encoded data removed]"
          },
          "metadata": {}
        }
      ]
    },
    {
      "cell_type": "code",
      "source": [
        "# 指定可能な色の名前は matplotlib.colors.cnames で確認できます。\n",
        "import matplotlib\n",
        "matplotlib.colors.cnames"
      ],
      "metadata": {
        "colab": {
          "base_uri": "https://localhost:8080/"
        },
        "id": "bGAkoLyD6MAb",
        "outputId": "33f7f56d-e8ab-4073-bc48-3be71f7ba9be"
      },
      "execution_count": null,
      "outputs": [
        {
          "output_type": "execute_result",
          "data": {
            "text/plain": [
              "{'aliceblue': '#F0F8FF',\n",
              " 'antiquewhite': '#FAEBD7',\n",
              " 'aqua': '#00FFFF',\n",
              " 'aquamarine': '#7FFFD4',\n",
              " 'azure': '#F0FFFF',\n",
              " 'beige': '#F5F5DC',\n",
              " 'bisque': '#FFE4C4',\n",
              " 'black': '#000000',\n",
              " 'blanchedalmond': '#FFEBCD',\n",
              " 'blue': '#0000FF',\n",
              " 'blueviolet': '#8A2BE2',\n",
              " 'brown': '#A52A2A',\n",
              " 'burlywood': '#DEB887',\n",
              " 'cadetblue': '#5F9EA0',\n",
              " 'chartreuse': '#7FFF00',\n",
              " 'chocolate': '#D2691E',\n",
              " 'coral': '#FF7F50',\n",
              " 'cornflowerblue': '#6495ED',\n",
              " 'cornsilk': '#FFF8DC',\n",
              " 'crimson': '#DC143C',\n",
              " 'cyan': '#00FFFF',\n",
              " 'darkblue': '#00008B',\n",
              " 'darkcyan': '#008B8B',\n",
              " 'darkgoldenrod': '#B8860B',\n",
              " 'darkgray': '#A9A9A9',\n",
              " 'darkgreen': '#006400',\n",
              " 'darkgrey': '#A9A9A9',\n",
              " 'darkkhaki': '#BDB76B',\n",
              " 'darkmagenta': '#8B008B',\n",
              " 'darkolivegreen': '#556B2F',\n",
              " 'darkorange': '#FF8C00',\n",
              " 'darkorchid': '#9932CC',\n",
              " 'darkred': '#8B0000',\n",
              " 'darksalmon': '#E9967A',\n",
              " 'darkseagreen': '#8FBC8F',\n",
              " 'darkslateblue': '#483D8B',\n",
              " 'darkslategray': '#2F4F4F',\n",
              " 'darkslategrey': '#2F4F4F',\n",
              " 'darkturquoise': '#00CED1',\n",
              " 'darkviolet': '#9400D3',\n",
              " 'deeppink': '#FF1493',\n",
              " 'deepskyblue': '#00BFFF',\n",
              " 'dimgray': '#696969',\n",
              " 'dimgrey': '#696969',\n",
              " 'dodgerblue': '#1E90FF',\n",
              " 'firebrick': '#B22222',\n",
              " 'floralwhite': '#FFFAF0',\n",
              " 'forestgreen': '#228B22',\n",
              " 'fuchsia': '#FF00FF',\n",
              " 'gainsboro': '#DCDCDC',\n",
              " 'ghostwhite': '#F8F8FF',\n",
              " 'gold': '#FFD700',\n",
              " 'goldenrod': '#DAA520',\n",
              " 'gray': '#808080',\n",
              " 'green': '#008000',\n",
              " 'greenyellow': '#ADFF2F',\n",
              " 'grey': '#808080',\n",
              " 'honeydew': '#F0FFF0',\n",
              " 'hotpink': '#FF69B4',\n",
              " 'indianred': '#CD5C5C',\n",
              " 'indigo': '#4B0082',\n",
              " 'ivory': '#FFFFF0',\n",
              " 'khaki': '#F0E68C',\n",
              " 'lavender': '#E6E6FA',\n",
              " 'lavenderblush': '#FFF0F5',\n",
              " 'lawngreen': '#7CFC00',\n",
              " 'lemonchiffon': '#FFFACD',\n",
              " 'lightblue': '#ADD8E6',\n",
              " 'lightcoral': '#F08080',\n",
              " 'lightcyan': '#E0FFFF',\n",
              " 'lightgoldenrodyellow': '#FAFAD2',\n",
              " 'lightgray': '#D3D3D3',\n",
              " 'lightgreen': '#90EE90',\n",
              " 'lightgrey': '#D3D3D3',\n",
              " 'lightpink': '#FFB6C1',\n",
              " 'lightsalmon': '#FFA07A',\n",
              " 'lightseagreen': '#20B2AA',\n",
              " 'lightskyblue': '#87CEFA',\n",
              " 'lightslategray': '#778899',\n",
              " 'lightslategrey': '#778899',\n",
              " 'lightsteelblue': '#B0C4DE',\n",
              " 'lightyellow': '#FFFFE0',\n",
              " 'lime': '#00FF00',\n",
              " 'limegreen': '#32CD32',\n",
              " 'linen': '#FAF0E6',\n",
              " 'magenta': '#FF00FF',\n",
              " 'maroon': '#800000',\n",
              " 'mediumaquamarine': '#66CDAA',\n",
              " 'mediumblue': '#0000CD',\n",
              " 'mediumorchid': '#BA55D3',\n",
              " 'mediumpurple': '#9370DB',\n",
              " 'mediumseagreen': '#3CB371',\n",
              " 'mediumslateblue': '#7B68EE',\n",
              " 'mediumspringgreen': '#00FA9A',\n",
              " 'mediumturquoise': '#48D1CC',\n",
              " 'mediumvioletred': '#C71585',\n",
              " 'midnightblue': '#191970',\n",
              " 'mintcream': '#F5FFFA',\n",
              " 'mistyrose': '#FFE4E1',\n",
              " 'moccasin': '#FFE4B5',\n",
              " 'navajowhite': '#FFDEAD',\n",
              " 'navy': '#000080',\n",
              " 'oldlace': '#FDF5E6',\n",
              " 'olive': '#808000',\n",
              " 'olivedrab': '#6B8E23',\n",
              " 'orange': '#FFA500',\n",
              " 'orangered': '#FF4500',\n",
              " 'orchid': '#DA70D6',\n",
              " 'palegoldenrod': '#EEE8AA',\n",
              " 'palegreen': '#98FB98',\n",
              " 'paleturquoise': '#AFEEEE',\n",
              " 'palevioletred': '#DB7093',\n",
              " 'papayawhip': '#FFEFD5',\n",
              " 'peachpuff': '#FFDAB9',\n",
              " 'peru': '#CD853F',\n",
              " 'pink': '#FFC0CB',\n",
              " 'plum': '#DDA0DD',\n",
              " 'powderblue': '#B0E0E6',\n",
              " 'purple': '#800080',\n",
              " 'rebeccapurple': '#663399',\n",
              " 'red': '#FF0000',\n",
              " 'rosybrown': '#BC8F8F',\n",
              " 'royalblue': '#4169E1',\n",
              " 'saddlebrown': '#8B4513',\n",
              " 'salmon': '#FA8072',\n",
              " 'sandybrown': '#F4A460',\n",
              " 'seagreen': '#2E8B57',\n",
              " 'seashell': '#FFF5EE',\n",
              " 'sienna': '#A0522D',\n",
              " 'silver': '#C0C0C0',\n",
              " 'skyblue': '#87CEEB',\n",
              " 'slateblue': '#6A5ACD',\n",
              " 'slategray': '#708090',\n",
              " 'slategrey': '#708090',\n",
              " 'snow': '#FFFAFA',\n",
              " 'springgreen': '#00FF7F',\n",
              " 'steelblue': '#4682B4',\n",
              " 'tan': '#D2B48C',\n",
              " 'teal': '#008080',\n",
              " 'thistle': '#D8BFD8',\n",
              " 'tomato': '#FF6347',\n",
              " 'turquoise': '#40E0D0',\n",
              " 'violet': '#EE82EE',\n",
              " 'wheat': '#F5DEB3',\n",
              " 'white': '#FFFFFF',\n",
              " 'whitesmoke': '#F5F5F5',\n",
              " 'yellow': '#FFFF00',\n",
              " 'yellowgreen': '#9ACD32'}"
            ]
          },
          "metadata": {},
          "execution_count": 8
        }
      ]
    },
    {
      "cell_type": "code",
      "source": [
        "# 1文字で指定\n",
        "import matplotlib.pyplot as plt\n",
        "import numpy as np\n",
        " \n",
        "colorlist = [\"#FFFFFF\", \"#646E82\", \"#4BDCFF\", \"#353A4D\", \"#141414\", \"y\", \"k\", \"w\"]\n",
        "x = np.arange(1, 9)\n",
        "height = np.repeat(1, 8)\n",
        "plt.bar(x, height, color=colorlist, tick_label=colorlist, align=\"center\")"
      ],
      "metadata": {
        "colab": {
          "base_uri": "https://localhost:8080/",
          "height": 282
        },
        "id": "StTfUXw76c0m",
        "outputId": "dcc1aa42-f3d0-49f7-d083-e1594427b0a8"
      },
      "execution_count": 2,
      "outputs": [
        {
          "output_type": "execute_result",
          "data": {
            "text/plain": [
              "<BarContainer object of 8 artists>"
            ]
          },
          "metadata": {},
          "execution_count": 2
        },
        {
          "output_type": "display_data",
          "data": {
            "text/plain": [
              "<Figure size 432x288 with 1 Axes>"
            ],
            "image/png": "[encoded data removed]"
          },
          "metadata": {
            "needs_background": "light"
          }
        }
      ]
    },
    {
      "cell_type": "code",
      "source": [
        "# RGBで指定する\n",
        "import matplotlib.pyplot as plt\n",
        "import numpy as np\n",
        " \n",
        "fig = plt.figure()\n",
        "fig.patch.set_facecolor('white')\n",
        " \n",
        "col1 = [0.0, 0.0, 0.0]\n",
        "col2 = [1.0, 0.0, 0.0]\n",
        "col3 = [0.0, 1.0, 0.0]\n",
        "col4 = [0.0, 0.0, 1.0]\n",
        "colorlist = [col1, col2, col3, col4]\n",
        " \n",
        "x = np.arange(1, 5)\n",
        "height = np.arange(1, 5)\n",
        "# plt.bar(x, height, color=colorlist, tick_label=colorlist, align=\"center\")\n",
        "plt.bar(x, height, color=colorlist, align=\"center\")"
      ],
      "metadata": {
        "colab": {
          "base_uri": "https://localhost:8080/",
          "height": 282
        },
        "id": "6uGxSzv67Mrn",
        "outputId": "2c9fa44c-a3bf-4ef3-ad0e-d7711053f121"
      },
      "execution_count": null,
      "outputs": [
        {
          "output_type": "execute_result",
          "data": {
            "text/plain": [
              "<BarContainer object of 4 artists>"
            ]
          },
          "metadata": {},
          "execution_count": 18
        },
        {
          "output_type": "display_data",
          "data": {
            "text/plain": [
              "<Figure size 432x288 with 1 Axes>"
            ],
            "image/png": "[encoded data removed]"
          },
          "metadata": {}
        }
      ]
    },
    {
      "cell_type": "code",
      "source": [
        "# グレースケールで指定：‘0.0’ (黒) ～ ‘1.0’ (白) \n",
        "import matplotlib.pyplot as plt\n",
        " \n",
        "x = [10, 10, 10, 10, 10, 10, 10, 10, 10, 10]\n",
        "colorlist = [\"0.1\", \"0.2\", \"0.3\", \"0.4\", \"0.5\", \"0.6\", \"0.7\", \"0.8\", \"0.9\", \"1.0\"]\n",
        "plt.pie(x, labels=colorlist, counterclock=False, startangle=90, colors=colorlist)"
      ],
      "metadata": {
        "colab": {
          "base_uri": "https://localhost:8080/",
          "height": 595
        },
        "id": "S2yjiisO9bZG",
        "outputId": "08a4c8aa-c856-434d-8545-ff0872b04e03"
      },
      "execution_count": null,
      "outputs": [
        {
          "output_type": "execute_result",
          "data": {
            "text/plain": [
              "([<matplotlib.patches.Wedge at 0x7f7793ed4a90>,\n",
              "  <matplotlib.patches.Wedge at 0x7f7793e6a610>,\n",
              "  <matplotlib.patches.Wedge at 0x7f7793e6abd0>,\n",
              "  <matplotlib.patches.Wedge at 0x7f7793e84bd0>,\n",
              "  <matplotlib.patches.Wedge at 0x7f7793e88490>,\n",
              "  <matplotlib.patches.Wedge at 0x7f7793df4490>,\n",
              "  <matplotlib.patches.Wedge at 0x7f7793e16f50>,\n",
              "  <matplotlib.patches.Wedge at 0x7f7793e11bd0>,\n",
              "  <matplotlib.patches.Wedge at 0x7f7793e88890>,\n",
              "  <matplotlib.patches.Wedge at 0x7f7793df4a50>],\n",
              " [Text(0.33991869870988073, 1.0461621663333946, '0.1'),\n",
              "  Text(0.8899187028927925, 0.6465637650236903, '0.2'),\n",
              "  Text(1.0999999999999999, -2.574735819510201e-08, '0.3'),\n",
              "  Text(0.8899186726249573, -0.6465638066837907, '0.4'),\n",
              "  Text(0.33991864973549485, -1.0461621822461364, '0.5'),\n",
              "  Text(-0.3399187476842659, -1.0461621504206509, '0.6'),\n",
              "  Text(-0.8899187331606259, -0.6465637233635886, '0.7'),\n",
              "  Text(-1.0999999999999974, 7.724207464605884e-08, '0.8'),\n",
              "  Text(-0.8899186423571203, 0.6465638483438895, '0.9'),\n",
              "  Text(-0.3399186007611086, 1.0461621981588756, '1.0')])"
            ]
          },
          "metadata": {},
          "execution_count": 20
        },
        {
          "output_type": "display_data",
          "data": {
            "text/plain": [
              "<Figure size 432x288 with 1 Axes>"
            ],
            "image/png": "[encoded data removed]"
          },
          "metadata": {}
        }
      ]
    },
    {
      "cell_type": "code",
      "execution_count": null,
      "metadata": {
        "colab": {
          "base_uri": "https://localhost:8080/",
          "height": 265
        },
        "id": "twGBbGlt35dB",
        "outputId": "c994c04a-42f9-4d95-dfcd-3e4a2bf8dae5"
      },
      "outputs": [
        {
          "output_type": "display_data",
          "data": {
            "text/plain": [
              "<Figure size 432x288 with 2 Axes>"
            ],
            "image/png": "[encoded data removed]"
          },
          "metadata": {
            "needs_background": "light"
          }
        }
      ],
      "source": [
        "import matplotlib as mpl\n",
        "import matplotlib.pyplot as plt\n",
        "import numpy as np\n",
        "\n",
        "a = np.random.rand(100).reshape(10,10)\n",
        "\n",
        "plt.imshow(a, cmap=plt.cm.jet, interpolation='nearest')\n",
        "plt.colorbar()\n",
        "\n",
        "plt.show()"
      ]
    },
    {
      "cell_type": "markdown",
      "source": [
        "参考<br>\n",
        "https://matplotlib.org/stable/api/colors_api.html"
      ],
      "metadata": {
        "id": "2UDzPj2P66c5"
      }
    }
  ]
}