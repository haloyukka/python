{
  "nbformat": 4,
  "nbformat_minor": 0,
  "metadata": {
    "colab": {
      "name": "時間操作.ipynb",
      "provenance": [],
      "collapsed_sections": [],
      "authorship_tag": "ABX9TyPm2KnHCeG6o5E14hu3cqPR",
      "include_colab_link": true
    },
    "kernelspec": {
      "name": "python3",
      "display_name": "Python 3"
    },
    "language_info": {
      "name": "python"
    }
  },
  "cells": [
    {
      "cell_type": "markdown",
      "metadata": {
        "id": "view-in-github",
        "colab_type": "text"
      },
      "source": [
        "<a href=\"https://colab.research.google.com/github/haloyukka/python/blob/master/%E6%99%82%E9%96%93%E6%93%8D%E4%BD%9C.ipynb\" target=\"_parent\"><img src=\"https://colab.research.google.com/assets/colab-badge.svg\" alt=\"Open In Colab\"/></a>"
      ]
    },
    {
      "cell_type": "code",
      "execution_count": 2,
      "metadata": {
        "colab": {
          "base_uri": "https://localhost:8080/"
        },
        "id": "qHixgPEvpxBl",
        "outputId": "4659109a-dcf0-4eb0-b712-1574753009d4"
      },
      "outputs": [
        {
          "output_type": "stream",
          "name": "stdout",
          "text": [
            "1654063347.842964\n"
          ]
        }
      ],
      "source": [
        "# 現在の時間の取得（UnixTime（エポック秒））\n",
        "import time\n",
        "print(time.time())"
      ]
    },
    {
      "cell_type": "code",
      "source": [
        "# 現在の時間の取得（datetime型）\n",
        "import datetime\n",
        "print(datetime.datetime.now())"
      ],
      "metadata": {
        "colab": {
          "base_uri": "https://localhost:8080/"
        },
        "id": "Cvuyq06O27ay",
        "outputId": "ac2759b7-8999-4673-b2f7-a1bbaaaba03a"
      },
      "execution_count": 4,
      "outputs": [
        {
          "output_type": "stream",
          "name": "stdout",
          "text": [
            "2022-06-01 06:03:10.113149\n"
          ]
        }
      ]
    },
    {
      "cell_type": "code",
      "source": [
        "# 現在の日付だけ取得（date型）\n",
        "import datetime\n",
        "print(datetime.date.today())"
      ],
      "metadata": {
        "colab": {
          "base_uri": "https://localhost:8080/"
        },
        "id": "T64sI0cQ3A9k",
        "outputId": "c36706d5-3b9b-4a9d-a211-f7e82dbd4f92"
      },
      "execution_count": 5,
      "outputs": [
        {
          "output_type": "stream",
          "name": "stdout",
          "text": [
            "2022-06-01\n"
          ]
        }
      ]
    },
    {
      "cell_type": "code",
      "source": [
        "# 現在の時間を文字列で取得（フォーマット）\n",
        "import datetime\n",
        "now = datetime.datetime.now()\n",
        "print(now.strftime('%Y年%m月%d日 %H時%M分%S秒%fマイクロ秒'))\n",
        "print(now.strftime('%Y/%m/%d %H:%M'))"
      ],
      "metadata": {
        "colab": {
          "base_uri": "https://localhost:8080/"
        },
        "id": "2tUSpCGq4vx-",
        "outputId": "8156cb7f-5f36-4b9e-a1e7-027112a2cb18"
      },
      "execution_count": 8,
      "outputs": [
        {
          "output_type": "stream",
          "name": "stdout",
          "text": [
            "2022年06月01日 06時14分06秒309957マイクロ秒\n",
            "2022/06/01 06:14\n"
          ]
        }
      ]
    },
    {
      "cell_type": "code",
      "source": [
        "# UnixTimeをdatetimeに変換\n",
        "import datetime\n",
        "unixtime = 1601819295\n",
        "print(datetime.datetime.fromtimestamp(unixtime))"
      ],
      "metadata": {
        "colab": {
          "base_uri": "https://localhost:8080/"
        },
        "id": "Tx1ab3yS5l88",
        "outputId": "792bd779-cdbd-425e-b04a-4ff12beee153"
      },
      "execution_count": 10,
      "outputs": [
        {
          "output_type": "stream",
          "name": "stdout",
          "text": [
            "2020-10-04 13:48:15\n"
          ]
        }
      ]
    },
    {
      "cell_type": "code",
      "source": [
        "# datetimeをUnixTimeに変換\n",
        "import datetime\n",
        "now = datetime.datetime.now()\n",
        "print(now.timestamp())"
      ],
      "metadata": {
        "colab": {
          "base_uri": "https://localhost:8080/"
        },
        "id": "cTqV6E0j5o-w",
        "outputId": "9d6c5bf4-af06-4deb-a560-f9d32638c9e9"
      },
      "execution_count": 12,
      "outputs": [
        {
          "output_type": "stream",
          "name": "stdout",
          "text": [
            "1654064194.310552\n"
          ]
        }
      ]
    },
    {
      "cell_type": "code",
      "source": [
        "# 秒を時間に変換\n",
        "import datetime\n",
        "print(datetime.timedelta(seconds=417.417))"
      ],
      "metadata": {
        "colab": {
          "base_uri": "https://localhost:8080/"
        },
        "id": "dlaLRnEi6DuN",
        "outputId": "e548079a-a227-4389-c5f9-eca6e8df5cd8"
      },
      "execution_count": 14,
      "outputs": [
        {
          "output_type": "stream",
          "name": "stdout",
          "text": [
            "0:06:57.417000\n"
          ]
        }
      ]
    },
    {
      "cell_type": "code",
      "source": [
        "# 時間を秒に変換\n",
        "import datetime\n",
        "print(datetime.timedelta(days=4, hours=1, minutes=7).total_seconds())"
      ],
      "metadata": {
        "colab": {
          "base_uri": "https://localhost:8080/"
        },
        "id": "_p7Zdbr56Yno",
        "outputId": "cc462c12-8a26-4721-9b6d-fb1e266f0f7f"
      },
      "execution_count": 15,
      "outputs": [
        {
          "output_type": "stream",
          "name": "stdout",
          "text": [
            "349620.0\n"
          ]
        }
      ]
    },
    {
      "cell_type": "code",
      "source": [
        "# 処理時間の表示\n",
        "import time\n",
        "import datetime\n",
        "start = time.time()\n",
        "\n",
        "# 処理（）\n",
        "time.sleep(3)\n",
        "\n",
        "print(datetime.timedelta(seconds=time.time()-start))"
      ],
      "metadata": {
        "colab": {
          "base_uri": "https://localhost:8080/"
        },
        "id": "TLOBk5f16k5G",
        "outputId": "82cd37d9-bbe5-4d0b-e019-de25c9abb528"
      },
      "execution_count": 19,
      "outputs": [
        {
          "output_type": "stream",
          "name": "stdout",
          "text": [
            "0:00:03.003304\n"
          ]
        }
      ]
    }
  ]
}