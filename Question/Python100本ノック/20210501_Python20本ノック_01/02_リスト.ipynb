{
 "cells": [
  {
   "cell_type": "markdown",
   "metadata": {},
   "source": [
    "## リスト\n",
    "\n",
    "### 問題14 特定の値を抽出\n",
    "次の配列データの中から、先頭から2つ目の値と最後の値をそれぞれ出力しましょう。  \n",
    "また`2`を配列の一番最後に追加しましょう。\n",
    "\n",
    "```python\n",
    "numbers = [0, 3, 8, -4, 9, 1]\n",
    "```\n",
    "\n",
    "（目安時間：1分）\n",
    "\n",
    "**解答**"
   ]
  },
  {
   "cell_type": "markdown",
   "metadata": {},
   "source": [
    "### 問題15 特定の値を挿入(insert)\n",
    "先ほどの`numbers`リストの先頭に`5`を挿入しましょう。  \n",
    "また最後から一つ手前に`-3`を挿入しましょう。\n",
    "\n",
    "（目安時間：1分）\n",
    "\n",
    "**解答**"
   ]
  },
  {
   "cell_type": "markdown",
   "metadata": {},
   "source": [
    "### 問題16 特定の値を削除(remove, pop)\n",
    "先ほどのリストから一つ目の`5`と最後から3番目の要素を削除しましょう。\n",
    "\n",
    "```python\n",
    "numbers = [5, 0, 3, 8, -4, 9, 1, 5, 2]\n",
    "```\n",
    "\n",
    "（目安時間：1分）\n",
    "\n",
    "**解答**"
   ]
  },
  {
   "cell_type": "markdown",
   "metadata": {},
   "source": [
    "### 問題17 フィルター\n",
    "次の、偶数のみを返す関数と`filter()`を用いて先ほどの`numbers`リストから偶数のみを取り出したリストを作成しましょう。\n",
    "\n",
    "```python\n",
    "def isEven(number):\n",
    "    if number % 2 == 0:\n",
    "        print(f'This number, {number} is even!')\n",
    "        return True\n",
    "    else:\n",
    "        print(f'This number, {number} is odd!')\n",
    "        return False\n",
    "```\n",
    "\n",
    "\n",
    "（目安時間：1分）\n",
    "\n",
    "**解答**"
   ]
  },
  {
   "cell_type": "markdown",
   "metadata": {},
   "source": [
    "### 問題18 引数と一致する要素のインデックス\n",
    "先ほどの`numbers`リストの中から要素が`-4`のインデックスを取得しましょう。\n",
    "\n",
    "（目安時間：1分）\n",
    "\n",
    "**解答**"
   ]
  },
  {
   "cell_type": "markdown",
   "metadata": {},
   "source": [
    "### 問題19 ソート(昇順/降順)\n",
    "先ほどの`numbers`リストの順序を昇順/降順にそれぞれ並び替えましょう。\n",
    "\n",
    "（目安時間：1分）\n",
    "\n",
    "**解答**"
   ]
  },
  {
   "cell_type": "code",
   "execution_count": null,
   "metadata": {},
   "outputs": [],
   "source": []
  }
 ],
 "metadata": {
  "kernelspec": {
   "display_name": "Python 3",
   "language": "python",
   "name": "python3"
  },
  "language_info": {
   "codemirror_mode": {
    "name": "ipython",
    "version": 3
   },
   "file_extension": ".py",
   "mimetype": "text/x-python",
   "name": "python",
   "nbconvert_exporter": "python",
   "pygments_lexer": "ipython3",
   "version": "3.6.5"
  }
 },
 "nbformat": 4,
 "nbformat_minor": 2
}
