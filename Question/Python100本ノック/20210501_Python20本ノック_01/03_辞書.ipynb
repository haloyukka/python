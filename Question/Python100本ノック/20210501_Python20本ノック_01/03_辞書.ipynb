{
 "cells": [
  {
   "cell_type": "markdown",
   "metadata": {},
   "source": [
    "## 辞書\n",
    "\n",
    "### 問題20 要素の削除(pop/clear)\n",
    "以下の辞書データから`pop`メソッドを使って,  \n",
    "`要素A`と`要素B`を削除しましょう．  \n",
    "また`clear`メソッドを使って,全ての要素を削除しましょう．\n",
    "\n",
    "```python\n",
    "dictionary = {\n",
    "    'A': '今西',\n",
    "    'B': '航平',\n",
    "    'C': '男性',\n",
    "    'D': '東京都',\n",
    "    'E': '海外旅行',\n",
    "}\n",
    "```\n",
    "    \n",
    "    \n",
    "\n",
    "（目安時間：1分）\n",
    "\n",
    "**解答**"
   ]
  },
  {
   "cell_type": "markdown",
   "metadata": {},
   "source": [
    "### 問題21 情報の取得(keys(), values(), items())\n",
    "以下の辞書データから次の処理を行いましょう。\n",
    "\n",
    "- キーのみの表示\n",
    "- 値の中に`男性`という文字列が存在するか\n",
    "- 全てのキーと値の表示\n",
    "\n",
    "```python\n",
    "dictionary = {\n",
    "    'A': '今西',\n",
    "    'B': '航平',\n",
    "    'C': '男性',\n",
    "    'D': '東京都',\n",
    "    'E': '海外旅行',\n",
    "}\n",
    "```\n",
    "\n",
    "（目安時間：3分）\n",
    "\n",
    "**解答**"
   ]
  },
  {
   "cell_type": "markdown",
   "metadata": {},
   "source": [
    "### 問題22 辞書内の要素検索\n",
    "以下の辞書データからキー`C`と`E`に対応する値を表示しましょう。\n",
    "\n",
    "\n",
    "```python\n",
    "dictionary = {\n",
    "    'A': '今西',\n",
    "    'B': '航平',\n",
    "    'C': '男性',\n",
    "    'D': '東京都',\n",
    "    'E': '海外旅行',\n",
    "}\n",
    "```\n",
    "\n",
    "（目安時間：1分）\n",
    "\n",
    "**解答**"
   ]
  },
  {
   "cell_type": "code",
   "execution_count": null,
   "metadata": {},
   "outputs": [],
   "source": []
  }
 ],
 "metadata": {
  "kernelspec": {
   "display_name": "Python 3",
   "language": "python",
   "name": "python3"
  },
  "language_info": {
   "codemirror_mode": {
    "name": "ipython",
    "version": 3
   },
   "file_extension": ".py",
   "mimetype": "text/x-python",
   "name": "python",
   "nbconvert_exporter": "python",
   "pygments_lexer": "ipython3",
   "version": "3.6.5"
  }
 },
 "nbformat": 4,
 "nbformat_minor": 2
}
