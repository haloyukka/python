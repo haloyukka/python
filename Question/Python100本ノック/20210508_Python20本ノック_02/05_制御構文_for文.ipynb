{
 "cells": [
  {
   "cell_type": "markdown",
   "metadata": {},
   "source": [
    "## 05.制御構文(for文)\n",
    " for文を使って繰り返しの処理を行おう\n",
    "### 問題25 リストから順に表示\n",
    "\n",
    "- リスト型の変数names(`['John', 'Kevin', 'Louis']`)から順に名前を出力しましょう。\n",
    "\n",
    "（目安時間：1分）\n",
    "\n",
    "**解答**"
   ]
  },
  {
   "cell_type": "markdown",
   "metadata": {},
   "source": [
    "### 問題26 range関数を使う\n",
    "\n",
    "- range関数を用いて0~9を出力しましょう。\n",
    "\n",
    "（目安時間：1分）\n",
    "\n",
    "**解答**"
   ]
  },
  {
   "cell_type": "markdown",
   "metadata": {},
   "source": [
    "### 問題27 ループの途中で強制終了\n",
    "\n",
    "- 問題26の処理に追加で`i=6`の時「BREAK!」と出力してループを抜け出すよう実装しましょう。\n",
    "\n",
    "（目安時間：1分）\n",
    "\n",
    "**解答**"
   ]
  },
  {
   "cell_type": "markdown",
   "metadata": {},
   "source": [
    "### 問題28 ループの途中で特別な処理\n",
    "\n",
    "- 問題26の処理に追加で`i=3`のみ「これは3です。」と出力するよう実装しましょう。\n",
    "\n",
    "（目安時間：1分）\n",
    "\n",
    "**解答**"
   ]
  },
  {
   "cell_type": "markdown",
   "metadata": {},
   "source": [
    "### 問題29 複数のリストを同時に処理\n",
    "\n",
    "- 2つの変数(`lasts=['加藤', '佐藤', '田中']`, `firsts=['雄一', '拓也', '太郎']`)を用意\n",
    "- zip関数を用いて2つのリストから姓名を同時に出力しましょう\n",
    "\n",
    "（目安時間：2分）\n",
    "\n",
    "\n",
    "**解答**"
   ]
  },
  {
   "cell_type": "markdown",
   "metadata": {},
   "source": [
    "### 問題30 リストと同時にインデックス情報の取得\n",
    "\n",
    "\n",
    "- 変数(`lasts=['加藤', '佐藤', '田中']`)を用意\n",
    "- enumerate関数を使って苗字とそのインデックスを取得しましょう\n",
    "- 「xx番のyyです。」と出力しましょう\n",
    "\n",
    "（目安時間：1分）\n",
    "\n",
    "\n",
    "**解答**"
   ]
  },
  {
   "cell_type": "markdown",
   "metadata": {},
   "source": [
    "### 問題31 内包表記\n",
    "\n",
    "- 以下の2つのパターンで0から9未満となる2の倍数が入ったリスト(`[0, 2, 4, 6, 8]`)を作成しましょう。\n",
    "    - 空のリスト`nums`を予め用意しforループ内で`.append()`関数を用いて要素を追加する\n",
    "    - 1行で同様のリスト`numbers`を作成する\n",
    "    \n",
    "（目安時間：3分）\n",
    "\n",
    "\n",
    "**解答**"
   ]
  },
  {
   "cell_type": "code",
   "execution_count": null,
   "metadata": {},
   "outputs": [],
   "source": []
  }
 ],
 "metadata": {
  "kernelspec": {
   "display_name": "Python 3",
   "language": "python",
   "name": "python3"
  },
  "language_info": {
   "codemirror_mode": {
    "name": "ipython",
    "version": 3
   },
   "file_extension": ".py",
   "mimetype": "text/x-python",
   "name": "python",
   "nbconvert_exporter": "python",
   "pygments_lexer": "ipython3",
   "version": "3.9.2"
  }
 },
 "nbformat": 4,
 "nbformat_minor": 4
}
