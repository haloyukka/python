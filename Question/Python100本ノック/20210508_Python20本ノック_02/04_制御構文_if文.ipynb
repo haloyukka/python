{
 "cells": [
  {
   "cell_type": "markdown",
   "metadata": {},
   "source": [
    "## 04.制御構文(if文)\n",
    "### 問題23 if文を使って条件分岐\n",
    "\n",
    "####  if文を使って以下の処理を実装してください。  \n",
    "\n",
    "- int型の変数: num\n",
    "- numが以下の条件の時、コロン右側の文字列を出力する\n",
    "    - numが正の値の場合：　正の値です\n",
    "    - numが0の場合：0です\n",
    "    - numが負の値の場合: 負の値です\n",
    "\n",
    "（目安時間：1分）\n",
    "\n",
    "**解答**"
   ]
  },
  {
   "cell_type": "markdown",
   "metadata": {},
   "source": [
    "### 問題24 論理演算子を使って複数条件の指定\n",
    "\n",
    "#### 以下の条件分岐に対応する実装を行ってください。\n",
    "\n",
    "- aは整数\n",
    "- aが0以上10未満かつ偶数: 一桁の偶数です\n",
    "- aが0未満かつ奇数：負の奇数です\n",
    "- それ以外: 整数です\n",
    "\n",
    "（目安時間：2分）"
   ]
  },
  {
   "cell_type": "code",
   "execution_count": null,
   "metadata": {},
   "outputs": [],
   "source": []
  }
 ],
 "metadata": {
  "kernelspec": {
   "display_name": "Python 3",
   "language": "python",
   "name": "python3"
  },
  "language_info": {
   "codemirror_mode": {
    "name": "ipython",
    "version": 3
   },
   "file_extension": ".py",
   "mimetype": "text/x-python",
   "name": "python",
   "nbconvert_exporter": "python",
   "pygments_lexer": "ipython3",
   "version": "3.9.2"
  }
 },
 "nbformat": 4,
 "nbformat_minor": 4
}
