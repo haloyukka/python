{
 "cells": [
  {
   "cell_type": "markdown",
   "metadata": {},
   "source": [
    "## 06.例外処理\n",
    "try, except文を使って例外処理を行おう\n",
    "\n",
    "### 問題32 0で割ったときにエラーと出力\n",
    "\n",
    "- 10をある数字`num`で割った時の結果を出力しましょう(try節)\n",
    "- 0で割った場合(割れない)にエラーと出力しましょう(except節)\n",
    "\n",
    "（目安時間：1分）\n",
    "\n",
    "**解答**"
   ]
  },
  {
   "cell_type": "markdown",
   "metadata": {},
   "source": [
    "### 問題33 ZeroDivisionErrorの呼び出し\n",
    "\n",
    "- 10をある数字`num`で割った時の結果を出力しましょう(try節)\n",
    "- 0で割った場合(割れない)に`ZeroDivisionError`でエラーを出力しましょう(except節)\n",
    "\n",
    "（目安時間：1分）\n",
    "\n",
    "**解答**"
   ]
  },
  {
   "cell_type": "markdown",
   "metadata": {},
   "source": [
    "### 問題34 そのほかのErrorの呼び出し(分けて記述)\n",
    "\n",
    "次の`divide()`関数では変数`a`, `b`がそれぞれ数値の場合に正常に数値計算が行われます。\n",
    "```python\n",
    "def divide(a, b):\n",
    "    try:\n",
    "        print(f'{a}を{b}で割ると{a / b}です。')\n",
    "    except ZeroDivisionError as e:\n",
    "        print(e)\n",
    "```\n",
    "\n",
    "aまたはbが文字列の場合(数値の型とは異なる場合)の例外処理(TypeError)を`except`節を追加して実装しましょう。\n",
    "\n",
    "（目安時間：2分）"
   ]
  },
  {
   "cell_type": "code",
   "execution_count": 44,
   "metadata": {},
   "outputs": [],
   "source": [
    "def divide(a, b):\n",
    "    try:\n",
    "        print(f'{a}を{b}で割ると{a / b}です。')\n",
    "    except ZeroDivisionError as e:\n",
    "        print(e)"
   ]
  },
  {
   "cell_type": "code",
   "execution_count": 45,
   "metadata": {},
   "outputs": [
    {
     "name": "stdout",
     "output_type": "stream",
     "text": [
      "10を2で割ると5.0です。\n",
      "division by zero\n"
     ]
    }
   ],
   "source": [
    "divide(10, 2)\n",
    "divide(10, 0)"
   ]
  },
  {
   "cell_type": "code",
   "execution_count": 46,
   "metadata": {},
   "outputs": [
    {
     "ename": "TypeError",
     "evalue": "unsupported operand type(s) for /: 'int' and 'str'",
     "output_type": "error",
     "traceback": [
      "\u001b[0;31m---------------------------------------------------------------------------\u001b[0m",
      "\u001b[0;31mTypeError\u001b[0m                                 Traceback (most recent call last)",
      "\u001b[0;32m<ipython-input-46-e63b63490214>\u001b[0m in \u001b[0;36m<module>\u001b[0;34m\u001b[0m\n\u001b[0;32m----> 1\u001b[0;31m \u001b[0mdivide\u001b[0m\u001b[0;34m(\u001b[0m\u001b[0;36m10\u001b[0m\u001b[0;34m,\u001b[0m \u001b[0;34m'hey'\u001b[0m\u001b[0;34m)\u001b[0m\u001b[0;34m\u001b[0m\u001b[0m\n\u001b[0m",
      "\u001b[0;32m<ipython-input-44-c5a491f2e1fe>\u001b[0m in \u001b[0;36mdivide\u001b[0;34m(a, b)\u001b[0m\n\u001b[1;32m      1\u001b[0m \u001b[0;32mdef\u001b[0m \u001b[0mdivide\u001b[0m\u001b[0;34m(\u001b[0m\u001b[0ma\u001b[0m\u001b[0;34m,\u001b[0m \u001b[0mb\u001b[0m\u001b[0;34m)\u001b[0m\u001b[0;34m:\u001b[0m\u001b[0;34m\u001b[0m\u001b[0m\n\u001b[1;32m      2\u001b[0m     \u001b[0;32mtry\u001b[0m\u001b[0;34m:\u001b[0m\u001b[0;34m\u001b[0m\u001b[0m\n\u001b[0;32m----> 3\u001b[0;31m         \u001b[0mprint\u001b[0m\u001b[0;34m(\u001b[0m\u001b[0;34mf'{a}を{b}で割ると{a / b}です。'\u001b[0m\u001b[0;34m)\u001b[0m\u001b[0;34m\u001b[0m\u001b[0m\n\u001b[0m\u001b[1;32m      4\u001b[0m     \u001b[0;32mexcept\u001b[0m \u001b[0mZeroDivisionError\u001b[0m \u001b[0;32mas\u001b[0m \u001b[0me\u001b[0m\u001b[0;34m:\u001b[0m\u001b[0;34m\u001b[0m\u001b[0m\n\u001b[1;32m      5\u001b[0m         \u001b[0mprint\u001b[0m\u001b[0;34m(\u001b[0m\u001b[0me\u001b[0m\u001b[0;34m)\u001b[0m\u001b[0;34m\u001b[0m\u001b[0m\n",
      "\u001b[0;31mTypeError\u001b[0m: unsupported operand type(s) for /: 'int' and 'str'"
     ]
    }
   ],
   "source": [
    "divide(10, 'hey')"
   ]
  },
  {
   "cell_type": "markdown",
   "metadata": {},
   "source": [
    "**解答**"
   ]
  },
  {
   "cell_type": "markdown",
   "metadata": {},
   "source": [
    "### 問題35 通常終了時に行う処理\n",
    "\n",
    "先ほどの`divide()`関数で例外処理が発生しなかった場合に「正常に終了しました。」と表示されるよう(else節)にしましょう。\n",
    "\n",
    "（目安時間：1分）\n",
    "\n",
    "**解答**"
   ]
  },
  {
   "cell_type": "markdown",
   "metadata": {},
   "source": [
    "### 問題36 例外も含めた終了時に行う処理\n",
    "\n",
    "先ほどの`divide()`関数で例外処理の発生した有無に限らず「処理が終了しました。」と表示されるよう(finally節)にしましょう。\n",
    "\n",
    "（目安時間：1分）\n",
    "\n",
    "\n",
    "**解答**"
   ]
  },
  {
   "cell_type": "markdown",
   "metadata": {},
   "source": [
    "### 問題37 例外をスルーする\n",
    "\n",
    "こちらの`divide()`関数でTypeErrorの例外処理の発生した場合スルーするようにしましょう。\n",
    "\n",
    "```python\n",
    "def divide(a, b):\n",
    "    try:\n",
    "        print(f'{a}を{b}で割ると{a / b}です。')\n",
    "    except ZeroDivisionError as e:\n",
    "        print(e)\n",
    "    except TypeError as e:\n",
    "        print(e)\n",
    "    finally:\n",
    "        print('全ての処理が終了しました。')\n",
    "```\n",
    "（目安時間：1分）\n",
    "\n",
    "**解答**\n"
   ]
  },
  {
   "cell_type": "code",
   "execution_count": null,
   "metadata": {},
   "outputs": [],
   "source": []
  }
 ],
 "metadata": {
  "kernelspec": {
   "display_name": "Python 3",
   "language": "python",
   "name": "python3"
  },
  "language_info": {
   "codemirror_mode": {
    "name": "ipython",
    "version": 3
   },
   "file_extension": ".py",
   "mimetype": "text/x-python",
   "name": "python",
   "nbconvert_exporter": "python",
   "pygments_lexer": "ipython3",
   "version": "3.9.2"
  }
 },
 "nbformat": 4,
 "nbformat_minor": 4
}
