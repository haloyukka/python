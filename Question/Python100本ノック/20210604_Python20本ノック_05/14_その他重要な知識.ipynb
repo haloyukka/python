{
 "cells": [
  {
   "cell_type": "markdown",
   "metadata": {},
   "source": [
    "## 99問目　APIを叩く\n",
    "\n",
    "下記サイトの「/posts」を用いて、APIを叩いてください。\n",
    "\n",
    "https://jsonplaceholder.typicode.com/"
   ]
  },
  {
   "cell_type": "code",
   "execution_count": null,
   "metadata": {},
   "outputs": [],
   "source": []
  },
  {
   "cell_type": "markdown",
   "metadata": {},
   "source": [
    "## 100問目　自動ログイン\n",
    "\n",
    "Seleniumを用いて、下記サイトに自動ログインを行ってください。\n",
    "\n",
    "- username：　imanishi\n",
    "- password：　kohei\n",
    "\n",
    "https://scraping-for-beginner.herokuapp.com/login_page"
   ]
  },
  {
   "cell_type": "code",
   "execution_count": null,
   "metadata": {},
   "outputs": [],
   "source": []
  }
 ],
 "metadata": {
  "kernelspec": {
   "display_name": "Python 3",
   "language": "python",
   "name": "python3"
  },
  "language_info": {
   "codemirror_mode": {
    "name": "ipython",
    "version": 3
   },
   "file_extension": ".py",
   "mimetype": "text/x-python",
   "name": "python",
   "nbconvert_exporter": "python",
   "pygments_lexer": "ipython3",
   "version": "3.9.5"
  }
 },
 "nbformat": 4,
 "nbformat_minor": 4
}
