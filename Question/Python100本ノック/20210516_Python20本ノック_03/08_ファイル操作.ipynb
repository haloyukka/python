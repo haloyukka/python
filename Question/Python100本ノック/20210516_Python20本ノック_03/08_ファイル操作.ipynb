{
 "cells": [
  {
   "cell_type": "markdown",
   "metadata": {},
   "source": [
    "## 08.ファイル操作\n",
    "textファイルの読みこみを行いましょう。\n",
    "\n",
    "### 問題41 ファイル操作の基本(open, read, close)\n",
    "\n",
    "まず以下のテキストファイルを用意しましょう。\n",
    "\n",
    "`samples/08_41_sample.txt`\n",
    "```text\n",
    "はじめまして、\n",
    "こちらはいまにゅうチャンネルです。\n",
    "Pythonを使いこなして色んなことができるように、\n",
    "一緒に学んでいきましょう。\n",
    "```\n",
    "\n",
    "以下の処理を行ってテキストファイルからテキストデータを取得して出力しましょう\n",
    "- open関数で`sample.txt`を開く\n",
    "- read関数でテキストを読み込む\n",
    "- close関数で開いたテキストファイルを閉じる\n",
    "\n",
    "（目安時間：2分）\n",
    "\n",
    "**解答**"
   ]
  },
  {
   "cell_type": "markdown",
   "metadata": {},
   "source": [
    "### 問題42 with構文\n",
    "\n",
    "先ほどのテキストデータを取得する処理をwith構文を使って実装しましょう\n",
    "\n",
    "（目安時間：1分）\n",
    "\n",
    "**解答**"
   ]
  },
  {
   "cell_type": "markdown",
   "metadata": {},
   "source": [
    "続いてjsonファイルの読みこみを行いましょう。\n",
    "\n",
    "### 問題43 jsonモジュール\n",
    "jsonモジュールを使って以下のjsonファイルを読み込みましょう。\n",
    "\n",
    "`samples/08_43_sample.json`\n",
    "```json\n",
    "{\"store_name\": \"神田店\",\n",
    " \"items\": [\n",
    "     {\"item_id\": 0,\n",
    "     \"item_name\": \"コーラ\"},\n",
    "     {\"item_id\": 1,\n",
    "     \"item_name\": \"唐揚げ弁当\"},\n",
    "     {\"item_id\": 2,\n",
    "     \"item_name\": \"週刊誌\"}]\n",
    "}\n",
    "```\n",
    "\n",
    "（目安時間：1分）\n",
    "\n",
    "\n",
    "**解答**"
   ]
  },
  {
   "cell_type": "code",
   "execution_count": null,
   "metadata": {},
   "outputs": [],
   "source": []
  }
 ],
 "metadata": {
  "kernelspec": {
   "display_name": "Python 3",
   "language": "python",
   "name": "python3"
  },
  "language_info": {
   "codemirror_mode": {
    "name": "ipython",
    "version": 3
   },
   "file_extension": ".py",
   "mimetype": "text/x-python",
   "name": "python",
   "nbconvert_exporter": "python",
   "pygments_lexer": "ipython3",
   "version": "3.9.2"
  }
 },
 "nbformat": 4,
 "nbformat_minor": 4
}
