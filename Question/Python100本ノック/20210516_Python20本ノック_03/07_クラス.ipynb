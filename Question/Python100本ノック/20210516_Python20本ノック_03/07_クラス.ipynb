{
 "cells": [
  {
   "cell_type": "markdown",
   "metadata": {},
   "source": [
    "## クラス\n",
    "\n",
    "### 問題37 classの基礎\n",
    "\n",
    "`Person`クラスを用意し、クラス変数として`nationality: 'japan'`、クラスメソッドとして`.say_hello()`実装しましょう。  \n",
    "ただしこちらのメソッドでは「こんにちは、私の国籍は{self.nationality}です。」と出力するようにしましょう。  \n",
    "\n",
    "（目安時間：2分）\n",
    "\n",
    "**解答**"
   ]
  },
  {
   "cell_type": "markdown",
   "metadata": {},
   "source": [
    "### 問題38 コンストラクタの設定\n",
    "\n",
    "続いて、先ほどの`Person`クラスにコンストラクタ(インスタンス生成時に呼び出される関数)を使って、引数に名前を設定して`.name`というインスタンス変数を持たせましょう。  \n",
    "また`say_my_name()`という自分の名前を出力するクラスメソッドを実装しましょう。\n",
    "\n",
    "```python\n",
    "class Person:\n",
    "    nationality = '日本'\n",
    "        \n",
    "    def say_hello(self):\n",
    "        print(f'こんにちは、私の国籍は{self.nationality}です。')\n",
    "        \n",
    "    def say_my_name():\n",
    "        print(f'私の名前は{}です。')\n",
    "```\n",
    "\n",
    "（目安時間：1分）\n",
    "\n",
    "**解答**"
   ]
  },
  {
   "cell_type": "markdown",
   "metadata": {},
   "source": [
    "### 問題39 クラスの継承\n",
    "\n",
    "先ほどの`Person`クラスを継承した`Kid`クラスを作成しましょう。  \n",
    "その際に自分の年齢を出力するようにクラスメソッド`say_hello(age)`(年齢を引数)を変更しましょう。  \n",
    "またそれらがきちんと動作しているか次のコードで確認しましょう。\n",
    "\n",
    "```python\n",
    "kid = Kid('航平')\n",
    "kid.say_hello(9)\n",
    ">>> 私の名前は航平です。年齢は9才です。\n",
    "```\n",
    "（目安時間：2分）\n",
    "\n",
    "**解答**"
   ]
  },
  {
   "cell_type": "markdown",
   "metadata": {},
   "source": [
    "### 問題40 privateとpublic\n",
    "先ほどの`Person`クラス内のクラス変数の`nationality`を`__nationality`へ変更し外部から呼び出せないprivateな変数になっていることを確認しましょう。  \n",
    "また同様に` say_my_name()`関数も`__ say_my_name()`と修正し、外部から呼び出せないことを確認しましょう。\n",
    "\n",
    "```python\n",
    "# 修正前\n",
    "person = Person('今西')\n",
    "person.say_hello()\n",
    ">>> 'こんにちは、私の国籍は日本です。'\n",
    "person.say_my_name()\n",
    ">>> '私の名前は今西です。'\n",
    "person.nationality\n",
    ">>> '日本'\n",
    "\n",
    "# 修正\n",
    "class Person:\n",
    "    __nationality = '日本'\n",
    "    \n",
    "    def __init__(self, name):\n",
    "        self.name = name\n",
    "\n",
    "    def say_hello(self):\n",
    "        print(f'こんにちは、私の国籍は{self.__nationality}です。')\n",
    "        self.__say_my_name()\n",
    "\n",
    "    def __say_my_name(self):\n",
    "        print(f'私の名前は{self.name}です。')\n",
    "\n",
    "# 修正後\n",
    "person = Person('今西')\n",
    "person.say_hello()\n",
    ">>> 'こんにちは、私の国籍は日本です。'\n",
    "    '私の名前は今西です。'\n",
    "    \n",
    "person.__say_my_name()\n",
    ">>> AttributeError: 'Person' object has no attribute '__say_my_name'\n",
    "person.__nationality\n",
    ">>> AttributeError: 'Person' object has no attribute '__nationality'\n",
    "\n",
    "```\n",
    "\n",
    "（目安時間：1分）\n",
    "\n",
    "**解答**"
   ]
  },
  {
   "cell_type": "code",
   "execution_count": null,
   "metadata": {},
   "outputs": [],
   "source": []
  }
 ],
 "metadata": {
  "kernelspec": {
   "display_name": "Python 3",
   "language": "python",
   "name": "python3"
  },
  "language_info": {
   "codemirror_mode": {
    "name": "ipython",
    "version": 3
   },
   "file_extension": ".py",
   "mimetype": "text/x-python",
   "name": "python",
   "nbconvert_exporter": "python",
   "pygments_lexer": "ipython3",
   "version": "3.9.2"
  }
 },
 "nbformat": 4,
 "nbformat_minor": 4
}
