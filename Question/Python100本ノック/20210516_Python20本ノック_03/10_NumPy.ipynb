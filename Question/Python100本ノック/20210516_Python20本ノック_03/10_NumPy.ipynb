{
 "cells": [
  {
   "cell_type": "markdown",
   "metadata": {},
   "source": [
    "## 10.Numpy\n",
    "ベクトルの定義を行いましょう。\n",
    "\n",
    "### 問題57 一次元配列の定義\n",
    "\n",
    "要素数が4つのベクトルを作成しましょう\n",
    "\n",
    "（目安時間：1分）\n",
    "\n",
    "**解答**"
   ]
  },
  {
   "cell_type": "markdown",
   "metadata": {},
   "source": [
    "続いて行列の定義を行いましょう。\n",
    "\n",
    "### 問題58 二次元配列の定義\n",
    "\n",
    "2 x 2行列を作成しましょう\n",
    "\n",
    "（目安時間：1分）\n",
    "\n",
    "**解答**"
   ]
  },
  {
   "cell_type": "markdown",
   "metadata": {},
   "source": [
    "特殊なベクトル・行列の定義を行いましょう。\n",
    "\n",
    "### 問題59-1 要素が全てゼロの定義\n",
    "\n",
    "`(8, )`のゼロベクトル及び`(4, 3)`のゼロ行列を作成しましょう\n",
    "\n",
    "（目安時間：1分）\n",
    "\n",
    "**解答**"
   ]
  },
  {
   "cell_type": "markdown",
   "metadata": {},
   "source": [
    "### 問題59-2 単位行列\n",
    "\n",
    "`(5, 5)`の単位行列を作成しましょう。\n",
    "\n",
    "（目安時間：1分）\n",
    "\n",
    "**解答**"
   ]
  },
  {
   "cell_type": "markdown",
   "metadata": {},
   "source": [
    "では行列の四則演算を行いましょう。\n",
    "\n",
    "### 問題60 加減乗除\n",
    "\n",
    "次の計算を行いましょう。\n",
    "\n",
    "$$\n",
    "A=\\left[\n",
    "\\begin{matrix} 1 & 5 \\\\ 4 & -3 \\end{matrix}\n",
    "\\right]\n",
    "$$\n",
    "\n",
    "$$\n",
    "B=\\left[\n",
    "\\begin{matrix} 2 & -1 \\\\ 7 & 6 \\end{matrix}\n",
    "\\right]\n",
    "$$\n",
    "のとき\n",
    "$$\n",
    "A + B, \\\\A - B, \\\\AB, \\\\\n",
    "$$\n",
    "\n",
    "（目安時間：3分）\n",
    "\n",
    "\n",
    "**解答**"
   ]
  },
  {
   "cell_type": "markdown",
   "metadata": {},
   "source": [
    "では任意の行列から統計値の取得を行いましょう。\n",
    "\n",
    "### 問題61 行列内の統計値の計算\n",
    "以下の行列から`合計値`, `最大値`, `最小値`, `平均値`, `中央値`, `分散`, `標準偏差`を取得しましょう\n",
    "\n",
    "$$\n",
    "A=\\left[\n",
    "\\begin{matrix} 1 & 5 & -2 \\\\ 4 & 0 & -3 \\\\ -8 & 2 & 6 \\end{matrix}\n",
    "\\right]\n",
    "$$\n",
    "\n",
    "（目安時間：3分）\n",
    "\n",
    "**解答**"
   ]
  },
  {
   "cell_type": "markdown",
   "metadata": {},
   "source": [
    "ある行列の逆行列を求めましょう。\n",
    "\n",
    "### 問題62 行列式と逆行列\n",
    "以下の行列に逆行列がある場合その行列を求めましょう\n",
    "$$\n",
    "A=\\left[\n",
    "\\begin{matrix} 1 & 5 \\\\ 4 & -3 \\end{matrix}\n",
    "\\right]\n",
    "$$\n",
    "\n",
    "\n",
    "（目安時間：2分）\n",
    "\n",
    "**解答**"
   ]
  },
  {
   "cell_type": "code",
   "execution_count": null,
   "metadata": {},
   "outputs": [],
   "source": []
  }
 ],
 "metadata": {
  "kernelspec": {
   "display_name": "Python 3",
   "language": "python",
   "name": "python3"
  },
  "language_info": {
   "codemirror_mode": {
    "name": "ipython",
    "version": 3
   },
   "file_extension": ".py",
   "mimetype": "text/x-python",
   "name": "python",
   "nbconvert_exporter": "python",
   "pygments_lexer": "ipython3",
   "version": "3.9.2"
  }
 },
 "nbformat": 4,
 "nbformat_minor": 4
}
