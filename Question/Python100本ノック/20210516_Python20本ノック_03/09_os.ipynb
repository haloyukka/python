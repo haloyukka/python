{
 "cells": [
  {
   "cell_type": "markdown",
   "metadata": {},
   "source": [
    "## 09.PythonでOSを操作\n",
    "ではpythonを使ってファイルの存在確認や情報の取得を行いましょう。  \n",
    "まずはじめにファイル・フォルダ情報の取得を行いましょう。\n",
    "\n",
    "### 問題44 全ファイルの情報取得\n",
    "\n",
    "カレントディレクトリ内の全てのファイル情報を取得しましょう。\n",
    "\n",
    "（目安時間：3分）\n",
    "\n",
    "**解答**"
   ]
  },
  {
   "cell_type": "markdown",
   "metadata": {},
   "source": [
    "### 問題45 ファイルの情報取得\n",
    "\n",
    "カレントディレクトリ内の情報を取得しましょう。\n",
    "\n",
    "（目安時間：1分）\n",
    "\n",
    "**解答**"
   ]
  },
  {
   "cell_type": "markdown",
   "metadata": {},
   "source": [
    "### 問題46 絶対パスを含んだファイル名の取得\n",
    "\n",
    "問題44で取得したファイルの絶対パスを出力しましょう。\n",
    "\n",
    "（目安時間：1分）\n",
    "\n",
    "**解答**"
   ]
  },
  {
   "cell_type": "markdown",
   "metadata": {},
   "source": [
    "### 問題47 ファイル名の取得\n",
    "\n",
    "問題44で取得したファイルのファイル名のみを出力しましょう。\n",
    "\n",
    "（目安時間：1分）\n",
    "\n",
    "**解答**"
   ]
  },
  {
   "cell_type": "markdown",
   "metadata": {},
   "source": [
    "続いて存在判定を行いましょう。\n",
    "\n",
    "### 問題48 ファイル・ディレクトリの存在確認\n",
    "\n",
    "カレントディレクトリ内に`xxxyyyzzz/`ディレクトリが存在するか確認してみましょう。  \n",
    "また、問題46で出力したファイルが存在するか確認してみましょう。\n",
    "\n",
    "（目安時間：2分）\n",
    "\n",
    "**解答**"
   ]
  },
  {
   "cell_type": "markdown",
   "metadata": {},
   "source": [
    "### 問題49 ディレクトリの存在確認\n",
    "\n",
    "問題48で確認したディレクトリを別の方法で確認してみましょう。\n",
    "\n",
    "（目安時間：1分）\n",
    "\n",
    "**解答**"
   ]
  },
  {
   "cell_type": "markdown",
   "metadata": {},
   "source": [
    "### 問題50 ファイルの存在確認\n",
    "\n",
    "問題48で確認したファイルを別の方法で確認してみましょう。\n",
    "\n",
    "（目安時間：1分）\n",
    "\n",
    "**解答**"
   ]
  },
  {
   "cell_type": "markdown",
   "metadata": {},
   "source": [
    "続いてファイル・フォルダの操作などの処理を行いましょう。\n",
    "\n",
    "### 問題51 パス名の結合\n",
    "問題44で行ったパス名の出力を`os.path.join()`で結合してみましょう。\n",
    "\n",
    "（目安時間：3分）\n",
    "\n",
    "\n",
    "**解答**"
   ]
  },
  {
   "cell_type": "markdown",
   "metadata": {},
   "source": [
    "### 問題52 ディレクトリの作成\n",
    "カレントディレクトリに`imanyu`ディレクトリを作成しましょう。\n",
    "\n",
    "（目安時間：1分）\n",
    "\n",
    "\n",
    "**解答**"
   ]
  },
  {
   "cell_type": "markdown",
   "metadata": {},
   "source": [
    "### 問題53 ファイルの削除\n",
    "`samples/`ディレクトリにある`samples/09_53_sample.txt`を削除しましょう。  \n",
    "もしファイルがない場合には以下のコードで作成しましょう。\n",
    "\n",
    "```python\n",
    "# ファイルの作成\n",
    "with open('samples/09_10_sample.txt', 'w') as f:\n",
    "    f.write('これはサンプルです')\n",
    "```\n",
    "\n",
    "（目安時間：1分）\n",
    "\n",
    "**解答**"
   ]
  },
  {
   "cell_type": "markdown",
   "metadata": {},
   "source": [
    "### 問題54 ディレクトリの名前変更\n",
    "カレントディレクトリにある`imanyu`フォルダの名前を自分の名前に変更しましょう。\n",
    "\n",
    "（目安時間：1分）\n",
    "\n",
    "**解答**"
   ]
  },
  {
   "cell_type": "markdown",
   "metadata": {},
   "source": [
    "### 問題55 環境変数の確認\n",
    "`os.environ`から環境変数である`PATH`の確認を行いましょう。\n",
    "\n",
    "（目安時間：1分）\n",
    "\n",
    "\n",
    "**解答**"
   ]
  },
  {
   "cell_type": "markdown",
   "metadata": {},
   "source": [
    "### 問題56 Unixコマンド\n",
    "`os.system()`でUnixコマンドを使ってみましょう。\n",
    "\n",
    "（目安時間：1分）\n",
    "\n",
    "**解答**"
   ]
  },
  {
   "cell_type": "code",
   "execution_count": null,
   "metadata": {},
   "outputs": [],
   "source": []
  }
 ],
 "metadata": {
  "kernelspec": {
   "display_name": "Python 3",
   "language": "python",
   "name": "python3"
  },
  "language_info": {
   "codemirror_mode": {
    "name": "ipython",
    "version": 3
   },
   "file_extension": ".py",
   "mimetype": "text/x-python",
   "name": "python",
   "nbconvert_exporter": "python",
   "pygments_lexer": "ipython3",
   "version": "3.9.2"
  }
 },
 "nbformat": 4,
 "nbformat_minor": 4
}
