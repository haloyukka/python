{
 "cells": [
  {
   "cell_type": "markdown",
   "metadata": {},
   "source": [
    "## 12.Matplotlib\n",
    "基本的なグラフの作成を行いましょう。\n",
    "\n",
    "### 問題84 折れ線グラフ\n",
    "以下のようにNumpyでデータを生成して, Matplotlibで折れ線グラフを作成してください。\n",
    "```python\n",
    "import numpy as np\n",
    "\n",
    "data = np.random.randint(0, 100, size=(50, 2))\n",
    "```\n",
    "\n",
    "（目安時間：1分）\n",
    "\n",
    "**解答**"
   ]
  },
  {
   "cell_type": "code",
   "execution_count": null,
   "metadata": {},
   "outputs": [],
   "source": []
  },
  {
   "cell_type": "markdown",
   "metadata": {},
   "source": [
    "### 問題85 散布図\n",
    "以下のようにNumpyでデータを生成して, 散布図を作成してください。\n",
    "```python\n",
    "import numpy as np\n",
    "\n",
    "data = np.random.randint(0, 50, size=(2, 100))\n",
    "```\n",
    "\n",
    "（目安時間：1分）\n",
    "\n",
    "**解答**"
   ]
  },
  {
   "cell_type": "code",
   "execution_count": null,
   "metadata": {},
   "outputs": [],
   "source": []
  },
  {
   "cell_type": "markdown",
   "metadata": {},
   "source": [
    "### 問題86 棒グラフ\n",
    "以下のようにNumpyでデータを生成して, 2種類の棒グラフ(縦・横)を作成してください。\n",
    "```python\n",
    "import numpy as np\n",
    "\n",
    "x = [1, 2, 3, 4, 5]\n",
    "data = np.random.randint(0, 100, size=(5,))\n",
    "labels = ['Math', 'Physics', 'Chemistry', 'English', 'History']\n",
    "```\n",
    "\n",
    "（目安時間：2分）\n",
    "\n",
    "\n",
    "**解答**"
   ]
  },
  {
   "cell_type": "code",
   "execution_count": null,
   "metadata": {},
   "outputs": [],
   "source": []
  },
  {
   "cell_type": "markdown",
   "metadata": {},
   "source": [
    "### 問題87 ヒストグラム\n",
    "以下のようにNumpyでデータを生成して, ヒストグラムを作成してください。\n",
    "```python\n",
    "import numpy as np\n",
    "\n",
    "data = np.random.randint(0, 100, size=(20,))\n",
    "```\n",
    "\n",
    "（目安時間：1分）\n",
    "\n",
    "**解答**"
   ]
  },
  {
   "cell_type": "code",
   "execution_count": null,
   "metadata": {},
   "outputs": [],
   "source": []
  },
  {
   "cell_type": "markdown",
   "metadata": {},
   "source": [
    "### 問題89 軸の名前と範囲指定\n",
    "以下のように作成したグラフの軸にタイトル(x軸: Height \\[cm\\], y軸: Weight \\[kg\\])と範囲(x軸: 110〜210, y軸: 20〜120)を追加してください。\n",
    "```python\n",
    "import numpy as np\n",
    "\n",
    "male_ht = np.random.randint(150, 200, size=(50,))\n",
    "male_wt = np.random.randint(50, 110, size=(50, ))\n",
    "female_ht = np.random.randint(130, 170, size=(50,))\n",
    "female_wt = np.random.randint(30, 80, size=(50, ))\n",
    "\n",
    "plt.scatter(male_ht, male_wt, label='male')\n",
    "plt.scatter(female_ht, female_wt, label='female')\n",
    "```\n",
    "\n",
    "（目安時間：1分）\n",
    "\n",
    "**解答**"
   ]
  },
  {
   "cell_type": "code",
   "execution_count": null,
   "metadata": {},
   "outputs": [],
   "source": []
  },
  {
   "cell_type": "markdown",
   "metadata": {},
   "source": [
    "### 問題90 色の設定\n",
    "以下のように作成した散布図のマーカの色を(男性: `skyblue`, 女性: `pink`)に変更してください。\n",
    "```python\n",
    "import numpy as np\n",
    "\n",
    "male_ht = np.random.randint(150, 200, size=(50,))\n",
    "male_wt = np.random.randint(50, 110, size=(50, ))\n",
    "female_ht = np.random.randint(130, 170, size=(50,))\n",
    "female_wt = np.random.randint(30, 80, size=(50, ))\n",
    "\n",
    "plt.scatter(male_ht, male_wt, label='male')\n",
    "plt.scatter(female_ht, female_wt, label='female')\n",
    "```\n",
    "\n",
    "（目安時間：1分）\n",
    "\n",
    "**解答**"
   ]
  },
  {
   "cell_type": "code",
   "execution_count": null,
   "metadata": {},
   "outputs": [],
   "source": []
  },
  {
   "cell_type": "markdown",
   "metadata": {},
   "source": [
    "### 問題91 マーカー種類の指定\n",
    "以下のように作成したグラフのマーカーを(男性: `▷`, 女性: `◁`)に変更してください。\n",
    "```python\n",
    "import numpy as np\n",
    "\n",
    "male_ht = np.random.randint(150, 200, size=(50,))\n",
    "male_wt = np.random.randint(50, 110, size=(50, ))\n",
    "female_ht = np.random.randint(130, 170, size=(50,))\n",
    "female_wt = np.random.randint(30, 80, size=(50, ))\n",
    "\n",
    "plt.scatter(male_ht, male_wt, label='male')\n",
    "plt.scatter(female_ht, female_wt, label='female')\n",
    "```\n",
    "\n",
    "（目安時間：1分）\n",
    "\n",
    "\n",
    "**解答**"
   ]
  },
  {
   "cell_type": "code",
   "execution_count": null,
   "metadata": {},
   "outputs": [],
   "source": []
  },
  {
   "cell_type": "markdown",
   "metadata": {},
   "source": [
    "では作成したグラフの保存をしましょう。\n",
    "\n",
    "### 問題92 グラフを画像ファイルで出力\n",
    "以下のようにMatplotlibで折れ線グラフを作成し、その結果をPNG形式の画像ファイルで保存して下さい。\n",
    "```python\n",
    "import numpy as np\n",
    "\n",
    "data = np.random.randint(0, 100, size=(50, 2))\n",
    "plt.plot(data)\n",
    "```\n",
    "\n",
    "（目安時間：1分）\n",
    "\n",
    "\n",
    "**解答**"
   ]
  },
  {
   "cell_type": "code",
   "execution_count": null,
   "metadata": {},
   "outputs": [],
   "source": []
  }
 ],
 "metadata": {
  "kernelspec": {
   "display_name": "Python 3",
   "language": "python",
   "name": "python3"
  },
  "language_info": {
   "codemirror_mode": {
    "name": "ipython",
    "version": 3
   },
   "file_extension": ".py",
   "mimetype": "text/x-python",
   "name": "python",
   "nbconvert_exporter": "python",
   "pygments_lexer": "ipython3",
   "version": "3.9.5"
  }
 },
 "nbformat": 4,
 "nbformat_minor": 4
}
