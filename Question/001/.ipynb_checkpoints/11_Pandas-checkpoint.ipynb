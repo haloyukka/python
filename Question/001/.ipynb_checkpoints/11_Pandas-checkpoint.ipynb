{
 "cells": [
  {
   "cell_type": "markdown",
   "metadata": {},
   "source": [
    "Pandas：63~82\n",
    "\n",
    "## 11.Pandas\n",
    "### ■ 64. データの読み込み\n",
    "\n",
    "`weather.csv`を読み込み、`df` で定義してください。\n",
    "\n",
    "（目安時間：1分）\n",
    "\n",
    "**解答**\n"
   ]
  },
  {
   "cell_type": "code",
   "execution_count": null,
   "metadata": {},
   "outputs": [],
   "source": []
  },
  {
   "cell_type": "markdown",
   "metadata": {},
   "source": [
    "### ■ 65. データの中身確認\n",
    "\n",
    "読み込んだデータ`df`の先頭3行、末尾10行を表示してください。\n",
    "\n",
    "（目安時間：1分）\n",
    "\n",
    "**解答**\n"
   ]
  },
  {
   "cell_type": "code",
   "execution_count": null,
   "metadata": {},
   "outputs": [],
   "source": []
  },
  {
   "cell_type": "markdown",
   "metadata": {},
   "source": [
    "### ■ 66. 不要な列、行の削除\n",
    "\n",
    "行は先頭のみ、列は、カラム名（列名）が「〇〇.1」「〇〇.2」となっているものを削除したDataFrame `df` を再定義してください。\n",
    "\n",
    "（目安時間：5分）\n",
    "\n",
    "**解答**\n"
   ]
  },
  {
   "cell_type": "code",
   "execution_count": null,
   "metadata": {},
   "outputs": [],
   "source": []
  },
  {
   "cell_type": "markdown",
   "metadata": {},
   "source": [
    "### ■ 67. DataFrameに関する情報の取得\n",
    "\n",
    "下記の値を取得してください。\n",
    "\n",
    "- 各列のデータ型\n",
    "- DataFrameのサイズ\n",
    "- 列名\n",
    "- 行名\n",
    "\n",
    "（目安時間：2分）\n",
    "\n",
    "**解答**"
   ]
  },
  {
   "cell_type": "code",
   "execution_count": null,
   "metadata": {},
   "outputs": [],
   "source": []
  },
  {
   "cell_type": "markdown",
   "metadata": {},
   "source": [
    "### ■ 68. 任意の要素を取得\n",
    "\n",
    "`df`の 5〜10行目, 3〜6列目（最高気温(℃)〜最深積雪(cm)）の要素を取得してください。\n",
    "\n",
    "\n",
    "（目安時間：2分）\n",
    "\n",
    "**解答**"
   ]
  },
  {
   "cell_type": "code",
   "execution_count": null,
   "metadata": {},
   "outputs": [],
   "source": []
  },
  {
   "cell_type": "markdown",
   "metadata": {},
   "source": [
    "### ■ 69. 条件抽出\n",
    "\n",
    "`people.csv` を読み込み`df_people`と定義してください。\n",
    "\n",
    "その後、下記の条件を満たすDataFrameをそれぞれ抽出してください。\n",
    "\n",
    "- `nationality` が `America` である\n",
    "- `age` が 20以上30未満である\n",
    "\n",
    "（目安時間：3分）\n",
    "\n",
    "**解答**"
   ]
  },
  {
   "cell_type": "code",
   "execution_count": null,
   "metadata": {},
   "outputs": [],
   "source": []
  },
  {
   "cell_type": "markdown",
   "metadata": {},
   "source": [
    "### ■ 70. ユニークな値の抽出\n",
    "\n",
    "`df_people`に対して、カラム毎のユニーク（固有）な値を抽出してください。\n",
    "\n",
    "（目安時間：2分）\n",
    "\n",
    "**解答**"
   ]
  },
  {
   "cell_type": "code",
   "execution_count": null,
   "metadata": {},
   "outputs": [],
   "source": []
  },
  {
   "cell_type": "markdown",
   "metadata": {},
   "source": [
    "### ■ 71. 重複除去\n",
    "\n",
    "`nationality`の列に対し、重複がある値の行を除去したDataFrameを取得してください。\n",
    "\n",
    "（目安時間：2分）\n",
    "\n",
    "**解答**"
   ]
  },
  {
   "cell_type": "code",
   "execution_count": null,
   "metadata": {},
   "outputs": [],
   "source": []
  },
  {
   "cell_type": "markdown",
   "metadata": {},
   "source": [
    "### ■ 72. カラム名変更\n",
    "\n",
    "`df`に対し、各カラム名の「（単位）」部分を削除したカラム名に変更してください。\n",
    "\n",
    "\n",
    "<新しいカラム名>\n",
    "- 年月日\n",
    "- 平均気温\n",
    "- 最高気温\n",
    "- 最低気温\n",
    "- 降水量の合計\n",
    "- 最深積雪\n",
    "- 平均雲量\n",
    "- 平均蒸気圧\n",
    "- 平均風速\n",
    "- 日照時間\n",
    "\n",
    "（目安時間：3分）\n",
    "\n",
    "**解答**"
   ]
  },
  {
   "cell_type": "code",
   "execution_count": null,
   "metadata": {},
   "outputs": [],
   "source": []
  },
  {
   "cell_type": "markdown",
   "metadata": {},
   "source": [
    "### ■ 73. 並び替え\n",
    "\n",
    "`df`を最高気温が高い順に並び替えてください。\n",
    "\n",
    "（目安時間：2分）\n",
    "\n",
    "**解答**"
   ]
  },
  {
   "cell_type": "code",
   "execution_count": null,
   "metadata": {},
   "outputs": [],
   "source": []
  },
  {
   "cell_type": "markdown",
   "metadata": {},
   "source": [
    "### ■ 74. ダミーデータへの処理\n",
    "\n",
    "`df_people`の`nationality`カラムをダミー変数に変換してください。\n",
    "\n",
    "（目安時間：2分）\n",
    "\n",
    "**解答**"
   ]
  },
  {
   "cell_type": "code",
   "execution_count": null,
   "metadata": {},
   "outputs": [],
   "source": []
  },
  {
   "cell_type": "markdown",
   "metadata": {},
   "source": [
    "### ■ 75. 欠損値の確認\n",
    "\n",
    "`df`の欠損値を確認してください。\n",
    "\n",
    "（目安時間：1分）\n",
    "\n",
    "**解答**"
   ]
  },
  {
   "cell_type": "code",
   "execution_count": null,
   "metadata": {},
   "outputs": [],
   "source": []
  },
  {
   "cell_type": "markdown",
   "metadata": {},
   "source": [
    "### ■ 76. 欠損値の補完\n",
    "\n",
    "`df`の欠損値を全て0で補完してください。\n",
    "\n",
    "（目安時間：1分）\n",
    "\n",
    "**解答**"
   ]
  },
  {
   "cell_type": "code",
   "execution_count": null,
   "metadata": {},
   "outputs": [],
   "source": []
  },
  {
   "cell_type": "markdown",
   "metadata": {},
   "source": [
    "### ■ 77. 欠損値の削除\n",
    "\n",
    "`df`の欠損値を列方向で削除してください。\n",
    "\n",
    "（目安時間：1分）\n",
    "\n",
    "**解答**"
   ]
  },
  {
   "cell_type": "code",
   "execution_count": null,
   "metadata": {},
   "outputs": [],
   "source": []
  },
  {
   "cell_type": "markdown",
   "metadata": {},
   "source": [
    "### ■ 78. ユニークな値と出現回数\n",
    "\n",
    "`iris.csv`を読み込み`df_iris`と定義してください。\n",
    "\n",
    "その後、`df_iris`の`Class`カラムにおいて、ユニークな値とその出現回数を確認してください。\n",
    "\n",
    "（目安時間：2分）\n",
    "\n",
    "**解答**"
   ]
  },
  {
   "cell_type": "code",
   "execution_count": null,
   "metadata": {},
   "outputs": [],
   "source": []
  },
  {
   "cell_type": "markdown",
   "metadata": {},
   "source": [
    "### ■ 79. グループごとの集計\n",
    "\n",
    "`df_iris`の下記各クラスにおける`sepal-length`, `sepal-width`, `petal-length`, `petal-width`の平均値を求めてください。\n",
    "\n",
    "- Iris-setosa\n",
    "- Iris-versicolor\n",
    "- Iris-virginica\n",
    "\n",
    "（目安時間：4分）\n",
    "\n",
    "**解答**"
   ]
  },
  {
   "cell_type": "code",
   "execution_count": null,
   "metadata": {},
   "outputs": [],
   "source": []
  },
  {
   "cell_type": "markdown",
   "metadata": {},
   "source": [
    "### ■ 80. 統計量の確認\n",
    "\n",
    "`df_iris`の各カラムにおける、下記統計量を算出してください。\n",
    "\n",
    "- 平均値\n",
    "- 中央値\n",
    "- 標準偏差\n",
    "- 最大値\n",
    "- 最小値\n",
    "\n",
    "（目安時間：3分）\n",
    "\n",
    "**解答**"
   ]
  },
  {
   "cell_type": "code",
   "execution_count": null,
   "metadata": {},
   "outputs": [],
   "source": []
  },
  {
   "cell_type": "markdown",
   "metadata": {},
   "source": [
    "### ■ 81. グラフの表示\n",
    "\n",
    "`df`の先頭50日間における平均気温、最高気温、最低気温を折れ線グラフ（凡例なし）で可視化してください。  \n",
    "※横軸は`年月日`とすること\n",
    "\n",
    "（目安時間：4分）\n",
    "\n",
    "**解答**"
   ]
  },
  {
   "cell_type": "code",
   "execution_count": null,
   "metadata": {},
   "outputs": [],
   "source": []
  },
  {
   "cell_type": "markdown",
   "metadata": {},
   "source": [
    "### ■ 82. 相関係数の算出\n",
    "\n",
    "`df`の下記3項目同士の相関係数を算出してください。\n",
    "\n",
    "- 平均気温\n",
    "- 降水量の合計\n",
    "- 日照時間\n",
    "\n",
    "（目安時間：3分）\n",
    "\n",
    "**解答**"
   ]
  },
  {
   "cell_type": "code",
   "execution_count": null,
   "metadata": {},
   "outputs": [],
   "source": []
  },
  {
   "cell_type": "markdown",
   "metadata": {},
   "source": [
    "### ■ 83. データの出力\n",
    "\n",
    "欠損値を0で補完した`df`を`export.csv`というファイル名で出力してください。インデックスの出力は不要です。\n",
    "\n",
    "（目安時間：1分）\n",
    "\n",
    "**解答**"
   ]
  },
  {
   "cell_type": "code",
   "execution_count": null,
   "metadata": {},
   "outputs": [],
   "source": []
  }
 ],
 "metadata": {
  "kernelspec": {
   "display_name": "Python 3",
   "language": "python",
   "name": "python3"
  },
  "language_info": {
   "codemirror_mode": {
    "name": "ipython",
    "version": 3
   },
   "file_extension": ".py",
   "mimetype": "text/x-python",
   "name": "python",
   "nbconvert_exporter": "python",
   "pygments_lexer": "ipython3",
   "version": "3.9.5"
  }
 },
 "nbformat": 4,
 "nbformat_minor": 4
}
