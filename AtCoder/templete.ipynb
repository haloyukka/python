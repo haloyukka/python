{
 "cells": [
  {
   "cell_type": "code",
   "execution_count": null,
   "id": "9ca4cd33-bb8b-4999-a74a-4f556f188b51",
   "metadata": {},
   "outputs": [],
   "source": [
    "# str型で受け取る時\n",
    "s = input()\n",
    "\n",
    "# int型で受け取る時\n",
    "s = int(input())\n",
    "\n",
    "# float型で受け取る時\n",
    "s = float(input())\n",
    "\n",
    "# list型で受け取る時\n",
    "s = input().split()\n",
    "\n",
    "# 文字列として受け取る時\n",
    "A, B, C = input().split()\n",
    "\n",
    "# 入力変数が整数の場合\n",
    "A, B = map(int, input().split())"
   ]
  }
 ],
 "metadata": {
  "kernelspec": {
   "display_name": "Python 3 (ipykernel)",
   "language": "python",
   "name": "python3"
  },
  "language_info": {
   "codemirror_mode": {
    "name": "ipython",
    "version": 3
   },
   "file_extension": ".py",
   "mimetype": "text/x-python",
   "name": "python",
   "nbconvert_exporter": "python",
   "pygments_lexer": "ipython3",
   "version": "3.8.11"
  }
 },
 "nbformat": 4,
 "nbformat_minor": 5
}
