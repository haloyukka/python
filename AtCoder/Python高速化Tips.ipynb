{
  "nbformat": 4,
  "nbformat_minor": 0,
  "metadata": {
    "colab": {
      "name": "Python高速化Tips.ipynb",
      "provenance": [],
      "collapsed_sections": [],
      "authorship_tag": "ABX9TyOnSxLMo2QzboxiPD6C1jbc",
      "include_colab_link": true
    },
    "kernelspec": {
      "name": "python3",
      "display_name": "Python 3"
    },
    "language_info": {
      "name": "python"
    }
  },
  "cells": [
    {
      "cell_type": "markdown",
      "metadata": {
        "id": "view-in-github",
        "colab_type": "text"
      },
      "source": [
        "<a href=\"https://colab.research.google.com/github/haloyukka/python/blob/master/AtCoder/Python%E9%AB%98%E9%80%9F%E5%8C%96Tips.ipynb\" target=\"_parent\"><img src=\"https://colab.research.google.com/assets/colab-badge.svg\" alt=\"Open In Colab\"/></a>"
      ]
    },
    {
      "cell_type": "markdown",
      "source": [
        "標準入力<br>\n",
        "基本的なデータ構造の計算量<br>\n",
        "Listの効率的な使い方<br>\n",
        "Sort関連<br>\n",
        "PythonとPyPy<br>\n",
        "\n",
        "\n",
        "好きな標準ライブラリ：itertools\n"
      ],
      "metadata": {
        "id": "0OX6oydwcwWE"
      }
    },
    {
      "cell_type": "markdown",
      "source": [
        "# 標準入力\n",
        "\n",
        "入力例(10の6乗分)\n",
        "1000000<br>\n",
        "1<br>\n",
        "2<br>\n",
        "3<br>\n",
        "4<br>\n",
        "...<br>"
      ],
      "metadata": {
        "id": "hgLgjo1peW30"
      }
    },
    {
      "cell_type": "code",
      "execution_count": null,
      "metadata": {
        "id": "xrtSFgCGcV6Y"
      },
      "outputs": [],
      "source": [
        "n = int(input())\n",
        "a = [int(input()) for _ in range(n)]"
      ]
    },
    {
      "cell_type": "code",
      "source": [
        "import sys\n",
        "input = sys.stdin.readline # readlineを使用すると高速化される\n",
        "n = int(input())\n",
        "a = [int(input()) for _ in range(n)]"
      ],
      "metadata": {
        "id": "U08ctOFTdsHf"
      },
      "execution_count": null,
      "outputs": []
    },
    {
      "cell_type": "markdown",
      "source": [
        "# 基本的なデータ構造の計算量\n",
        "## Listの各種操作の計算量\n",
        "\n",
        "lを長さnのListとする<br>\n",
        "\n",
        "\n",
        "*   ランダムアクセスはO(1)\n",
        " *   O(1)といいつつ遅いのでなるべく避けた方が良い\n",
        "*   **末尾**へのAppend / **末尾**のPopは早いが、その他の場所のAppendやPopは遅い\n",
        "*   inやmin,maxといった操作は直感的に書くことができ便利だが、O(n)\n",
        "\n",
        "|Operation|Code example|Average Case|\n",
        "|---|---|---|\n",
        "|Append|l.append(x)|O(1)|\n",
        "|Pop last|l.pop()|O(1)|\n",
        "|in|x in l|O(n)|\n",
        "|min, max|min(l), max(l)|O(n)|\n"
      ],
      "metadata": {
        "id": "Ewnc1VPBe6or"
      }
    },
    {
      "cell_type": "markdown",
      "source": [
        "# 基本的なデータ構造の計算量\n",
        "## Set / Dictの各種操作の計算量\n",
        "\n",
        "sをSet、dをDictとする<br>\n",
        "\n",
        "\n",
        "*   SetとDictはいわゆるハッシュテーブルとというデータ構造\n",
        " *   C++の平衡二分探索木のSetとはまったく別物であることに注意！\n",
        " *   inが早い\n",
        "     *   Listはinが遅いので、inを多用したい場合はSet / Dictでの実装を要検討\n",
        "\n",
        "\n",
        "◆Set<br>\n",
        "\n",
        "|Operation|Code example|Average Case|\n",
        "|---|---|---|\n",
        "|in|x in s|O(1)|\n",
        "|Add|s.add()|O(1)?|\n",
        "\n",
        "◆Dict<br>\n",
        "\n",
        "|Operation|Code example|Average Case|\n",
        "|---|---|---|\n",
        "|in|x in d|O(1)|\n",
        "|Get item|d[x]|O(1)|\n",
        "|Set item|d[x] = y|O(1)|"
      ],
      "metadata": {
        "id": "3BQX-48ln5cj"
      }
    },
    {
      "cell_type": "markdown",
      "source": [
        "# Listの効率的な使い方\n",
        "## ListのIndexを使ったアクセス（ランダムアクセス）は非常に遅い。"
      ],
      "metadata": {
        "id": "4Sh70ClsnMv1"
      }
    },
    {
      "cell_type": "code",
      "source": [
        "n = 100**7\n",
        "a = list(range(n))\n",
        "\n",
        "# 遅い(334ms)\n",
        "for i in range(n):\n",
        "  a[i]"
      ],
      "metadata": {
        "id": "CX0YCgQ6niJS"
      },
      "execution_count": null,
      "outputs": []
    },
    {
      "cell_type": "code",
      "source": [
        "n = 100**7\n",
        "a = list(range(n))\n",
        "\n",
        "# 速い(108ms)\n",
        "for ai in a:\n",
        "  ai\n"
      ],
      "metadata": {
        "id": "NVr5vV7UoO4t"
      },
      "execution_count": null,
      "outputs": []
    },
    {
      "cell_type": "code",
      "source": [
        "n = 100**7\n",
        "a = list(range(n))\n",
        "\n",
        "# 遅い(310ms)\n",
        "for i, ai in enumerate(a):\n",
        "  ai\n"
      ],
      "metadata": {
        "id": "o-KF-sQQoYui"
      },
      "execution_count": null,
      "outputs": []
    },
    {
      "cell_type": "markdown",
      "source": [
        "ランダムアクセスは非常に遅い。\n",
        "\n",
        "基本的には中段の書き方がおすすめ！\n",
        "indexが必要になった場合は下段のenumerateを使った書き方も。"
      ],
      "metadata": {
        "id": "youbsPRGoljW"
      }
    },
    {
      "cell_type": "markdown",
      "source": [
        "# Sort関連\n",
        "## ListのListのソートにはoperator.itemgetter\n"
      ],
      "metadata": {
        "id": "xtmM90CzowRt"
      }
    },
    {
      "cell_type": "code",
      "source": [
        "import random\n",
        "\n",
        "n = 10**6\n",
        "a = [[random(), random(), random()] for i in range(n)]\n",
        "\n",
        "# 遅い(417ms)\n",
        "a.sort(key=lambda x: x[1])"
      ],
      "metadata": {
        "id": "2VrpfOQApOo9"
      },
      "execution_count": null,
      "outputs": []
    },
    {
      "cell_type": "code",
      "source": [
        "from operator import itemgetter\n",
        "\n",
        "# 速い(375ms)\n",
        "a.sort(key=itemgetter(1))"
      ],
      "metadata": {
        "id": "ooLl80n1pgkX"
      },
      "execution_count": null,
      "outputs": []
    },
    {
      "cell_type": "markdown",
      "source": [
        "ListのListの要素が文字列だったりするとさらに遅くなるので、keyにitemgetterなどを利用して高速化を図るのが良い"
      ],
      "metadata": {
        "id": "B1nYvHL0p3W3"
      }
    },
    {
      "cell_type": "markdown",
      "source": [
        "# PythonとPyPy\n",
        "## PyPyとは？\n",
        "\n",
        "\n",
        "\n",
        "*   安定したJIT(=Just In Time)コンパイラで、ほとんどすべての組み込みモジュールが提供されている\n",
        "*   Numpyなどは使用できないが、競技プログラミングでは基本的な制御構文とデータ構造を組み合わせたコードを書くことが多いので、**Pythonで書いたコードをそのままPyPyとして提出するだけで速度が上がることが多々ある**。\n",
        "*   AtCoderで現在提供されているPyPy3(7.3.0)はPython3.6.9と互換性のあるもの\n",
        "\n",
        "PyPy<br>\n",
        "https://www.pypy.org/index.html"
      ],
      "metadata": {
        "id": "YP7GGOwvqAG9"
      }
    },
    {
      "cell_type": "markdown",
      "source": [
        "## local環境へのinstall\n",
        "\n",
        "pyenvを使うと自分のパソコンで複数のPythonのバージョンを管理することができる\n",
        "```\n",
        "$ pyenv install 3.8.2\n",
        "$ pyenv install pypy3.6-7.3.0\n",
        "```\n",
        "\n",
        "以下のコマンドで切り替えができる。\n",
        "```\n",
        "$ pyenv local 3.8.2            # set to Python3.8\n",
        "$ pyenv local pypy3.6-7.3.0    # set to PyPy3\n",
        "```\n",
        "\n",
        "詳細についてはpyenvのGithubをチェックしてみてください！！\n"
      ],
      "metadata": {
        "id": "KQuBXJylrMfz"
      }
    },
    {
      "cell_type": "markdown",
      "source": [
        "## PyPyを使うと早くなる例\n",
        "\n",
        "forやwhileが二重以上になるような場合、PyPyを使った方が明らかに速い。\n",
        "\n",
        "```Python\n",
        "n, k = map(int, input().split())\n",
        "h = tuple(map(int, input().split()))\n",
        "\n",
        "dp = [10**10] * n\n",
        "dp[0] = 0\n",
        "for i in range(1, n):\n",
        "    dp[i] = min(dp[j] + abs(h[j] - h[i])\n",
        "                 for j in range(max(0, i - k), i))\n",
        "print(dp[n - 1])\n",
        "```\n",
        "(n <= 10**5, k <= 100)\n",
        "\n",
        "Python3 : 1713ms\n",
        "\n",
        "vs\n",
        "\n",
        "PyPy3 : 343ms\n",
        "\n",
        "このようにまったく同じコードでも、PyPyにするだけでかなり高速化できる！\n"
      ],
      "metadata": {
        "id": "DoPZDQHysADH"
      }
    },
    {
      "cell_type": "markdown",
      "source": [
        "## Pythonの方が速い場合\n",
        "基本的にはPyPyを使うだけでかなりの高速化を見込めるが、一部遅い処理もある。\n",
        "\n",
        "\n",
        "*   再帰関数を用いた処理\n",
        "*   文字列に関連した処理\n",
        "\n",
        "心配な場合は、local環境やAtCoderのコードテストで両言語で試してみてから速い方を提出するなどすると良いと思います。\n",
        "\n"
      ],
      "metadata": {
        "id": "ardHhJRetu-X"
      }
    },
    {
      "cell_type": "markdown",
      "source": [
        "# References\n",
        "\n",
        "\n",
        "\n",
        "*   ハイパフォーマンスPython\n",
        "*   Effective Python\n",
        "*   https://wiki.python.org/moin/TimeComplexity\n",
        "*   https://github.com/pyenv/pyenv\n",
        "\n",
        "https://github.com/Kevinrobot34/cp_python_tips/tree/master/pycon2020\n"
      ],
      "metadata": {
        "id": "B33jlZijuT4y"
      }
    },
    {
      "cell_type": "code",
      "source": [
        ""
      ],
      "metadata": {
        "id": "NH_8PRciuxId"
      },
      "execution_count": null,
      "outputs": []
    }
  ]
}