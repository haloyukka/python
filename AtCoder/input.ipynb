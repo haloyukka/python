{
 "cells": [
  {
   "cell_type": "code",
   "execution_count": 1,
   "id": "68742acc-e4ef-48e0-83e9-57ebc1ea1b95",
   "metadata": {},
   "outputs": [
    {
     "name": "stdout",
     "output_type": "stream",
     "text": [
      "10\n"
     ]
    }
   ],
   "source": [
    "n = 5\n",
    "print(2*n)"
   ]
  },
  {
   "cell_type": "code",
   "execution_count": 2,
   "id": "7a1f2ff8-386a-4530-8321-d56d3294a6e1",
   "metadata": {},
   "outputs": [
    {
     "name": "stdin",
     "output_type": "stream",
     "text": [
      " 10\n"
     ]
    },
    {
     "name": "stdout",
     "output_type": "stream",
     "text": [
      "20\n"
     ]
    }
   ],
   "source": [
    "n = int(input())\n",
    "print(2*n)"
   ]
  },
  {
   "cell_type": "markdown",
   "id": "27c137c9-918e-402b-af4a-a03771ae685f",
   "metadata": {},
   "source": [
    "# 実数を入力する場合"
   ]
  },
  {
   "cell_type": "code",
   "execution_count": 3,
   "id": "eae54df7-21a2-477c-87cf-3a336a05b02b",
   "metadata": {},
   "outputs": [
    {
     "name": "stdin",
     "output_type": "stream",
     "text": [
      " 1.1\n"
     ]
    },
    {
     "name": "stdout",
     "output_type": "stream",
     "text": [
      "2.75\n"
     ]
    }
   ],
   "source": [
    "n = float(input())\n",
    "print(2.5*n)"
   ]
  },
  {
   "cell_type": "markdown",
   "id": "dd7d6b73-1bfe-46f7-b53a-644a2c63d894",
   "metadata": {},
   "source": [
    "# 複数の数を入力したい場合\n",
    "1 2 3"
   ]
  },
  {
   "cell_type": "code",
   "execution_count": 5,
   "id": "534d374a-44f8-412c-849e-1eb8e8e7e630",
   "metadata": {},
   "outputs": [
    {
     "name": "stdin",
     "output_type": "stream",
     "text": [
      " 1 2 3\n"
     ]
    },
    {
     "name": "stdout",
     "output_type": "stream",
     "text": [
      "a=1, b=2, c=3\n",
      "6\n"
     ]
    }
   ],
   "source": [
    "a, b, c = map(int,input().split())\n",
    "print(\"a={}, b={}, c={}\".format(a,b,c))\n",
    "print(a+b+c)"
   ]
  },
  {
   "cell_type": "markdown",
   "id": "c0c33e64-82a3-4c31-ab5f-0efbceeabd8d",
   "metadata": {},
   "source": [
    "# メッセージのあとに整数を入力させたい場合"
   ]
  },
  {
   "cell_type": "code",
   "execution_count": 6,
   "id": "b6b915b4-2baf-4a6f-9cf9-4ada3d468304",
   "metadata": {},
   "outputs": [
    {
     "name": "stdin",
     "output_type": "stream",
     "text": [
      "input integer 1234\n"
     ]
    },
    {
     "name": "stdout",
     "output_type": "stream",
     "text": [
      "1234\n"
     ]
    }
   ],
   "source": [
    "n = input('input integer')\n",
    "n = int(n)\n",
    "print(n)"
   ]
  },
  {
   "cell_type": "markdown",
   "id": "6b9943b2-a5ad-46b9-b8a3-657a13ea67eb",
   "metadata": {},
   "source": [
    "# 配列を入力したい場合"
   ]
  },
  {
   "cell_type": "code",
   "execution_count": 9,
   "id": "aa397ebb-5db0-400c-a86c-f60162a78013",
   "metadata": {},
   "outputs": [
    {
     "name": "stdin",
     "output_type": "stream",
     "text": [
      " 1 2 3 4 5\n"
     ]
    },
    {
     "name": "stdout",
     "output_type": "stream",
     "text": [
      "[1, 2, 3, 4, 5]\n",
      "5\n",
      "15\n"
     ]
    }
   ],
   "source": [
    "array = list(map(int, input().split()))\n",
    "print(array)\n",
    "print(len(array))\n",
    "print(sum(array))"
   ]
  },
  {
   "cell_type": "markdown",
   "id": "bbc9c7e8-d647-4436-b246-bd246693a5bc",
   "metadata": {},
   "source": [
    "# 配列を入力したい場合2\n",
    "最初に配列の要素数を指定できる。\n",
    "ただし、ひとつの成分を入力するごとに都度Enterを押す必要がある。"
   ]
  },
  {
   "cell_type": "code",
   "execution_count": 12,
   "id": "bcecabd4-e3ee-4a54-9c92-620fc77f49a8",
   "metadata": {},
   "outputs": [
    {
     "name": "stdin",
     "output_type": "stream",
     "text": [
      " 1\n",
      " 2\n"
     ]
    },
    {
     "name": "stdout",
     "output_type": "stream",
     "text": [
      "['2']\n",
      "<class 'str'>\n"
     ]
    }
   ],
   "source": [
    "n = int(input())\n",
    "array = [input() for _ in range(n)]\n",
    "print(array)"
   ]
  },
  {
   "cell_type": "markdown",
   "id": "ca2c18a3-d121-4bd8-b323-1f8163ea53de",
   "metadata": {},
   "source": [
    "# 配列を入力したい場合3\n",
    "空配列を用意しておくパターン"
   ]
  },
  {
   "cell_type": "code",
   "execution_count": 14,
   "id": "d8d3eac2-ff5e-468f-879d-c9de57c98008",
   "metadata": {},
   "outputs": [
    {
     "name": "stdin",
     "output_type": "stream",
     "text": [
      " 3\n",
      " 1\n",
      " 2\n",
      " 3\n"
     ]
    },
    {
     "name": "stdout",
     "output_type": "stream",
     "text": [
      "[1, 2, 3]\n"
     ]
    }
   ],
   "source": [
    "n = int(input())\n",
    "a = []\n",
    "for i in range(n):\n",
    "    a.append(int(input()))\n",
    "\n",
    "print(a)"
   ]
  },
  {
   "cell_type": "markdown",
   "id": "09840e2d-eecf-4671-9dfa-f26ae3891f7a",
   "metadata": {},
   "source": [
    "# 縦に整数を並べたい場合\n",
    "入力する整数を決めて、for文を回す"
   ]
  },
  {
   "cell_type": "code",
   "execution_count": 15,
   "id": "dbe1071c-e1fb-4064-a9ae-446c3d5bb298",
   "metadata": {},
   "outputs": [
    {
     "name": "stdin",
     "output_type": "stream",
     "text": [
      " 3\n",
      " 1\n",
      " 2\n",
      " 3\n"
     ]
    },
    {
     "name": "stdout",
     "output_type": "stream",
     "text": [
      "3\n"
     ]
    }
   ],
   "source": [
    "n = int(input())\n",
    "for i in range(n):\n",
    "    x = int(input())\n",
    "print(x)"
   ]
  },
  {
   "cell_type": "markdown",
   "id": "5e391d8d-f9f7-4fb0-81ea-17dcf5ebd014",
   "metadata": {},
   "source": [
    "# n行の行列のような配列を入力したい場合"
   ]
  },
  {
   "cell_type": "code",
   "execution_count": 18,
   "id": "d46f5a0b-5e03-4e38-aab8-0789ef44f34c",
   "metadata": {},
   "outputs": [
    {
     "name": "stdin",
     "output_type": "stream",
     "text": [
      " 3\n",
      " 1 2 3\n",
      " 4 5 6\n",
      " 7 8 9\n"
     ]
    },
    {
     "name": "stdout",
     "output_type": "stream",
     "text": [
      "[[1, 2, 3], [4, 5, 6], [7, 8, 9]]\n"
     ]
    }
   ],
   "source": [
    "n = int(input())\n",
    "a = []\n",
    "for i in range(n):\n",
    "    a.append(list(map(int,input().split())))\n",
    "print(a)"
   ]
  },
  {
   "cell_type": "code",
   "execution_count": null,
   "id": "9efbda40-332c-4dfb-93de-96595b1d1e97",
   "metadata": {},
   "outputs": [],
   "source": []
  },
  {
   "cell_type": "code",
   "execution_count": null,
   "id": "cba5c781-d615-444a-9f6b-9a498b72d025",
   "metadata": {},
   "outputs": [],
   "source": []
  },
  {
   "cell_type": "code",
   "execution_count": null,
   "id": "8b5ed91e-25c1-4f5f-91b7-2d5b00963496",
   "metadata": {},
   "outputs": [],
   "source": []
  },
  {
   "cell_type": "code",
   "execution_count": null,
   "id": "f62b9c06-e596-4f2e-b5c5-b8f312cd01f4",
   "metadata": {},
   "outputs": [],
   "source": []
  },
  {
   "cell_type": "code",
   "execution_count": null,
   "id": "67a45cec-cc62-4808-8350-d81b03bde042",
   "metadata": {},
   "outputs": [],
   "source": []
  },
  {
   "cell_type": "code",
   "execution_count": null,
   "id": "8913acf8-9a0d-4eeb-b051-d329b06b52e7",
   "metadata": {},
   "outputs": [],
   "source": []
  },
  {
   "cell_type": "code",
   "execution_count": null,
   "id": "d35046a8-8363-482c-b8cd-470a4d884985",
   "metadata": {},
   "outputs": [],
   "source": []
  },
  {
   "cell_type": "code",
   "execution_count": null,
   "id": "7bb3d49e-64ed-49b9-932a-83df70bc5ff4",
   "metadata": {},
   "outputs": [],
   "source": []
  },
  {
   "cell_type": "code",
   "execution_count": null,
   "id": "3ec717ca-e4ea-4bf6-813f-57d4b818e102",
   "metadata": {},
   "outputs": [],
   "source": []
  },
  {
   "cell_type": "code",
   "execution_count": null,
   "id": "a5b07e37-8374-4af7-80af-97b51eec9e61",
   "metadata": {},
   "outputs": [],
   "source": []
  },
  {
   "cell_type": "code",
   "execution_count": null,
   "id": "9332a3a5-c4ea-42ca-b1d7-ec07ebc1bed9",
   "metadata": {},
   "outputs": [],
   "source": []
  },
  {
   "cell_type": "code",
   "execution_count": null,
   "id": "d6597cc0-0d57-41c0-9ce9-b1e6173b0246",
   "metadata": {},
   "outputs": [],
   "source": []
  },
  {
   "cell_type": "code",
   "execution_count": null,
   "id": "54f7504b-2853-4289-b18d-9be223840241",
   "metadata": {},
   "outputs": [],
   "source": []
  },
  {
   "cell_type": "code",
   "execution_count": null,
   "id": "0e60a581-7f72-4004-bf64-9943841c7c32",
   "metadata": {},
   "outputs": [],
   "source": []
  },
  {
   "cell_type": "code",
   "execution_count": null,
   "id": "b1bcebe2-3710-4f87-8c6b-d2e7aef54838",
   "metadata": {},
   "outputs": [],
   "source": []
  },
  {
   "cell_type": "code",
   "execution_count": null,
   "id": "c59d8643-1bca-4f04-96d3-d2063b71f8bf",
   "metadata": {},
   "outputs": [],
   "source": []
  },
  {
   "cell_type": "code",
   "execution_count": null,
   "id": "b63cbdf6-7d8f-4fd6-9d46-90c14a59e7ce",
   "metadata": {},
   "outputs": [],
   "source": []
  },
  {
   "cell_type": "code",
   "execution_count": null,
   "id": "541eb980-9786-401a-8a03-40bd85106646",
   "metadata": {},
   "outputs": [],
   "source": []
  },
  {
   "cell_type": "code",
   "execution_count": null,
   "id": "3101fd5a-578b-4205-9ece-865e1ba7f35e",
   "metadata": {},
   "outputs": [],
   "source": []
  },
  {
   "cell_type": "code",
   "execution_count": null,
   "id": "c75ca0b0-05a4-4831-be2b-ea05b8624043",
   "metadata": {},
   "outputs": [],
   "source": []
  },
  {
   "cell_type": "code",
   "execution_count": null,
   "id": "ccc63a97-6af4-43fd-a813-f3c270b8cbeb",
   "metadata": {},
   "outputs": [],
   "source": []
  },
  {
   "cell_type": "code",
   "execution_count": null,
   "id": "0c059353-c327-4607-827b-b33c62282bd7",
   "metadata": {},
   "outputs": [],
   "source": []
  },
  {
   "cell_type": "code",
   "execution_count": null,
   "id": "642a2412-82d4-43da-a060-cd89c8e243f2",
   "metadata": {},
   "outputs": [],
   "source": []
  },
  {
   "cell_type": "code",
   "execution_count": null,
   "id": "fc17acb0-9bed-4b02-8a8e-5e5ed6cf1c35",
   "metadata": {},
   "outputs": [],
   "source": []
  },
  {
   "cell_type": "code",
   "execution_count": null,
   "id": "52cce664-6062-47b8-ad83-0f1faa38bdc7",
   "metadata": {},
   "outputs": [],
   "source": []
  },
  {
   "cell_type": "code",
   "execution_count": null,
   "id": "a47e317b-3afd-4ecf-85cd-e43c76c99d3a",
   "metadata": {},
   "outputs": [],
   "source": []
  },
  {
   "cell_type": "code",
   "execution_count": null,
   "id": "21a93947-7f65-4b55-b47f-ca0b66261cf7",
   "metadata": {},
   "outputs": [],
   "source": []
  },
  {
   "cell_type": "code",
   "execution_count": null,
   "id": "088549c3-96be-486b-9e2c-45ed2c6b22cd",
   "metadata": {},
   "outputs": [],
   "source": []
  },
  {
   "cell_type": "code",
   "execution_count": null,
   "id": "f0012876-802d-4672-be75-1985d13d45ad",
   "metadata": {},
   "outputs": [],
   "source": []
  },
  {
   "cell_type": "code",
   "execution_count": null,
   "id": "c6db61c7-0381-4668-8952-98010283dc1b",
   "metadata": {},
   "outputs": [],
   "source": []
  }
 ],
 "metadata": {
  "kernelspec": {
   "display_name": "Python 3 (ipykernel)",
   "language": "python",
   "name": "python3"
  },
  "language_info": {
   "codemirror_mode": {
    "name": "ipython",
    "version": 3
   },
   "file_extension": ".py",
   "mimetype": "text/x-python",
   "name": "python",
   "nbconvert_exporter": "python",
   "pygments_lexer": "ipython3",
   "version": "3.8.11"
  }
 },
 "nbformat": 4,
 "nbformat_minor": 5
}
