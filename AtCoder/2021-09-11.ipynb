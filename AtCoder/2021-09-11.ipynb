{
 "cells": [
  {
   "cell_type": "markdown",
   "id": "b3369219-3fdf-4358-818d-dc054548ed42",
   "metadata": {},
   "source": [
    "A- Weather Forecast\n",
    "in - 1\n",
    "4\n",
    "oooxoox\n",
    "\n",
    "in - 2\n",
    "7\n",
    "ooooooo\n"
   ]
  },
  {
   "cell_type": "code",
   "execution_count": 1,
   "id": "a140ef3a-cdec-488b-93ad-21fc3e5188f6",
   "metadata": {},
   "outputs": [
    {
     "name": "stdin",
     "output_type": "stream",
     "text": [
      " a\n"
     ]
    },
    {
     "ename": "ValueError",
     "evalue": "invalid literal for int() with base 10: 'a'",
     "output_type": "error",
     "traceback": [
      "\u001b[1;31m----------------------------------------------------------------------\u001b[0m",
      "\u001b[1;31mValueError\u001b[0m                           Traceback (most recent call last)",
      "\u001b[1;32mC:\\Users\\TAKAHA~1\\AppData\\Local\\Temp/ipykernel_6480/905179957.py\u001b[0m in \u001b[0;36m<module>\u001b[1;34m\u001b[0m\n\u001b[1;32m----> 1\u001b[1;33m \u001b[0mN\u001b[0m \u001b[1;33m=\u001b[0m \u001b[0mint\u001b[0m\u001b[1;33m(\u001b[0m\u001b[0minput\u001b[0m\u001b[1;33m(\u001b[0m\u001b[1;33m)\u001b[0m\u001b[1;33m)\u001b[0m\u001b[1;33m-\u001b[0m\u001b[1;36m1\u001b[0m\u001b[1;33m\u001b[0m\u001b[1;33m\u001b[0m\u001b[0m\n\u001b[0m\u001b[0;32m      2\u001b[0m \u001b[0mS\u001b[0m \u001b[1;33m=\u001b[0m \u001b[0mlist\u001b[0m\u001b[1;33m(\u001b[0m\u001b[0minput\u001b[0m\u001b[1;33m(\u001b[0m\u001b[1;33m)\u001b[0m\u001b[1;33m)\u001b[0m\u001b[1;33m\u001b[0m\u001b[1;33m\u001b[0m\u001b[0m\n\u001b[0;32m      3\u001b[0m \u001b[1;33m\u001b[0m\u001b[0m\n\u001b[0;32m      4\u001b[0m \u001b[1;32mif\u001b[0m \u001b[0mS\u001b[0m\u001b[1;33m[\u001b[0m\u001b[0mN\u001b[0m\u001b[1;33m]\u001b[0m \u001b[1;33m==\u001b[0m \u001b[1;34m\"o\"\u001b[0m\u001b[1;33m:\u001b[0m\u001b[1;33m\u001b[0m\u001b[1;33m\u001b[0m\u001b[0m\n\u001b[0;32m      5\u001b[0m     \u001b[0mprint\u001b[0m\u001b[1;33m(\u001b[0m\u001b[1;34m\"Yes\"\u001b[0m\u001b[1;33m)\u001b[0m\u001b[1;33m\u001b[0m\u001b[1;33m\u001b[0m\u001b[0m\n",
      "\u001b[1;31mValueError\u001b[0m: invalid literal for int() with base 10: 'a'"
     ]
    }
   ],
   "source": [
    "N = int(input())-1\n",
    "S = list(input())\n",
    "\n",
    "if S[N] == \"o\":\n",
    "    print(\"Yes\")\n",
    "else:\n",
    "    print(\"No\")"
   ]
  },
  {
   "cell_type": "markdown",
   "id": "4197983d-3ffe-4c04-be5b-2a57d399dc2d",
   "metadata": {},
   "source": [
    "B- qwerty\n",
    "in - 1\n",
    "1 2 3 4 5 6 7 8 9 10 11 12 13 14 15 16 17 18 19 20 21 22 23 24 25 26\n",
    "\n",
    "in - 2\n",
    "2 1 3 4 5 6 7 8 9 10 11 12 13 14 15 16 17 18 19 20 21 22 23 24 25 26\n",
    "\n",
    "in - 3\n",
    "5 11 12 16 25 17 18 1 7 10 4 23 20 3 2 24 26 19 14 9 6 22 8 13 15 21"
   ]
  },
  {
   "cell_type": "code",
   "execution_count": 11,
   "id": "5fa56386-83d6-4913-b4fe-fd802cf56fd4",
   "metadata": {},
   "outputs": [
    {
     "name": "stdin",
     "output_type": "stream",
     "text": [
      " 5 11 12 16 25 17 18 1 7 10 4 23 20 3 2 24 26 19 14 9 6 22 8 13 15 21\n"
     ]
    },
    {
     "name": "stdout",
     "output_type": "stream",
     "text": [
      "eklpyqragjdwtcbxzsnifvhmou\n"
     ]
    }
   ],
   "source": [
    "P = list(map(int,input().split()))\n",
    "\n",
    "l_dict = list(\"abcdefghijklmnopqrstuvwxyz\")\n",
    "\n",
    "output = []\n",
    "for i in P:\n",
    "    output.append(l_dict[i-1])\n",
    "\n",
    "print(\"\".join(output))"
   ]
  },
  {
   "cell_type": "markdown",
   "id": "0a26b0b9-a4ba-4371-a83a-87e438127dd1",
   "metadata": {},
   "source": [
    "C- Shapes\n",
    "in - 1\n",
    "5\n",
    ".....\n",
    "..#..\n",
    ".###.\n",
    ".....\n",
    ".....\n",
    ".....\n",
    ".....\n",
    "....#\n",
    "...##\n",
    "....#\n",
    "\n",
    "in - 2\n",
    "5\n",
    "#####\n",
    "##..#\n",
    "#..##\n",
    "#####\n",
    ".....\n",
    "#####\n",
    "#..##\n",
    "##..#\n",
    "#####\n",
    ".....\n",
    "\n",
    "in - 3\n",
    "4\n",
    "#...\n",
    "..#.\n",
    "..#.\n",
    "....\n",
    "#...\n",
    "#...\n",
    "..#.\n",
    "...."
   ]
  },
  {
   "cell_type": "code",
   "execution_count": null,
   "id": "b11b59d5-d697-475f-b136-f29146f6d58c",
   "metadata": {},
   "outputs": [],
   "source": []
  },
  {
   "cell_type": "markdown",
   "id": "53c2f941-7938-41ea-a3fc-e087555c0cbc",
   "metadata": {},
   "source": [
    "■ リスト内包表記<br>\n",
    "[式 for 任意の変数名 in イテラブルオブジェクト]<br>\n",
    "\n",
    "■ 配列を入力したい場合<br>\n",
    "n = int(input())<br>\n",
    "array = [int(input()) for _ in range(n)]<br>\n",
    "\n",
    "この場合、最初に配列の要素数を指定できます。\n",
    "ただし、ひとつの成分を入力するごとに都度Enterを押す必要がある。\n",
    "\n"
   ]
  },
  {
   "cell_type": "code",
   "execution_count": 18,
   "id": "13d2cacb-77e8-4456-8af6-cea596539a25",
   "metadata": {},
   "outputs": [
    {
     "name": "stdin",
     "output_type": "stream",
     "text": [
      " 2\n",
      " 123\n",
      " 456\n",
      " 567\n",
      " 678\n"
     ]
    }
   ],
   "source": [
    "N = int(input())\n",
    "S = [input() for _ in range(N)]\n",
    "T = [input() for _ in range(N)]"
   ]
  },
  {
   "cell_type": "code",
   "execution_count": 19,
   "id": "b0dfaf6d-dcbd-4cb1-8658-f8faec4031fc",
   "metadata": {},
   "outputs": [
    {
     "name": "stdout",
     "output_type": "stream",
     "text": [
      "S = ['123', '456'] T = ['567', '678']\n"
     ]
    }
   ],
   "source": [
    "print(\"S = {} T = {}\".format(S, T))"
   ]
  },
  {
   "cell_type": "code",
   "execution_count": null,
   "id": "d87d3b7c-d458-4c34-be12-259338686fbe",
   "metadata": {},
   "outputs": [],
   "source": []
  },
  {
   "cell_type": "code",
   "execution_count": null,
   "id": "585f45f3-afc7-4907-a2b9-798bad1761a8",
   "metadata": {},
   "outputs": [],
   "source": []
  },
  {
   "cell_type": "code",
   "execution_count": null,
   "id": "9eaa478e-2b96-443f-81f6-467e10df5afc",
   "metadata": {},
   "outputs": [],
   "source": []
  },
  {
   "cell_type": "code",
   "execution_count": null,
   "id": "ad4010a3-9a38-4e43-bfe7-5765bb1307c4",
   "metadata": {},
   "outputs": [],
   "source": []
  },
  {
   "cell_type": "code",
   "execution_count": null,
   "id": "34a474eb-7bec-4c90-9e2b-b16968c56e27",
   "metadata": {},
   "outputs": [],
   "source": []
  },
  {
   "cell_type": "code",
   "execution_count": null,
   "id": "b1e9953d-3c89-47c2-9227-080dfbd3f309",
   "metadata": {},
   "outputs": [],
   "source": []
  },
  {
   "cell_type": "code",
   "execution_count": null,
   "id": "df43cf31-4e74-49e8-a023-d15abcbe26e4",
   "metadata": {},
   "outputs": [],
   "source": []
  },
  {
   "cell_type": "code",
   "execution_count": null,
   "id": "0d213086-10a8-4a0a-b6a1-7dcd12da21a4",
   "metadata": {},
   "outputs": [],
   "source": []
  },
  {
   "cell_type": "code",
   "execution_count": null,
   "id": "446e5d39-7c16-4f5a-9c96-bd93748f8206",
   "metadata": {},
   "outputs": [],
   "source": []
  },
  {
   "cell_type": "code",
   "execution_count": null,
   "id": "3b086b1e-d1df-4da4-9ef7-537168b1384d",
   "metadata": {},
   "outputs": [],
   "source": []
  },
  {
   "cell_type": "code",
   "execution_count": null,
   "id": "287997e5-79d1-4b40-8040-30179c6dc40f",
   "metadata": {},
   "outputs": [],
   "source": []
  },
  {
   "cell_type": "code",
   "execution_count": null,
   "id": "34d8fac0-72b5-4f7b-91f8-ca7f47925902",
   "metadata": {},
   "outputs": [],
   "source": []
  },
  {
   "cell_type": "code",
   "execution_count": null,
   "id": "6170f9af-7b51-4867-9201-8252efdb5e4f",
   "metadata": {},
   "outputs": [],
   "source": []
  },
  {
   "cell_type": "code",
   "execution_count": null,
   "id": "b7f5b9db-f8a3-4551-b751-b3f79b9a83bb",
   "metadata": {},
   "outputs": [],
   "source": []
  },
  {
   "cell_type": "code",
   "execution_count": null,
   "id": "113cddf6-53dd-486e-92f7-8fab3bcf94ef",
   "metadata": {},
   "outputs": [],
   "source": []
  },
  {
   "cell_type": "code",
   "execution_count": null,
   "id": "23b6d1b4-a940-486b-9d76-c12e3ab0b75c",
   "metadata": {},
   "outputs": [],
   "source": []
  },
  {
   "cell_type": "code",
   "execution_count": null,
   "id": "ed7916c8-87d0-4857-b888-e1d85b766e85",
   "metadata": {},
   "outputs": [],
   "source": []
  },
  {
   "cell_type": "code",
   "execution_count": null,
   "id": "16e66818-79c3-44b7-a449-d9af25092c12",
   "metadata": {},
   "outputs": [],
   "source": []
  },
  {
   "cell_type": "code",
   "execution_count": null,
   "id": "cbcc5bb1-ed03-4bc4-94dc-23bbb7319947",
   "metadata": {},
   "outputs": [],
   "source": []
  },
  {
   "cell_type": "code",
   "execution_count": null,
   "id": "ec025a06-974a-4926-8e1b-0401e1c588fd",
   "metadata": {},
   "outputs": [],
   "source": []
  },
  {
   "cell_type": "code",
   "execution_count": null,
   "id": "faacd6d5-d6ae-4e69-8ab5-dd09ffed7f32",
   "metadata": {},
   "outputs": [],
   "source": []
  }
 ],
 "metadata": {
  "kernelspec": {
   "display_name": "Python 3 (ipykernel)",
   "language": "python",
   "name": "python3"
  },
  "language_info": {
   "codemirror_mode": {
    "name": "ipython",
    "version": 3
   },
   "file_extension": ".py",
   "mimetype": "text/x-python",
   "name": "python",
   "nbconvert_exporter": "python",
   "pygments_lexer": "ipython3",
   "version": "3.8.11"
  }
 },
 "nbformat": 4,
 "nbformat_minor": 5
}
